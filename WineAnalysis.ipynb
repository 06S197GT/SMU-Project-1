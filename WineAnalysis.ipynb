{
 "cells": [
  {
   "cell_type": "code",
   "execution_count": 2,
   "metadata": {},
   "outputs": [],
   "source": [
    "import pandas as pd\n",
    "import matplotlib.pyplot as plt\n",
    "import seaborn as sn \n",
    "# import squarify\n",
    "import matplotlib\n",
    "import scipy.stats as st\n",
    "from scipy.stats import linregress"
   ]
  },
  {
   "cell_type": "code",
   "execution_count": 3,
   "metadata": {},
   "outputs": [],
   "source": [
    "file = \"winemag-data_first150k.csv\""
   ]
  },
  {
   "cell_type": "code",
   "execution_count": 4,
   "metadata": {},
   "outputs": [
    {
     "name": "stdout",
     "output_type": "stream",
     "text": [
      "<class 'pandas.core.frame.DataFrame'>\n",
      "RangeIndex: 150930 entries, 0 to 150929\n",
      "Data columns (total 10 columns):\n",
      " #   Column       Non-Null Count   Dtype  \n",
      "---  ------       --------------   -----  \n",
      " 0   country      150925 non-null  object \n",
      " 1   description  150930 non-null  object \n",
      " 2   designation  105195 non-null  object \n",
      " 3   points       150930 non-null  int64  \n",
      " 4   price        137235 non-null  float64\n",
      " 5   province     150925 non-null  object \n",
      " 6   region_1     125870 non-null  object \n",
      " 7   region_2     60953 non-null   object \n",
      " 8   variety      150930 non-null  object \n",
      " 9   winery       150930 non-null  object \n",
      "dtypes: float64(1), int64(1), object(8)\n",
      "memory usage: 11.5+ MB\n",
      "None\n",
      "              points          price\n",
      "count  150930.000000  137235.000000\n",
      "mean       87.888418      33.131482\n",
      "std         3.222392      36.322536\n",
      "min        80.000000       4.000000\n",
      "25%        86.000000      16.000000\n",
      "50%        88.000000      24.000000\n",
      "75%        90.000000      40.000000\n",
      "max       100.000000    2300.000000\n"
     ]
    }
   ],
   "source": [
    "#read in csv \n",
    "df = pd.read_csv(file, low_memory=False)\n",
    "\n",
    "#drop Unnamed column\n",
    "df = df.drop(\"Unnamed: 0\", axis=1)\n",
    "print(df.info())\n",
    "print(df.describe())"
   ]
  },
  {
   "cell_type": "code",
   "execution_count": 5,
   "metadata": {},
   "outputs": [
    {
     "data": {
      "text/html": [
       "<div>\n",
       "<style scoped>\n",
       "    .dataframe tbody tr th:only-of-type {\n",
       "        vertical-align: middle;\n",
       "    }\n",
       "\n",
       "    .dataframe tbody tr th {\n",
       "        vertical-align: top;\n",
       "    }\n",
       "\n",
       "    .dataframe thead th {\n",
       "        text-align: right;\n",
       "    }\n",
       "</style>\n",
       "<table border=\"1\" class=\"dataframe\">\n",
       "  <thead>\n",
       "    <tr style=\"text-align: right;\">\n",
       "      <th></th>\n",
       "      <th>country</th>\n",
       "      <th>description</th>\n",
       "      <th>designation</th>\n",
       "      <th>points</th>\n",
       "      <th>price</th>\n",
       "      <th>province</th>\n",
       "      <th>region_1</th>\n",
       "      <th>region_2</th>\n",
       "      <th>variety</th>\n",
       "      <th>winery</th>\n",
       "    </tr>\n",
       "  </thead>\n",
       "  <tbody>\n",
       "    <tr>\n",
       "      <th>0</th>\n",
       "      <td>US</td>\n",
       "      <td>This tremendous 100% varietal wine hails from ...</td>\n",
       "      <td>Martha's Vineyard</td>\n",
       "      <td>96</td>\n",
       "      <td>235.0</td>\n",
       "      <td>California</td>\n",
       "      <td>Napa Valley</td>\n",
       "      <td>Napa</td>\n",
       "      <td>Cabernet Sauvignon</td>\n",
       "      <td>Heitz</td>\n",
       "    </tr>\n",
       "    <tr>\n",
       "      <th>1</th>\n",
       "      <td>Spain</td>\n",
       "      <td>Ripe aromas of fig, blackberry and cassis are ...</td>\n",
       "      <td>Carodorum Selección Especial Reserva</td>\n",
       "      <td>96</td>\n",
       "      <td>110.0</td>\n",
       "      <td>Northern Spain</td>\n",
       "      <td>Toro</td>\n",
       "      <td>NaN</td>\n",
       "      <td>Tinta de Toro</td>\n",
       "      <td>Bodega Carmen Rodríguez</td>\n",
       "    </tr>\n",
       "    <tr>\n",
       "      <th>2</th>\n",
       "      <td>US</td>\n",
       "      <td>Mac Watson honors the memory of a wine once ma...</td>\n",
       "      <td>Special Selected Late Harvest</td>\n",
       "      <td>96</td>\n",
       "      <td>90.0</td>\n",
       "      <td>California</td>\n",
       "      <td>Knights Valley</td>\n",
       "      <td>Sonoma</td>\n",
       "      <td>Sauvignon Blanc</td>\n",
       "      <td>Macauley</td>\n",
       "    </tr>\n",
       "    <tr>\n",
       "      <th>3</th>\n",
       "      <td>US</td>\n",
       "      <td>This spent 20 months in 30% new French oak, an...</td>\n",
       "      <td>Reserve</td>\n",
       "      <td>96</td>\n",
       "      <td>65.0</td>\n",
       "      <td>Oregon</td>\n",
       "      <td>Willamette Valley</td>\n",
       "      <td>Willamette Valley</td>\n",
       "      <td>Pinot Noir</td>\n",
       "      <td>Ponzi</td>\n",
       "    </tr>\n",
       "    <tr>\n",
       "      <th>4</th>\n",
       "      <td>France</td>\n",
       "      <td>This is the top wine from La Bégude, named aft...</td>\n",
       "      <td>La Brûlade</td>\n",
       "      <td>95</td>\n",
       "      <td>66.0</td>\n",
       "      <td>Provence</td>\n",
       "      <td>Bandol</td>\n",
       "      <td>NaN</td>\n",
       "      <td>Provence red blend</td>\n",
       "      <td>Domaine de la Bégude</td>\n",
       "    </tr>\n",
       "  </tbody>\n",
       "</table>\n",
       "</div>"
      ],
      "text/plain": [
       "  country                                        description  \\\n",
       "0      US  This tremendous 100% varietal wine hails from ...   \n",
       "1   Spain  Ripe aromas of fig, blackberry and cassis are ...   \n",
       "2      US  Mac Watson honors the memory of a wine once ma...   \n",
       "3      US  This spent 20 months in 30% new French oak, an...   \n",
       "4  France  This is the top wine from La Bégude, named aft...   \n",
       "\n",
       "                            designation  points  price        province  \\\n",
       "0                     Martha's Vineyard      96  235.0      California   \n",
       "1  Carodorum Selección Especial Reserva      96  110.0  Northern Spain   \n",
       "2         Special Selected Late Harvest      96   90.0      California   \n",
       "3                               Reserve      96   65.0          Oregon   \n",
       "4                            La Brûlade      95   66.0        Provence   \n",
       "\n",
       "            region_1           region_2             variety  \\\n",
       "0        Napa Valley               Napa  Cabernet Sauvignon   \n",
       "1               Toro                NaN       Tinta de Toro   \n",
       "2     Knights Valley             Sonoma     Sauvignon Blanc   \n",
       "3  Willamette Valley  Willamette Valley          Pinot Noir   \n",
       "4             Bandol                NaN  Provence red blend   \n",
       "\n",
       "                    winery  \n",
       "0                    Heitz  \n",
       "1  Bodega Carmen Rodríguez  \n",
       "2                 Macauley  \n",
       "3                    Ponzi  \n",
       "4     Domaine de la Bégude  "
      ]
     },
     "execution_count": 5,
     "metadata": {},
     "output_type": "execute_result"
    }
   ],
   "source": [
    "#drop NaN values for country and price columns\n",
    "mask = pd.notnull(df.country)\n",
    "mask2 = pd.notnull(df.price)\n",
    "clean_df = df.loc[mask & mask2].reset_index(drop=True)\n",
    "clean_df.head()"
   ]
  },
  {
   "cell_type": "code",
   "execution_count": 6,
   "metadata": {},
   "outputs": [
    {
     "data": {
      "text/plain": [
       "US                        62139\n",
       "Italy                     18784\n",
       "France                    14785\n",
       "Spain                      8160\n",
       "Chile                      5766\n",
       "Argentina                  5587\n",
       "Australia                  4894\n",
       "Portugal                   4176\n",
       "New Zealand                3070\n",
       "Austria                    2483\n",
       "Germany                    2347\n",
       "South Africa               2237\n",
       "Greece                      872\n",
       "Israel                      610\n",
       "Hungary                     230\n",
       "Canada                      194\n",
       "Romania                     139\n",
       "Uruguay                      85\n",
       "Croatia                      83\n",
       "Slovenia                     81\n",
       "Bulgaria                     77\n",
       "Moldova                      71\n",
       "Mexico                       63\n",
       "Turkey                       50\n",
       "Georgia                      43\n",
       "Lebanon                      37\n",
       "Cyprus                       31\n",
       "Brazil                       25\n",
       "Macedonia                    16\n",
       "Serbia                       14\n",
       "Morocco                      12\n",
       "Luxembourg                    9\n",
       "Lithuania                     8\n",
       "India                         8\n",
       "England                       8\n",
       "Czech Republic                6\n",
       "Ukraine                       5\n",
       "Switzerland                   4\n",
       "South Korea                   4\n",
       "Bosnia and Herzegovina        4\n",
       "Slovakia                      3\n",
       "China                         3\n",
       "Japan                         2\n",
       "Albania                       2\n",
       "Montenegro                    2\n",
       "US-France                     1\n",
       "Name: country, dtype: int64"
      ]
     },
     "execution_count": 6,
     "metadata": {},
     "output_type": "execute_result"
    }
   ],
   "source": [
    "#get list of countries\n",
    "clean_df.country.value_counts()"
   ]
  },
  {
   "cell_type": "code",
   "execution_count": 7,
   "metadata": {},
   "outputs": [
    {
     "data": {
      "text/html": [
       "<div>\n",
       "<style scoped>\n",
       "    .dataframe tbody tr th:only-of-type {\n",
       "        vertical-align: middle;\n",
       "    }\n",
       "\n",
       "    .dataframe tbody tr th {\n",
       "        vertical-align: top;\n",
       "    }\n",
       "\n",
       "    .dataframe thead th {\n",
       "        text-align: right;\n",
       "    }\n",
       "</style>\n",
       "<table border=\"1\" class=\"dataframe\">\n",
       "  <thead>\n",
       "    <tr style=\"text-align: right;\">\n",
       "      <th></th>\n",
       "      <th>country</th>\n",
       "      <th>description</th>\n",
       "      <th>designation</th>\n",
       "      <th>points</th>\n",
       "      <th>price</th>\n",
       "      <th>province</th>\n",
       "      <th>region_1</th>\n",
       "      <th>region_2</th>\n",
       "      <th>variety</th>\n",
       "      <th>winery</th>\n",
       "    </tr>\n",
       "  </thead>\n",
       "  <tbody>\n",
       "    <tr>\n",
       "      <th>130712</th>\n",
       "      <td>US-France</td>\n",
       "      <td>Defies categorization, in more ways than one. ...</td>\n",
       "      <td>NaN</td>\n",
       "      <td>88</td>\n",
       "      <td>50.0</td>\n",
       "      <td>Santa Barbara County-Condrieu</td>\n",
       "      <td>NaN</td>\n",
       "      <td>NaN</td>\n",
       "      <td>Viognier</td>\n",
       "      <td>Deux C</td>\n",
       "    </tr>\n",
       "  </tbody>\n",
       "</table>\n",
       "</div>"
      ],
      "text/plain": [
       "          country                                        description  \\\n",
       "130712  US-France  Defies categorization, in more ways than one. ...   \n",
       "\n",
       "       designation  points  price                       province region_1  \\\n",
       "130712         NaN      88   50.0  Santa Barbara County-Condrieu      NaN   \n",
       "\n",
       "       region_2   variety  winery  \n",
       "130712      NaN  Viognier  Deux C  "
      ]
     },
     "execution_count": 7,
     "metadata": {},
     "output_type": "execute_result"
    }
   ],
   "source": [
    "#look to see if US-France is a legitimate option for country\n",
    "mask3 = clean_df.country == \"US-France\"\n",
    "clean_df.loc[mask3]"
   ]
  },
  {
   "cell_type": "code",
   "execution_count": 8,
   "metadata": {},
   "outputs": [],
   "source": [
    "#Look at top ten countries to see the spread\n",
    "top10 = clean_df.country.value_counts()[0:10].sort_values(ascending=True)"
   ]
  },
  {
   "cell_type": "code",
   "execution_count": 9,
   "metadata": {},
   "outputs": [
    {
     "data": {
      "image/png": "[encoded data removed]",
      "text/plain": [
       "<Figure size 432x288 with 1 Axes>"
      ]
     },
     "metadata": {
      "needs_background": "light"
     },
     "output_type": "display_data"
    }
   ],
   "source": [
    "plt.barh(top10.index, top10.values)\n",
    "plt.show()"
   ]
  },
  {
   "cell_type": "code",
   "execution_count": 10,
   "metadata": {},
   "outputs": [
    {
     "data": {
      "image/png": "[encoded data removed]",
      "text/plain": [
       "<Figure size 432x288 with 1 Axes>"
      ]
     },
     "metadata": {
      "needs_background": "light"
     },
     "output_type": "display_data"
    }
   ],
   "source": [
    "#Look at top ten varieties to see the spread\n",
    "variety10 = clean_df.variety.value_counts()[0:10].sort_values(ascending=True)\n",
    "plt.barh(variety10.index, variety10.values)\n",
    "plt.show()"
   ]
  },
  {
   "cell_type": "code",
   "execution_count": 11,
   "metadata": {},
   "outputs": [
    {
     "data": {
      "text/plain": [
       "Chardonnay            13775\n",
       "Pinot Noir            13625\n",
       "Cabernet Sauvignon    12671\n",
       "Red Blend              9377\n",
       "Sauvignon Blanc        6054\n",
       "                      ...  \n",
       "White Port                1\n",
       "Sauvignonasse             1\n",
       "Sercial                   1\n",
       "Mavrotragano              1\n",
       "Carineña                  1\n",
       "Name: variety, Length: 619, dtype: int64"
      ]
     },
     "execution_count": 11,
     "metadata": {},
     "output_type": "execute_result"
    }
   ],
   "source": [
    "#get varieties of wine for red vs white categorization \n",
    "counts = clean_df.variety.value_counts()\n",
    "counts"
   ]
  },
  {
   "cell_type": "code",
   "execution_count": 12,
   "metadata": {},
   "outputs": [],
   "source": [
    "#export to csv \n",
    "counts.to_csv(\"Wine.csv\", index=True)"
   ]
  },
  {
   "cell_type": "code",
   "execution_count": 13,
   "metadata": {},
   "outputs": [],
   "source": [
    "#look at spread of all varieties\n",
    "#plt.bar(counts.index, counts.values)\n",
    "#plt.show()"
   ]
  },
  {
   "cell_type": "code",
   "execution_count": 14,
   "metadata": {},
   "outputs": [
    {
     "data": {
      "text/html": [
       "<div>\n",
       "<style scoped>\n",
       "    .dataframe tbody tr th:only-of-type {\n",
       "        vertical-align: middle;\n",
       "    }\n",
       "\n",
       "    .dataframe tbody tr th {\n",
       "        vertical-align: top;\n",
       "    }\n",
       "\n",
       "    .dataframe thead th {\n",
       "        text-align: right;\n",
       "    }\n",
       "</style>\n",
       "<table border=\"1\" class=\"dataframe\">\n",
       "  <thead>\n",
       "    <tr style=\"text-align: right;\">\n",
       "      <th></th>\n",
       "      <th>variety</th>\n",
       "      <th>Counts</th>\n",
       "      <th>Red?</th>\n",
       "    </tr>\n",
       "  </thead>\n",
       "  <tbody>\n",
       "    <tr>\n",
       "      <th>0</th>\n",
       "      <td>Chardonnay</td>\n",
       "      <td>13775</td>\n",
       "      <td>False</td>\n",
       "    </tr>\n",
       "    <tr>\n",
       "      <th>1</th>\n",
       "      <td>Pinot Noir</td>\n",
       "      <td>13625</td>\n",
       "      <td>True</td>\n",
       "    </tr>\n",
       "    <tr>\n",
       "      <th>2</th>\n",
       "      <td>Cabernet Sauvignon</td>\n",
       "      <td>12671</td>\n",
       "      <td>True</td>\n",
       "    </tr>\n",
       "    <tr>\n",
       "      <th>3</th>\n",
       "      <td>Red Blend</td>\n",
       "      <td>9377</td>\n",
       "      <td>True</td>\n",
       "    </tr>\n",
       "    <tr>\n",
       "      <th>4</th>\n",
       "      <td>Sauvignon Blanc</td>\n",
       "      <td>6054</td>\n",
       "      <td>False</td>\n",
       "    </tr>\n",
       "  </tbody>\n",
       "</table>\n",
       "</div>"
      ],
      "text/plain": [
       "              variety  Counts   Red?\n",
       "0          Chardonnay   13775  False\n",
       "1          Pinot Noir   13625   True\n",
       "2  Cabernet Sauvignon   12671   True\n",
       "3           Red Blend    9377   True\n",
       "4     Sauvignon Blanc    6054  False"
      ]
     },
     "execution_count": 14,
     "metadata": {},
     "output_type": "execute_result"
    }
   ],
   "source": [
    "#read in csv with comparison - since only goes through varieties >= 30 wines, drop any that aren't assigned\n",
    "reds = pd.read_csv('Wine_Reds.csv').dropna()\n",
    "\n",
    "#rename column for the merge\n",
    "reds = reds.rename(columns = {\"Variety\":\"variety\"})\n",
    "reds.head()"
   ]
  },
  {
   "cell_type": "code",
   "execution_count": 15,
   "metadata": {},
   "outputs": [
    {
     "data": {
      "text/html": [
       "<div>\n",
       "<style scoped>\n",
       "    .dataframe tbody tr th:only-of-type {\n",
       "        vertical-align: middle;\n",
       "    }\n",
       "\n",
       "    .dataframe tbody tr th {\n",
       "        vertical-align: top;\n",
       "    }\n",
       "\n",
       "    .dataframe thead th {\n",
       "        text-align: right;\n",
       "    }\n",
       "</style>\n",
       "<table border=\"1\" class=\"dataframe\">\n",
       "  <thead>\n",
       "    <tr style=\"text-align: right;\">\n",
       "      <th></th>\n",
       "      <th>country</th>\n",
       "      <th>description</th>\n",
       "      <th>designation</th>\n",
       "      <th>points</th>\n",
       "      <th>price</th>\n",
       "      <th>province</th>\n",
       "      <th>region_1</th>\n",
       "      <th>region_2</th>\n",
       "      <th>variety</th>\n",
       "      <th>winery</th>\n",
       "      <th>Counts</th>\n",
       "      <th>Red?</th>\n",
       "    </tr>\n",
       "  </thead>\n",
       "  <tbody>\n",
       "    <tr>\n",
       "      <th>0</th>\n",
       "      <td>US</td>\n",
       "      <td>This tremendous 100% varietal wine hails from ...</td>\n",
       "      <td>Martha's Vineyard</td>\n",
       "      <td>96</td>\n",
       "      <td>235.0</td>\n",
       "      <td>California</td>\n",
       "      <td>Napa Valley</td>\n",
       "      <td>Napa</td>\n",
       "      <td>Cabernet Sauvignon</td>\n",
       "      <td>Heitz</td>\n",
       "      <td>12671.0</td>\n",
       "      <td>True</td>\n",
       "    </tr>\n",
       "    <tr>\n",
       "      <th>1</th>\n",
       "      <td>Spain</td>\n",
       "      <td>Ripe aromas of fig, blackberry and cassis are ...</td>\n",
       "      <td>Carodorum Selección Especial Reserva</td>\n",
       "      <td>96</td>\n",
       "      <td>110.0</td>\n",
       "      <td>Northern Spain</td>\n",
       "      <td>Toro</td>\n",
       "      <td>NaN</td>\n",
       "      <td>Tinta de Toro</td>\n",
       "      <td>Bodega Carmen Rodríguez</td>\n",
       "      <td>221.0</td>\n",
       "      <td>True</td>\n",
       "    </tr>\n",
       "    <tr>\n",
       "      <th>2</th>\n",
       "      <td>US</td>\n",
       "      <td>Mac Watson honors the memory of a wine once ma...</td>\n",
       "      <td>Special Selected Late Harvest</td>\n",
       "      <td>96</td>\n",
       "      <td>90.0</td>\n",
       "      <td>California</td>\n",
       "      <td>Knights Valley</td>\n",
       "      <td>Sonoma</td>\n",
       "      <td>Sauvignon Blanc</td>\n",
       "      <td>Macauley</td>\n",
       "      <td>6054.0</td>\n",
       "      <td>False</td>\n",
       "    </tr>\n",
       "    <tr>\n",
       "      <th>3</th>\n",
       "      <td>US</td>\n",
       "      <td>This spent 20 months in 30% new French oak, an...</td>\n",
       "      <td>Reserve</td>\n",
       "      <td>96</td>\n",
       "      <td>65.0</td>\n",
       "      <td>Oregon</td>\n",
       "      <td>Willamette Valley</td>\n",
       "      <td>Willamette Valley</td>\n",
       "      <td>Pinot Noir</td>\n",
       "      <td>Ponzi</td>\n",
       "      <td>13625.0</td>\n",
       "      <td>True</td>\n",
       "    </tr>\n",
       "    <tr>\n",
       "      <th>4</th>\n",
       "      <td>Spain</td>\n",
       "      <td>Deep, dense and pure from the opening bell, th...</td>\n",
       "      <td>Numanthia</td>\n",
       "      <td>95</td>\n",
       "      <td>73.0</td>\n",
       "      <td>Northern Spain</td>\n",
       "      <td>Toro</td>\n",
       "      <td>NaN</td>\n",
       "      <td>Tinta de Toro</td>\n",
       "      <td>Numanthia</td>\n",
       "      <td>221.0</td>\n",
       "      <td>True</td>\n",
       "    </tr>\n",
       "  </tbody>\n",
       "</table>\n",
       "</div>"
      ],
      "text/plain": [
       "  country                                        description  \\\n",
       "0      US  This tremendous 100% varietal wine hails from ...   \n",
       "1   Spain  Ripe aromas of fig, blackberry and cassis are ...   \n",
       "2      US  Mac Watson honors the memory of a wine once ma...   \n",
       "3      US  This spent 20 months in 30% new French oak, an...   \n",
       "4   Spain  Deep, dense and pure from the opening bell, th...   \n",
       "\n",
       "                            designation  points  price        province  \\\n",
       "0                     Martha's Vineyard      96  235.0      California   \n",
       "1  Carodorum Selección Especial Reserva      96  110.0  Northern Spain   \n",
       "2         Special Selected Late Harvest      96   90.0      California   \n",
       "3                               Reserve      96   65.0          Oregon   \n",
       "4                             Numanthia      95   73.0  Northern Spain   \n",
       "\n",
       "            region_1           region_2             variety  \\\n",
       "0        Napa Valley               Napa  Cabernet Sauvignon   \n",
       "1               Toro                NaN       Tinta de Toro   \n",
       "2     Knights Valley             Sonoma     Sauvignon Blanc   \n",
       "3  Willamette Valley  Willamette Valley          Pinot Noir   \n",
       "4               Toro                NaN       Tinta de Toro   \n",
       "\n",
       "                    winery   Counts   Red?  \n",
       "0                    Heitz  12671.0   True  \n",
       "1  Bodega Carmen Rodríguez    221.0   True  \n",
       "2                 Macauley   6054.0  False  \n",
       "3                    Ponzi  13625.0   True  \n",
       "4                Numanthia    221.0   True  "
      ]
     },
     "execution_count": 15,
     "metadata": {},
     "output_type": "execute_result"
    }
   ],
   "source": [
    "#merge the dataframes - merge function will fill in T/F for the value \n",
    "temp = pd.merge(clean_df,reds,on = \"variety\", how = \"left\")\n",
    "\n",
    "#bring back only the fields that have values for red vs white\n",
    "mask5 = pd.notnull(temp[\"Red?\"])\n",
    "wine_df = temp.loc[mask5].reset_index(drop=True)\n",
    "wine_df.head()"
   ]
  },
  {
   "cell_type": "code",
   "execution_count": 16,
   "metadata": {},
   "outputs": [],
   "source": [
    "#cast boolean arguments as integers to be able to incorporate into model\n",
    "wine_df['Still_Red'] = wine_df['Red?'].astype(int)"
   ]
  },
  {
   "cell_type": "code",
   "execution_count": 17,
   "metadata": {
    "scrolled": true
   },
   "outputs": [
    {
     "data": {
      "text/html": [
       "<div>\n",
       "<style scoped>\n",
       "    .dataframe tbody tr th:only-of-type {\n",
       "        vertical-align: middle;\n",
       "    }\n",
       "\n",
       "    .dataframe tbody tr th {\n",
       "        vertical-align: top;\n",
       "    }\n",
       "\n",
       "    .dataframe thead th {\n",
       "        text-align: right;\n",
       "    }\n",
       "</style>\n",
       "<table border=\"1\" class=\"dataframe\">\n",
       "  <thead>\n",
       "    <tr style=\"text-align: right;\">\n",
       "      <th></th>\n",
       "      <th>country</th>\n",
       "      <th>description</th>\n",
       "      <th>designation</th>\n",
       "      <th>points</th>\n",
       "      <th>price</th>\n",
       "      <th>province</th>\n",
       "      <th>region_1</th>\n",
       "      <th>region_2</th>\n",
       "      <th>variety</th>\n",
       "      <th>winery</th>\n",
       "      <th>Counts</th>\n",
       "      <th>Red?</th>\n",
       "      <th>Still_Red</th>\n",
       "    </tr>\n",
       "  </thead>\n",
       "  <tbody>\n",
       "    <tr>\n",
       "      <th>0</th>\n",
       "      <td>US</td>\n",
       "      <td>This tremendous 100% varietal wine hails from ...</td>\n",
       "      <td>Martha's Vineyard</td>\n",
       "      <td>96</td>\n",
       "      <td>235.0</td>\n",
       "      <td>California</td>\n",
       "      <td>Napa Valley</td>\n",
       "      <td>Napa</td>\n",
       "      <td>Cabernet Sauvignon</td>\n",
       "      <td>Heitz</td>\n",
       "      <td>12671.0</td>\n",
       "      <td>True</td>\n",
       "      <td>1</td>\n",
       "    </tr>\n",
       "    <tr>\n",
       "      <th>1</th>\n",
       "      <td>Spain</td>\n",
       "      <td>Ripe aromas of fig, blackberry and cassis are ...</td>\n",
       "      <td>Carodorum Selección Especial Reserva</td>\n",
       "      <td>96</td>\n",
       "      <td>110.0</td>\n",
       "      <td>Northern Spain</td>\n",
       "      <td>Toro</td>\n",
       "      <td>NaN</td>\n",
       "      <td>Tinta de Toro</td>\n",
       "      <td>Bodega Carmen Rodríguez</td>\n",
       "      <td>221.0</td>\n",
       "      <td>True</td>\n",
       "      <td>1</td>\n",
       "    </tr>\n",
       "    <tr>\n",
       "      <th>2</th>\n",
       "      <td>US</td>\n",
       "      <td>Mac Watson honors the memory of a wine once ma...</td>\n",
       "      <td>Special Selected Late Harvest</td>\n",
       "      <td>96</td>\n",
       "      <td>90.0</td>\n",
       "      <td>California</td>\n",
       "      <td>Knights Valley</td>\n",
       "      <td>Sonoma</td>\n",
       "      <td>Sauvignon Blanc</td>\n",
       "      <td>Macauley</td>\n",
       "      <td>6054.0</td>\n",
       "      <td>False</td>\n",
       "      <td>0</td>\n",
       "    </tr>\n",
       "    <tr>\n",
       "      <th>3</th>\n",
       "      <td>US</td>\n",
       "      <td>This spent 20 months in 30% new French oak, an...</td>\n",
       "      <td>Reserve</td>\n",
       "      <td>96</td>\n",
       "      <td>65.0</td>\n",
       "      <td>Oregon</td>\n",
       "      <td>Willamette Valley</td>\n",
       "      <td>Willamette Valley</td>\n",
       "      <td>Pinot Noir</td>\n",
       "      <td>Ponzi</td>\n",
       "      <td>13625.0</td>\n",
       "      <td>True</td>\n",
       "      <td>1</td>\n",
       "    </tr>\n",
       "    <tr>\n",
       "      <th>4</th>\n",
       "      <td>Spain</td>\n",
       "      <td>Deep, dense and pure from the opening bell, th...</td>\n",
       "      <td>Numanthia</td>\n",
       "      <td>95</td>\n",
       "      <td>73.0</td>\n",
       "      <td>Northern Spain</td>\n",
       "      <td>Toro</td>\n",
       "      <td>NaN</td>\n",
       "      <td>Tinta de Toro</td>\n",
       "      <td>Numanthia</td>\n",
       "      <td>221.0</td>\n",
       "      <td>True</td>\n",
       "      <td>1</td>\n",
       "    </tr>\n",
       "  </tbody>\n",
       "</table>\n",
       "</div>"
      ],
      "text/plain": [
       "  country                                        description  \\\n",
       "0      US  This tremendous 100% varietal wine hails from ...   \n",
       "1   Spain  Ripe aromas of fig, blackberry and cassis are ...   \n",
       "2      US  Mac Watson honors the memory of a wine once ma...   \n",
       "3      US  This spent 20 months in 30% new French oak, an...   \n",
       "4   Spain  Deep, dense and pure from the opening bell, th...   \n",
       "\n",
       "                            designation  points  price        province  \\\n",
       "0                     Martha's Vineyard      96  235.0      California   \n",
       "1  Carodorum Selección Especial Reserva      96  110.0  Northern Spain   \n",
       "2         Special Selected Late Harvest      96   90.0      California   \n",
       "3                               Reserve      96   65.0          Oregon   \n",
       "4                             Numanthia      95   73.0  Northern Spain   \n",
       "\n",
       "            region_1           region_2             variety  \\\n",
       "0        Napa Valley               Napa  Cabernet Sauvignon   \n",
       "1               Toro                NaN       Tinta de Toro   \n",
       "2     Knights Valley             Sonoma     Sauvignon Blanc   \n",
       "3  Willamette Valley  Willamette Valley          Pinot Noir   \n",
       "4               Toro                NaN       Tinta de Toro   \n",
       "\n",
       "                    winery   Counts   Red?  Still_Red  \n",
       "0                    Heitz  12671.0   True          1  \n",
       "1  Bodega Carmen Rodríguez    221.0   True          1  \n",
       "2                 Macauley   6054.0  False          0  \n",
       "3                    Ponzi  13625.0   True          1  \n",
       "4                Numanthia    221.0   True          1  "
      ]
     },
     "execution_count": 17,
     "metadata": {},
     "output_type": "execute_result"
    }
   ],
   "source": [
    "wine_df.head()"
   ]
  },
  {
   "cell_type": "code",
   "execution_count": 18,
   "metadata": {},
   "outputs": [
    {
     "data": {
      "text/plain": [
       "US                44550\n",
       "Italy             13365\n",
       "France             8021\n",
       "Spain              6510\n",
       "Argentina          4735\n",
       "Chile              4060\n",
       "Australia          3314\n",
       "Portugal           2982\n",
       "Austria            1620\n",
       "South Africa       1277\n",
       "New Zealand        1129\n",
       "Greece              513\n",
       "Israel              470\n",
       "Germany             192\n",
       "Hungary              80\n",
       "Uruguay              72\n",
       "Romania              64\n",
       "Canada               61\n",
       "Bulgaria             42\n",
       "Moldova              42\n",
       "Mexico               42\n",
       "Slovenia             25\n",
       "Brazil               24\n",
       "Cyprus               23\n",
       "Lebanon              23\n",
       "Turkey               22\n",
       "Croatia              16\n",
       "Lithuania             8\n",
       "Georgia               7\n",
       "Morocco               7\n",
       "England               6\n",
       "Macedonia             6\n",
       "Ukraine               4\n",
       "India                 4\n",
       "Serbia                3\n",
       "Czech Republic        2\n",
       "Switzerland           2\n",
       "Name: country, dtype: int64"
      ]
     },
     "execution_count": 18,
     "metadata": {},
     "output_type": "execute_result"
    }
   ],
   "source": [
    "#create df with only red wines and look at distribution of wines by country \n",
    "mask_red = wine_df.Still_Red == 1\n",
    "wine_red = wine_df.loc[mask_red]\n",
    "wine_red.country.value_counts()"
   ]
  },
  {
   "cell_type": "code",
   "execution_count": 19,
   "metadata": {},
   "outputs": [
    {
     "data": {
      "image/png": "[encoded data removed]",
      "text/plain": [
       "<Figure size 432x288 with 1 Axes>"
      ]
     },
     "metadata": {
      "needs_background": "light"
     },
     "output_type": "display_data"
    },
    {
     "data": {
      "image/png": "[encoded data removed]",
      "text/plain": [
       "<Figure size 432x288 with 1 Axes>"
      ]
     },
     "metadata": {
      "needs_background": "light"
     },
     "output_type": "display_data"
    },
    {
     "data": {
      "image/png": "[encoded data removed]",
      "text/plain": [
       "<Figure size 432x288 with 1 Axes>"
      ]
     },
     "metadata": {
      "needs_background": "light"
     },
     "output_type": "display_data"
    },
    {
     "data": {
      "image/png": "[encoded data removed]",
      "text/plain": [
       "<Figure size 432x288 with 1 Axes>"
      ]
     },
     "metadata": {
      "needs_background": "light"
     },
     "output_type": "display_data"
    },
    {
     "data": {
      "image/png": "[encoded data removed]",
      "text/plain": [
       "<Figure size 432x288 with 1 Axes>"
      ]
     },
     "metadata": {
      "needs_background": "light"
     },
     "output_type": "display_data"
    },
    {
     "data": {
      "image/png": "[encoded data removed]",
      "text/plain": [
       "<Figure size 432x288 with 1 Axes>"
      ]
     },
     "metadata": {
      "needs_background": "light"
     },
     "output_type": "display_data"
    },
    {
     "data": {
      "image/png": "[encoded data removed]",
      "text/plain": [
       "<Figure size 432x288 with 1 Axes>"
      ]
     },
     "metadata": {
      "needs_background": "light"
     },
     "output_type": "display_data"
    },
    {
     "data": {
      "image/png": "[encoded data removed]",
      "text/plain": [
       "<Figure size 432x288 with 1 Axes>"
      ]
     },
     "metadata": {
      "needs_background": "light"
     },
     "output_type": "display_data"
    },
    {
     "data": {
      "image/png": "[encoded data removed]",
      "text/plain": [
       "<Figure size 432x288 with 1 Axes>"
      ]
     },
     "metadata": {
      "needs_background": "light"
     },
     "output_type": "display_data"
    },
    {
     "data": {
      "image/png": "[encoded data removed]",
      "text/plain": [
       "<Figure size 432x288 with 1 Axes>"
      ]
     },
     "metadata": {
      "needs_background": "light"
     },
     "output_type": "display_data"
    },
    {
     "data": {
      "image/png": "[encoded data removed]",
      "text/plain": [
       "<Figure size 432x288 with 1 Axes>"
      ]
     },
     "metadata": {
      "needs_background": "light"
     },
     "output_type": "display_data"
    },
    {
     "data": {
      "image/png": "[encoded data removed]",
      "text/plain": [
       "<Figure size 432x288 with 1 Axes>"
      ]
     },
     "metadata": {
      "needs_background": "light"
     },
     "output_type": "display_data"
    }
   ],
   "source": [
    "#print histograms for the top thirteen countries - WHY DID WE PICK THIRTEEN? \n",
    "for country in wine_red.country.value_counts().index[0:12]:\n",
    "    mask6 = wine_red.country == country \n",
    "    red_wine = wine_red.loc[mask6]\n",
    "    \n",
    "    plt.hist(red_wine.points, bins = 10)\n",
    "    plt.xlim(80,100)\n",
    "    plt.title(country)\n",
    "    plt.show()"
   ]
  },
  {
   "cell_type": "code",
   "execution_count": 20,
   "metadata": {},
   "outputs": [
    {
     "data": {
      "text/html": [
       "<div>\n",
       "<style scoped>\n",
       "    .dataframe tbody tr th:only-of-type {\n",
       "        vertical-align: middle;\n",
       "    }\n",
       "\n",
       "    .dataframe tbody tr th {\n",
       "        vertical-align: top;\n",
       "    }\n",
       "\n",
       "    .dataframe thead th {\n",
       "        text-align: right;\n",
       "    }\n",
       "</style>\n",
       "<table border=\"1\" class=\"dataframe\">\n",
       "  <thead>\n",
       "    <tr style=\"text-align: right;\">\n",
       "      <th></th>\n",
       "      <th>country</th>\n",
       "      <th>description</th>\n",
       "      <th>designation</th>\n",
       "      <th>points</th>\n",
       "      <th>price</th>\n",
       "      <th>province</th>\n",
       "      <th>region_1</th>\n",
       "      <th>region_2</th>\n",
       "      <th>variety</th>\n",
       "      <th>winery</th>\n",
       "      <th>Counts</th>\n",
       "      <th>Red?</th>\n",
       "      <th>Still_Red</th>\n",
       "    </tr>\n",
       "  </thead>\n",
       "  <tbody>\n",
       "    <tr>\n",
       "      <th>0</th>\n",
       "      <td>US</td>\n",
       "      <td>This tremendous 100% varietal wine hails from ...</td>\n",
       "      <td>Martha's Vineyard</td>\n",
       "      <td>96</td>\n",
       "      <td>235.0</td>\n",
       "      <td>California</td>\n",
       "      <td>Napa Valley</td>\n",
       "      <td>Napa</td>\n",
       "      <td>Cabernet Sauvignon</td>\n",
       "      <td>Heitz</td>\n",
       "      <td>12671.0</td>\n",
       "      <td>True</td>\n",
       "      <td>1</td>\n",
       "    </tr>\n",
       "    <tr>\n",
       "      <th>1</th>\n",
       "      <td>Spain</td>\n",
       "      <td>Ripe aromas of fig, blackberry and cassis are ...</td>\n",
       "      <td>Carodorum Selección Especial Reserva</td>\n",
       "      <td>96</td>\n",
       "      <td>110.0</td>\n",
       "      <td>Northern Spain</td>\n",
       "      <td>Toro</td>\n",
       "      <td>NaN</td>\n",
       "      <td>Tinta de Toro</td>\n",
       "      <td>Bodega Carmen Rodríguez</td>\n",
       "      <td>221.0</td>\n",
       "      <td>True</td>\n",
       "      <td>1</td>\n",
       "    </tr>\n",
       "    <tr>\n",
       "      <th>3</th>\n",
       "      <td>US</td>\n",
       "      <td>This spent 20 months in 30% new French oak, an...</td>\n",
       "      <td>Reserve</td>\n",
       "      <td>96</td>\n",
       "      <td>65.0</td>\n",
       "      <td>Oregon</td>\n",
       "      <td>Willamette Valley</td>\n",
       "      <td>Willamette Valley</td>\n",
       "      <td>Pinot Noir</td>\n",
       "      <td>Ponzi</td>\n",
       "      <td>13625.0</td>\n",
       "      <td>True</td>\n",
       "      <td>1</td>\n",
       "    </tr>\n",
       "    <tr>\n",
       "      <th>4</th>\n",
       "      <td>Spain</td>\n",
       "      <td>Deep, dense and pure from the opening bell, th...</td>\n",
       "      <td>Numanthia</td>\n",
       "      <td>95</td>\n",
       "      <td>73.0</td>\n",
       "      <td>Northern Spain</td>\n",
       "      <td>Toro</td>\n",
       "      <td>NaN</td>\n",
       "      <td>Tinta de Toro</td>\n",
       "      <td>Numanthia</td>\n",
       "      <td>221.0</td>\n",
       "      <td>True</td>\n",
       "      <td>1</td>\n",
       "    </tr>\n",
       "    <tr>\n",
       "      <th>5</th>\n",
       "      <td>Spain</td>\n",
       "      <td>Slightly gritty black-fruit aromas include a s...</td>\n",
       "      <td>San Román</td>\n",
       "      <td>95</td>\n",
       "      <td>65.0</td>\n",
       "      <td>Northern Spain</td>\n",
       "      <td>Toro</td>\n",
       "      <td>NaN</td>\n",
       "      <td>Tinta de Toro</td>\n",
       "      <td>Maurodos</td>\n",
       "      <td>221.0</td>\n",
       "      <td>True</td>\n",
       "      <td>1</td>\n",
       "    </tr>\n",
       "  </tbody>\n",
       "</table>\n",
       "</div>"
      ],
      "text/plain": [
       "  country                                        description  \\\n",
       "0      US  This tremendous 100% varietal wine hails from ...   \n",
       "1   Spain  Ripe aromas of fig, blackberry and cassis are ...   \n",
       "3      US  This spent 20 months in 30% new French oak, an...   \n",
       "4   Spain  Deep, dense and pure from the opening bell, th...   \n",
       "5   Spain  Slightly gritty black-fruit aromas include a s...   \n",
       "\n",
       "                            designation  points  price        province  \\\n",
       "0                     Martha's Vineyard      96  235.0      California   \n",
       "1  Carodorum Selección Especial Reserva      96  110.0  Northern Spain   \n",
       "3                               Reserve      96   65.0          Oregon   \n",
       "4                             Numanthia      95   73.0  Northern Spain   \n",
       "5                             San Román      95   65.0  Northern Spain   \n",
       "\n",
       "            region_1           region_2             variety  \\\n",
       "0        Napa Valley               Napa  Cabernet Sauvignon   \n",
       "1               Toro                NaN       Tinta de Toro   \n",
       "3  Willamette Valley  Willamette Valley          Pinot Noir   \n",
       "4               Toro                NaN       Tinta de Toro   \n",
       "5               Toro                NaN       Tinta de Toro   \n",
       "\n",
       "                    winery   Counts  Red?  Still_Red  \n",
       "0                    Heitz  12671.0  True          1  \n",
       "1  Bodega Carmen Rodríguez    221.0  True          1  \n",
       "3                    Ponzi  13625.0  True          1  \n",
       "4                Numanthia    221.0  True          1  \n",
       "5                 Maurodos    221.0  True          1  "
      ]
     },
     "execution_count": 20,
     "metadata": {},
     "output_type": "execute_result"
    }
   ],
   "source": [
    "#create df with top thirteen red wine producing countries\n",
    "mask8 = wine_red.country.isin(wine_red.country.value_counts().head(13).index)\n",
    "red2 = wine_red.loc[mask8]\n",
    "red2.head()"
   ]
  },
  {
   "cell_type": "code",
   "execution_count": 21,
   "metadata": {},
   "outputs": [
    {
     "data": {
      "image/png": "[encoded data removed]",
      "text/plain": [
       "<Figure size 432x288 with 1 Axes>"
      ]
     },
     "metadata": {
      "needs_background": "light"
     },
     "output_type": "display_data"
    }
   ],
   "source": [
    "#plot the points spread for each of the top thirteen countries \n",
    "#NEED TO CLEAN UP GRAPHS - FIX TITLE AND AXIS LABELS \n",
    "red2.boxplot(column = 'points', by = 'country', rot = 45)\n",
    "plt.show()"
   ]
  },
  {
   "cell_type": "code",
   "execution_count": 22,
   "metadata": {},
   "outputs": [
    {
     "data": {
      "text/plain": [
       "(-2, 1500)"
      ]
     },
     "execution_count": 22,
     "metadata": {},
     "output_type": "execute_result"
    },
    {
     "data": {
      "image/png": "[encoded data removed]",
      "text/plain": [
       "<Figure size 432x288 with 1 Axes>"
      ]
     },
     "metadata": {
      "needs_background": "light"
     },
     "output_type": "display_data"
    }
   ],
   "source": [
    "#boxplots to show price distribution by country - THIS WILL BE GOOD TO SHOW IMPACT OF OUTLIERS\n",
    "ax1 = red2.boxplot(column = 'price', by = 'country', rot = 45)\n",
    "ax1.set_ylim(-2,1500)"
   ]
  },
  {
   "cell_type": "code",
   "execution_count": 23,
   "metadata": {},
   "outputs": [
    {
     "data": {
      "text/plain": [
       "US                17021\n",
       "France             6467\n",
       "Italy              4785\n",
       "Germany            2109\n",
       "New Zealand        1936\n",
       "Chile              1626\n",
       "Australia          1500\n",
       "Spain              1217\n",
       "Portugal            926\n",
       "South Africa        920\n",
       "Argentina           800\n",
       "Austria             750\n",
       "Greece              290\n",
       "Israel              128\n",
       "Canada              120\n",
       "Hungary             116\n",
       "Romania              57\n",
       "Slovenia             46\n",
       "Moldova              25\n",
       "Bulgaria             25\n",
       "Croatia              20\n",
       "Mexico               18\n",
       "Lebanon              13\n",
       "Uruguay              10\n",
       "Luxembourg            9\n",
       "Georgia               5\n",
       "India                 4\n",
       "Morocco               4\n",
       "Slovakia              3\n",
       "China                 3\n",
       "Turkey                2\n",
       "England               2\n",
       "Cyprus                2\n",
       "Serbia                2\n",
       "Switzerland           1\n",
       "Czech Republic        1\n",
       "Ukraine               1\n",
       "Brazil                1\n",
       "US-France             1\n",
       "Name: country, dtype: int64"
      ]
     },
     "execution_count": 23,
     "metadata": {},
     "output_type": "execute_result"
    }
   ],
   "source": [
    "#create df for white wines only \n",
    "mask_white = wine_df.Still_Red == 0\n",
    "wine_white = wine_df.loc[mask_white]\n",
    "wine_white.country.value_counts()\n"
   ]
  },
  {
   "cell_type": "code",
   "execution_count": 24,
   "metadata": {},
   "outputs": [
    {
     "data": {
      "image/png": "[encoded data removed]",
      "text/plain": [
       "<Figure size 432x288 with 1 Axes>"
      ]
     },
     "metadata": {
      "needs_background": "light"
     },
     "output_type": "display_data"
    },
    {
     "data": {
      "image/png": "[encoded data removed]",
      "text/plain": [
       "<Figure size 432x288 with 1 Axes>"
      ]
     },
     "metadata": {
      "needs_background": "light"
     },
     "output_type": "display_data"
    },
    {
     "data": {
      "image/png": "[encoded data removed]",
      "text/plain": [
       "<Figure size 432x288 with 1 Axes>"
      ]
     },
     "metadata": {
      "needs_background": "light"
     },
     "output_type": "display_data"
    },
    {
     "data": {
      "image/png": "[encoded data removed]",
      "text/plain": [
       "<Figure size 432x288 with 1 Axes>"
      ]
     },
     "metadata": {
      "needs_background": "light"
     },
     "output_type": "display_data"
    },
    {
     "data": {
      "image/png": "[encoded data removed]",
      "text/plain": [
       "<Figure size 432x288 with 1 Axes>"
      ]
     },
     "metadata": {
      "needs_background": "light"
     },
     "output_type": "display_data"
    },
    {
     "data": {
      "image/png": "[encoded data removed]",
      "text/plain": [
       "<Figure size 432x288 with 1 Axes>"
      ]
     },
     "metadata": {
      "needs_background": "light"
     },
     "output_type": "display_data"
    },
    {
     "data": {
      "image/png": "[encoded data removed]",
      "text/plain": [
       "<Figure size 432x288 with 1 Axes>"
      ]
     },
     "metadata": {
      "needs_background": "light"
     },
     "output_type": "display_data"
    },
    {
     "data": {
      "image/png": "[encoded data removed]",
      "text/plain": [
       "<Figure size 432x288 with 1 Axes>"
      ]
     },
     "metadata": {
      "needs_background": "light"
     },
     "output_type": "display_data"
    },
    {
     "data": {
      "image/png": "[encoded data removed]",
      "text/plain": [
       "<Figure size 432x288 with 1 Axes>"
      ]
     },
     "metadata": {
      "needs_background": "light"
     },
     "output_type": "display_data"
    },
    {
     "data": {
      "image/png": "[encoded data removed]",
      "text/plain": [
       "<Figure size 432x288 with 1 Axes>"
      ]
     },
     "metadata": {
      "needs_background": "light"
     },
     "output_type": "display_data"
    },
    {
     "data": {
      "image/png": "[encoded data removed]",
      "text/plain": [
       "<Figure size 432x288 with 1 Axes>"
      ]
     },
     "metadata": {
      "needs_background": "light"
     },
     "output_type": "display_data"
    },
    {
     "data": {
      "image/png": "[encoded data removed]",
      "text/plain": [
       "<Figure size 432x288 with 1 Axes>"
      ]
     },
     "metadata": {
      "needs_background": "light"
     },
     "output_type": "display_data"
    }
   ],
   "source": [
    "#create histograms for the top thirteen wines \n",
    "for country in wine_white.country.value_counts().index[0:12]:\n",
    "    mask7 = wine_white.country == country \n",
    "    white_wine = wine_white.loc[mask7]\n",
    "    \n",
    "    plt.hist(white_wine.points, bins = 10)\n",
    "    plt.title(country)\n",
    "    plt.show()"
   ]
  },
  {
   "cell_type": "code",
   "execution_count": 25,
   "metadata": {},
   "outputs": [
    {
     "data": {
      "text/html": [
       "<div>\n",
       "<style scoped>\n",
       "    .dataframe tbody tr th:only-of-type {\n",
       "        vertical-align: middle;\n",
       "    }\n",
       "\n",
       "    .dataframe tbody tr th {\n",
       "        vertical-align: top;\n",
       "    }\n",
       "\n",
       "    .dataframe thead th {\n",
       "        text-align: right;\n",
       "    }\n",
       "</style>\n",
       "<table border=\"1\" class=\"dataframe\">\n",
       "  <thead>\n",
       "    <tr style=\"text-align: right;\">\n",
       "      <th></th>\n",
       "      <th>country</th>\n",
       "      <th>description</th>\n",
       "      <th>designation</th>\n",
       "      <th>points</th>\n",
       "      <th>price</th>\n",
       "      <th>province</th>\n",
       "      <th>region_1</th>\n",
       "      <th>region_2</th>\n",
       "      <th>variety</th>\n",
       "      <th>winery</th>\n",
       "      <th>Counts</th>\n",
       "      <th>Red?</th>\n",
       "      <th>Still_Red</th>\n",
       "    </tr>\n",
       "  </thead>\n",
       "  <tbody>\n",
       "    <tr>\n",
       "      <th>2</th>\n",
       "      <td>US</td>\n",
       "      <td>Mac Watson honors the memory of a wine once ma...</td>\n",
       "      <td>Special Selected Late Harvest</td>\n",
       "      <td>96</td>\n",
       "      <td>90.0</td>\n",
       "      <td>California</td>\n",
       "      <td>Knights Valley</td>\n",
       "      <td>Sonoma</td>\n",
       "      <td>Sauvignon Blanc</td>\n",
       "      <td>Macauley</td>\n",
       "      <td>6054.0</td>\n",
       "      <td>False</td>\n",
       "      <td>0</td>\n",
       "    </tr>\n",
       "    <tr>\n",
       "      <th>14</th>\n",
       "      <td>US</td>\n",
       "      <td>First made in 2006, this succulent luscious Ch...</td>\n",
       "      <td>Sigrid</td>\n",
       "      <td>95</td>\n",
       "      <td>90.0</td>\n",
       "      <td>Oregon</td>\n",
       "      <td>Willamette Valley</td>\n",
       "      <td>Willamette Valley</td>\n",
       "      <td>Chardonnay</td>\n",
       "      <td>Bergström</td>\n",
       "      <td>13775.0</td>\n",
       "      <td>False</td>\n",
       "      <td>0</td>\n",
       "    </tr>\n",
       "    <tr>\n",
       "      <th>22</th>\n",
       "      <td>US</td>\n",
       "      <td>The apogee of this ambitious winery's white wi...</td>\n",
       "      <td>Giallo Solare</td>\n",
       "      <td>95</td>\n",
       "      <td>60.0</td>\n",
       "      <td>California</td>\n",
       "      <td>Edna Valley</td>\n",
       "      <td>Central Coast</td>\n",
       "      <td>Chardonnay</td>\n",
       "      <td>Center of Effort</td>\n",
       "      <td>13775.0</td>\n",
       "      <td>False</td>\n",
       "      <td>0</td>\n",
       "    </tr>\n",
       "    <tr>\n",
       "      <th>24</th>\n",
       "      <td>New Zealand</td>\n",
       "      <td>Yields were down in 2015, but intensity is up,...</td>\n",
       "      <td>Maté's Vineyard</td>\n",
       "      <td>94</td>\n",
       "      <td>57.0</td>\n",
       "      <td>Kumeu</td>\n",
       "      <td>NaN</td>\n",
       "      <td>NaN</td>\n",
       "      <td>Chardonnay</td>\n",
       "      <td>Kumeu River</td>\n",
       "      <td>13775.0</td>\n",
       "      <td>False</td>\n",
       "      <td>0</td>\n",
       "    </tr>\n",
       "    <tr>\n",
       "      <th>29</th>\n",
       "      <td>US</td>\n",
       "      <td>Steely and perfumed, this wine sees only 20% n...</td>\n",
       "      <td>Babushka</td>\n",
       "      <td>90</td>\n",
       "      <td>37.0</td>\n",
       "      <td>California</td>\n",
       "      <td>Russian River Valley</td>\n",
       "      <td>Sonoma</td>\n",
       "      <td>Chardonnay</td>\n",
       "      <td>Zepaltas</td>\n",
       "      <td>13775.0</td>\n",
       "      <td>False</td>\n",
       "      <td>0</td>\n",
       "    </tr>\n",
       "  </tbody>\n",
       "</table>\n",
       "</div>"
      ],
      "text/plain": [
       "        country                                        description  \\\n",
       "2            US  Mac Watson honors the memory of a wine once ma...   \n",
       "14           US  First made in 2006, this succulent luscious Ch...   \n",
       "22           US  The apogee of this ambitious winery's white wi...   \n",
       "24  New Zealand  Yields were down in 2015, but intensity is up,...   \n",
       "29           US  Steely and perfumed, this wine sees only 20% n...   \n",
       "\n",
       "                      designation  points  price    province  \\\n",
       "2   Special Selected Late Harvest      96   90.0  California   \n",
       "14                         Sigrid      95   90.0      Oregon   \n",
       "22                  Giallo Solare      95   60.0  California   \n",
       "24                Maté's Vineyard      94   57.0       Kumeu   \n",
       "29                       Babushka      90   37.0  California   \n",
       "\n",
       "                region_1           region_2          variety  \\\n",
       "2         Knights Valley             Sonoma  Sauvignon Blanc   \n",
       "14     Willamette Valley  Willamette Valley       Chardonnay   \n",
       "22           Edna Valley      Central Coast       Chardonnay   \n",
       "24                   NaN                NaN       Chardonnay   \n",
       "29  Russian River Valley             Sonoma       Chardonnay   \n",
       "\n",
       "              winery   Counts   Red?  Still_Red  \n",
       "2           Macauley   6054.0  False          0  \n",
       "14         Bergström  13775.0  False          0  \n",
       "22  Center of Effort  13775.0  False          0  \n",
       "24       Kumeu River  13775.0  False          0  \n",
       "29          Zepaltas  13775.0  False          0  "
      ]
     },
     "execution_count": 25,
     "metadata": {},
     "output_type": "execute_result"
    }
   ],
   "source": [
    "#create df for top thirteen wines\n",
    "mask9 = wine_white.country.isin(wine_white.country.value_counts().index[0:12])\n",
    "white2 = wine_white.loc[mask9]\n",
    "white2.head()"
   ]
  },
  {
   "cell_type": "code",
   "execution_count": 26,
   "metadata": {},
   "outputs": [
    {
     "data": {
      "image/png": "[encoded data removed]",
      "text/plain": [
       "<Figure size 432x288 with 1 Axes>"
      ]
     },
     "metadata": {
      "needs_background": "light"
     },
     "output_type": "display_data"
    }
   ],
   "source": [
    "#boxplots to show point distribution by country \n",
    "white2.boxplot(column = 'points', by = 'country', rot = 45)\n",
    "plt.show()"
   ]
  },
  {
   "cell_type": "code",
   "execution_count": 27,
   "metadata": {},
   "outputs": [
    {
     "data": {
      "image/png": "[encoded data removed]",
      "text/plain": [
       "<Figure size 432x288 with 1 Axes>"
      ]
     },
     "metadata": {
      "needs_background": "light"
     },
     "output_type": "display_data"
    }
   ],
   "source": [
    "#boxplots to show price distribution by country - THIS WILL BE GOOD TO SHOW IMPACT OF OUTLIERS\n",
    "ax1 = white2.boxplot(column = 'price', by = 'country', rot = 45)\n",
    "plt.show()"
   ]
  },
  {
   "cell_type": "code",
   "execution_count": 28,
   "metadata": {},
   "outputs": [
    {
     "data": {
      "image/png": "[encoded data removed]",
      "text/plain": [
       "<Figure size 432x288 with 1 Axes>"
      ]
     },
     "metadata": {
      "needs_background": "light"
     },
     "output_type": "display_data"
    }
   ],
   "source": [
    "plt.hist(wine_red.points, label = \"red\", bins = 20)\n",
    "plt.hist(wine_white.points, label = 'white', bins = 20)\n",
    "plt.title ('Frequency of Points by Wine Type')\n",
    "plt.xlabel('Points')\n",
    "plt.legend(loc=\"best\")\n",
    "plt.show()"
   ]
  },
  {
   "cell_type": "code",
   "execution_count": null,
   "metadata": {},
   "outputs": [],
   "source": []
  },
  {
   "cell_type": "code",
   "execution_count": 29,
   "metadata": {},
   "outputs": [
    {
     "data": {
      "image/png": "[encoded data removed]",
      "text/plain": [
       "<Figure size 432x288 with 1 Axes>"
      ]
     },
     "metadata": {
      "needs_background": "light"
     },
     "output_type": "display_data"
    }
   ],
   "source": [
    "plt.hist(wine_red.price, label = \"red\", bins = 50)\n",
    "plt.hist(wine_white.price, label = 'white', bins = 50)\n",
    "plt.title ('Frequency of Price by Wine Type')\n",
    "plt.xlim(0,wine_red.price.max())\n",
    "plt.xlabel('Price')\n",
    "plt.legend(loc=\"best\")\n",
    "plt.show()"
   ]
  },
  {
   "cell_type": "code",
   "execution_count": 30,
   "metadata": {},
   "outputs": [
    {
     "data": {
      "image/png": "[encoded data removed]",
      "text/plain": [
       "<Figure size 432x288 with 1 Axes>"
      ]
     },
     "metadata": {
      "needs_background": "light"
     },
     "output_type": "display_data"
    }
   ],
   "source": [
    "#Alternate way to show skew of prices - PROBABLY DON'T USE\n",
    "plt.scatter(wine_red.price.value_counts().index, wine_red.price.value_counts().values)\n",
    "plt.title ('Frequency of Price - Red Wine')\n",
    "plt.xlim(0,wine_red.price.max())\n",
    "plt.xlabel('Red Wine Price')\n",
    "plt.ylabel('Frequency')\n",
    "plt.show()"
   ]
  },
  {
   "cell_type": "code",
   "execution_count": 31,
   "metadata": {},
   "outputs": [
    {
     "data": {
      "image/png": "[encoded data removed]",
      "text/plain": [
       "<Figure size 432x288 with 1 Axes>"
      ]
     },
     "metadata": {
      "needs_background": "light"
     },
     "output_type": "display_data"
    }
   ],
   "source": [
    "#Alternate way to show skew of prices - DON'T USE\n",
    "plt.scatter(wine_white.price.value_counts().index, wine_white.price.value_counts().values)\n",
    "plt.title ('Frequency of Price - White Wine')\n",
    "plt.xlim(0,wine_white.price.max())\n",
    "plt.xlabel('White Wine Price')\n",
    "plt.ylabel('Frequency')\n",
    "plt.show()"
   ]
  },
  {
   "cell_type": "code",
   "execution_count": 32,
   "metadata": {},
   "outputs": [
    {
     "data": {
      "text/plain": [
       "2300.0"
      ]
     },
     "execution_count": 32,
     "metadata": {},
     "output_type": "execute_result"
    }
   ],
   "source": [
    "wine_red.price.max()"
   ]
  },
  {
   "cell_type": "markdown",
   "metadata": {},
   "source": [
    "## Points vs Price Correlation - Red vs White"
   ]
  },
  {
   "cell_type": "code",
   "execution_count": 33,
   "metadata": {},
   "outputs": [
    {
     "data": {
      "text/plain": [
       "<matplotlib.collections.PathCollection at 0x1a22cbefd0>"
      ]
     },
     "execution_count": 33,
     "metadata": {},
     "output_type": "execute_result"
    },
    {
     "data": {
      "image/png": "[encoded data removed]",
      "text/plain": [
       "<Figure size 432x288 with 1 Axes>"
      ]
     },
     "metadata": {
      "needs_background": "light"
     },
     "output_type": "display_data"
    }
   ],
   "source": [
    "#Scatter of Wine Price vs Wine Points - Total \n",
    "plt.scatter(wine_df.points, wine_df.price)"
   ]
  },
  {
   "cell_type": "code",
   "execution_count": 34,
   "metadata": {},
   "outputs": [
    {
     "data": {
      "text/html": [
       "<div>\n",
       "<style scoped>\n",
       "    .dataframe tbody tr th:only-of-type {\n",
       "        vertical-align: middle;\n",
       "    }\n",
       "\n",
       "    .dataframe tbody tr th {\n",
       "        vertical-align: top;\n",
       "    }\n",
       "\n",
       "    .dataframe thead th {\n",
       "        text-align: right;\n",
       "    }\n",
       "</style>\n",
       "<table border=\"1\" class=\"dataframe\">\n",
       "  <thead>\n",
       "    <tr style=\"text-align: right;\">\n",
       "      <th></th>\n",
       "      <th>price</th>\n",
       "      <th>points</th>\n",
       "      <th>Still_Red</th>\n",
       "    </tr>\n",
       "  </thead>\n",
       "  <tbody>\n",
       "    <tr>\n",
       "      <th>price</th>\n",
       "      <td>1.000000</td>\n",
       "      <td>0.459624</td>\n",
       "      <td>0.108498</td>\n",
       "    </tr>\n",
       "    <tr>\n",
       "      <th>points</th>\n",
       "      <td>0.459624</td>\n",
       "      <td>1.000000</td>\n",
       "      <td>0.061808</td>\n",
       "    </tr>\n",
       "    <tr>\n",
       "      <th>Still_Red</th>\n",
       "      <td>0.108498</td>\n",
       "      <td>0.061808</td>\n",
       "      <td>1.000000</td>\n",
       "    </tr>\n",
       "  </tbody>\n",
       "</table>\n",
       "</div>"
      ],
      "text/plain": [
       "              price    points  Still_Red\n",
       "price      1.000000  0.459624   0.108498\n",
       "points     0.459624  1.000000   0.061808\n",
       "Still_Red  0.108498  0.061808   1.000000"
      ]
     },
     "execution_count": 34,
     "metadata": {},
     "output_type": "execute_result"
    }
   ],
   "source": [
    "wine_df[['price','points','Still_Red']].corr()"
   ]
  },
  {
   "cell_type": "code",
   "execution_count": 35,
   "metadata": {},
   "outputs": [
    {
     "data": {
      "text/plain": [
       "<matplotlib.collections.PathCollection at 0x1a1d99da10>"
      ]
     },
     "execution_count": 35,
     "metadata": {},
     "output_type": "execute_result"
    },
    {
     "data": {
      "image/png": "[encoded data removed]",
      "text/plain": [
       "<Figure size 432x288 with 1 Axes>"
      ]
     },
     "metadata": {
      "needs_background": "light"
     },
     "output_type": "display_data"
    }
   ],
   "source": [
    "#Scatter of Wine Price vs Wine Points - Red Wine\n",
    "plt.scatter(wine_red.points, wine_red.price)"
   ]
  },
  {
   "cell_type": "code",
   "execution_count": 36,
   "metadata": {},
   "outputs": [
    {
     "name": "stdout",
     "output_type": "stream",
     "text": [
      "           price    points\n",
      "price   1.000000  0.474773\n",
      "points  0.474773  1.000000\n"
     ]
    },
    {
     "data": {
      "image/png": "[encoded data removed]",
      "text/plain": [
       "<Figure size 432x288 with 2 Axes>"
      ]
     },
     "metadata": {
      "needs_background": "light"
     },
     "output_type": "display_data"
    }
   ],
   "source": [
    "#Correlations - Red Wine\n",
    "sn.heatmap(wine_red[['price','points']].corr())\n",
    "print(wine_red[['price','points']].corr())"
   ]
  },
  {
   "cell_type": "code",
   "execution_count": 37,
   "metadata": {},
   "outputs": [
    {
     "data": {
      "text/plain": [
       "<matplotlib.collections.PathCollection at 0x1a1d806f90>"
      ]
     },
     "execution_count": 37,
     "metadata": {},
     "output_type": "execute_result"
    },
    {
     "data": {
      "image/png": "[encoded data removed]",
      "text/plain": [
       "<Figure size 432x288 with 1 Axes>"
      ]
     },
     "metadata": {
      "needs_background": "light"
     },
     "output_type": "display_data"
    }
   ],
   "source": [
    "#Scatter of Wine Price vs Wine Points - White Wine\n",
    "plt.scatter(wine_white.points, wine_white.price)"
   ]
  },
  {
   "cell_type": "code",
   "execution_count": 38,
   "metadata": {},
   "outputs": [
    {
     "name": "stdout",
     "output_type": "stream",
     "text": [
      "           price    points\n",
      "price   1.000000  0.414576\n",
      "points  0.414576  1.000000\n"
     ]
    },
    {
     "data": {
      "image/png": "[encoded data removed]",
      "text/plain": [
       "<Figure size 432x288 with 2 Axes>"
      ]
     },
     "metadata": {
      "needs_background": "light"
     },
     "output_type": "display_data"
    }
   ],
   "source": [
    "sn.heatmap(wine_white[['price','points']].corr())\n",
    "print(wine_white[['price','points']].corr())"
   ]
  },
  {
   "cell_type": "markdown",
   "metadata": {},
   "source": [
    "## Statistical Tests"
   ]
  },
  {
   "cell_type": "code",
   "execution_count": 39,
   "metadata": {},
   "outputs": [],
   "source": [
    "import scipy.stats as stats"
   ]
  },
  {
   "cell_type": "markdown",
   "metadata": {},
   "source": [
    "### Red vs White Wine - Points \n",
    "* Null Hypothesis - There is no difference in the average points of red and white wines \n",
    "* Alternate Hypothesis - There is a difference in the average points of red and white wines\n",
    "* Outcome - At an alpha of 0.05 and with a p-value of almost zero, we reject the null hypothesis that there is no difference in the average points of red and white whines. We have enough evidence to suggest that there is a statistically significant difference in the average red wine points and the average white wine points. "
   ]
  },
  {
   "cell_type": "code",
   "execution_count": 40,
   "metadata": {},
   "outputs": [
    {
     "data": {
      "text/plain": [
       "Ttest_indResult(statistic=23.349294596442785, pvalue=3.4024913851525474e-120)"
      ]
     },
     "execution_count": 40,
     "metadata": {},
     "output_type": "execute_result"
    }
   ],
   "source": [
    "#T-Test for red vs whitw wine popularity \n",
    "stats.ttest_ind(wine_red.points, wine_white.points, equal_var=False)"
   ]
  },
  {
   "cell_type": "code",
   "execution_count": 41,
   "metadata": {},
   "outputs": [
    {
     "data": {
      "text/plain": [
       "87.93201032971507"
      ]
     },
     "execution_count": 41,
     "metadata": {},
     "output_type": "execute_result"
    }
   ],
   "source": [
    "wine_red.points.mean()"
   ]
  },
  {
   "cell_type": "code",
   "execution_count": 42,
   "metadata": {},
   "outputs": [
    {
     "data": {
      "text/plain": [
       "87.49904799101694"
      ]
     },
     "execution_count": 42,
     "metadata": {},
     "output_type": "execute_result"
    }
   ],
   "source": [
    "wine_white.points.mean()"
   ]
  },
  {
   "cell_type": "code",
   "execution_count": 43,
   "metadata": {},
   "outputs": [
    {
     "data": {
      "text/plain": [
       "93323"
      ]
     },
     "execution_count": 43,
     "metadata": {},
     "output_type": "execute_result"
    }
   ],
   "source": [
    "wine_red.points.count()"
   ]
  },
  {
   "cell_type": "code",
   "execution_count": 44,
   "metadata": {},
   "outputs": [
    {
     "data": {
      "text/plain": [
       "40966"
      ]
     },
     "execution_count": 44,
     "metadata": {},
     "output_type": "execute_result"
    }
   ],
   "source": [
    "wine_white.points.count()"
   ]
  },
  {
   "cell_type": "code",
   "execution_count": 45,
   "metadata": {},
   "outputs": [
    {
     "data": {
      "text/plain": [
       "0.01076380993151733"
      ]
     },
     "execution_count": 45,
     "metadata": {},
     "output_type": "execute_result"
    }
   ],
   "source": [
    "stats.sem(wine_red.points)"
   ]
  },
  {
   "cell_type": "code",
   "execution_count": 46,
   "metadata": {},
   "outputs": [
    {
     "data": {
      "text/plain": [
       "0.015098923061268945"
      ]
     },
     "execution_count": 46,
     "metadata": {},
     "output_type": "execute_result"
    }
   ],
   "source": [
    "stats.sem(wine_white.points)"
   ]
  },
  {
   "cell_type": "markdown",
   "metadata": {},
   "source": [
    "### Red vs White Wine - Price\n",
    "* Null Hypothesis - There is no difference in the average price of red and white wines \n",
    "* Alternate Hypothesis - There is a difference in the average price of red and white wines\n",
    "* Outcome - At an alpha of 0.05 and with a p-value of zero, we reject the null hypothesis that there is no difference in the average price of red and white whines. We have enough evidence to suggest that there is a statistically significant difference in the average red wine price and the average white wine price. "
   ]
  },
  {
   "cell_type": "code",
   "execution_count": 47,
   "metadata": {},
   "outputs": [
    {
     "data": {
      "text/plain": [
       "Ttest_indResult(statistic=39.55164412347694, pvalue=0.0)"
      ]
     },
     "execution_count": 47,
     "metadata": {},
     "output_type": "execute_result"
    }
   ],
   "source": [
    "#T-Test for red vs white price \n",
    "stats.ttest_ind(wine_red.price, wine_white.price, equal_var=False)"
   ]
  },
  {
   "cell_type": "code",
   "execution_count": 48,
   "metadata": {},
   "outputs": [
    {
     "name": "stdout",
     "output_type": "stream",
     "text": [
      "35.947665634409525\n",
      "27.332177903627397\n",
      "0.11792129941087051\n",
      "0.18315010059964076\n"
     ]
    }
   ],
   "source": [
    "print(wine_red.price.mean())\n",
    "print(wine_white.price.mean())\n",
    "print(stats.sem(wine_red.price))\n",
    "print(stats.sem(wine_white.price))"
   ]
  },
  {
   "cell_type": "markdown",
   "metadata": {},
   "source": [
    "## Data Trimming (Removing Outliers)"
   ]
  },
  {
   "cell_type": "code",
   "execution_count": 49,
   "metadata": {},
   "outputs": [
    {
     "data": {
      "text/plain": [
       "(array([9.2937e+04, 3.3400e+02, 3.7000e+01, 8.0000e+00, 3.0000e+00,\n",
       "        2.0000e+00, 0.0000e+00, 0.0000e+00, 1.0000e+00, 1.0000e+00]),\n",
       " array([   4. ,  233.6,  463.2,  692.8,  922.4, 1152. , 1381.6, 1611.2,\n",
       "        1840.8, 2070.4, 2300. ]),\n",
       " <a list of 10 Patch objects>)"
      ]
     },
     "execution_count": 49,
     "metadata": {},
     "output_type": "execute_result"
    },
    {
     "data": {
      "image/png": "[encoded data removed]",
      "text/plain": [
       "<Figure size 432x288 with 1 Axes>"
      ]
     },
     "metadata": {
      "needs_background": "light"
     },
     "output_type": "display_data"
    }
   ],
   "source": [
    "plt.hist(wine_red.price)"
   ]
  },
  {
   "cell_type": "code",
   "execution_count": 50,
   "metadata": {},
   "outputs": [],
   "source": [
    "import numpy as np "
   ]
  },
  {
   "cell_type": "code",
   "execution_count": 51,
   "metadata": {},
   "outputs": [
    {
     "data": {
      "text/plain": [
       "110.0"
      ]
     },
     "execution_count": 51,
     "metadata": {},
     "output_type": "execute_result"
    }
   ],
   "source": [
    "np.quantile(wine_red.price, 0.975)"
   ]
  },
  {
   "cell_type": "code",
   "execution_count": 52,
   "metadata": {},
   "outputs": [
    {
     "data": {
      "text/html": [
       "<div>\n",
       "<style scoped>\n",
       "    .dataframe tbody tr th:only-of-type {\n",
       "        vertical-align: middle;\n",
       "    }\n",
       "\n",
       "    .dataframe tbody tr th {\n",
       "        vertical-align: top;\n",
       "    }\n",
       "\n",
       "    .dataframe thead th {\n",
       "        text-align: right;\n",
       "    }\n",
       "</style>\n",
       "<table border=\"1\" class=\"dataframe\">\n",
       "  <thead>\n",
       "    <tr style=\"text-align: right;\">\n",
       "      <th></th>\n",
       "      <th>country</th>\n",
       "      <th>description</th>\n",
       "      <th>designation</th>\n",
       "      <th>points</th>\n",
       "      <th>price</th>\n",
       "      <th>province</th>\n",
       "      <th>region_1</th>\n",
       "      <th>region_2</th>\n",
       "      <th>variety</th>\n",
       "      <th>winery</th>\n",
       "      <th>Counts</th>\n",
       "      <th>Red?</th>\n",
       "      <th>Still_Red</th>\n",
       "    </tr>\n",
       "  </thead>\n",
       "  <tbody>\n",
       "    <tr>\n",
       "      <th>3</th>\n",
       "      <td>US</td>\n",
       "      <td>This spent 20 months in 30% new French oak, an...</td>\n",
       "      <td>Reserve</td>\n",
       "      <td>96</td>\n",
       "      <td>65.0</td>\n",
       "      <td>Oregon</td>\n",
       "      <td>Willamette Valley</td>\n",
       "      <td>Willamette Valley</td>\n",
       "      <td>Pinot Noir</td>\n",
       "      <td>Ponzi</td>\n",
       "      <td>13625.0</td>\n",
       "      <td>True</td>\n",
       "      <td>1</td>\n",
       "    </tr>\n",
       "    <tr>\n",
       "      <th>4</th>\n",
       "      <td>Spain</td>\n",
       "      <td>Deep, dense and pure from the opening bell, th...</td>\n",
       "      <td>Numanthia</td>\n",
       "      <td>95</td>\n",
       "      <td>73.0</td>\n",
       "      <td>Northern Spain</td>\n",
       "      <td>Toro</td>\n",
       "      <td>NaN</td>\n",
       "      <td>Tinta de Toro</td>\n",
       "      <td>Numanthia</td>\n",
       "      <td>221.0</td>\n",
       "      <td>True</td>\n",
       "      <td>1</td>\n",
       "    </tr>\n",
       "    <tr>\n",
       "      <th>5</th>\n",
       "      <td>Spain</td>\n",
       "      <td>Slightly gritty black-fruit aromas include a s...</td>\n",
       "      <td>San Román</td>\n",
       "      <td>95</td>\n",
       "      <td>65.0</td>\n",
       "      <td>Northern Spain</td>\n",
       "      <td>Toro</td>\n",
       "      <td>NaN</td>\n",
       "      <td>Tinta de Toro</td>\n",
       "      <td>Maurodos</td>\n",
       "      <td>221.0</td>\n",
       "      <td>True</td>\n",
       "      <td>1</td>\n",
       "    </tr>\n",
       "    <tr>\n",
       "      <th>7</th>\n",
       "      <td>US</td>\n",
       "      <td>This re-named vineyard was formerly bottled as...</td>\n",
       "      <td>Silice</td>\n",
       "      <td>95</td>\n",
       "      <td>65.0</td>\n",
       "      <td>Oregon</td>\n",
       "      <td>Chehalem Mountains</td>\n",
       "      <td>Willamette Valley</td>\n",
       "      <td>Pinot Noir</td>\n",
       "      <td>Bergström</td>\n",
       "      <td>13625.0</td>\n",
       "      <td>True</td>\n",
       "      <td>1</td>\n",
       "    </tr>\n",
       "    <tr>\n",
       "      <th>8</th>\n",
       "      <td>US</td>\n",
       "      <td>The producer sources from two blocks of the vi...</td>\n",
       "      <td>Gap's Crown Vineyard</td>\n",
       "      <td>95</td>\n",
       "      <td>60.0</td>\n",
       "      <td>California</td>\n",
       "      <td>Sonoma Coast</td>\n",
       "      <td>Sonoma</td>\n",
       "      <td>Pinot Noir</td>\n",
       "      <td>Blue Farm</td>\n",
       "      <td>13625.0</td>\n",
       "      <td>True</td>\n",
       "      <td>1</td>\n",
       "    </tr>\n",
       "    <tr>\n",
       "      <th>...</th>\n",
       "      <td>...</td>\n",
       "      <td>...</td>\n",
       "      <td>...</td>\n",
       "      <td>...</td>\n",
       "      <td>...</td>\n",
       "      <td>...</td>\n",
       "      <td>...</td>\n",
       "      <td>...</td>\n",
       "      <td>...</td>\n",
       "      <td>...</td>\n",
       "      <td>...</td>\n",
       "      <td>...</td>\n",
       "      <td>...</td>\n",
       "    </tr>\n",
       "    <tr>\n",
       "      <th>134269</th>\n",
       "      <td>France</td>\n",
       "      <td>This is a lovely, fragrant Burgundy, with a sm...</td>\n",
       "      <td>Clos dea Argillieres</td>\n",
       "      <td>89</td>\n",
       "      <td>52.0</td>\n",
       "      <td>Burgundy</td>\n",
       "      <td>Nuits-St.-Georges</td>\n",
       "      <td>NaN</td>\n",
       "      <td>Pinot Noir</td>\n",
       "      <td>Daniel Rion</td>\n",
       "      <td>13625.0</td>\n",
       "      <td>True</td>\n",
       "      <td>1</td>\n",
       "    </tr>\n",
       "    <tr>\n",
       "      <th>134270</th>\n",
       "      <td>France</td>\n",
       "      <td>Scents of graham cracker and malted milk choco...</td>\n",
       "      <td>NaN</td>\n",
       "      <td>89</td>\n",
       "      <td>38.0</td>\n",
       "      <td>Burgundy</td>\n",
       "      <td>Chambolle-Musigny</td>\n",
       "      <td>NaN</td>\n",
       "      <td>Pinot Noir</td>\n",
       "      <td>Michel Gros</td>\n",
       "      <td>13625.0</td>\n",
       "      <td>True</td>\n",
       "      <td>1</td>\n",
       "    </tr>\n",
       "    <tr>\n",
       "      <th>134271</th>\n",
       "      <td>France</td>\n",
       "      <td>This needs a good bit of breathing time, then ...</td>\n",
       "      <td>Les Chaliots</td>\n",
       "      <td>87</td>\n",
       "      <td>37.0</td>\n",
       "      <td>Burgundy</td>\n",
       "      <td>Nuits-St.-Georges</td>\n",
       "      <td>NaN</td>\n",
       "      <td>Pinot Noir</td>\n",
       "      <td>Michel Gros</td>\n",
       "      <td>13625.0</td>\n",
       "      <td>True</td>\n",
       "      <td>1</td>\n",
       "    </tr>\n",
       "    <tr>\n",
       "      <th>134272</th>\n",
       "      <td>France</td>\n",
       "      <td>The nose is dominated by the attractive scents...</td>\n",
       "      <td>Les Charmes</td>\n",
       "      <td>87</td>\n",
       "      <td>65.0</td>\n",
       "      <td>Burgundy</td>\n",
       "      <td>Chambolle-Musigny</td>\n",
       "      <td>NaN</td>\n",
       "      <td>Pinot Noir</td>\n",
       "      <td>Daniel Rion</td>\n",
       "      <td>13625.0</td>\n",
       "      <td>True</td>\n",
       "      <td>1</td>\n",
       "    </tr>\n",
       "    <tr>\n",
       "      <th>134273</th>\n",
       "      <td>France</td>\n",
       "      <td>Inky and rustic, yet in a refined manner. This...</td>\n",
       "      <td>NaN</td>\n",
       "      <td>94</td>\n",
       "      <td>30.0</td>\n",
       "      <td>Rhône Valley</td>\n",
       "      <td>Châteauneuf-du-Pape</td>\n",
       "      <td>NaN</td>\n",
       "      <td>Rhône-style Red Blend</td>\n",
       "      <td>Le Vieux Donjon</td>\n",
       "      <td>1455.0</td>\n",
       "      <td>True</td>\n",
       "      <td>1</td>\n",
       "    </tr>\n",
       "  </tbody>\n",
       "</table>\n",
       "<p>87720 rows × 13 columns</p>\n",
       "</div>"
      ],
      "text/plain": [
       "       country                                        description  \\\n",
       "3           US  This spent 20 months in 30% new French oak, an...   \n",
       "4        Spain  Deep, dense and pure from the opening bell, th...   \n",
       "5        Spain  Slightly gritty black-fruit aromas include a s...   \n",
       "7           US  This re-named vineyard was formerly bottled as...   \n",
       "8           US  The producer sources from two blocks of the vi...   \n",
       "...        ...                                                ...   \n",
       "134269  France  This is a lovely, fragrant Burgundy, with a sm...   \n",
       "134270  France  Scents of graham cracker and malted milk choco...   \n",
       "134271  France  This needs a good bit of breathing time, then ...   \n",
       "134272  France  The nose is dominated by the attractive scents...   \n",
       "134273  France  Inky and rustic, yet in a refined manner. This...   \n",
       "\n",
       "                 designation  points  price        province  \\\n",
       "3                    Reserve      96   65.0          Oregon   \n",
       "4                  Numanthia      95   73.0  Northern Spain   \n",
       "5                  San Román      95   65.0  Northern Spain   \n",
       "7                     Silice      95   65.0          Oregon   \n",
       "8       Gap's Crown Vineyard      95   60.0      California   \n",
       "...                      ...     ...    ...             ...   \n",
       "134269  Clos dea Argillieres      89   52.0        Burgundy   \n",
       "134270                   NaN      89   38.0        Burgundy   \n",
       "134271          Les Chaliots      87   37.0        Burgundy   \n",
       "134272           Les Charmes      87   65.0        Burgundy   \n",
       "134273                   NaN      94   30.0    Rhône Valley   \n",
       "\n",
       "                   region_1           region_2                variety  \\\n",
       "3         Willamette Valley  Willamette Valley             Pinot Noir   \n",
       "4                      Toro                NaN          Tinta de Toro   \n",
       "5                      Toro                NaN          Tinta de Toro   \n",
       "7        Chehalem Mountains  Willamette Valley             Pinot Noir   \n",
       "8              Sonoma Coast             Sonoma             Pinot Noir   \n",
       "...                     ...                ...                    ...   \n",
       "134269    Nuits-St.-Georges                NaN             Pinot Noir   \n",
       "134270    Chambolle-Musigny                NaN             Pinot Noir   \n",
       "134271    Nuits-St.-Georges                NaN             Pinot Noir   \n",
       "134272    Chambolle-Musigny                NaN             Pinot Noir   \n",
       "134273  Châteauneuf-du-Pape                NaN  Rhône-style Red Blend   \n",
       "\n",
       "                 winery   Counts  Red?  Still_Red  \n",
       "3                 Ponzi  13625.0  True          1  \n",
       "4             Numanthia    221.0  True          1  \n",
       "5              Maurodos    221.0  True          1  \n",
       "7             Bergström  13625.0  True          1  \n",
       "8             Blue Farm  13625.0  True          1  \n",
       "...                 ...      ...   ...        ...  \n",
       "134269      Daniel Rion  13625.0  True          1  \n",
       "134270      Michel Gros  13625.0  True          1  \n",
       "134271      Michel Gros  13625.0  True          1  \n",
       "134272      Daniel Rion  13625.0  True          1  \n",
       "134273  Le Vieux Donjon   1455.0  True          1  \n",
       "\n",
       "[87720 rows x 13 columns]"
      ]
     },
     "execution_count": 52,
     "metadata": {},
     "output_type": "execute_result"
    }
   ],
   "source": [
    "#Trim out the bottom and top 2.5% - CHANGE IF ONLY PREDICTING FOR CHEAP WINES\n",
    "new_mask = (wine_red.price > np.quantile(wine_red.price, 0.025)) & (wine_red.price < np.quantile(wine_red.price, 0.975))\n",
    "\n",
    "red_sub = wine_red.loc[new_mask]\n",
    "red_sub"
   ]
  },
  {
   "cell_type": "code",
   "execution_count": 53,
   "metadata": {},
   "outputs": [
    {
     "data": {
      "text/plain": [
       "<matplotlib.collections.PathCollection at 0x1a24bc53d0>"
      ]
     },
     "execution_count": 53,
     "metadata": {},
     "output_type": "execute_result"
    },
    {
     "data": {
      "image/png": "[encoded data removed]",
      "text/plain": [
       "<Figure size 432x288 with 1 Axes>"
      ]
     },
     "metadata": {
      "needs_background": "light"
     },
     "output_type": "display_data"
    }
   ],
   "source": [
    "plt.scatter(red_sub.points, red_sub.price)"
   ]
  },
  {
   "cell_type": "code",
   "execution_count": 54,
   "metadata": {},
   "outputs": [
    {
     "data": {
      "text/html": [
       "<div>\n",
       "<style scoped>\n",
       "    .dataframe tbody tr th:only-of-type {\n",
       "        vertical-align: middle;\n",
       "    }\n",
       "\n",
       "    .dataframe tbody tr th {\n",
       "        vertical-align: top;\n",
       "    }\n",
       "\n",
       "    .dataframe thead th {\n",
       "        text-align: right;\n",
       "    }\n",
       "</style>\n",
       "<table border=\"1\" class=\"dataframe\">\n",
       "  <thead>\n",
       "    <tr style=\"text-align: right;\">\n",
       "      <th></th>\n",
       "      <th>points</th>\n",
       "      <th>price</th>\n",
       "      <th>Counts</th>\n",
       "      <th>Still_Red</th>\n",
       "    </tr>\n",
       "  </thead>\n",
       "  <tbody>\n",
       "    <tr>\n",
       "      <th>points</th>\n",
       "      <td>1.000000</td>\n",
       "      <td>0.538650</td>\n",
       "      <td>0.081764</td>\n",
       "      <td>NaN</td>\n",
       "    </tr>\n",
       "    <tr>\n",
       "      <th>price</th>\n",
       "      <td>0.538650</td>\n",
       "      <td>1.000000</td>\n",
       "      <td>0.207736</td>\n",
       "      <td>NaN</td>\n",
       "    </tr>\n",
       "    <tr>\n",
       "      <th>Counts</th>\n",
       "      <td>0.081764</td>\n",
       "      <td>0.207736</td>\n",
       "      <td>1.000000</td>\n",
       "      <td>NaN</td>\n",
       "    </tr>\n",
       "    <tr>\n",
       "      <th>Still_Red</th>\n",
       "      <td>NaN</td>\n",
       "      <td>NaN</td>\n",
       "      <td>NaN</td>\n",
       "      <td>NaN</td>\n",
       "    </tr>\n",
       "  </tbody>\n",
       "</table>\n",
       "</div>"
      ],
      "text/plain": [
       "             points     price    Counts  Still_Red\n",
       "points     1.000000  0.538650  0.081764        NaN\n",
       "price      0.538650  1.000000  0.207736        NaN\n",
       "Counts     0.081764  0.207736  1.000000        NaN\n",
       "Still_Red       NaN       NaN       NaN        NaN"
      ]
     },
     "execution_count": 54,
     "metadata": {},
     "output_type": "execute_result"
    }
   ],
   "source": [
    "#SHOW CHANGE IN CORRELATION IN REPORT\n",
    "red_sub.corr()"
   ]
  },
  {
   "cell_type": "code",
   "execution_count": 55,
   "metadata": {},
   "outputs": [
    {
     "data": {
      "text/html": [
       "<div>\n",
       "<style scoped>\n",
       "    .dataframe tbody tr th:only-of-type {\n",
       "        vertical-align: middle;\n",
       "    }\n",
       "\n",
       "    .dataframe tbody tr th {\n",
       "        vertical-align: top;\n",
       "    }\n",
       "\n",
       "    .dataframe thead th {\n",
       "        text-align: right;\n",
       "    }\n",
       "</style>\n",
       "<table border=\"1\" class=\"dataframe\">\n",
       "  <thead>\n",
       "    <tr style=\"text-align: right;\">\n",
       "      <th></th>\n",
       "      <th>points</th>\n",
       "      <th>price</th>\n",
       "      <th>Counts</th>\n",
       "      <th>Still_Red</th>\n",
       "    </tr>\n",
       "  </thead>\n",
       "  <tbody>\n",
       "    <tr>\n",
       "      <th>points</th>\n",
       "      <td>1.000000</td>\n",
       "      <td>0.474773</td>\n",
       "      <td>0.089191</td>\n",
       "      <td>NaN</td>\n",
       "    </tr>\n",
       "    <tr>\n",
       "      <th>price</th>\n",
       "      <td>0.474773</td>\n",
       "      <td>1.000000</td>\n",
       "      <td>0.127757</td>\n",
       "      <td>NaN</td>\n",
       "    </tr>\n",
       "    <tr>\n",
       "      <th>Counts</th>\n",
       "      <td>0.089191</td>\n",
       "      <td>0.127757</td>\n",
       "      <td>1.000000</td>\n",
       "      <td>NaN</td>\n",
       "    </tr>\n",
       "    <tr>\n",
       "      <th>Still_Red</th>\n",
       "      <td>NaN</td>\n",
       "      <td>NaN</td>\n",
       "      <td>NaN</td>\n",
       "      <td>NaN</td>\n",
       "    </tr>\n",
       "  </tbody>\n",
       "</table>\n",
       "</div>"
      ],
      "text/plain": [
       "             points     price    Counts  Still_Red\n",
       "points     1.000000  0.474773  0.089191        NaN\n",
       "price      0.474773  1.000000  0.127757        NaN\n",
       "Counts     0.089191  0.127757  1.000000        NaN\n",
       "Still_Red       NaN       NaN       NaN        NaN"
      ]
     },
     "execution_count": 55,
     "metadata": {},
     "output_type": "execute_result"
    }
   ],
   "source": [
    "wine_red.corr()"
   ]
  },
  {
   "cell_type": "code",
   "execution_count": 56,
   "metadata": {},
   "outputs": [
    {
     "data": {
      "text/plain": [
       "32.84124487004104"
      ]
     },
     "execution_count": 56,
     "metadata": {},
     "output_type": "execute_result"
    }
   ],
   "source": [
    "red_sub.price.mean()"
   ]
  },
  {
   "cell_type": "code",
   "execution_count": 57,
   "metadata": {},
   "outputs": [
    {
     "data": {
      "text/plain": [
       "<matplotlib.collections.PathCollection at 0x1a22058290>"
      ]
     },
     "execution_count": 57,
     "metadata": {},
     "output_type": "execute_result"
    },
    {
     "data": {
      "image/png": "[encoded data removed]",
      "text/plain": [
       "<Figure size 432x288 with 1 Axes>"
      ]
     },
     "metadata": {
      "needs_background": "light"
     },
     "output_type": "display_data"
    }
   ],
   "source": [
    "plt.scatter(wine_white.points, wine_white.price)"
   ]
  },
  {
   "cell_type": "code",
   "execution_count": 58,
   "metadata": {},
   "outputs": [
    {
     "data": {
      "text/html": [
       "<div>\n",
       "<style scoped>\n",
       "    .dataframe tbody tr th:only-of-type {\n",
       "        vertical-align: middle;\n",
       "    }\n",
       "\n",
       "    .dataframe tbody tr th {\n",
       "        vertical-align: top;\n",
       "    }\n",
       "\n",
       "    .dataframe thead th {\n",
       "        text-align: right;\n",
       "    }\n",
       "</style>\n",
       "<table border=\"1\" class=\"dataframe\">\n",
       "  <thead>\n",
       "    <tr style=\"text-align: right;\">\n",
       "      <th></th>\n",
       "      <th>country</th>\n",
       "      <th>description</th>\n",
       "      <th>designation</th>\n",
       "      <th>points</th>\n",
       "      <th>price</th>\n",
       "      <th>province</th>\n",
       "      <th>region_1</th>\n",
       "      <th>region_2</th>\n",
       "      <th>variety</th>\n",
       "      <th>winery</th>\n",
       "      <th>Counts</th>\n",
       "      <th>Red?</th>\n",
       "      <th>Still_Red</th>\n",
       "    </tr>\n",
       "  </thead>\n",
       "  <tbody>\n",
       "    <tr>\n",
       "      <th>22</th>\n",
       "      <td>US</td>\n",
       "      <td>The apogee of this ambitious winery's white wi...</td>\n",
       "      <td>Giallo Solare</td>\n",
       "      <td>95</td>\n",
       "      <td>60.0</td>\n",
       "      <td>California</td>\n",
       "      <td>Edna Valley</td>\n",
       "      <td>Central Coast</td>\n",
       "      <td>Chardonnay</td>\n",
       "      <td>Center of Effort</td>\n",
       "      <td>13775.0</td>\n",
       "      <td>False</td>\n",
       "      <td>0</td>\n",
       "    </tr>\n",
       "    <tr>\n",
       "      <th>24</th>\n",
       "      <td>New Zealand</td>\n",
       "      <td>Yields were down in 2015, but intensity is up,...</td>\n",
       "      <td>Maté's Vineyard</td>\n",
       "      <td>94</td>\n",
       "      <td>57.0</td>\n",
       "      <td>Kumeu</td>\n",
       "      <td>NaN</td>\n",
       "      <td>NaN</td>\n",
       "      <td>Chardonnay</td>\n",
       "      <td>Kumeu River</td>\n",
       "      <td>13775.0</td>\n",
       "      <td>False</td>\n",
       "      <td>0</td>\n",
       "    </tr>\n",
       "    <tr>\n",
       "      <th>29</th>\n",
       "      <td>US</td>\n",
       "      <td>Steely and perfumed, this wine sees only 20% n...</td>\n",
       "      <td>Babushka</td>\n",
       "      <td>90</td>\n",
       "      <td>37.0</td>\n",
       "      <td>California</td>\n",
       "      <td>Russian River Valley</td>\n",
       "      <td>Sonoma</td>\n",
       "      <td>Chardonnay</td>\n",
       "      <td>Zepaltas</td>\n",
       "      <td>13775.0</td>\n",
       "      <td>False</td>\n",
       "      <td>0</td>\n",
       "    </tr>\n",
       "    <tr>\n",
       "      <th>31</th>\n",
       "      <td>US</td>\n",
       "      <td>The aromas entice with notes of wet stone, hon...</td>\n",
       "      <td>Conner Lee Vineyard</td>\n",
       "      <td>90</td>\n",
       "      <td>42.0</td>\n",
       "      <td>Washington</td>\n",
       "      <td>Columbia Valley (WA)</td>\n",
       "      <td>Columbia Valley</td>\n",
       "      <td>Chardonnay</td>\n",
       "      <td>Buty</td>\n",
       "      <td>13775.0</td>\n",
       "      <td>False</td>\n",
       "      <td>0</td>\n",
       "    </tr>\n",
       "    <tr>\n",
       "      <th>33</th>\n",
       "      <td>France</td>\n",
       "      <td>Gingery spice notes accent fresh pear and melo...</td>\n",
       "      <td>NaN</td>\n",
       "      <td>90</td>\n",
       "      <td>60.0</td>\n",
       "      <td>Rhône Valley</td>\n",
       "      <td>Châteauneuf-du-Pape</td>\n",
       "      <td>NaN</td>\n",
       "      <td>Rhône-style White Blend</td>\n",
       "      <td>Clos de L'Oratoire des Papes</td>\n",
       "      <td>407.0</td>\n",
       "      <td>False</td>\n",
       "      <td>0</td>\n",
       "    </tr>\n",
       "    <tr>\n",
       "      <th>...</th>\n",
       "      <td>...</td>\n",
       "      <td>...</td>\n",
       "      <td>...</td>\n",
       "      <td>...</td>\n",
       "      <td>...</td>\n",
       "      <td>...</td>\n",
       "      <td>...</td>\n",
       "      <td>...</td>\n",
       "      <td>...</td>\n",
       "      <td>...</td>\n",
       "      <td>...</td>\n",
       "      <td>...</td>\n",
       "      <td>...</td>\n",
       "    </tr>\n",
       "    <tr>\n",
       "      <th>134284</th>\n",
       "      <td>Italy</td>\n",
       "      <td>Many people feel Fiano represents southern Ita...</td>\n",
       "      <td>NaN</td>\n",
       "      <td>91</td>\n",
       "      <td>20.0</td>\n",
       "      <td>Southern Italy</td>\n",
       "      <td>Fiano di Avellino</td>\n",
       "      <td>NaN</td>\n",
       "      <td>White Blend</td>\n",
       "      <td>Feudi di San Gregorio</td>\n",
       "      <td>2554.0</td>\n",
       "      <td>False</td>\n",
       "      <td>0</td>\n",
       "    </tr>\n",
       "    <tr>\n",
       "      <th>134285</th>\n",
       "      <td>France</td>\n",
       "      <td>Offers an intriguing nose with ginger, lime an...</td>\n",
       "      <td>Cuvée Prestige</td>\n",
       "      <td>91</td>\n",
       "      <td>27.0</td>\n",
       "      <td>Champagne</td>\n",
       "      <td>Champagne</td>\n",
       "      <td>NaN</td>\n",
       "      <td>Champagne Blend</td>\n",
       "      <td>H.Germain</td>\n",
       "      <td>1003.0</td>\n",
       "      <td>False</td>\n",
       "      <td>0</td>\n",
       "    </tr>\n",
       "    <tr>\n",
       "      <th>134286</th>\n",
       "      <td>Italy</td>\n",
       "      <td>This classic example comes from a cru vineyard...</td>\n",
       "      <td>Terre di Dora</td>\n",
       "      <td>91</td>\n",
       "      <td>20.0</td>\n",
       "      <td>Southern Italy</td>\n",
       "      <td>Fiano di Avellino</td>\n",
       "      <td>NaN</td>\n",
       "      <td>White Blend</td>\n",
       "      <td>Terredora</td>\n",
       "      <td>2554.0</td>\n",
       "      <td>False</td>\n",
       "      <td>0</td>\n",
       "    </tr>\n",
       "    <tr>\n",
       "      <th>134287</th>\n",
       "      <td>France</td>\n",
       "      <td>A perfect salmon shade, with scents of peaches...</td>\n",
       "      <td>Grand Brut Rosé</td>\n",
       "      <td>90</td>\n",
       "      <td>52.0</td>\n",
       "      <td>Champagne</td>\n",
       "      <td>Champagne</td>\n",
       "      <td>NaN</td>\n",
       "      <td>Champagne Blend</td>\n",
       "      <td>Gosset</td>\n",
       "      <td>1003.0</td>\n",
       "      <td>False</td>\n",
       "      <td>0</td>\n",
       "    </tr>\n",
       "    <tr>\n",
       "      <th>134288</th>\n",
       "      <td>Italy</td>\n",
       "      <td>More Pinot Grigios should taste like this. A r...</td>\n",
       "      <td>NaN</td>\n",
       "      <td>90</td>\n",
       "      <td>15.0</td>\n",
       "      <td>Northeastern Italy</td>\n",
       "      <td>Alto Adige</td>\n",
       "      <td>NaN</td>\n",
       "      <td>Pinot Grigio</td>\n",
       "      <td>Alois Lageder</td>\n",
       "      <td>1270.0</td>\n",
       "      <td>False</td>\n",
       "      <td>0</td>\n",
       "    </tr>\n",
       "  </tbody>\n",
       "</table>\n",
       "<p>38864 rows × 13 columns</p>\n",
       "</div>"
      ],
      "text/plain": [
       "            country                                        description  \\\n",
       "22               US  The apogee of this ambitious winery's white wi...   \n",
       "24      New Zealand  Yields were down in 2015, but intensity is up,...   \n",
       "29               US  Steely and perfumed, this wine sees only 20% n...   \n",
       "31               US  The aromas entice with notes of wet stone, hon...   \n",
       "33           France  Gingery spice notes accent fresh pear and melo...   \n",
       "...             ...                                                ...   \n",
       "134284        Italy  Many people feel Fiano represents southern Ita...   \n",
       "134285       France  Offers an intriguing nose with ginger, lime an...   \n",
       "134286        Italy  This classic example comes from a cru vineyard...   \n",
       "134287       France  A perfect salmon shade, with scents of peaches...   \n",
       "134288        Italy  More Pinot Grigios should taste like this. A r...   \n",
       "\n",
       "                designation  points  price            province  \\\n",
       "22            Giallo Solare      95   60.0          California   \n",
       "24          Maté's Vineyard      94   57.0               Kumeu   \n",
       "29                 Babushka      90   37.0          California   \n",
       "31      Conner Lee Vineyard      90   42.0          Washington   \n",
       "33                      NaN      90   60.0        Rhône Valley   \n",
       "...                     ...     ...    ...                 ...   \n",
       "134284                  NaN      91   20.0      Southern Italy   \n",
       "134285       Cuvée Prestige      91   27.0           Champagne   \n",
       "134286        Terre di Dora      91   20.0      Southern Italy   \n",
       "134287      Grand Brut Rosé      90   52.0           Champagne   \n",
       "134288                  NaN      90   15.0  Northeastern Italy   \n",
       "\n",
       "                    region_1         region_2                  variety  \\\n",
       "22               Edna Valley    Central Coast               Chardonnay   \n",
       "24                       NaN              NaN               Chardonnay   \n",
       "29      Russian River Valley           Sonoma               Chardonnay   \n",
       "31      Columbia Valley (WA)  Columbia Valley               Chardonnay   \n",
       "33       Châteauneuf-du-Pape              NaN  Rhône-style White Blend   \n",
       "...                      ...              ...                      ...   \n",
       "134284     Fiano di Avellino              NaN              White Blend   \n",
       "134285             Champagne              NaN          Champagne Blend   \n",
       "134286     Fiano di Avellino              NaN              White Blend   \n",
       "134287             Champagne              NaN          Champagne Blend   \n",
       "134288            Alto Adige              NaN             Pinot Grigio   \n",
       "\n",
       "                              winery   Counts   Red?  Still_Red  \n",
       "22                  Center of Effort  13775.0  False          0  \n",
       "24                       Kumeu River  13775.0  False          0  \n",
       "29                          Zepaltas  13775.0  False          0  \n",
       "31                              Buty  13775.0  False          0  \n",
       "33      Clos de L'Oratoire des Papes    407.0  False          0  \n",
       "...                              ...      ...    ...        ...  \n",
       "134284         Feudi di San Gregorio   2554.0  False          0  \n",
       "134285                     H.Germain   1003.0  False          0  \n",
       "134286                     Terredora   2554.0  False          0  \n",
       "134287                        Gosset   1003.0  False          0  \n",
       "134288                 Alois Lageder   1270.0  False          0  \n",
       "\n",
       "[38864 rows x 13 columns]"
      ]
     },
     "execution_count": 58,
     "metadata": {},
     "output_type": "execute_result"
    }
   ],
   "source": [
    "new_mask2 = (wine_white.price > np.quantile(wine_white.price, 0.025)) & (wine_white.price < np.quantile(wine_white.price, 0.975))\n",
    "\n",
    "white_sub = wine_white.loc[new_mask2]\n",
    "white_sub"
   ]
  },
  {
   "cell_type": "code",
   "execution_count": 59,
   "metadata": {},
   "outputs": [
    {
     "data": {
      "text/html": [
       "<div>\n",
       "<style scoped>\n",
       "    .dataframe tbody tr th:only-of-type {\n",
       "        vertical-align: middle;\n",
       "    }\n",
       "\n",
       "    .dataframe tbody tr th {\n",
       "        vertical-align: top;\n",
       "    }\n",
       "\n",
       "    .dataframe thead th {\n",
       "        text-align: right;\n",
       "    }\n",
       "</style>\n",
       "<table border=\"1\" class=\"dataframe\">\n",
       "  <thead>\n",
       "    <tr style=\"text-align: right;\">\n",
       "      <th></th>\n",
       "      <th>points</th>\n",
       "      <th>price</th>\n",
       "      <th>Counts</th>\n",
       "      <th>Still_Red</th>\n",
       "    </tr>\n",
       "  </thead>\n",
       "  <tbody>\n",
       "    <tr>\n",
       "      <th>points</th>\n",
       "      <td>1.000000</td>\n",
       "      <td>0.536413</td>\n",
       "      <td>0.040876</td>\n",
       "      <td>NaN</td>\n",
       "    </tr>\n",
       "    <tr>\n",
       "      <th>price</th>\n",
       "      <td>0.536413</td>\n",
       "      <td>1.000000</td>\n",
       "      <td>0.173914</td>\n",
       "      <td>NaN</td>\n",
       "    </tr>\n",
       "    <tr>\n",
       "      <th>Counts</th>\n",
       "      <td>0.040876</td>\n",
       "      <td>0.173914</td>\n",
       "      <td>1.000000</td>\n",
       "      <td>NaN</td>\n",
       "    </tr>\n",
       "    <tr>\n",
       "      <th>Still_Red</th>\n",
       "      <td>NaN</td>\n",
       "      <td>NaN</td>\n",
       "      <td>NaN</td>\n",
       "      <td>NaN</td>\n",
       "    </tr>\n",
       "  </tbody>\n",
       "</table>\n",
       "</div>"
      ],
      "text/plain": [
       "             points     price    Counts  Still_Red\n",
       "points     1.000000  0.536413  0.040876        NaN\n",
       "price      0.536413  1.000000  0.173914        NaN\n",
       "Counts     0.040876  0.173914  1.000000        NaN\n",
       "Still_Red       NaN       NaN       NaN        NaN"
      ]
     },
     "execution_count": 59,
     "metadata": {},
     "output_type": "execute_result"
    }
   ],
   "source": [
    "white_sub.corr()"
   ]
  },
  {
   "cell_type": "code",
   "execution_count": 60,
   "metadata": {},
   "outputs": [
    {
     "data": {
      "text/html": [
       "<div>\n",
       "<style scoped>\n",
       "    .dataframe tbody tr th:only-of-type {\n",
       "        vertical-align: middle;\n",
       "    }\n",
       "\n",
       "    .dataframe tbody tr th {\n",
       "        vertical-align: top;\n",
       "    }\n",
       "\n",
       "    .dataframe thead th {\n",
       "        text-align: right;\n",
       "    }\n",
       "</style>\n",
       "<table border=\"1\" class=\"dataframe\">\n",
       "  <thead>\n",
       "    <tr style=\"text-align: right;\">\n",
       "      <th></th>\n",
       "      <th>points</th>\n",
       "      <th>price</th>\n",
       "      <th>Counts</th>\n",
       "      <th>Still_Red</th>\n",
       "    </tr>\n",
       "  </thead>\n",
       "  <tbody>\n",
       "    <tr>\n",
       "      <th>points</th>\n",
       "      <td>1.000000</td>\n",
       "      <td>0.414576</td>\n",
       "      <td>0.043053</td>\n",
       "      <td>NaN</td>\n",
       "    </tr>\n",
       "    <tr>\n",
       "      <th>price</th>\n",
       "      <td>0.414576</td>\n",
       "      <td>1.000000</td>\n",
       "      <td>0.076988</td>\n",
       "      <td>NaN</td>\n",
       "    </tr>\n",
       "    <tr>\n",
       "      <th>Counts</th>\n",
       "      <td>0.043053</td>\n",
       "      <td>0.076988</td>\n",
       "      <td>1.000000</td>\n",
       "      <td>NaN</td>\n",
       "    </tr>\n",
       "    <tr>\n",
       "      <th>Still_Red</th>\n",
       "      <td>NaN</td>\n",
       "      <td>NaN</td>\n",
       "      <td>NaN</td>\n",
       "      <td>NaN</td>\n",
       "    </tr>\n",
       "  </tbody>\n",
       "</table>\n",
       "</div>"
      ],
      "text/plain": [
       "             points     price    Counts  Still_Red\n",
       "points     1.000000  0.414576  0.043053        NaN\n",
       "price      0.414576  1.000000  0.076988        NaN\n",
       "Counts     0.043053  0.076988  1.000000        NaN\n",
       "Still_Red       NaN       NaN       NaN        NaN"
      ]
     },
     "execution_count": 60,
     "metadata": {},
     "output_type": "execute_result"
    }
   ],
   "source": [
    "wine_white.corr()"
   ]
  },
  {
   "cell_type": "code",
   "execution_count": 61,
   "metadata": {},
   "outputs": [
    {
     "data": {
      "text/plain": [
       "23.84170440510498"
      ]
     },
     "execution_count": 61,
     "metadata": {},
     "output_type": "execute_result"
    }
   ],
   "source": [
    "white_sub.price.mean()"
   ]
  },
  {
   "cell_type": "code",
   "execution_count": 62,
   "metadata": {},
   "outputs": [
    {
     "data": {
      "text/html": [
       "<div>\n",
       "<style scoped>\n",
       "    .dataframe tbody tr th:only-of-type {\n",
       "        vertical-align: middle;\n",
       "    }\n",
       "\n",
       "    .dataframe tbody tr th {\n",
       "        vertical-align: top;\n",
       "    }\n",
       "\n",
       "    .dataframe thead th {\n",
       "        text-align: right;\n",
       "    }\n",
       "</style>\n",
       "<table border=\"1\" class=\"dataframe\">\n",
       "  <thead>\n",
       "    <tr style=\"text-align: right;\">\n",
       "      <th></th>\n",
       "      <th>country</th>\n",
       "      <th>description</th>\n",
       "      <th>designation</th>\n",
       "      <th>points</th>\n",
       "      <th>price</th>\n",
       "      <th>province</th>\n",
       "      <th>region_1</th>\n",
       "      <th>region_2</th>\n",
       "      <th>variety</th>\n",
       "      <th>winery</th>\n",
       "      <th>Counts</th>\n",
       "      <th>Red?</th>\n",
       "      <th>Still_Red</th>\n",
       "    </tr>\n",
       "  </thead>\n",
       "  <tbody>\n",
       "    <tr>\n",
       "      <th>3</th>\n",
       "      <td>US</td>\n",
       "      <td>This spent 20 months in 30% new French oak, an...</td>\n",
       "      <td>Reserve</td>\n",
       "      <td>96</td>\n",
       "      <td>65.0</td>\n",
       "      <td>Oregon</td>\n",
       "      <td>Willamette Valley</td>\n",
       "      <td>Willamette Valley</td>\n",
       "      <td>Pinot Noir</td>\n",
       "      <td>Ponzi</td>\n",
       "      <td>13625.0</td>\n",
       "      <td>True</td>\n",
       "      <td>1</td>\n",
       "    </tr>\n",
       "    <tr>\n",
       "      <th>4</th>\n",
       "      <td>Spain</td>\n",
       "      <td>Deep, dense and pure from the opening bell, th...</td>\n",
       "      <td>Numanthia</td>\n",
       "      <td>95</td>\n",
       "      <td>73.0</td>\n",
       "      <td>Northern Spain</td>\n",
       "      <td>Toro</td>\n",
       "      <td>NaN</td>\n",
       "      <td>Tinta de Toro</td>\n",
       "      <td>Numanthia</td>\n",
       "      <td>221.0</td>\n",
       "      <td>True</td>\n",
       "      <td>1</td>\n",
       "    </tr>\n",
       "    <tr>\n",
       "      <th>5</th>\n",
       "      <td>Spain</td>\n",
       "      <td>Slightly gritty black-fruit aromas include a s...</td>\n",
       "      <td>San Román</td>\n",
       "      <td>95</td>\n",
       "      <td>65.0</td>\n",
       "      <td>Northern Spain</td>\n",
       "      <td>Toro</td>\n",
       "      <td>NaN</td>\n",
       "      <td>Tinta de Toro</td>\n",
       "      <td>Maurodos</td>\n",
       "      <td>221.0</td>\n",
       "      <td>True</td>\n",
       "      <td>1</td>\n",
       "    </tr>\n",
       "    <tr>\n",
       "      <th>7</th>\n",
       "      <td>US</td>\n",
       "      <td>This re-named vineyard was formerly bottled as...</td>\n",
       "      <td>Silice</td>\n",
       "      <td>95</td>\n",
       "      <td>65.0</td>\n",
       "      <td>Oregon</td>\n",
       "      <td>Chehalem Mountains</td>\n",
       "      <td>Willamette Valley</td>\n",
       "      <td>Pinot Noir</td>\n",
       "      <td>Bergström</td>\n",
       "      <td>13625.0</td>\n",
       "      <td>True</td>\n",
       "      <td>1</td>\n",
       "    </tr>\n",
       "    <tr>\n",
       "      <th>8</th>\n",
       "      <td>US</td>\n",
       "      <td>The producer sources from two blocks of the vi...</td>\n",
       "      <td>Gap's Crown Vineyard</td>\n",
       "      <td>95</td>\n",
       "      <td>60.0</td>\n",
       "      <td>California</td>\n",
       "      <td>Sonoma Coast</td>\n",
       "      <td>Sonoma</td>\n",
       "      <td>Pinot Noir</td>\n",
       "      <td>Blue Farm</td>\n",
       "      <td>13625.0</td>\n",
       "      <td>True</td>\n",
       "      <td>1</td>\n",
       "    </tr>\n",
       "    <tr>\n",
       "      <th>...</th>\n",
       "      <td>...</td>\n",
       "      <td>...</td>\n",
       "      <td>...</td>\n",
       "      <td>...</td>\n",
       "      <td>...</td>\n",
       "      <td>...</td>\n",
       "      <td>...</td>\n",
       "      <td>...</td>\n",
       "      <td>...</td>\n",
       "      <td>...</td>\n",
       "      <td>...</td>\n",
       "      <td>...</td>\n",
       "      <td>...</td>\n",
       "    </tr>\n",
       "    <tr>\n",
       "      <th>134284</th>\n",
       "      <td>Italy</td>\n",
       "      <td>Many people feel Fiano represents southern Ita...</td>\n",
       "      <td>NaN</td>\n",
       "      <td>91</td>\n",
       "      <td>20.0</td>\n",
       "      <td>Southern Italy</td>\n",
       "      <td>Fiano di Avellino</td>\n",
       "      <td>NaN</td>\n",
       "      <td>White Blend</td>\n",
       "      <td>Feudi di San Gregorio</td>\n",
       "      <td>2554.0</td>\n",
       "      <td>False</td>\n",
       "      <td>0</td>\n",
       "    </tr>\n",
       "    <tr>\n",
       "      <th>134285</th>\n",
       "      <td>France</td>\n",
       "      <td>Offers an intriguing nose with ginger, lime an...</td>\n",
       "      <td>Cuvée Prestige</td>\n",
       "      <td>91</td>\n",
       "      <td>27.0</td>\n",
       "      <td>Champagne</td>\n",
       "      <td>Champagne</td>\n",
       "      <td>NaN</td>\n",
       "      <td>Champagne Blend</td>\n",
       "      <td>H.Germain</td>\n",
       "      <td>1003.0</td>\n",
       "      <td>False</td>\n",
       "      <td>0</td>\n",
       "    </tr>\n",
       "    <tr>\n",
       "      <th>134286</th>\n",
       "      <td>Italy</td>\n",
       "      <td>This classic example comes from a cru vineyard...</td>\n",
       "      <td>Terre di Dora</td>\n",
       "      <td>91</td>\n",
       "      <td>20.0</td>\n",
       "      <td>Southern Italy</td>\n",
       "      <td>Fiano di Avellino</td>\n",
       "      <td>NaN</td>\n",
       "      <td>White Blend</td>\n",
       "      <td>Terredora</td>\n",
       "      <td>2554.0</td>\n",
       "      <td>False</td>\n",
       "      <td>0</td>\n",
       "    </tr>\n",
       "    <tr>\n",
       "      <th>134287</th>\n",
       "      <td>France</td>\n",
       "      <td>A perfect salmon shade, with scents of peaches...</td>\n",
       "      <td>Grand Brut Rosé</td>\n",
       "      <td>90</td>\n",
       "      <td>52.0</td>\n",
       "      <td>Champagne</td>\n",
       "      <td>Champagne</td>\n",
       "      <td>NaN</td>\n",
       "      <td>Champagne Blend</td>\n",
       "      <td>Gosset</td>\n",
       "      <td>1003.0</td>\n",
       "      <td>False</td>\n",
       "      <td>0</td>\n",
       "    </tr>\n",
       "    <tr>\n",
       "      <th>134288</th>\n",
       "      <td>Italy</td>\n",
       "      <td>More Pinot Grigios should taste like this. A r...</td>\n",
       "      <td>NaN</td>\n",
       "      <td>90</td>\n",
       "      <td>15.0</td>\n",
       "      <td>Northeastern Italy</td>\n",
       "      <td>Alto Adige</td>\n",
       "      <td>NaN</td>\n",
       "      <td>Pinot Grigio</td>\n",
       "      <td>Alois Lageder</td>\n",
       "      <td>1270.0</td>\n",
       "      <td>False</td>\n",
       "      <td>0</td>\n",
       "    </tr>\n",
       "  </tbody>\n",
       "</table>\n",
       "<p>126584 rows × 13 columns</p>\n",
       "</div>"
      ],
      "text/plain": [
       "       country                                        description  \\\n",
       "3           US  This spent 20 months in 30% new French oak, an...   \n",
       "4        Spain  Deep, dense and pure from the opening bell, th...   \n",
       "5        Spain  Slightly gritty black-fruit aromas include a s...   \n",
       "7           US  This re-named vineyard was formerly bottled as...   \n",
       "8           US  The producer sources from two blocks of the vi...   \n",
       "...        ...                                                ...   \n",
       "134284   Italy  Many people feel Fiano represents southern Ita...   \n",
       "134285  France  Offers an intriguing nose with ginger, lime an...   \n",
       "134286   Italy  This classic example comes from a cru vineyard...   \n",
       "134287  France  A perfect salmon shade, with scents of peaches...   \n",
       "134288   Italy  More Pinot Grigios should taste like this. A r...   \n",
       "\n",
       "                 designation  points  price            province  \\\n",
       "3                    Reserve      96   65.0              Oregon   \n",
       "4                  Numanthia      95   73.0      Northern Spain   \n",
       "5                  San Román      95   65.0      Northern Spain   \n",
       "7                     Silice      95   65.0              Oregon   \n",
       "8       Gap's Crown Vineyard      95   60.0          California   \n",
       "...                      ...     ...    ...                 ...   \n",
       "134284                   NaN      91   20.0      Southern Italy   \n",
       "134285        Cuvée Prestige      91   27.0           Champagne   \n",
       "134286         Terre di Dora      91   20.0      Southern Italy   \n",
       "134287       Grand Brut Rosé      90   52.0           Champagne   \n",
       "134288                   NaN      90   15.0  Northeastern Italy   \n",
       "\n",
       "                  region_1           region_2          variety  \\\n",
       "3        Willamette Valley  Willamette Valley       Pinot Noir   \n",
       "4                     Toro                NaN    Tinta de Toro   \n",
       "5                     Toro                NaN    Tinta de Toro   \n",
       "7       Chehalem Mountains  Willamette Valley       Pinot Noir   \n",
       "8             Sonoma Coast             Sonoma       Pinot Noir   \n",
       "...                    ...                ...              ...   \n",
       "134284   Fiano di Avellino                NaN      White Blend   \n",
       "134285           Champagne                NaN  Champagne Blend   \n",
       "134286   Fiano di Avellino                NaN      White Blend   \n",
       "134287           Champagne                NaN  Champagne Blend   \n",
       "134288          Alto Adige                NaN     Pinot Grigio   \n",
       "\n",
       "                       winery   Counts   Red?  Still_Red  \n",
       "3                       Ponzi  13625.0   True          1  \n",
       "4                   Numanthia    221.0   True          1  \n",
       "5                    Maurodos    221.0   True          1  \n",
       "7                   Bergström  13625.0   True          1  \n",
       "8                   Blue Farm  13625.0   True          1  \n",
       "...                       ...      ...    ...        ...  \n",
       "134284  Feudi di San Gregorio   2554.0  False          0  \n",
       "134285              H.Germain   1003.0  False          0  \n",
       "134286              Terredora   2554.0  False          0  \n",
       "134287                 Gosset   1003.0  False          0  \n",
       "134288          Alois Lageder   1270.0  False          0  \n",
       "\n",
       "[126584 rows x 13 columns]"
      ]
     },
     "execution_count": 62,
     "metadata": {},
     "output_type": "execute_result"
    }
   ],
   "source": [
    "wine_sub = red_sub.append(white_sub)\n",
    "wine_sub"
   ]
  },
  {
   "cell_type": "code",
   "execution_count": 63,
   "metadata": {},
   "outputs": [
    {
     "data": {
      "text/html": [
       "<div>\n",
       "<style scoped>\n",
       "    .dataframe tbody tr th:only-of-type {\n",
       "        vertical-align: middle;\n",
       "    }\n",
       "\n",
       "    .dataframe tbody tr th {\n",
       "        vertical-align: top;\n",
       "    }\n",
       "\n",
       "    .dataframe thead th {\n",
       "        text-align: right;\n",
       "    }\n",
       "</style>\n",
       "<table border=\"1\" class=\"dataframe\">\n",
       "  <thead>\n",
       "    <tr style=\"text-align: right;\">\n",
       "      <th></th>\n",
       "      <th>points</th>\n",
       "      <th>price</th>\n",
       "      <th>Counts</th>\n",
       "      <th>Still_Red</th>\n",
       "    </tr>\n",
       "  </thead>\n",
       "  <tbody>\n",
       "    <tr>\n",
       "      <th>points</th>\n",
       "      <td>1.000000</td>\n",
       "      <td>0.535937</td>\n",
       "      <td>0.066897</td>\n",
       "      <td>0.070902</td>\n",
       "    </tr>\n",
       "    <tr>\n",
       "      <th>price</th>\n",
       "      <td>0.535937</td>\n",
       "      <td>1.000000</td>\n",
       "      <td>0.184860</td>\n",
       "      <td>0.222282</td>\n",
       "    </tr>\n",
       "    <tr>\n",
       "      <th>Counts</th>\n",
       "      <td>0.066897</td>\n",
       "      <td>0.184860</td>\n",
       "      <td>1.000000</td>\n",
       "      <td>-0.025279</td>\n",
       "    </tr>\n",
       "    <tr>\n",
       "      <th>Still_Red</th>\n",
       "      <td>0.070902</td>\n",
       "      <td>0.222282</td>\n",
       "      <td>-0.025279</td>\n",
       "      <td>1.000000</td>\n",
       "    </tr>\n",
       "  </tbody>\n",
       "</table>\n",
       "</div>"
      ],
      "text/plain": [
       "             points     price    Counts  Still_Red\n",
       "points     1.000000  0.535937  0.066897   0.070902\n",
       "price      0.535937  1.000000  0.184860   0.222282\n",
       "Counts     0.066897  0.184860  1.000000  -0.025279\n",
       "Still_Red  0.070902  0.222282 -0.025279   1.000000"
      ]
     },
     "execution_count": 63,
     "metadata": {},
     "output_type": "execute_result"
    }
   ],
   "source": [
    "wine_sub.corr()"
   ]
  },
  {
   "cell_type": "code",
   "execution_count": 64,
   "metadata": {},
   "outputs": [
    {
     "data": {
      "text/html": [
       "<div>\n",
       "<style scoped>\n",
       "    .dataframe tbody tr th:only-of-type {\n",
       "        vertical-align: middle;\n",
       "    }\n",
       "\n",
       "    .dataframe tbody tr th {\n",
       "        vertical-align: top;\n",
       "    }\n",
       "\n",
       "    .dataframe thead th {\n",
       "        text-align: right;\n",
       "    }\n",
       "</style>\n",
       "<table border=\"1\" class=\"dataframe\">\n",
       "  <thead>\n",
       "    <tr style=\"text-align: right;\">\n",
       "      <th></th>\n",
       "      <th>points</th>\n",
       "      <th>price</th>\n",
       "      <th>Counts</th>\n",
       "      <th>Still_Red</th>\n",
       "    </tr>\n",
       "  </thead>\n",
       "  <tbody>\n",
       "    <tr>\n",
       "      <th>count</th>\n",
       "      <td>126584.000000</td>\n",
       "      <td>126584.000000</td>\n",
       "      <td>126584.000000</td>\n",
       "      <td>126584.000000</td>\n",
       "    </tr>\n",
       "    <tr>\n",
       "      <th>mean</th>\n",
       "      <td>87.767245</td>\n",
       "      <td>30.078193</td>\n",
       "      <td>6363.028124</td>\n",
       "      <td>0.692979</td>\n",
       "    </tr>\n",
       "    <tr>\n",
       "      <th>std</th>\n",
       "      <td>3.093177</td>\n",
       "      <td>18.675083</td>\n",
       "      <td>5155.713547</td>\n",
       "      <td>0.461260</td>\n",
       "    </tr>\n",
       "    <tr>\n",
       "      <th>min</th>\n",
       "      <td>80.000000</td>\n",
       "      <td>9.000000</td>\n",
       "      <td>30.000000</td>\n",
       "      <td>0.000000</td>\n",
       "    </tr>\n",
       "    <tr>\n",
       "      <th>25%</th>\n",
       "      <td>86.000000</td>\n",
       "      <td>16.000000</td>\n",
       "      <td>1455.000000</td>\n",
       "      <td>0.000000</td>\n",
       "    </tr>\n",
       "    <tr>\n",
       "      <th>50%</th>\n",
       "      <td>88.000000</td>\n",
       "      <td>25.000000</td>\n",
       "      <td>4987.000000</td>\n",
       "      <td>1.000000</td>\n",
       "    </tr>\n",
       "    <tr>\n",
       "      <th>75%</th>\n",
       "      <td>90.000000</td>\n",
       "      <td>39.000000</td>\n",
       "      <td>12671.000000</td>\n",
       "      <td>1.000000</td>\n",
       "    </tr>\n",
       "    <tr>\n",
       "      <th>max</th>\n",
       "      <td>100.000000</td>\n",
       "      <td>109.000000</td>\n",
       "      <td>13775.000000</td>\n",
       "      <td>1.000000</td>\n",
       "    </tr>\n",
       "  </tbody>\n",
       "</table>\n",
       "</div>"
      ],
      "text/plain": [
       "              points          price         Counts      Still_Red\n",
       "count  126584.000000  126584.000000  126584.000000  126584.000000\n",
       "mean       87.767245      30.078193    6363.028124       0.692979\n",
       "std         3.093177      18.675083    5155.713547       0.461260\n",
       "min        80.000000       9.000000      30.000000       0.000000\n",
       "25%        86.000000      16.000000    1455.000000       0.000000\n",
       "50%        88.000000      25.000000    4987.000000       1.000000\n",
       "75%        90.000000      39.000000   12671.000000       1.000000\n",
       "max       100.000000     109.000000   13775.000000       1.000000"
      ]
     },
     "execution_count": 64,
     "metadata": {},
     "output_type": "execute_result"
    }
   ],
   "source": [
    "wine_sub.describe()"
   ]
  },
  {
   "cell_type": "code",
   "execution_count": 65,
   "metadata": {},
   "outputs": [],
   "source": [
    "#get the top ten wine producing countries\n",
    "mask9 = wine_sub.country.isin(wine_sub.country.value_counts().index[0:9])\n",
    "top_wines = wine_sub.loc[mask9]\n",
    "\n",
    "#select specific data points\n",
    "select_wines = top_wines[[ 'points', 'price', 'Still_Red']]\n",
    "\n",
    "#dummify the countries - 1 if the wine is from X country, 0 if it isn't\n",
    "dummy_wines = pd.get_dummies(top_wines.country)"
   ]
  },
  {
   "cell_type": "code",
   "execution_count": 66,
   "metadata": {},
   "outputs": [
    {
     "data": {
      "text/html": [
       "<div>\n",
       "<style scoped>\n",
       "    .dataframe tbody tr th:only-of-type {\n",
       "        vertical-align: middle;\n",
       "    }\n",
       "\n",
       "    .dataframe tbody tr th {\n",
       "        vertical-align: top;\n",
       "    }\n",
       "\n",
       "    .dataframe thead th {\n",
       "        text-align: right;\n",
       "    }\n",
       "</style>\n",
       "<table border=\"1\" class=\"dataframe\">\n",
       "  <thead>\n",
       "    <tr style=\"text-align: right;\">\n",
       "      <th></th>\n",
       "      <th>points</th>\n",
       "      <th>price</th>\n",
       "      <th>Still_Red</th>\n",
       "      <th>Argentina</th>\n",
       "      <th>Australia</th>\n",
       "      <th>Chile</th>\n",
       "      <th>France</th>\n",
       "      <th>Italy</th>\n",
       "      <th>New Zealand</th>\n",
       "      <th>Portugal</th>\n",
       "      <th>Spain</th>\n",
       "      <th>US</th>\n",
       "    </tr>\n",
       "  </thead>\n",
       "  <tbody>\n",
       "    <tr>\n",
       "      <th>points</th>\n",
       "      <td>1.000000</td>\n",
       "      <td>0.539262</td>\n",
       "      <td>0.082539</td>\n",
       "      <td>-0.110656</td>\n",
       "      <td>0.008028</td>\n",
       "      <td>-0.087819</td>\n",
       "      <td>0.052769</td>\n",
       "      <td>0.080276</td>\n",
       "      <td>-0.011449</td>\n",
       "      <td>0.041109</td>\n",
       "      <td>-0.079011</td>\n",
       "      <td>0.014230</td>\n",
       "    </tr>\n",
       "    <tr>\n",
       "      <th>price</th>\n",
       "      <td>0.539262</td>\n",
       "      <td>1.000000</td>\n",
       "      <td>0.230951</td>\n",
       "      <td>-0.112325</td>\n",
       "      <td>-0.029218</td>\n",
       "      <td>-0.122933</td>\n",
       "      <td>0.024949</td>\n",
       "      <td>0.069351</td>\n",
       "      <td>-0.054175</td>\n",
       "      <td>-0.042771</td>\n",
       "      <td>-0.077625</td>\n",
       "      <td>0.109578</td>\n",
       "    </tr>\n",
       "    <tr>\n",
       "      <th>Still_Red</th>\n",
       "      <td>0.082539</td>\n",
       "      <td>0.230951</td>\n",
       "      <td>1.000000</td>\n",
       "      <td>0.068105</td>\n",
       "      <td>-0.008425</td>\n",
       "      <td>0.000460</td>\n",
       "      <td>-0.111275</td>\n",
       "      <td>0.018708</td>\n",
       "      <td>-0.121567</td>\n",
       "      <td>0.023034</td>\n",
       "      <td>0.068709</td>\n",
       "      <td>0.030987</td>\n",
       "    </tr>\n",
       "    <tr>\n",
       "      <th>Argentina</th>\n",
       "      <td>-0.110656</td>\n",
       "      <td>-0.112325</td>\n",
       "      <td>0.068105</td>\n",
       "      <td>1.000000</td>\n",
       "      <td>-0.041730</td>\n",
       "      <td>-0.044770</td>\n",
       "      <td>-0.073815</td>\n",
       "      <td>-0.087001</td>\n",
       "      <td>-0.034249</td>\n",
       "      <td>-0.036032</td>\n",
       "      <td>-0.052014</td>\n",
       "      <td>-0.212660</td>\n",
       "    </tr>\n",
       "    <tr>\n",
       "      <th>Australia</th>\n",
       "      <td>0.008028</td>\n",
       "      <td>-0.029218</td>\n",
       "      <td>-0.008425</td>\n",
       "      <td>-0.041730</td>\n",
       "      <td>1.000000</td>\n",
       "      <td>-0.042449</td>\n",
       "      <td>-0.069988</td>\n",
       "      <td>-0.082491</td>\n",
       "      <td>-0.032473</td>\n",
       "      <td>-0.034164</td>\n",
       "      <td>-0.049317</td>\n",
       "      <td>-0.201635</td>\n",
       "    </tr>\n",
       "    <tr>\n",
       "      <th>Chile</th>\n",
       "      <td>-0.087819</td>\n",
       "      <td>-0.122933</td>\n",
       "      <td>0.000460</td>\n",
       "      <td>-0.044770</td>\n",
       "      <td>-0.042449</td>\n",
       "      <td>1.000000</td>\n",
       "      <td>-0.075088</td>\n",
       "      <td>-0.088501</td>\n",
       "      <td>-0.034839</td>\n",
       "      <td>-0.036653</td>\n",
       "      <td>-0.052910</td>\n",
       "      <td>-0.216326</td>\n",
       "    </tr>\n",
       "    <tr>\n",
       "      <th>France</th>\n",
       "      <td>0.052769</td>\n",
       "      <td>0.024949</td>\n",
       "      <td>-0.111275</td>\n",
       "      <td>-0.073815</td>\n",
       "      <td>-0.069988</td>\n",
       "      <td>-0.075088</td>\n",
       "      <td>1.000000</td>\n",
       "      <td>-0.145916</td>\n",
       "      <td>-0.057441</td>\n",
       "      <td>-0.060432</td>\n",
       "      <td>-0.087236</td>\n",
       "      <td>-0.356666</td>\n",
       "    </tr>\n",
       "    <tr>\n",
       "      <th>Italy</th>\n",
       "      <td>0.080276</td>\n",
       "      <td>0.069351</td>\n",
       "      <td>0.018708</td>\n",
       "      <td>-0.087001</td>\n",
       "      <td>-0.082491</td>\n",
       "      <td>-0.088501</td>\n",
       "      <td>-0.145916</td>\n",
       "      <td>1.000000</td>\n",
       "      <td>-0.067703</td>\n",
       "      <td>-0.071227</td>\n",
       "      <td>-0.102819</td>\n",
       "      <td>-0.420380</td>\n",
       "    </tr>\n",
       "    <tr>\n",
       "      <th>New Zealand</th>\n",
       "      <td>-0.011449</td>\n",
       "      <td>-0.054175</td>\n",
       "      <td>-0.121567</td>\n",
       "      <td>-0.034249</td>\n",
       "      <td>-0.032473</td>\n",
       "      <td>-0.034839</td>\n",
       "      <td>-0.057441</td>\n",
       "      <td>-0.067703</td>\n",
       "      <td>1.000000</td>\n",
       "      <td>-0.028039</td>\n",
       "      <td>-0.040476</td>\n",
       "      <td>-0.165488</td>\n",
       "    </tr>\n",
       "    <tr>\n",
       "      <th>Portugal</th>\n",
       "      <td>0.041109</td>\n",
       "      <td>-0.042771</td>\n",
       "      <td>0.023034</td>\n",
       "      <td>-0.036032</td>\n",
       "      <td>-0.034164</td>\n",
       "      <td>-0.036653</td>\n",
       "      <td>-0.060432</td>\n",
       "      <td>-0.071227</td>\n",
       "      <td>-0.028039</td>\n",
       "      <td>1.000000</td>\n",
       "      <td>-0.042583</td>\n",
       "      <td>-0.174102</td>\n",
       "    </tr>\n",
       "    <tr>\n",
       "      <th>Spain</th>\n",
       "      <td>-0.079011</td>\n",
       "      <td>-0.077625</td>\n",
       "      <td>0.068709</td>\n",
       "      <td>-0.052014</td>\n",
       "      <td>-0.049317</td>\n",
       "      <td>-0.052910</td>\n",
       "      <td>-0.087236</td>\n",
       "      <td>-0.102819</td>\n",
       "      <td>-0.040476</td>\n",
       "      <td>-0.042583</td>\n",
       "      <td>1.000000</td>\n",
       "      <td>-0.251325</td>\n",
       "    </tr>\n",
       "    <tr>\n",
       "      <th>US</th>\n",
       "      <td>0.014230</td>\n",
       "      <td>0.109578</td>\n",
       "      <td>0.030987</td>\n",
       "      <td>-0.212660</td>\n",
       "      <td>-0.201635</td>\n",
       "      <td>-0.216326</td>\n",
       "      <td>-0.356666</td>\n",
       "      <td>-0.420380</td>\n",
       "      <td>-0.165488</td>\n",
       "      <td>-0.174102</td>\n",
       "      <td>-0.251325</td>\n",
       "      <td>1.000000</td>\n",
       "    </tr>\n",
       "  </tbody>\n",
       "</table>\n",
       "</div>"
      ],
      "text/plain": [
       "               points     price  Still_Red  Argentina  Australia     Chile  \\\n",
       "points       1.000000  0.539262   0.082539  -0.110656   0.008028 -0.087819   \n",
       "price        0.539262  1.000000   0.230951  -0.112325  -0.029218 -0.122933   \n",
       "Still_Red    0.082539  0.230951   1.000000   0.068105  -0.008425  0.000460   \n",
       "Argentina   -0.110656 -0.112325   0.068105   1.000000  -0.041730 -0.044770   \n",
       "Australia    0.008028 -0.029218  -0.008425  -0.041730   1.000000 -0.042449   \n",
       "Chile       -0.087819 -0.122933   0.000460  -0.044770  -0.042449  1.000000   \n",
       "France       0.052769  0.024949  -0.111275  -0.073815  -0.069988 -0.075088   \n",
       "Italy        0.080276  0.069351   0.018708  -0.087001  -0.082491 -0.088501   \n",
       "New Zealand -0.011449 -0.054175  -0.121567  -0.034249  -0.032473 -0.034839   \n",
       "Portugal     0.041109 -0.042771   0.023034  -0.036032  -0.034164 -0.036653   \n",
       "Spain       -0.079011 -0.077625   0.068709  -0.052014  -0.049317 -0.052910   \n",
       "US           0.014230  0.109578   0.030987  -0.212660  -0.201635 -0.216326   \n",
       "\n",
       "               France     Italy  New Zealand  Portugal     Spain        US  \n",
       "points       0.052769  0.080276    -0.011449  0.041109 -0.079011  0.014230  \n",
       "price        0.024949  0.069351    -0.054175 -0.042771 -0.077625  0.109578  \n",
       "Still_Red   -0.111275  0.018708    -0.121567  0.023034  0.068709  0.030987  \n",
       "Argentina   -0.073815 -0.087001    -0.034249 -0.036032 -0.052014 -0.212660  \n",
       "Australia   -0.069988 -0.082491    -0.032473 -0.034164 -0.049317 -0.201635  \n",
       "Chile       -0.075088 -0.088501    -0.034839 -0.036653 -0.052910 -0.216326  \n",
       "France       1.000000 -0.145916    -0.057441 -0.060432 -0.087236 -0.356666  \n",
       "Italy       -0.145916  1.000000    -0.067703 -0.071227 -0.102819 -0.420380  \n",
       "New Zealand -0.057441 -0.067703     1.000000 -0.028039 -0.040476 -0.165488  \n",
       "Portugal    -0.060432 -0.071227    -0.028039  1.000000 -0.042583 -0.174102  \n",
       "Spain       -0.087236 -0.102819    -0.040476 -0.042583  1.000000 -0.251325  \n",
       "US          -0.356666 -0.420380    -0.165488 -0.174102 -0.251325  1.000000  "
      ]
     },
     "execution_count": 66,
     "metadata": {},
     "output_type": "execute_result"
    }
   ],
   "source": [
    "#join the dummy columns to the original df\n",
    "full_dummy = select_wines.join(dummy_wines)\n",
    "full_dummy.corr()"
   ]
  },
  {
   "cell_type": "code",
   "execution_count": 67,
   "metadata": {},
   "outputs": [
    {
     "data": {
      "text/plain": [
       "<matplotlib.axes._subplots.AxesSubplot at 0x1a22de9f10>"
      ]
     },
     "execution_count": 67,
     "metadata": {},
     "output_type": "execute_result"
    },
    {
     "data": {
      "image/png": "[encoded data removed]",
      "text/plain": [
       "<Figure size 432x288 with 2 Axes>"
      ]
     },
     "metadata": {
      "needs_background": "light"
     },
     "output_type": "display_data"
    }
   ],
   "source": [
    "sn.heatmap(full_dummy.corr())"
   ]
  },
  {
   "cell_type": "markdown",
   "metadata": {},
   "source": [
    "### Regression Analysis - Linear "
   ]
  },
  {
   "cell_type": "code",
   "execution_count": 68,
   "metadata": {},
   "outputs": [],
   "source": [
    "import statsmodels.api as sm"
   ]
  },
  {
   "cell_type": "code",
   "execution_count": 138,
   "metadata": {},
   "outputs": [],
   "source": [
    "#set x and y for regression analysis\n",
    "X = full_dummy.drop('price', axis =1)\n",
    "# X = prof_booth[['points','Still_Red']]\n",
    "y = full_dummy[[\"price\"]]"
   ]
  },
  {
   "cell_type": "code",
   "execution_count": 139,
   "metadata": {},
   "outputs": [
    {
     "data": {
      "text/html": [
       "<table class=\"simpletable\">\n",
       "<caption>OLS Regression Results</caption>\n",
       "<tr>\n",
       "  <th>Dep. Variable:</th>          <td>price</td>      <th>  R-squared:         </th>  <td>   0.350</td>  \n",
       "</tr>\n",
       "<tr>\n",
       "  <th>Model:</th>                   <td>OLS</td>       <th>  Adj. R-squared:    </th>  <td>   0.350</td>  \n",
       "</tr>\n",
       "<tr>\n",
       "  <th>Method:</th>             <td>Least Squares</td>  <th>  F-statistic:       </th>  <td>   6336.</td>  \n",
       "</tr>\n",
       "<tr>\n",
       "  <th>Date:</th>             <td>Sat, 09 May 2020</td> <th>  Prob (F-statistic):</th>   <td>  0.00</td>   \n",
       "</tr>\n",
       "<tr>\n",
       "  <th>Time:</th>                 <td>13:25:55</td>     <th>  Log-Likelihood:    </th> <td>-4.8716e+05</td>\n",
       "</tr>\n",
       "<tr>\n",
       "  <th>No. Observations:</th>      <td>117681</td>      <th>  AIC:               </th>  <td>9.744e+05</td> \n",
       "</tr>\n",
       "<tr>\n",
       "  <th>Df Residuals:</th>          <td>117670</td>      <th>  BIC:               </th>  <td>9.745e+05</td> \n",
       "</tr>\n",
       "<tr>\n",
       "  <th>Df Model:</th>              <td>    10</td>      <th>                     </th>      <td> </td>     \n",
       "</tr>\n",
       "<tr>\n",
       "  <th>Covariance Type:</th>      <td>nonrobust</td>    <th>                     </th>      <td> </td>     \n",
       "</tr>\n",
       "</table>\n",
       "<table class=\"simpletable\">\n",
       "<tr>\n",
       "       <td></td>          <th>coef</th>     <th>std err</th>      <th>t</th>      <th>P>|t|</th>  <th>[0.025</th>    <th>0.975]</th>  \n",
       "</tr>\n",
       "<tr>\n",
       "  <th>const</th>       <td> -221.2869</td> <td>    1.141</td> <td> -193.906</td> <td> 0.000</td> <td> -223.524</td> <td> -219.050</td>\n",
       "</tr>\n",
       "<tr>\n",
       "  <th>points</th>      <td>    3.0485</td> <td>    0.015</td> <td>  209.871</td> <td> 0.000</td> <td>    3.020</td> <td>    3.077</td>\n",
       "</tr>\n",
       "<tr>\n",
       "  <th>Still_Red</th>   <td>    8.1038</td> <td>    0.100</td> <td>   81.344</td> <td> 0.000</td> <td>    7.909</td> <td>    8.299</td>\n",
       "</tr>\n",
       "<tr>\n",
       "  <th>Argentina</th>   <td>  -27.9245</td> <td>    0.228</td> <td> -122.213</td> <td> 0.000</td> <td>  -28.372</td> <td>  -27.477</td>\n",
       "</tr>\n",
       "<tr>\n",
       "  <th>Australia</th>   <td>  -24.6496</td> <td>    0.249</td> <td>  -98.839</td> <td> 0.000</td> <td>  -25.138</td> <td>  -24.161</td>\n",
       "</tr>\n",
       "<tr>\n",
       "  <th>Chile</th>       <td>  -28.6038</td> <td>    0.228</td> <td> -125.435</td> <td> 0.000</td> <td>  -29.051</td> <td>  -28.157</td>\n",
       "</tr>\n",
       "<tr>\n",
       "  <th>France</th>      <td>  -20.5781</td> <td>    0.192</td> <td> -107.151</td> <td> 0.000</td> <td>  -20.955</td> <td>  -20.202</td>\n",
       "</tr>\n",
       "<tr>\n",
       "  <th>Italy</th>       <td>  -20.5101</td> <td>    0.183</td> <td> -112.063</td> <td> 0.000</td> <td>  -20.869</td> <td>  -20.151</td>\n",
       "</tr>\n",
       "<tr>\n",
       "  <th>New Zealand</th> <td>  -24.4948</td> <td>    0.286</td> <td>  -85.784</td> <td> 0.000</td> <td>  -25.054</td> <td>  -23.935</td>\n",
       "</tr>\n",
       "<tr>\n",
       "  <th>Portugal</th>    <td>  -29.1171</td> <td>    0.280</td> <td> -104.169</td> <td> 0.000</td> <td>  -29.665</td> <td>  -28.569</td>\n",
       "</tr>\n",
       "<tr>\n",
       "  <th>Spain</th>       <td>  -25.5453</td> <td>    0.210</td> <td> -121.641</td> <td> 0.000</td> <td>  -25.957</td> <td>  -25.134</td>\n",
       "</tr>\n",
       "<tr>\n",
       "  <th>US</th>          <td>  -19.8635</td> <td>    0.154</td> <td> -128.972</td> <td> 0.000</td> <td>  -20.165</td> <td>  -19.562</td>\n",
       "</tr>\n",
       "</table>\n",
       "<table class=\"simpletable\">\n",
       "<tr>\n",
       "  <th>Omnibus:</th>       <td>25897.356</td> <th>  Durbin-Watson:     </th> <td>   1.799</td> \n",
       "</tr>\n",
       "<tr>\n",
       "  <th>Prob(Omnibus):</th>  <td> 0.000</td>   <th>  Jarque-Bera (JB):  </th> <td>56353.331</td>\n",
       "</tr>\n",
       "<tr>\n",
       "  <th>Skew:</th>           <td> 1.277</td>   <th>  Prob(JB):          </th> <td>    0.00</td> \n",
       "</tr>\n",
       "<tr>\n",
       "  <th>Kurtosis:</th>       <td> 5.230</td>   <th>  Cond. No.          </th> <td>4.68e+16</td> \n",
       "</tr>\n",
       "</table><br/><br/>Warnings:<br/>[1] Standard Errors assume that the covariance matrix of the errors is correctly specified.<br/>[2] The smallest eigenvalue is 4.14e-25. This might indicate that there are<br/>strong multicollinearity problems or that the design matrix is singular."
      ],
      "text/plain": [
       "<class 'statsmodels.iolib.summary.Summary'>\n",
       "\"\"\"\n",
       "                            OLS Regression Results                            \n",
       "==============================================================================\n",
       "Dep. Variable:                  price   R-squared:                       0.350\n",
       "Model:                            OLS   Adj. R-squared:                  0.350\n",
       "Method:                 Least Squares   F-statistic:                     6336.\n",
       "Date:                Sat, 09 May 2020   Prob (F-statistic):               0.00\n",
       "Time:                        13:25:55   Log-Likelihood:            -4.8716e+05\n",
       "No. Observations:              117681   AIC:                         9.744e+05\n",
       "Df Residuals:                  117670   BIC:                         9.745e+05\n",
       "Df Model:                          10                                         \n",
       "Covariance Type:            nonrobust                                         \n",
       "===============================================================================\n",
       "                  coef    std err          t      P>|t|      [0.025      0.975]\n",
       "-------------------------------------------------------------------------------\n",
       "const        -221.2869      1.141   -193.906      0.000    -223.524    -219.050\n",
       "points          3.0485      0.015    209.871      0.000       3.020       3.077\n",
       "Still_Red       8.1038      0.100     81.344      0.000       7.909       8.299\n",
       "Argentina     -27.9245      0.228   -122.213      0.000     -28.372     -27.477\n",
       "Australia     -24.6496      0.249    -98.839      0.000     -25.138     -24.161\n",
       "Chile         -28.6038      0.228   -125.435      0.000     -29.051     -28.157\n",
       "France        -20.5781      0.192   -107.151      0.000     -20.955     -20.202\n",
       "Italy         -20.5101      0.183   -112.063      0.000     -20.869     -20.151\n",
       "New Zealand   -24.4948      0.286    -85.784      0.000     -25.054     -23.935\n",
       "Portugal      -29.1171      0.280   -104.169      0.000     -29.665     -28.569\n",
       "Spain         -25.5453      0.210   -121.641      0.000     -25.957     -25.134\n",
       "US            -19.8635      0.154   -128.972      0.000     -20.165     -19.562\n",
       "==============================================================================\n",
       "Omnibus:                    25897.356   Durbin-Watson:                   1.799\n",
       "Prob(Omnibus):                  0.000   Jarque-Bera (JB):            56353.331\n",
       "Skew:                           1.277   Prob(JB):                         0.00\n",
       "Kurtosis:                       5.230   Cond. No.                     4.68e+16\n",
       "==============================================================================\n",
       "\n",
       "Warnings:\n",
       "[1] Standard Errors assume that the covariance matrix of the errors is correctly specified.\n",
       "[2] The smallest eigenvalue is 4.14e-25. This might indicate that there are\n",
       "strong multicollinearity problems or that the design matrix is singular.\n",
       "\"\"\""
      ]
     },
     "execution_count": 139,
     "metadata": {},
     "output_type": "execute_result"
    }
   ],
   "source": [
    "X = sm.add_constant(X) ## let's add an intercept (beta_0) to our model\n",
    "# Note the difference in argument order\n",
    "model = sm.OLS(y, X).fit() ## sm.OLS(output, input)\n",
    "predictions = model.predict(X)\n",
    "# Print out the statistics\n",
    "model.summary()"
   ]
  },
  {
   "cell_type": "code",
   "execution_count": 150,
   "metadata": {},
   "outputs": [
    {
     "data": {
      "text/plain": [
       "Text(0, 0.5, 'Predicted')"
      ]
     },
     "execution_count": 150,
     "metadata": {},
     "output_type": "execute_result"
    },
    {
     "data": {
      "image/png": "[encoded data removed]",
      "text/plain": [
       "<Figure size 432x288 with 1 Axes>"
      ]
     },
     "metadata": {
      "needs_background": "light"
     },
     "output_type": "display_data"
    }
   ],
   "source": [
    "#Plot predicitions vs actual to see accuracy of model\n",
    "plt.scatter(y,predictions)\n",
    "xpoints = ypoints = plt.xlim()\n",
    "plt.plot(xpoints, ypoints,color='k', scalex=False, scaley=False)\n",
    "plt.title('Actual vs. Predicted')\n",
    "plt.xlabel('Actual')\n",
    "plt.xlim(5,120)\n",
    "plt.ylim(5,120)\n",
    "plt.ylabel('Predicted')"
   ]
  },
  {
   "cell_type": "markdown",
   "metadata": {},
   "source": [
    "## Random Fun with Alexander (Random Forest Regressor)"
   ]
  },
  {
   "cell_type": "code",
   "execution_count": 72,
   "metadata": {},
   "outputs": [],
   "source": [
    "from sklearn.ensemble import RandomForestRegressor"
   ]
  },
  {
   "cell_type": "code",
   "execution_count": 73,
   "metadata": {},
   "outputs": [],
   "source": [
    "from sklearn.linear_model import LinearRegression"
   ]
  },
  {
   "cell_type": "code",
   "execution_count": 74,
   "metadata": {},
   "outputs": [],
   "source": [
    "# Labels are the values we want to predict\n",
    "#labels = np.array(prof_booth['price'])\n",
    "# Remove the labels from the features\n",
    "# axis 1 refers to the columns\n",
    "#features= prof_booth.drop('price', axis = 1)\n",
    "# Saving feature names for later use\n",
    "#feature_list = list(features.columns)\n",
    "# Convert to numpy array\n",
    "#features = np.array(features)"
   ]
  },
  {
   "cell_type": "code",
   "execution_count": 75,
   "metadata": {},
   "outputs": [],
   "source": [
    "# Using Skicit-learn to split data into training and testing sets\n",
    "#from sklearn.model_selection import train_test_split\n",
    "# Split the data into training and testing sets - want to aim for 75% of data used to train, then test on remaining 25%\n",
    "#train_features, test_features, train_labels, test_labels = train_test_split(features, labels, test_size = 0.25, random_state = 42)"
   ]
  },
  {
   "cell_type": "code",
   "execution_count": 76,
   "metadata": {},
   "outputs": [],
   "source": [
    "# Instantiate model with 100 decision trees\n",
    "#rf = RandomForestRegressor(n_estimators = 100, random_state = 42)\n",
    "# Train the model on training data\n",
    "#rf.fit(train_features, train_labels);"
   ]
  },
  {
   "cell_type": "code",
   "execution_count": 77,
   "metadata": {},
   "outputs": [],
   "source": [
    "#bring back correlation coefficient? or is this the r-squared? \n",
    "#rf.score(test_features, test_labels)"
   ]
  },
  {
   "cell_type": "code",
   "execution_count": 78,
   "metadata": {},
   "outputs": [],
   "source": [
    "# Use the forest's predict method on the test data\n",
    "#predictions = rf.predict(test_features)\n",
    "# Calculate the absolute errors\n",
    "#errors = abs(predictions - test_labels)\n",
    "# Print out the mean absolute error (mae)\n",
    "#print('Mean Absolute Error:', round(np.mean(errors), 2), 'dollars.')"
   ]
  },
  {
   "cell_type": "code",
   "execution_count": 79,
   "metadata": {},
   "outputs": [],
   "source": [
    "#list(zip(feature_list, rf.feature_importances_))"
   ]
  },
  {
   "cell_type": "code",
   "execution_count": 80,
   "metadata": {},
   "outputs": [],
   "source": [
    "#plt.scatter(predictions, test_labels)"
   ]
  },
  {
   "cell_type": "markdown",
   "metadata": {},
   "source": [
    "## More Fun - Simple Regression Model"
   ]
  },
  {
   "cell_type": "code",
   "execution_count": 81,
   "metadata": {},
   "outputs": [],
   "source": [
    "lm = LinearRegression()"
   ]
  },
  {
   "cell_type": "code",
   "execution_count": 82,
   "metadata": {},
   "outputs": [],
   "source": [
    "#lm.fit(train_features, train_labels)"
   ]
  },
  {
   "cell_type": "code",
   "execution_count": 83,
   "metadata": {},
   "outputs": [],
   "source": [
    "#predictions_lm = lm.predict(test_features)\n",
    "\n",
    "# Calculate the absolute errors\n",
    "#errors = abs(predictions_lm - test_labels)\n",
    "# Print out the mean absolute error (mae)\n",
    "#print('Mean Absolute Error:', round(np.mean(errors), 2), 'dollars.')"
   ]
  },
  {
   "cell_type": "code",
   "execution_count": 84,
   "metadata": {},
   "outputs": [],
   "source": [
    "#lm.score(test_features, test_labels)"
   ]
  },
  {
   "cell_type": "code",
   "execution_count": 85,
   "metadata": {},
   "outputs": [],
   "source": [
    "#plt.scatter(predictions_lm, test_labels)"
   ]
  },
  {
   "cell_type": "code",
   "execution_count": 86,
   "metadata": {},
   "outputs": [],
   "source": [
    "#list(zip(feature_list,lm.coef_))"
   ]
  },
  {
   "cell_type": "code",
   "execution_count": 87,
   "metadata": {},
   "outputs": [],
   "source": [
    "#lm.intercept_"
   ]
  },
  {
   "cell_type": "code",
   "execution_count": 88,
   "metadata": {},
   "outputs": [
    {
     "data": {
      "text/html": [
       "<div>\n",
       "<style scoped>\n",
       "    .dataframe tbody tr th:only-of-type {\n",
       "        vertical-align: middle;\n",
       "    }\n",
       "\n",
       "    .dataframe tbody tr th {\n",
       "        vertical-align: top;\n",
       "    }\n",
       "\n",
       "    .dataframe thead th {\n",
       "        text-align: right;\n",
       "    }\n",
       "</style>\n",
       "<table border=\"1\" class=\"dataframe\">\n",
       "  <thead>\n",
       "    <tr style=\"text-align: right;\">\n",
       "      <th></th>\n",
       "      <th>country</th>\n",
       "      <th>description</th>\n",
       "      <th>designation</th>\n",
       "      <th>points</th>\n",
       "      <th>price</th>\n",
       "      <th>province</th>\n",
       "      <th>region_1</th>\n",
       "      <th>region_2</th>\n",
       "      <th>variety</th>\n",
       "      <th>winery</th>\n",
       "      <th>Counts</th>\n",
       "      <th>Red?</th>\n",
       "      <th>Still_Red</th>\n",
       "    </tr>\n",
       "  </thead>\n",
       "  <tbody>\n",
       "    <tr>\n",
       "      <th>0</th>\n",
       "      <td>US</td>\n",
       "      <td>This tremendous 100% varietal wine hails from ...</td>\n",
       "      <td>Martha's Vineyard</td>\n",
       "      <td>96</td>\n",
       "      <td>235.0</td>\n",
       "      <td>California</td>\n",
       "      <td>Napa Valley</td>\n",
       "      <td>Napa</td>\n",
       "      <td>Cabernet Sauvignon</td>\n",
       "      <td>Heitz</td>\n",
       "      <td>12671.0</td>\n",
       "      <td>True</td>\n",
       "      <td>1</td>\n",
       "    </tr>\n",
       "    <tr>\n",
       "      <th>1</th>\n",
       "      <td>Spain</td>\n",
       "      <td>Ripe aromas of fig, blackberry and cassis are ...</td>\n",
       "      <td>Carodorum Selección Especial Reserva</td>\n",
       "      <td>96</td>\n",
       "      <td>110.0</td>\n",
       "      <td>Northern Spain</td>\n",
       "      <td>Toro</td>\n",
       "      <td>NaN</td>\n",
       "      <td>Tinta de Toro</td>\n",
       "      <td>Bodega Carmen Rodríguez</td>\n",
       "      <td>221.0</td>\n",
       "      <td>True</td>\n",
       "      <td>1</td>\n",
       "    </tr>\n",
       "    <tr>\n",
       "      <th>2</th>\n",
       "      <td>US</td>\n",
       "      <td>This spent 20 months in 30% new French oak, an...</td>\n",
       "      <td>Reserve</td>\n",
       "      <td>96</td>\n",
       "      <td>65.0</td>\n",
       "      <td>Oregon</td>\n",
       "      <td>Willamette Valley</td>\n",
       "      <td>Willamette Valley</td>\n",
       "      <td>Pinot Noir</td>\n",
       "      <td>Ponzi</td>\n",
       "      <td>13625.0</td>\n",
       "      <td>True</td>\n",
       "      <td>1</td>\n",
       "    </tr>\n",
       "    <tr>\n",
       "      <th>3</th>\n",
       "      <td>Spain</td>\n",
       "      <td>Deep, dense and pure from the opening bell, th...</td>\n",
       "      <td>Numanthia</td>\n",
       "      <td>95</td>\n",
       "      <td>73.0</td>\n",
       "      <td>Northern Spain</td>\n",
       "      <td>Toro</td>\n",
       "      <td>NaN</td>\n",
       "      <td>Tinta de Toro</td>\n",
       "      <td>Numanthia</td>\n",
       "      <td>221.0</td>\n",
       "      <td>True</td>\n",
       "      <td>1</td>\n",
       "    </tr>\n",
       "    <tr>\n",
       "      <th>4</th>\n",
       "      <td>Spain</td>\n",
       "      <td>Slightly gritty black-fruit aromas include a s...</td>\n",
       "      <td>San Román</td>\n",
       "      <td>95</td>\n",
       "      <td>65.0</td>\n",
       "      <td>Northern Spain</td>\n",
       "      <td>Toro</td>\n",
       "      <td>NaN</td>\n",
       "      <td>Tinta de Toro</td>\n",
       "      <td>Maurodos</td>\n",
       "      <td>221.0</td>\n",
       "      <td>True</td>\n",
       "      <td>1</td>\n",
       "    </tr>\n",
       "    <tr>\n",
       "      <th>...</th>\n",
       "      <td>...</td>\n",
       "      <td>...</td>\n",
       "      <td>...</td>\n",
       "      <td>...</td>\n",
       "      <td>...</td>\n",
       "      <td>...</td>\n",
       "      <td>...</td>\n",
       "      <td>...</td>\n",
       "      <td>...</td>\n",
       "      <td>...</td>\n",
       "      <td>...</td>\n",
       "      <td>...</td>\n",
       "      <td>...</td>\n",
       "    </tr>\n",
       "    <tr>\n",
       "      <th>92541</th>\n",
       "      <td>France</td>\n",
       "      <td>This is a lovely, fragrant Burgundy, with a sm...</td>\n",
       "      <td>Clos dea Argillieres</td>\n",
       "      <td>89</td>\n",
       "      <td>52.0</td>\n",
       "      <td>Burgundy</td>\n",
       "      <td>Nuits-St.-Georges</td>\n",
       "      <td>NaN</td>\n",
       "      <td>Pinot Noir</td>\n",
       "      <td>Daniel Rion</td>\n",
       "      <td>13625.0</td>\n",
       "      <td>True</td>\n",
       "      <td>1</td>\n",
       "    </tr>\n",
       "    <tr>\n",
       "      <th>92542</th>\n",
       "      <td>France</td>\n",
       "      <td>Scents of graham cracker and malted milk choco...</td>\n",
       "      <td>NaN</td>\n",
       "      <td>89</td>\n",
       "      <td>38.0</td>\n",
       "      <td>Burgundy</td>\n",
       "      <td>Chambolle-Musigny</td>\n",
       "      <td>NaN</td>\n",
       "      <td>Pinot Noir</td>\n",
       "      <td>Michel Gros</td>\n",
       "      <td>13625.0</td>\n",
       "      <td>True</td>\n",
       "      <td>1</td>\n",
       "    </tr>\n",
       "    <tr>\n",
       "      <th>92543</th>\n",
       "      <td>France</td>\n",
       "      <td>This needs a good bit of breathing time, then ...</td>\n",
       "      <td>Les Chaliots</td>\n",
       "      <td>87</td>\n",
       "      <td>37.0</td>\n",
       "      <td>Burgundy</td>\n",
       "      <td>Nuits-St.-Georges</td>\n",
       "      <td>NaN</td>\n",
       "      <td>Pinot Noir</td>\n",
       "      <td>Michel Gros</td>\n",
       "      <td>13625.0</td>\n",
       "      <td>True</td>\n",
       "      <td>1</td>\n",
       "    </tr>\n",
       "    <tr>\n",
       "      <th>92544</th>\n",
       "      <td>France</td>\n",
       "      <td>The nose is dominated by the attractive scents...</td>\n",
       "      <td>Les Charmes</td>\n",
       "      <td>87</td>\n",
       "      <td>65.0</td>\n",
       "      <td>Burgundy</td>\n",
       "      <td>Chambolle-Musigny</td>\n",
       "      <td>NaN</td>\n",
       "      <td>Pinot Noir</td>\n",
       "      <td>Daniel Rion</td>\n",
       "      <td>13625.0</td>\n",
       "      <td>True</td>\n",
       "      <td>1</td>\n",
       "    </tr>\n",
       "    <tr>\n",
       "      <th>92545</th>\n",
       "      <td>France</td>\n",
       "      <td>Inky and rustic, yet in a refined manner. This...</td>\n",
       "      <td>NaN</td>\n",
       "      <td>94</td>\n",
       "      <td>30.0</td>\n",
       "      <td>Rhône Valley</td>\n",
       "      <td>Châteauneuf-du-Pape</td>\n",
       "      <td>NaN</td>\n",
       "      <td>Rhône-style Red Blend</td>\n",
       "      <td>Le Vieux Donjon</td>\n",
       "      <td>1455.0</td>\n",
       "      <td>True</td>\n",
       "      <td>1</td>\n",
       "    </tr>\n",
       "  </tbody>\n",
       "</table>\n",
       "<p>92546 rows × 13 columns</p>\n",
       "</div>"
      ],
      "text/plain": [
       "      country                                        description  \\\n",
       "0          US  This tremendous 100% varietal wine hails from ...   \n",
       "1       Spain  Ripe aromas of fig, blackberry and cassis are ...   \n",
       "2          US  This spent 20 months in 30% new French oak, an...   \n",
       "3       Spain  Deep, dense and pure from the opening bell, th...   \n",
       "4       Spain  Slightly gritty black-fruit aromas include a s...   \n",
       "...       ...                                                ...   \n",
       "92541  France  This is a lovely, fragrant Burgundy, with a sm...   \n",
       "92542  France  Scents of graham cracker and malted milk choco...   \n",
       "92543  France  This needs a good bit of breathing time, then ...   \n",
       "92544  France  The nose is dominated by the attractive scents...   \n",
       "92545  France  Inky and rustic, yet in a refined manner. This...   \n",
       "\n",
       "                                designation  points  price        province  \\\n",
       "0                         Martha's Vineyard      96  235.0      California   \n",
       "1      Carodorum Selección Especial Reserva      96  110.0  Northern Spain   \n",
       "2                                   Reserve      96   65.0          Oregon   \n",
       "3                                 Numanthia      95   73.0  Northern Spain   \n",
       "4                                 San Román      95   65.0  Northern Spain   \n",
       "...                                     ...     ...    ...             ...   \n",
       "92541                  Clos dea Argillieres      89   52.0        Burgundy   \n",
       "92542                                   NaN      89   38.0        Burgundy   \n",
       "92543                          Les Chaliots      87   37.0        Burgundy   \n",
       "92544                           Les Charmes      87   65.0        Burgundy   \n",
       "92545                                   NaN      94   30.0    Rhône Valley   \n",
       "\n",
       "                  region_1           region_2                variety  \\\n",
       "0              Napa Valley               Napa     Cabernet Sauvignon   \n",
       "1                     Toro                NaN          Tinta de Toro   \n",
       "2        Willamette Valley  Willamette Valley             Pinot Noir   \n",
       "3                     Toro                NaN          Tinta de Toro   \n",
       "4                     Toro                NaN          Tinta de Toro   \n",
       "...                    ...                ...                    ...   \n",
       "92541    Nuits-St.-Georges                NaN             Pinot Noir   \n",
       "92542    Chambolle-Musigny                NaN             Pinot Noir   \n",
       "92543    Nuits-St.-Georges                NaN             Pinot Noir   \n",
       "92544    Chambolle-Musigny                NaN             Pinot Noir   \n",
       "92545  Châteauneuf-du-Pape                NaN  Rhône-style Red Blend   \n",
       "\n",
       "                        winery   Counts  Red?  Still_Red  \n",
       "0                        Heitz  12671.0  True          1  \n",
       "1      Bodega Carmen Rodríguez    221.0  True          1  \n",
       "2                        Ponzi  13625.0  True          1  \n",
       "3                    Numanthia    221.0  True          1  \n",
       "4                     Maurodos    221.0  True          1  \n",
       "...                        ...      ...   ...        ...  \n",
       "92541              Daniel Rion  13625.0  True          1  \n",
       "92542              Michel Gros  13625.0  True          1  \n",
       "92543              Michel Gros  13625.0  True          1  \n",
       "92544              Daniel Rion  13625.0  True          1  \n",
       "92545          Le Vieux Donjon   1455.0  True          1  \n",
       "\n",
       "[92546 rows x 13 columns]"
      ]
     },
     "execution_count": 88,
     "metadata": {},
     "output_type": "execute_result"
    }
   ],
   "source": [
    "red2.reset_index(drop=True)"
   ]
  },
  {
   "cell_type": "code",
   "execution_count": 89,
   "metadata": {},
   "outputs": [
    {
     "data": {
      "text/html": [
       "<div>\n",
       "<style scoped>\n",
       "    .dataframe tbody tr th:only-of-type {\n",
       "        vertical-align: middle;\n",
       "    }\n",
       "\n",
       "    .dataframe tbody tr th {\n",
       "        vertical-align: top;\n",
       "    }\n",
       "\n",
       "    .dataframe thead tr th {\n",
       "        text-align: left;\n",
       "    }\n",
       "\n",
       "    .dataframe thead tr:last-of-type th {\n",
       "        text-align: right;\n",
       "    }\n",
       "</style>\n",
       "<table border=\"1\" class=\"dataframe\">\n",
       "  <thead>\n",
       "    <tr>\n",
       "      <th></th>\n",
       "      <th colspan=\"5\" halign=\"left\">price</th>\n",
       "    </tr>\n",
       "    <tr>\n",
       "      <th></th>\n",
       "      <th>mean</th>\n",
       "      <th>median</th>\n",
       "      <th>var</th>\n",
       "      <th>std</th>\n",
       "      <th>sem</th>\n",
       "    </tr>\n",
       "    <tr>\n",
       "      <th>winery</th>\n",
       "      <th></th>\n",
       "      <th></th>\n",
       "      <th></th>\n",
       "      <th></th>\n",
       "      <th></th>\n",
       "    </tr>\n",
       "  </thead>\n",
       "  <tbody>\n",
       "    <tr>\n",
       "      <th>1+1=3</th>\n",
       "      <td>15.800000</td>\n",
       "      <td>17.0</td>\n",
       "      <td>6.177778</td>\n",
       "      <td>2.485514</td>\n",
       "      <td>0.785988</td>\n",
       "    </tr>\n",
       "    <tr>\n",
       "      <th>10 Knots</th>\n",
       "      <td>23.285714</td>\n",
       "      <td>23.0</td>\n",
       "      <td>108.571429</td>\n",
       "      <td>10.419761</td>\n",
       "      <td>3.938300</td>\n",
       "    </tr>\n",
       "    <tr>\n",
       "      <th>1000 Stories</th>\n",
       "      <td>19.000000</td>\n",
       "      <td>19.0</td>\n",
       "      <td>NaN</td>\n",
       "      <td>NaN</td>\n",
       "      <td>NaN</td>\n",
       "    </tr>\n",
       "    <tr>\n",
       "      <th>1040FU</th>\n",
       "      <td>25.000000</td>\n",
       "      <td>25.0</td>\n",
       "      <td>NaN</td>\n",
       "      <td>NaN</td>\n",
       "      <td>NaN</td>\n",
       "    </tr>\n",
       "    <tr>\n",
       "      <th>10Span</th>\n",
       "      <td>15.000000</td>\n",
       "      <td>15.0</td>\n",
       "      <td>0.000000</td>\n",
       "      <td>0.000000</td>\n",
       "      <td>0.000000</td>\n",
       "    </tr>\n",
       "    <tr>\n",
       "      <th>...</th>\n",
       "      <td>...</td>\n",
       "      <td>...</td>\n",
       "      <td>...</td>\n",
       "      <td>...</td>\n",
       "      <td>...</td>\n",
       "    </tr>\n",
       "    <tr>\n",
       "      <th>Éric &amp; Jöel Durand</th>\n",
       "      <td>39.000000</td>\n",
       "      <td>39.0</td>\n",
       "      <td>NaN</td>\n",
       "      <td>NaN</td>\n",
       "      <td>NaN</td>\n",
       "    </tr>\n",
       "    <tr>\n",
       "      <th>Ñandú</th>\n",
       "      <td>15.333333</td>\n",
       "      <td>17.0</td>\n",
       "      <td>8.333333</td>\n",
       "      <td>2.886751</td>\n",
       "      <td>1.666667</td>\n",
       "    </tr>\n",
       "    <tr>\n",
       "      <th>Único Luis Miguel</th>\n",
       "      <td>15.000000</td>\n",
       "      <td>15.0</td>\n",
       "      <td>0.000000</td>\n",
       "      <td>0.000000</td>\n",
       "      <td>0.000000</td>\n",
       "    </tr>\n",
       "    <tr>\n",
       "      <th>àMaurice</th>\n",
       "      <td>38.567568</td>\n",
       "      <td>35.0</td>\n",
       "      <td>31.807808</td>\n",
       "      <td>5.639841</td>\n",
       "      <td>0.927184</td>\n",
       "    </tr>\n",
       "    <tr>\n",
       "      <th>áster</th>\n",
       "      <td>26.000000</td>\n",
       "      <td>26.0</td>\n",
       "      <td>NaN</td>\n",
       "      <td>NaN</td>\n",
       "      <td>NaN</td>\n",
       "    </tr>\n",
       "  </tbody>\n",
       "</table>\n",
       "<p>11436 rows × 5 columns</p>\n",
       "</div>"
      ],
      "text/plain": [
       "                        price                                        \n",
       "                         mean median         var        std       sem\n",
       "winery                                                               \n",
       "1+1=3               15.800000   17.0    6.177778   2.485514  0.785988\n",
       "10 Knots            23.285714   23.0  108.571429  10.419761  3.938300\n",
       "1000 Stories        19.000000   19.0         NaN        NaN       NaN\n",
       "1040FU              25.000000   25.0         NaN        NaN       NaN\n",
       "10Span              15.000000   15.0    0.000000   0.000000  0.000000\n",
       "...                       ...    ...         ...        ...       ...\n",
       "Éric & Jöel Durand  39.000000   39.0         NaN        NaN       NaN\n",
       "Ñandú               15.333333   17.0    8.333333   2.886751  1.666667\n",
       "Único Luis Miguel   15.000000   15.0    0.000000   0.000000  0.000000\n",
       "àMaurice            38.567568   35.0   31.807808   5.639841  0.927184\n",
       "áster               26.000000   26.0         NaN        NaN       NaN\n",
       "\n",
       "[11436 rows x 5 columns]"
      ]
     },
     "execution_count": 89,
     "metadata": {},
     "output_type": "execute_result"
    }
   ],
   "source": [
    "winery_price_group = red2.groupby([\"winery\"]).agg({\"price\": [\"mean\", \"median\",\"var\", \"std\", \"sem\"]})\n",
    "winery_price_group"
   ]
  },
  {
   "cell_type": "code",
   "execution_count": null,
   "metadata": {},
   "outputs": [],
   "source": []
  },
  {
   "cell_type": "code",
   "execution_count": 90,
   "metadata": {},
   "outputs": [],
   "source": [
    "wine_red = wine_red.drop(\"Counts\", axis = 1)"
   ]
  },
  {
   "cell_type": "code",
   "execution_count": null,
   "metadata": {},
   "outputs": [],
   "source": []
  },
  {
   "cell_type": "code",
   "execution_count": 91,
   "metadata": {},
   "outputs": [
    {
     "data": {
      "text/html": [
       "<div>\n",
       "<style scoped>\n",
       "    .dataframe tbody tr th:only-of-type {\n",
       "        vertical-align: middle;\n",
       "    }\n",
       "\n",
       "    .dataframe tbody tr th {\n",
       "        vertical-align: top;\n",
       "    }\n",
       "\n",
       "    .dataframe thead th {\n",
       "        text-align: right;\n",
       "    }\n",
       "</style>\n",
       "<table border=\"1\" class=\"dataframe\">\n",
       "  <thead>\n",
       "    <tr style=\"text-align: right;\">\n",
       "      <th></th>\n",
       "      <th>Avg Price</th>\n",
       "      <th>Wine Count</th>\n",
       "    </tr>\n",
       "    <tr>\n",
       "      <th>Wine Points Ranges</th>\n",
       "      <th></th>\n",
       "      <th></th>\n",
       "    </tr>\n",
       "  </thead>\n",
       "  <tbody>\n",
       "    <tr>\n",
       "      <th>ACCEPTABLE</th>\n",
       "      <td>19.883348</td>\n",
       "      <td>4432</td>\n",
       "    </tr>\n",
       "    <tr>\n",
       "      <th>GOOD</th>\n",
       "      <td>22.028680</td>\n",
       "      <td>26778</td>\n",
       "    </tr>\n",
       "    <tr>\n",
       "      <th>VERY GOOD</th>\n",
       "      <td>29.941696</td>\n",
       "      <td>31130</td>\n",
       "    </tr>\n",
       "    <tr>\n",
       "      <th>EXCELLENT</th>\n",
       "      <td>48.955550</td>\n",
       "      <td>26794</td>\n",
       "    </tr>\n",
       "    <tr>\n",
       "      <th>SUPERB</th>\n",
       "      <td>99.166625</td>\n",
       "      <td>4045</td>\n",
       "    </tr>\n",
       "    <tr>\n",
       "      <th>CLASSIC</th>\n",
       "      <td>220.888889</td>\n",
       "      <td>144</td>\n",
       "    </tr>\n",
       "  </tbody>\n",
       "</table>\n",
       "</div>"
      ],
      "text/plain": [
       "                     Avg Price  Wine Count\n",
       "Wine Points Ranges                        \n",
       "ACCEPTABLE           19.883348        4432\n",
       "GOOD                 22.028680       26778\n",
       "VERY GOOD            29.941696       31130\n",
       "EXCELLENT            48.955550       26794\n",
       "SUPERB               99.166625        4045\n",
       "CLASSIC             220.888889         144"
      ]
     },
     "execution_count": 91,
     "metadata": {},
     "output_type": "execute_result"
    }
   ],
   "source": [
    "bins = [79, 82, 86, 89, 93, 97, 100]\n",
    "points_labels = [\"ACCEPTABLE\", \"GOOD\",\"VERY GOOD\", \"EXCELLENT\", \"SUPERB\", \"CLASSIC\"]\n",
    "\n",
    "wine_red[\"Wine Points Ranges\"] = pd.cut(wine_red.points, bins, labels=points_labels)\n",
    "\n",
    "points_group = wine_red.groupby(\"Wine Points Ranges\")\n",
    "\n",
    "points_count = points_group[\"Wine Points Ranges\"].count()\n",
    "price_avg = points_group[\"price\"].mean()\n",
    "\n",
    "points_summary = pd.DataFrame({\"Avg Price\": price_avg, \"Wine Count\": points_count})\n",
    "points_summary"
   ]
  },
  {
   "cell_type": "code",
   "execution_count": 92,
   "metadata": {
    "scrolled": false
   },
   "outputs": [
    {
     "data": {
      "image/png": "[encoded data removed]",
      "text/plain": [
       "<Figure size 864x576 with 2 Axes>"
      ]
     },
     "metadata": {
      "needs_background": "light"
     },
     "output_type": "display_data"
    }
   ],
   "source": [
    "fig = plt.figure(figsize=(12,8)) \n",
    "\n",
    "ax = fig.add_subplot() \n",
    "ax2 = ax.twinx()\n",
    "\n",
    "width = 0.2\n",
    "\n",
    "points_summary[\"Avg Price\"].plot(kind='bar', color='tab:red', ax=ax, width=width, position=1, rot=45)\n",
    "points_summary[\"Wine Count\"].plot(kind='bar', color='tab:blue', ax=ax2, width=width, position=0, rot=45)\n",
    "\n",
    "ax.set_ylabel('Average Price', fontsize = 14)\n",
    "ax2.set_ylabel('Count', fontsize = 14)\n",
    "\n",
    "plt.show()"
   ]
  },
  {
   "cell_type": "code",
   "execution_count": 93,
   "metadata": {},
   "outputs": [
    {
     "name": "stderr",
     "output_type": "stream",
     "text": [
      "/Users/tkolencherry/opt/anaconda3/lib/python3.7/site-packages/ipykernel_launcher.py:4: SettingWithCopyWarning: \n",
      "A value is trying to be set on a copy of a slice from a DataFrame.\n",
      "Try using .loc[row_indexer,col_indexer] = value instead\n",
      "\n",
      "See the caveats in the documentation: https://pandas.pydata.org/pandas-docs/stable/user_guide/indexing.html#returning-a-view-versus-a-copy\n",
      "  after removing the cwd from sys.path.\n"
     ]
    },
    {
     "data": {
      "text/html": [
       "<div>\n",
       "<style scoped>\n",
       "    .dataframe tbody tr th:only-of-type {\n",
       "        vertical-align: middle;\n",
       "    }\n",
       "\n",
       "    .dataframe tbody tr th {\n",
       "        vertical-align: top;\n",
       "    }\n",
       "\n",
       "    .dataframe thead th {\n",
       "        text-align: right;\n",
       "    }\n",
       "</style>\n",
       "<table border=\"1\" class=\"dataframe\">\n",
       "  <thead>\n",
       "    <tr style=\"text-align: right;\">\n",
       "      <th></th>\n",
       "      <th>Avg Price</th>\n",
       "      <th>Count</th>\n",
       "    </tr>\n",
       "    <tr>\n",
       "      <th>Wine Points Ranges</th>\n",
       "      <th></th>\n",
       "      <th></th>\n",
       "    </tr>\n",
       "  </thead>\n",
       "  <tbody>\n",
       "    <tr>\n",
       "      <th>ACCEPTABLE</th>\n",
       "      <td>15.260509</td>\n",
       "      <td>1689</td>\n",
       "    </tr>\n",
       "    <tr>\n",
       "      <th>GOOD</th>\n",
       "      <td>17.014956</td>\n",
       "      <td>14108</td>\n",
       "    </tr>\n",
       "    <tr>\n",
       "      <th>VERY GOOD</th>\n",
       "      <td>23.123146</td>\n",
       "      <td>14357</td>\n",
       "    </tr>\n",
       "    <tr>\n",
       "      <th>EXCELLENT</th>\n",
       "      <td>39.546836</td>\n",
       "      <td>9544</td>\n",
       "    </tr>\n",
       "    <tr>\n",
       "      <th>SUPERB</th>\n",
       "      <td>104.164649</td>\n",
       "      <td>1239</td>\n",
       "    </tr>\n",
       "    <tr>\n",
       "      <th>CLASSIC</th>\n",
       "      <td>530.827586</td>\n",
       "      <td>29</td>\n",
       "    </tr>\n",
       "  </tbody>\n",
       "</table>\n",
       "</div>"
      ],
      "text/plain": [
       "                     Avg Price  Count\n",
       "Wine Points Ranges                   \n",
       "ACCEPTABLE           15.260509   1689\n",
       "GOOD                 17.014956  14108\n",
       "VERY GOOD            23.123146  14357\n",
       "EXCELLENT            39.546836   9544\n",
       "SUPERB              104.164649   1239\n",
       "CLASSIC             530.827586     29"
      ]
     },
     "execution_count": 93,
     "metadata": {},
     "output_type": "execute_result"
    }
   ],
   "source": [
    "bins = [79, 82, 86, 89, 93, 97, 100]\n",
    "points_labels = [\"ACCEPTABLE\", \"GOOD\",\"VERY GOOD\", \"EXCELLENT\", \"SUPERB\", \"CLASSIC\"]\n",
    "\n",
    "wine_white[\"Wine Points Ranges\"] = pd.cut(wine_white.points, bins, labels=points_labels)\n",
    "wine_white = wine_white.reset_index(drop=True)\n",
    "\n",
    "points_group2 = wine_white.groupby(\"Wine Points Ranges\")\n",
    "\n",
    "points_count2 = points_group2[\"Wine Points Ranges\"].count()\n",
    "price_avg2 = points_group2[\"price\"].mean()\n",
    "\n",
    "points_summary2 = pd.DataFrame({\"Avg Price\": price_avg2, \"Count\": points_count2})\n",
    "points_summary2"
   ]
  },
  {
   "cell_type": "code",
   "execution_count": 94,
   "metadata": {},
   "outputs": [
    {
     "data": {
      "image/png": "[encoded data removed]",
      "text/plain": [
       "<Figure size 864x576 with 2 Axes>"
      ]
     },
     "metadata": {
      "needs_background": "light"
     },
     "output_type": "display_data"
    }
   ],
   "source": [
    "fig = plt.figure(figsize=(12,8)) \n",
    "\n",
    "ax = fig.add_subplot() \n",
    "ax2 = ax.twinx()\n",
    "\n",
    "width = 0.2\n",
    "\n",
    "points_summary2[\"Avg Price\"].plot(kind='bar', color='tab:red', ax=ax, width=width, position=1)\n",
    "points_summary2[\"Count\"].plot(kind='bar', color='tab:blue', ax=ax2, width=width, position=0)\n",
    "\n",
    "ax.set_ylabel('Average Price')\n",
    "ax2.set_ylabel('Count')\n",
    "\n",
    "ax.legend()\n",
    "ax2.legend()\n",
    "\n",
    "plt.show()"
   ]
  },
  {
   "cell_type": "code",
   "execution_count": null,
   "metadata": {},
   "outputs": [],
   "source": []
  },
  {
   "cell_type": "code",
   "execution_count": 95,
   "metadata": {},
   "outputs": [
    {
     "ename": "NameError",
     "evalue": "name 'squarify' is not defined",
     "output_type": "error",
     "traceback": [
      "\u001b[0;31m---------------------------------------------------------------------------\u001b[0m",
      "\u001b[0;31mNameError\u001b[0m                                 Traceback (most recent call last)",
      "\u001b[0;32m<ipython-input-95-a51bd5f7bedb>\u001b[0m in \u001b[0;36m<module>\u001b[0;34m\u001b[0m\n\u001b[1;32m      7\u001b[0m \u001b[0;34m\u001b[0m\u001b[0m\n\u001b[1;32m      8\u001b[0m \u001b[0mplt\u001b[0m\u001b[0;34m.\u001b[0m\u001b[0mfigure\u001b[0m\u001b[0;34m(\u001b[0m\u001b[0mfigsize\u001b[0m\u001b[0;34m=\u001b[0m\u001b[0;34m(\u001b[0m\u001b[0;36m12\u001b[0m\u001b[0;34m,\u001b[0m\u001b[0;36m8\u001b[0m\u001b[0;34m)\u001b[0m\u001b[0;34m)\u001b[0m\u001b[0;34m\u001b[0m\u001b[0;34m\u001b[0m\u001b[0m\n\u001b[0;32m----> 9\u001b[0;31m \u001b[0max\u001b[0m \u001b[0;34m=\u001b[0m \u001b[0msquarify\u001b[0m\u001b[0;34m.\u001b[0m\u001b[0mplot\u001b[0m\u001b[0;34m(\u001b[0m\u001b[0mcnt\u001b[0m\u001b[0;34m[\u001b[0m\u001b[0;34m'price'\u001b[0m\u001b[0;34m]\u001b[0m\u001b[0;34m.\u001b[0m\u001b[0mfillna\u001b[0m\u001b[0;34m(\u001b[0m\u001b[0;36m0.1\u001b[0m\u001b[0;34m)\u001b[0m\u001b[0;34m,\u001b[0m\u001b[0mcolor\u001b[0m\u001b[0;34m=\u001b[0m\u001b[0mcolors\u001b[0m\u001b[0;34m,\u001b[0m\u001b[0mlabel\u001b[0m\u001b[0;34m=\u001b[0m\u001b[0mcnt\u001b[0m\u001b[0;34m.\u001b[0m\u001b[0mindex\u001b[0m\u001b[0;34m)\u001b[0m\u001b[0;34m\u001b[0m\u001b[0;34m\u001b[0m\u001b[0m\n\u001b[0m\u001b[1;32m     10\u001b[0m \u001b[0mplt\u001b[0m\u001b[0;34m.\u001b[0m\u001b[0maxis\u001b[0m\u001b[0;34m(\u001b[0m\u001b[0;34m'off'\u001b[0m\u001b[0;34m)\u001b[0m\u001b[0;34m\u001b[0m\u001b[0;34m\u001b[0m\u001b[0m\n\u001b[1;32m     11\u001b[0m \u001b[0mplt\u001b[0m\u001b[0;34m.\u001b[0m\u001b[0mshow\u001b[0m\u001b[0;34m(\u001b[0m\u001b[0;34m)\u001b[0m\u001b[0;34m\u001b[0m\u001b[0;34m\u001b[0m\u001b[0m\n",
      "\u001b[0;31mNameError\u001b[0m: name 'squarify' is not defined"
     ]
    },
    {
     "data": {
      "text/plain": [
       "<Figure size 864x576 with 0 Axes>"
      ]
     },
     "metadata": {},
     "output_type": "display_data"
    }
   ],
   "source": [
    "# cnt = wine_red.groupby(['country',])['price'].median().sort_values(ascending=False).to_frame()\n",
    "\n",
    "# #Utilise matplotlib to scale our goal numbers between the min and max, then assign this scale to our values.\n",
    "# norm = matplotlib.colors.Normalize(vmin=min(cnt.price), vmax=max(cnt.price))\n",
    "# colors = [matplotlib.cm.GnBu(norm(value)) for value in cnt.price]\n",
    "\n",
    "\n",
    "# plt.figure(figsize=(12,8))\n",
    "# ax = squarify.plot(cnt['price'].fillna(0.1),color=colors,label=cnt.index)\n",
    "# plt.axis('off')\n",
    "# plt.show()"
   ]
  },
  {
   "cell_type": "code",
   "execution_count": null,
   "metadata": {},
   "outputs": [],
   "source": [
    "cnt"
   ]
  },
  {
   "cell_type": "code",
   "execution_count": null,
   "metadata": {},
   "outputs": [],
   "source": [
    "mask0 = wine_red.country == \"US\"\n",
    "us_states = wine_red.loc[mask0]"
   ]
  },
  {
   "cell_type": "code",
   "execution_count": null,
   "metadata": {},
   "outputs": [],
   "source": [
    "# d = us_states.groupby(['province'])['points'].median().sort_values(ascending=False).to_frame()\n",
    "\n",
    "# norm = matplotlib.colors.Normalize(vmin=min(d.points), vmax=max(d.points))\n",
    "# colors = [matplotlib.cm.GnBu(norm(value)) for value in d.points]\n",
    "\n",
    "# plt.figure(figsize=(12,8))\n",
    "# squarify.plot(d['points'].fillna(0.1),color=colors,label=d.index)\n",
    "# plt.axis('off')\n",
    "# plt.show()"
   ]
  },
  {
   "cell_type": "code",
   "execution_count": null,
   "metadata": {},
   "outputs": [],
   "source": [
    "# points_tree = wine_red.groupby(['country',])['points'].median().sort_values(ascending=False).to_frame()\n",
    "# plt.figure(figsize=(12,8))\n",
    "# squarify.plot(points_tree['points'].fillna(0.1),color=sn.color_palette('RdBu'),label=points_tree.index)"
   ]
  },
  {
   "cell_type": "code",
   "execution_count": 96,
   "metadata": {},
   "outputs": [
    {
     "data": {
      "image/png": "[encoded data removed]",
      "text/plain": [
       "<Figure size 432x288 with 1 Axes>"
      ]
     },
     "metadata": {
      "needs_background": "light"
     },
     "output_type": "display_data"
    }
   ],
   "source": [
    "winery_gp = wine_red.groupby([\"winery\"])\n",
    "#wine_type = [list[0] for list in winery_group[\"winery\"].unique()]\n",
    "#q = winery_group.price.mean()\n",
    "\n",
    "x_values = winery_gp.points.median()\n",
    "y_values = winery_gp.price.median()\n",
    "\n",
    "plt.scatter(x_values, y_values,color = \"c\", edgecolor = \"black\")\n",
    "plt.xlabel(\"Points\", fontsize = 14)\n",
    "plt.ylabel(\"Price\", fontsize = 14)\n",
    "plt.ylim(0, max(y_values)+5)\n",
    "plt.title(\"Points vs Price of Red Wine by Winery\", fontsize = 14, fontweight=\"bold\")\n",
    "plt.grid()\n",
    "plt.show()"
   ]
  },
  {
   "cell_type": "code",
   "execution_count": 97,
   "metadata": {},
   "outputs": [
    {
     "data": {
      "image/png": "[encoded data removed]",
      "text/plain": [
       "<Figure size 432x288 with 1 Axes>"
      ]
     },
     "metadata": {
      "needs_background": "light"
     },
     "output_type": "display_data"
    }
   ],
   "source": [
    "wine_red_mask = wine_red.country == \"US\"\n",
    "wine_red_mask = wine_red.loc[wine_red_mask]\n",
    "winery_red_gp = wine_red_mask.groupby([\"winery\"])\n",
    "\n",
    "x_values = winery_red_gp.points.mean()\n",
    "y_values = winery_red_gp.price.mean()\n",
    "\n",
    "plt.scatter(x_values, y_values,color = \"c\", edgecolor = \"black\")\n",
    "plt.xlabel(\"Points\", fontsize = 14)\n",
    "plt.ylabel(\"Price\", fontsize = 14)\n",
    "\n",
    "plt.title(\"Points vs Price of Red Wine by Winery in the US\", fontsize = 14, fontweight=\"bold\")\n",
    "plt.grid()\n",
    "plt.show()"
   ]
  },
  {
   "cell_type": "code",
   "execution_count": 98,
   "metadata": {},
   "outputs": [
    {
     "data": {
      "image/png": "[encoded data removed]",
      "text/plain": [
       "<Figure size 432x288 with 1 Axes>"
      ]
     },
     "metadata": {
      "needs_background": "light"
     },
     "output_type": "display_data"
    }
   ],
   "source": [
    "wine_red_mask1 = wine_red.country != \"US\"\n",
    "wine_red_mask1 = wine_red.loc[wine_red_mask1]\n",
    "winery_red_gp1 = wine_red_mask1.groupby([\"winery\"])\n",
    "\n",
    "x_values = winery_red_gp1.points.mean()\n",
    "y_values = winery_red_gp1.price.mean()\n",
    "\n",
    "plt.scatter(x_values, y_values,color = \"c\", edgecolor = \"black\")\n",
    "plt.xlabel(\"Points\", fontsize = 14)\n",
    "plt.ylabel(\"Price\", fontsize = 14)\n",
    "\n",
    "plt.title(\"Points vs Price of Red Wine by Winery not in the US\", fontsize = 14, fontweight=\"bold\")\n",
    "plt.grid()\n",
    "plt.show()"
   ]
  },
  {
   "cell_type": "code",
   "execution_count": 99,
   "metadata": {},
   "outputs": [
    {
     "data": {
      "image/png": "[encoded data removed]",
      "text/plain": [
       "<Figure size 432x288 with 1 Axes>"
      ]
     },
     "metadata": {
      "needs_background": "light"
     },
     "output_type": "display_data"
    }
   ],
   "source": [
    "ax = sn.scatterplot(x=\"points\", y=\"price\", hue=\"Still_Red\", data=wine_sub, alpha = 0.5)"
   ]
  },
  {
   "cell_type": "code",
   "execution_count": 100,
   "metadata": {},
   "outputs": [
    {
     "name": "stdout",
     "output_type": "stream",
     "text": [
      "13231\n",
      "126584\n"
     ]
    }
   ],
   "source": [
    "wine_rating = wine_sub.groupby([\"winery\"])\n",
    "print(len(wine_rating))\n",
    "print(len(wine_sub))"
   ]
  },
  {
   "cell_type": "code",
   "execution_count": 112,
   "metadata": {},
   "outputs": [
    {
     "name": "stdout",
     "output_type": "stream",
     "text": [
      "The r-squared is: 0.2901443299014165\n"
     ]
    },
    {
     "data": {
      "image/png": "[encoded data removed]",
      "text/plain": [
       "<Figure size 432x288 with 1 Axes>"
      ]
     },
     "metadata": {
      "needs_background": "light"
     },
     "output_type": "display_data"
    }
   ],
   "source": [
    "x_values = red_sub.points\n",
    "y_values = red_sub.price\n",
    "(slope, intercept, rvalue, pvalue, stderr) = linregress(x_values, y_values)\n",
    "regress_values = x_values * slope + intercept\n",
    "line_eq = \"y = \" + str(round(slope,2)) + \"x + \" + str(round(intercept,2))\n",
    "plt.scatter(x_values,y_values, color = 'firebrick')\n",
    "plt.plot(x_values,regress_values, color = 'black')\n",
    "plt.annotate(line_eq,(93,9),fontsize=11,color=\"black\")\n",
    "plt.title('Points vs Price - Red Wine', fontsize = 16, fontweight=\"bold\")\n",
    "plt.xlabel('Points', fontsize = 16)\n",
    "plt.ylabel('Price ($)', fontsize = 16)\n",
    "print(f\"The r-squared is: {rvalue**2}\")\n",
    "plt.show()"
   ]
  },
  {
   "cell_type": "code",
   "execution_count": 126,
   "metadata": {
    "scrolled": true
   },
   "outputs": [
    {
     "name": "stdout",
     "output_type": "stream",
     "text": [
      "The r-squared is: 0.2877391603690037\n"
     ]
    },
    {
     "data": {
      "image/png": "[encoded data removed]",
      "text/plain": [
       "<Figure size 432x288 with 1 Axes>"
      ]
     },
     "metadata": {
      "needs_background": "light"
     },
     "output_type": "display_data"
    }
   ],
   "source": [
    "x_values = white_sub.points\n",
    "y_values = white_sub.price\n",
    "(slope, intercept, rvalue, pvalue, stderr) = linregress(x_values, y_values)\n",
    "regress_values = x_values * slope + intercept\n",
    "line_eq = \"y = \" + str(round(slope,2)) + \"x + \" + str(round(intercept,2))\n",
    "plt.scatter(x_values,y_values, color = 'grey')\n",
    "plt.plot(x_values,regress_values,color = 'black')\n",
    "plt.annotate(line_eq,(91.5,6),fontsize=11,color=\"black\")\n",
    "plt.title('Points vs Price - White Wine', fontsize = 16, fontweight=\"bold\")\n",
    "plt.xlabel('Points', fontsize = 16)\n",
    "plt.ylabel('Price ($)', fontsize = 16)\n",
    "print(f\"The r-squared is: {rvalue**2}\")\n",
    "plt.show()"
   ]
  },
  {
   "cell_type": "code",
   "execution_count": 103,
   "metadata": {},
   "outputs": [
    {
     "data": {
      "text/html": [
       "<div>\n",
       "<style scoped>\n",
       "    .dataframe tbody tr th:only-of-type {\n",
       "        vertical-align: middle;\n",
       "    }\n",
       "\n",
       "    .dataframe tbody tr th {\n",
       "        vertical-align: top;\n",
       "    }\n",
       "\n",
       "    .dataframe thead th {\n",
       "        text-align: right;\n",
       "    }\n",
       "</style>\n",
       "<table border=\"1\" class=\"dataframe\">\n",
       "  <thead>\n",
       "    <tr style=\"text-align: right;\">\n",
       "      <th></th>\n",
       "      <th>country</th>\n",
       "      <th>description</th>\n",
       "      <th>designation</th>\n",
       "      <th>points</th>\n",
       "      <th>price</th>\n",
       "      <th>province</th>\n",
       "      <th>region_1</th>\n",
       "      <th>region_2</th>\n",
       "      <th>variety</th>\n",
       "      <th>winery</th>\n",
       "      <th>Counts</th>\n",
       "      <th>Red?</th>\n",
       "      <th>Still_Red</th>\n",
       "    </tr>\n",
       "  </thead>\n",
       "  <tbody>\n",
       "    <tr>\n",
       "      <th>3</th>\n",
       "      <td>US</td>\n",
       "      <td>This spent 20 months in 30% new French oak, an...</td>\n",
       "      <td>Reserve</td>\n",
       "      <td>96</td>\n",
       "      <td>$65.00</td>\n",
       "      <td>Oregon</td>\n",
       "      <td>Willamette Valley</td>\n",
       "      <td>Willamette Valley</td>\n",
       "      <td>Pinot Noir</td>\n",
       "      <td>Ponzi</td>\n",
       "      <td>13625.0</td>\n",
       "      <td>True</td>\n",
       "      <td>1</td>\n",
       "    </tr>\n",
       "    <tr>\n",
       "      <th>4</th>\n",
       "      <td>Spain</td>\n",
       "      <td>Deep, dense and pure from the opening bell, th...</td>\n",
       "      <td>Numanthia</td>\n",
       "      <td>95</td>\n",
       "      <td>$73.00</td>\n",
       "      <td>Northern Spain</td>\n",
       "      <td>Toro</td>\n",
       "      <td>NaN</td>\n",
       "      <td>Tinta de Toro</td>\n",
       "      <td>Numanthia</td>\n",
       "      <td>221.0</td>\n",
       "      <td>True</td>\n",
       "      <td>1</td>\n",
       "    </tr>\n",
       "    <tr>\n",
       "      <th>5</th>\n",
       "      <td>Spain</td>\n",
       "      <td>Slightly gritty black-fruit aromas include a s...</td>\n",
       "      <td>San Román</td>\n",
       "      <td>95</td>\n",
       "      <td>$65.00</td>\n",
       "      <td>Northern Spain</td>\n",
       "      <td>Toro</td>\n",
       "      <td>NaN</td>\n",
       "      <td>Tinta de Toro</td>\n",
       "      <td>Maurodos</td>\n",
       "      <td>221.0</td>\n",
       "      <td>True</td>\n",
       "      <td>1</td>\n",
       "    </tr>\n",
       "    <tr>\n",
       "      <th>7</th>\n",
       "      <td>US</td>\n",
       "      <td>This re-named vineyard was formerly bottled as...</td>\n",
       "      <td>Silice</td>\n",
       "      <td>95</td>\n",
       "      <td>$65.00</td>\n",
       "      <td>Oregon</td>\n",
       "      <td>Chehalem Mountains</td>\n",
       "      <td>Willamette Valley</td>\n",
       "      <td>Pinot Noir</td>\n",
       "      <td>Bergström</td>\n",
       "      <td>13625.0</td>\n",
       "      <td>True</td>\n",
       "      <td>1</td>\n",
       "    </tr>\n",
       "    <tr>\n",
       "      <th>8</th>\n",
       "      <td>US</td>\n",
       "      <td>The producer sources from two blocks of the vi...</td>\n",
       "      <td>Gap's Crown Vineyard</td>\n",
       "      <td>95</td>\n",
       "      <td>$60.00</td>\n",
       "      <td>California</td>\n",
       "      <td>Sonoma Coast</td>\n",
       "      <td>Sonoma</td>\n",
       "      <td>Pinot Noir</td>\n",
       "      <td>Blue Farm</td>\n",
       "      <td>13625.0</td>\n",
       "      <td>True</td>\n",
       "      <td>1</td>\n",
       "    </tr>\n",
       "    <tr>\n",
       "      <th>...</th>\n",
       "      <td>...</td>\n",
       "      <td>...</td>\n",
       "      <td>...</td>\n",
       "      <td>...</td>\n",
       "      <td>...</td>\n",
       "      <td>...</td>\n",
       "      <td>...</td>\n",
       "      <td>...</td>\n",
       "      <td>...</td>\n",
       "      <td>...</td>\n",
       "      <td>...</td>\n",
       "      <td>...</td>\n",
       "      <td>...</td>\n",
       "    </tr>\n",
       "    <tr>\n",
       "      <th>134284</th>\n",
       "      <td>Italy</td>\n",
       "      <td>Many people feel Fiano represents southern Ita...</td>\n",
       "      <td>NaN</td>\n",
       "      <td>91</td>\n",
       "      <td>$20.00</td>\n",
       "      <td>Southern Italy</td>\n",
       "      <td>Fiano di Avellino</td>\n",
       "      <td>NaN</td>\n",
       "      <td>White Blend</td>\n",
       "      <td>Feudi di San Gregorio</td>\n",
       "      <td>2554.0</td>\n",
       "      <td>False</td>\n",
       "      <td>0</td>\n",
       "    </tr>\n",
       "    <tr>\n",
       "      <th>134285</th>\n",
       "      <td>France</td>\n",
       "      <td>Offers an intriguing nose with ginger, lime an...</td>\n",
       "      <td>Cuvée Prestige</td>\n",
       "      <td>91</td>\n",
       "      <td>$27.00</td>\n",
       "      <td>Champagne</td>\n",
       "      <td>Champagne</td>\n",
       "      <td>NaN</td>\n",
       "      <td>Champagne Blend</td>\n",
       "      <td>H.Germain</td>\n",
       "      <td>1003.0</td>\n",
       "      <td>False</td>\n",
       "      <td>0</td>\n",
       "    </tr>\n",
       "    <tr>\n",
       "      <th>134286</th>\n",
       "      <td>Italy</td>\n",
       "      <td>This classic example comes from a cru vineyard...</td>\n",
       "      <td>Terre di Dora</td>\n",
       "      <td>91</td>\n",
       "      <td>$20.00</td>\n",
       "      <td>Southern Italy</td>\n",
       "      <td>Fiano di Avellino</td>\n",
       "      <td>NaN</td>\n",
       "      <td>White Blend</td>\n",
       "      <td>Terredora</td>\n",
       "      <td>2554.0</td>\n",
       "      <td>False</td>\n",
       "      <td>0</td>\n",
       "    </tr>\n",
       "    <tr>\n",
       "      <th>134287</th>\n",
       "      <td>France</td>\n",
       "      <td>A perfect salmon shade, with scents of peaches...</td>\n",
       "      <td>Grand Brut Rosé</td>\n",
       "      <td>90</td>\n",
       "      <td>$52.00</td>\n",
       "      <td>Champagne</td>\n",
       "      <td>Champagne</td>\n",
       "      <td>NaN</td>\n",
       "      <td>Champagne Blend</td>\n",
       "      <td>Gosset</td>\n",
       "      <td>1003.0</td>\n",
       "      <td>False</td>\n",
       "      <td>0</td>\n",
       "    </tr>\n",
       "    <tr>\n",
       "      <th>134288</th>\n",
       "      <td>Italy</td>\n",
       "      <td>More Pinot Grigios should taste like this. A r...</td>\n",
       "      <td>NaN</td>\n",
       "      <td>90</td>\n",
       "      <td>$15.00</td>\n",
       "      <td>Northeastern Italy</td>\n",
       "      <td>Alto Adige</td>\n",
       "      <td>NaN</td>\n",
       "      <td>Pinot Grigio</td>\n",
       "      <td>Alois Lageder</td>\n",
       "      <td>1270.0</td>\n",
       "      <td>False</td>\n",
       "      <td>0</td>\n",
       "    </tr>\n",
       "  </tbody>\n",
       "</table>\n",
       "<p>126584 rows × 13 columns</p>\n",
       "</div>"
      ],
      "text/plain": [
       "       country                                        description  \\\n",
       "3           US  This spent 20 months in 30% new French oak, an...   \n",
       "4        Spain  Deep, dense and pure from the opening bell, th...   \n",
       "5        Spain  Slightly gritty black-fruit aromas include a s...   \n",
       "7           US  This re-named vineyard was formerly bottled as...   \n",
       "8           US  The producer sources from two blocks of the vi...   \n",
       "...        ...                                                ...   \n",
       "134284   Italy  Many people feel Fiano represents southern Ita...   \n",
       "134285  France  Offers an intriguing nose with ginger, lime an...   \n",
       "134286   Italy  This classic example comes from a cru vineyard...   \n",
       "134287  France  A perfect salmon shade, with scents of peaches...   \n",
       "134288   Italy  More Pinot Grigios should taste like this. A r...   \n",
       "\n",
       "                 designation  points   price            province  \\\n",
       "3                    Reserve      96  $65.00              Oregon   \n",
       "4                  Numanthia      95  $73.00      Northern Spain   \n",
       "5                  San Román      95  $65.00      Northern Spain   \n",
       "7                     Silice      95  $65.00              Oregon   \n",
       "8       Gap's Crown Vineyard      95  $60.00          California   \n",
       "...                      ...     ...     ...                 ...   \n",
       "134284                   NaN      91  $20.00      Southern Italy   \n",
       "134285        Cuvée Prestige      91  $27.00           Champagne   \n",
       "134286         Terre di Dora      91  $20.00      Southern Italy   \n",
       "134287       Grand Brut Rosé      90  $52.00           Champagne   \n",
       "134288                   NaN      90  $15.00  Northeastern Italy   \n",
       "\n",
       "                  region_1           region_2          variety  \\\n",
       "3        Willamette Valley  Willamette Valley       Pinot Noir   \n",
       "4                     Toro                NaN    Tinta de Toro   \n",
       "5                     Toro                NaN    Tinta de Toro   \n",
       "7       Chehalem Mountains  Willamette Valley       Pinot Noir   \n",
       "8             Sonoma Coast             Sonoma       Pinot Noir   \n",
       "...                    ...                ...              ...   \n",
       "134284   Fiano di Avellino                NaN      White Blend   \n",
       "134285           Champagne                NaN  Champagne Blend   \n",
       "134286   Fiano di Avellino                NaN      White Blend   \n",
       "134287           Champagne                NaN  Champagne Blend   \n",
       "134288          Alto Adige                NaN     Pinot Grigio   \n",
       "\n",
       "                       winery   Counts   Red?  Still_Red  \n",
       "3                       Ponzi  13625.0   True          1  \n",
       "4                   Numanthia    221.0   True          1  \n",
       "5                    Maurodos    221.0   True          1  \n",
       "7                   Bergström  13625.0   True          1  \n",
       "8                   Blue Farm  13625.0   True          1  \n",
       "...                       ...      ...    ...        ...  \n",
       "134284  Feudi di San Gregorio   2554.0  False          0  \n",
       "134285              H.Germain   1003.0  False          0  \n",
       "134286              Terredora   2554.0  False          0  \n",
       "134287                 Gosset   1003.0  False          0  \n",
       "134288          Alois Lageder   1270.0  False          0  \n",
       "\n",
       "[126584 rows x 13 columns]"
      ]
     },
     "execution_count": 103,
     "metadata": {},
     "output_type": "execute_result"
    }
   ],
   "source": [
    "wine_sub[\"price\"] = wine_sub[\"price\"].map(\"${0:.2f}\".format)\n",
    "wine_sub"
   ]
  },
  {
   "cell_type": "code",
   "execution_count": null,
   "metadata": {},
   "outputs": [],
   "source": []
  },
  {
   "cell_type": "code",
   "execution_count": null,
   "metadata": {},
   "outputs": [],
   "source": []
  },
  {
   "cell_type": "code",
   "execution_count": null,
   "metadata": {},
   "outputs": [],
   "source": []
  }
 ],
 "metadata": {
  "kernelspec": {
   "display_name": "Python 3",
   "language": "python",
   "name": "python3"
  },
  "language_info": {
   "codemirror_mode": {
    "name": "ipython",
    "version": 3
   },
   "file_extension": ".py",
   "mimetype": "text/x-python",
   "name": "python",
   "nbconvert_exporter": "python",
   "pygments_lexer": "ipython3",
   "version": "3.7.6"
  }
 },
 "nbformat": 4,
 "nbformat_minor": 2
}
