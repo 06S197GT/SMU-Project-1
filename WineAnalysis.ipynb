{
 "cells": [
  {
   "cell_type": "code",
   "execution_count": 102,
   "metadata": {},
   "outputs": [],
   "source": [
    "import pandas as pd\n",
    "import matplotlib.pyplot as plt\n",
    "import numpy as np\n",
    "import scipy.stats as stats"
   ]
  },
  {
   "cell_type": "code",
   "execution_count": 103,
   "metadata": {},
   "outputs": [],
   "source": [
    "df = pd.read_csv(\"winemag-data_first150k.csv\")"
   ]
  },
  {
   "cell_type": "code",
   "execution_count": 104,
   "metadata": {},
   "outputs": [],
   "source": [
    "df = df.drop(\"Unnamed: 0\", axis=1)\n",
    "mask = pd.notnull(df.country)\n",
    "mask2 = pd.notnull(df.price)"
   ]
  },
  {
   "cell_type": "code",
   "execution_count": 110,
   "metadata": {},
   "outputs": [
    {
     "data": {
      "text/html": [
       "<div>\n",
       "<style scoped>\n",
       "    .dataframe tbody tr th:only-of-type {\n",
       "        vertical-align: middle;\n",
       "    }\n",
       "\n",
       "    .dataframe tbody tr th {\n",
       "        vertical-align: top;\n",
       "    }\n",
       "\n",
       "    .dataframe thead th {\n",
       "        text-align: right;\n",
       "    }\n",
       "</style>\n",
       "<table border=\"1\" class=\"dataframe\">\n",
       "  <thead>\n",
       "    <tr style=\"text-align: right;\">\n",
       "      <th></th>\n",
       "      <th>country</th>\n",
       "      <th>description</th>\n",
       "      <th>designation</th>\n",
       "      <th>points</th>\n",
       "      <th>price</th>\n",
       "      <th>province</th>\n",
       "      <th>region_1</th>\n",
       "      <th>region_2</th>\n",
       "      <th>variety</th>\n",
       "      <th>winery</th>\n",
       "    </tr>\n",
       "  </thead>\n",
       "  <tbody>\n",
       "    <tr>\n",
       "      <th>0</th>\n",
       "      <td>US</td>\n",
       "      <td>This tremendous 100% varietal wine hails from ...</td>\n",
       "      <td>Martha's Vineyard</td>\n",
       "      <td>96</td>\n",
       "      <td>235.0</td>\n",
       "      <td>California</td>\n",
       "      <td>Napa Valley</td>\n",
       "      <td>Napa</td>\n",
       "      <td>Cabernet Sauvignon</td>\n",
       "      <td>Heitz</td>\n",
       "    </tr>\n",
       "    <tr>\n",
       "      <th>1</th>\n",
       "      <td>Spain</td>\n",
       "      <td>Ripe aromas of fig, blackberry and cassis are ...</td>\n",
       "      <td>Carodorum Selección Especial Reserva</td>\n",
       "      <td>96</td>\n",
       "      <td>110.0</td>\n",
       "      <td>Northern Spain</td>\n",
       "      <td>Toro</td>\n",
       "      <td>Toro</td>\n",
       "      <td>Tinta de Toro</td>\n",
       "      <td>Bodega Carmen Rodríguez</td>\n",
       "    </tr>\n",
       "    <tr>\n",
       "      <th>2</th>\n",
       "      <td>US</td>\n",
       "      <td>Mac Watson honors the memory of a wine once ma...</td>\n",
       "      <td>Special Selected Late Harvest</td>\n",
       "      <td>96</td>\n",
       "      <td>90.0</td>\n",
       "      <td>California</td>\n",
       "      <td>Knights Valley</td>\n",
       "      <td>Sonoma</td>\n",
       "      <td>Sauvignon Blanc</td>\n",
       "      <td>Macauley</td>\n",
       "    </tr>\n",
       "    <tr>\n",
       "      <th>3</th>\n",
       "      <td>US</td>\n",
       "      <td>This spent 20 months in 30% new French oak, an...</td>\n",
       "      <td>Reserve</td>\n",
       "      <td>96</td>\n",
       "      <td>65.0</td>\n",
       "      <td>Oregon</td>\n",
       "      <td>Willamette Valley</td>\n",
       "      <td>Willamette Valley</td>\n",
       "      <td>Pinot Noir</td>\n",
       "      <td>Ponzi</td>\n",
       "    </tr>\n",
       "    <tr>\n",
       "      <th>4</th>\n",
       "      <td>France</td>\n",
       "      <td>This is the top wine from La Bégude, named aft...</td>\n",
       "      <td>La Brûlade</td>\n",
       "      <td>95</td>\n",
       "      <td>66.0</td>\n",
       "      <td>Provence</td>\n",
       "      <td>Bandol</td>\n",
       "      <td>Bandol</td>\n",
       "      <td>Provence red blend</td>\n",
       "      <td>Domaine de la Bégude</td>\n",
       "    </tr>\n",
       "    <tr>\n",
       "      <th>...</th>\n",
       "      <td>...</td>\n",
       "      <td>...</td>\n",
       "      <td>...</td>\n",
       "      <td>...</td>\n",
       "      <td>...</td>\n",
       "      <td>...</td>\n",
       "      <td>...</td>\n",
       "      <td>...</td>\n",
       "      <td>...</td>\n",
       "      <td>...</td>\n",
       "    </tr>\n",
       "    <tr>\n",
       "      <th>137225</th>\n",
       "      <td>Italy</td>\n",
       "      <td>Many people feel Fiano represents southern Ita...</td>\n",
       "      <td>*Unknown Wine*</td>\n",
       "      <td>91</td>\n",
       "      <td>20.0</td>\n",
       "      <td>Southern Italy</td>\n",
       "      <td>Fiano di Avellino</td>\n",
       "      <td>Fiano di Avellino</td>\n",
       "      <td>White Blend</td>\n",
       "      <td>Feudi di San Gregorio</td>\n",
       "    </tr>\n",
       "    <tr>\n",
       "      <th>137226</th>\n",
       "      <td>France</td>\n",
       "      <td>Offers an intriguing nose with ginger, lime an...</td>\n",
       "      <td>Cuvée Prestige</td>\n",
       "      <td>91</td>\n",
       "      <td>27.0</td>\n",
       "      <td>Champagne</td>\n",
       "      <td>Champagne</td>\n",
       "      <td>Champagne</td>\n",
       "      <td>Champagne Blend</td>\n",
       "      <td>H.Germain</td>\n",
       "    </tr>\n",
       "    <tr>\n",
       "      <th>137227</th>\n",
       "      <td>Italy</td>\n",
       "      <td>This classic example comes from a cru vineyard...</td>\n",
       "      <td>Terre di Dora</td>\n",
       "      <td>91</td>\n",
       "      <td>20.0</td>\n",
       "      <td>Southern Italy</td>\n",
       "      <td>Fiano di Avellino</td>\n",
       "      <td>Fiano di Avellino</td>\n",
       "      <td>White Blend</td>\n",
       "      <td>Terredora</td>\n",
       "    </tr>\n",
       "    <tr>\n",
       "      <th>137228</th>\n",
       "      <td>France</td>\n",
       "      <td>A perfect salmon shade, with scents of peaches...</td>\n",
       "      <td>Grand Brut Rosé</td>\n",
       "      <td>90</td>\n",
       "      <td>52.0</td>\n",
       "      <td>Champagne</td>\n",
       "      <td>Champagne</td>\n",
       "      <td>Champagne</td>\n",
       "      <td>Champagne Blend</td>\n",
       "      <td>Gosset</td>\n",
       "    </tr>\n",
       "    <tr>\n",
       "      <th>137229</th>\n",
       "      <td>Italy</td>\n",
       "      <td>More Pinot Grigios should taste like this. A r...</td>\n",
       "      <td>*Unknown Wine*</td>\n",
       "      <td>90</td>\n",
       "      <td>15.0</td>\n",
       "      <td>Northeastern Italy</td>\n",
       "      <td>Alto Adige</td>\n",
       "      <td>Alto Adige</td>\n",
       "      <td>Pinot Grigio</td>\n",
       "      <td>Alois Lageder</td>\n",
       "    </tr>\n",
       "  </tbody>\n",
       "</table>\n",
       "<p>137230 rows × 10 columns</p>\n",
       "</div>"
      ],
      "text/plain": [
       "       country                                        description  \\\n",
       "0           US  This tremendous 100% varietal wine hails from ...   \n",
       "1        Spain  Ripe aromas of fig, blackberry and cassis are ...   \n",
       "2           US  Mac Watson honors the memory of a wine once ma...   \n",
       "3           US  This spent 20 months in 30% new French oak, an...   \n",
       "4       France  This is the top wine from La Bégude, named aft...   \n",
       "...        ...                                                ...   \n",
       "137225   Italy  Many people feel Fiano represents southern Ita...   \n",
       "137226  France  Offers an intriguing nose with ginger, lime an...   \n",
       "137227   Italy  This classic example comes from a cru vineyard...   \n",
       "137228  France  A perfect salmon shade, with scents of peaches...   \n",
       "137229   Italy  More Pinot Grigios should taste like this. A r...   \n",
       "\n",
       "                                 designation  points  price  \\\n",
       "0                          Martha's Vineyard      96  235.0   \n",
       "1       Carodorum Selección Especial Reserva      96  110.0   \n",
       "2              Special Selected Late Harvest      96   90.0   \n",
       "3                                    Reserve      96   65.0   \n",
       "4                                 La Brûlade      95   66.0   \n",
       "...                                      ...     ...    ...   \n",
       "137225                        *Unknown Wine*      91   20.0   \n",
       "137226                        Cuvée Prestige      91   27.0   \n",
       "137227                         Terre di Dora      91   20.0   \n",
       "137228                       Grand Brut Rosé      90   52.0   \n",
       "137229                        *Unknown Wine*      90   15.0   \n",
       "\n",
       "                  province           region_1           region_2  \\\n",
       "0               California        Napa Valley               Napa   \n",
       "1           Northern Spain               Toro               Toro   \n",
       "2               California     Knights Valley             Sonoma   \n",
       "3                   Oregon  Willamette Valley  Willamette Valley   \n",
       "4                 Provence             Bandol             Bandol   \n",
       "...                    ...                ...                ...   \n",
       "137225      Southern Italy  Fiano di Avellino  Fiano di Avellino   \n",
       "137226           Champagne          Champagne          Champagne   \n",
       "137227      Southern Italy  Fiano di Avellino  Fiano di Avellino   \n",
       "137228           Champagne          Champagne          Champagne   \n",
       "137229  Northeastern Italy         Alto Adige         Alto Adige   \n",
       "\n",
       "                   variety                   winery  \n",
       "0       Cabernet Sauvignon                    Heitz  \n",
       "1            Tinta de Toro  Bodega Carmen Rodríguez  \n",
       "2          Sauvignon Blanc                 Macauley  \n",
       "3               Pinot Noir                    Ponzi  \n",
       "4       Provence red blend     Domaine de la Bégude  \n",
       "...                    ...                      ...  \n",
       "137225         White Blend    Feudi di San Gregorio  \n",
       "137226     Champagne Blend                H.Germain  \n",
       "137227         White Blend                Terredora  \n",
       "137228     Champagne Blend                   Gosset  \n",
       "137229        Pinot Grigio            Alois Lageder  \n",
       "\n",
       "[137230 rows x 10 columns]"
      ]
     },
     "execution_count": 110,
     "metadata": {},
     "output_type": "execute_result"
    }
   ],
   "source": [
    "clean_df = df.loc[mask & mask2].reset_index(drop=True)\n",
    "clean_df['designation'].replace(np.nan,'*Unknown Wine*', inplace=True)\n",
    "clean_df.loc[clean_df['region_1'].isnull(),'region_1']=clean_df['province']\n",
    "clean_df.loc[clean_df['region_2'].isnull(),'region_2']=clean_df['region_1']\n",
    "clean_df"
   ]
  },
  {
   "cell_type": "code",
   "execution_count": 111,
   "metadata": {},
   "outputs": [
    {
     "data": {
      "text/plain": [
       "US                        62139\n",
       "Italy                     18784\n",
       "France                    14785\n",
       "Spain                      8160\n",
       "Chile                      5766\n",
       "Argentina                  5587\n",
       "Australia                  4894\n",
       "Portugal                   4176\n",
       "New Zealand                3070\n",
       "Austria                    2483\n",
       "Germany                    2347\n",
       "South Africa               2237\n",
       "Greece                      872\n",
       "Israel                      610\n",
       "Hungary                     230\n",
       "Canada                      194\n",
       "Romania                     139\n",
       "Uruguay                      85\n",
       "Croatia                      83\n",
       "Slovenia                     81\n",
       "Bulgaria                     77\n",
       "Moldova                      71\n",
       "Mexico                       63\n",
       "Turkey                       50\n",
       "Georgia                      43\n",
       "Lebanon                      37\n",
       "Cyprus                       31\n",
       "Brazil                       25\n",
       "Macedonia                    16\n",
       "Serbia                       14\n",
       "Morocco                      12\n",
       "Luxembourg                    9\n",
       "Lithuania                     8\n",
       "England                       8\n",
       "India                         8\n",
       "Czech Republic                6\n",
       "Ukraine                       5\n",
       "Switzerland                   4\n",
       "South Korea                   4\n",
       "Bosnia and Herzegovina        4\n",
       "China                         3\n",
       "Slovakia                      3\n",
       "Montenegro                    2\n",
       "Japan                         2\n",
       "Albania                       2\n",
       "US-France                     1\n",
       "Name: country, dtype: int64"
      ]
     },
     "execution_count": 111,
     "metadata": {},
     "output_type": "execute_result"
    }
   ],
   "source": [
    "clean_df.country.value_counts()"
   ]
  },
  {
   "cell_type": "code",
   "execution_count": 112,
   "metadata": {},
   "outputs": [],
   "source": [
    "top10 = clean_df.country.value_counts()[0:10].sort_values(ascending=True)"
   ]
  },
  {
   "cell_type": "code",
   "execution_count": 113,
   "metadata": {},
   "outputs": [
    {
     "data": {
      "image/png": "[encoded data removed]",
      "text/plain": [
       "<Figure size 432x288 with 1 Axes>"
      ]
     },
     "metadata": {
      "needs_background": "light"
     },
     "output_type": "display_data"
    }
   ],
   "source": [
    "#This bar graph shows the number of wine by top 10 countries\n",
    "plt.barh(top10.index, top10.values)\n",
    "plt.show()"
   ]
  },
  {
   "cell_type": "code",
   "execution_count": 114,
   "metadata": {},
   "outputs": [
    {
     "data": {
      "image/png": "[encoded data removed]",
      "text/plain": [
       "<Figure size 432x288 with 1 Axes>"
      ]
     },
     "metadata": {
      "needs_background": "light"
     },
     "output_type": "display_data"
    },
    {
     "name": "stdout",
     "output_type": "stream",
     "text": [
      "Chardonnay             13775\n",
      "Pinot Noir             13625\n",
      "Cabernet Sauvignon     12671\n",
      "Red Blend               9377\n",
      "Sauvignon Blanc         6054\n",
      "                       ...  \n",
      "Kuntra                     1\n",
      "Cabernet-Shiraz            1\n",
      "Azal                       1\n",
      "Malbec-Petit Verdot        1\n",
      "Silvaner-Traminer          1\n",
      "Name: variety, Length: 619, dtype: int64\n"
     ]
    }
   ],
   "source": [
    "#Top 10 variety of wines in the dataset\n",
    "variety10 = clean_df.variety.value_counts()[0:10].sort_values(ascending=True)\n",
    "plt.barh(variety10.index, variety10.values)\n",
    "plt.show()\n",
    "\n",
    "#All variety counts\n",
    "counts = clean_df.variety.value_counts()\n",
    "print(counts)"
   ]
  },
  {
   "cell_type": "code",
   "execution_count": 115,
   "metadata": {},
   "outputs": [
    {
     "data": {
      "image/png": "[encoded data removed]",
      "text/plain": [
       "<Figure size 432x288 with 1 Axes>"
      ]
     },
     "metadata": {
      "needs_background": "light"
     },
     "output_type": "display_data"
    }
   ],
   "source": [
    "plt.bar(counts.index, counts.values)\n",
    "plt.show()"
   ]
  },
  {
   "cell_type": "code",
   "execution_count": 116,
   "metadata": {},
   "outputs": [],
   "source": [
    "reds = pd.read_csv('Wine_Reds.csv').dropna()\n",
    "reds = reds.rename(columns = {\"Variety\":\"variety\"})"
   ]
  },
  {
   "cell_type": "code",
   "execution_count": 117,
   "metadata": {},
   "outputs": [],
   "source": [
    "temp = pd.merge(clean_df,reds,on = \"variety\", how = \"left\")\n",
    "mask5 = pd.notnull(temp[\"Red?\"])\n",
    "wine_df = temp.loc[mask5].reset_index(drop=True)"
   ]
  },
  {
   "cell_type": "code",
   "execution_count": 118,
   "metadata": {},
   "outputs": [],
   "source": [
    "wine_df['Still_Red'] = wine_df['Red?'].astype(int)"
   ]
  },
  {
   "cell_type": "code",
   "execution_count": 119,
   "metadata": {
    "scrolled": true
   },
   "outputs": [
    {
     "data": {
      "text/html": [
       "<div>\n",
       "<style scoped>\n",
       "    .dataframe tbody tr th:only-of-type {\n",
       "        vertical-align: middle;\n",
       "    }\n",
       "\n",
       "    .dataframe tbody tr th {\n",
       "        vertical-align: top;\n",
       "    }\n",
       "\n",
       "    .dataframe thead th {\n",
       "        text-align: right;\n",
       "    }\n",
       "</style>\n",
       "<table border=\"1\" class=\"dataframe\">\n",
       "  <thead>\n",
       "    <tr style=\"text-align: right;\">\n",
       "      <th></th>\n",
       "      <th>country</th>\n",
       "      <th>description</th>\n",
       "      <th>designation</th>\n",
       "      <th>points</th>\n",
       "      <th>price</th>\n",
       "      <th>province</th>\n",
       "      <th>region_1</th>\n",
       "      <th>region_2</th>\n",
       "      <th>variety</th>\n",
       "      <th>winery</th>\n",
       "      <th>Counts</th>\n",
       "      <th>Red?</th>\n",
       "      <th>Still_Red</th>\n",
       "    </tr>\n",
       "  </thead>\n",
       "  <tbody>\n",
       "    <tr>\n",
       "      <th>0</th>\n",
       "      <td>US</td>\n",
       "      <td>This tremendous 100% varietal wine hails from ...</td>\n",
       "      <td>Martha's Vineyard</td>\n",
       "      <td>96</td>\n",
       "      <td>235.0</td>\n",
       "      <td>California</td>\n",
       "      <td>Napa Valley</td>\n",
       "      <td>Napa</td>\n",
       "      <td>Cabernet Sauvignon</td>\n",
       "      <td>Heitz</td>\n",
       "      <td>12671.0</td>\n",
       "      <td>True</td>\n",
       "      <td>1</td>\n",
       "    </tr>\n",
       "    <tr>\n",
       "      <th>1</th>\n",
       "      <td>Spain</td>\n",
       "      <td>Ripe aromas of fig, blackberry and cassis are ...</td>\n",
       "      <td>Carodorum Selección Especial Reserva</td>\n",
       "      <td>96</td>\n",
       "      <td>110.0</td>\n",
       "      <td>Northern Spain</td>\n",
       "      <td>Toro</td>\n",
       "      <td>Toro</td>\n",
       "      <td>Tinta de Toro</td>\n",
       "      <td>Bodega Carmen Rodríguez</td>\n",
       "      <td>221.0</td>\n",
       "      <td>True</td>\n",
       "      <td>1</td>\n",
       "    </tr>\n",
       "    <tr>\n",
       "      <th>2</th>\n",
       "      <td>US</td>\n",
       "      <td>Mac Watson honors the memory of a wine once ma...</td>\n",
       "      <td>Special Selected Late Harvest</td>\n",
       "      <td>96</td>\n",
       "      <td>90.0</td>\n",
       "      <td>California</td>\n",
       "      <td>Knights Valley</td>\n",
       "      <td>Sonoma</td>\n",
       "      <td>Sauvignon Blanc</td>\n",
       "      <td>Macauley</td>\n",
       "      <td>6054.0</td>\n",
       "      <td>False</td>\n",
       "      <td>0</td>\n",
       "    </tr>\n",
       "    <tr>\n",
       "      <th>3</th>\n",
       "      <td>US</td>\n",
       "      <td>This spent 20 months in 30% new French oak, an...</td>\n",
       "      <td>Reserve</td>\n",
       "      <td>96</td>\n",
       "      <td>65.0</td>\n",
       "      <td>Oregon</td>\n",
       "      <td>Willamette Valley</td>\n",
       "      <td>Willamette Valley</td>\n",
       "      <td>Pinot Noir</td>\n",
       "      <td>Ponzi</td>\n",
       "      <td>13625.0</td>\n",
       "      <td>True</td>\n",
       "      <td>1</td>\n",
       "    </tr>\n",
       "    <tr>\n",
       "      <th>4</th>\n",
       "      <td>Spain</td>\n",
       "      <td>Deep, dense and pure from the opening bell, th...</td>\n",
       "      <td>Numanthia</td>\n",
       "      <td>95</td>\n",
       "      <td>73.0</td>\n",
       "      <td>Northern Spain</td>\n",
       "      <td>Toro</td>\n",
       "      <td>Toro</td>\n",
       "      <td>Tinta de Toro</td>\n",
       "      <td>Numanthia</td>\n",
       "      <td>221.0</td>\n",
       "      <td>True</td>\n",
       "      <td>1</td>\n",
       "    </tr>\n",
       "    <tr>\n",
       "      <th>...</th>\n",
       "      <td>...</td>\n",
       "      <td>...</td>\n",
       "      <td>...</td>\n",
       "      <td>...</td>\n",
       "      <td>...</td>\n",
       "      <td>...</td>\n",
       "      <td>...</td>\n",
       "      <td>...</td>\n",
       "      <td>...</td>\n",
       "      <td>...</td>\n",
       "      <td>...</td>\n",
       "      <td>...</td>\n",
       "      <td>...</td>\n",
       "    </tr>\n",
       "    <tr>\n",
       "      <th>134284</th>\n",
       "      <td>Italy</td>\n",
       "      <td>Many people feel Fiano represents southern Ita...</td>\n",
       "      <td>*Unknown Wine*</td>\n",
       "      <td>91</td>\n",
       "      <td>20.0</td>\n",
       "      <td>Southern Italy</td>\n",
       "      <td>Fiano di Avellino</td>\n",
       "      <td>Fiano di Avellino</td>\n",
       "      <td>White Blend</td>\n",
       "      <td>Feudi di San Gregorio</td>\n",
       "      <td>2554.0</td>\n",
       "      <td>False</td>\n",
       "      <td>0</td>\n",
       "    </tr>\n",
       "    <tr>\n",
       "      <th>134285</th>\n",
       "      <td>France</td>\n",
       "      <td>Offers an intriguing nose with ginger, lime an...</td>\n",
       "      <td>Cuvée Prestige</td>\n",
       "      <td>91</td>\n",
       "      <td>27.0</td>\n",
       "      <td>Champagne</td>\n",
       "      <td>Champagne</td>\n",
       "      <td>Champagne</td>\n",
       "      <td>Champagne Blend</td>\n",
       "      <td>H.Germain</td>\n",
       "      <td>1003.0</td>\n",
       "      <td>False</td>\n",
       "      <td>0</td>\n",
       "    </tr>\n",
       "    <tr>\n",
       "      <th>134286</th>\n",
       "      <td>Italy</td>\n",
       "      <td>This classic example comes from a cru vineyard...</td>\n",
       "      <td>Terre di Dora</td>\n",
       "      <td>91</td>\n",
       "      <td>20.0</td>\n",
       "      <td>Southern Italy</td>\n",
       "      <td>Fiano di Avellino</td>\n",
       "      <td>Fiano di Avellino</td>\n",
       "      <td>White Blend</td>\n",
       "      <td>Terredora</td>\n",
       "      <td>2554.0</td>\n",
       "      <td>False</td>\n",
       "      <td>0</td>\n",
       "    </tr>\n",
       "    <tr>\n",
       "      <th>134287</th>\n",
       "      <td>France</td>\n",
       "      <td>A perfect salmon shade, with scents of peaches...</td>\n",
       "      <td>Grand Brut Rosé</td>\n",
       "      <td>90</td>\n",
       "      <td>52.0</td>\n",
       "      <td>Champagne</td>\n",
       "      <td>Champagne</td>\n",
       "      <td>Champagne</td>\n",
       "      <td>Champagne Blend</td>\n",
       "      <td>Gosset</td>\n",
       "      <td>1003.0</td>\n",
       "      <td>False</td>\n",
       "      <td>0</td>\n",
       "    </tr>\n",
       "    <tr>\n",
       "      <th>134288</th>\n",
       "      <td>Italy</td>\n",
       "      <td>More Pinot Grigios should taste like this. A r...</td>\n",
       "      <td>*Unknown Wine*</td>\n",
       "      <td>90</td>\n",
       "      <td>15.0</td>\n",
       "      <td>Northeastern Italy</td>\n",
       "      <td>Alto Adige</td>\n",
       "      <td>Alto Adige</td>\n",
       "      <td>Pinot Grigio</td>\n",
       "      <td>Alois Lageder</td>\n",
       "      <td>1270.0</td>\n",
       "      <td>False</td>\n",
       "      <td>0</td>\n",
       "    </tr>\n",
       "  </tbody>\n",
       "</table>\n",
       "<p>134289 rows × 13 columns</p>\n",
       "</div>"
      ],
      "text/plain": [
       "       country                                        description  \\\n",
       "0           US  This tremendous 100% varietal wine hails from ...   \n",
       "1        Spain  Ripe aromas of fig, blackberry and cassis are ...   \n",
       "2           US  Mac Watson honors the memory of a wine once ma...   \n",
       "3           US  This spent 20 months in 30% new French oak, an...   \n",
       "4        Spain  Deep, dense and pure from the opening bell, th...   \n",
       "...        ...                                                ...   \n",
       "134284   Italy  Many people feel Fiano represents southern Ita...   \n",
       "134285  France  Offers an intriguing nose with ginger, lime an...   \n",
       "134286   Italy  This classic example comes from a cru vineyard...   \n",
       "134287  France  A perfect salmon shade, with scents of peaches...   \n",
       "134288   Italy  More Pinot Grigios should taste like this. A r...   \n",
       "\n",
       "                                 designation  points  price  \\\n",
       "0                          Martha's Vineyard      96  235.0   \n",
       "1       Carodorum Selección Especial Reserva      96  110.0   \n",
       "2              Special Selected Late Harvest      96   90.0   \n",
       "3                                    Reserve      96   65.0   \n",
       "4                                  Numanthia      95   73.0   \n",
       "...                                      ...     ...    ...   \n",
       "134284                        *Unknown Wine*      91   20.0   \n",
       "134285                        Cuvée Prestige      91   27.0   \n",
       "134286                         Terre di Dora      91   20.0   \n",
       "134287                       Grand Brut Rosé      90   52.0   \n",
       "134288                        *Unknown Wine*      90   15.0   \n",
       "\n",
       "                  province           region_1           region_2  \\\n",
       "0               California        Napa Valley               Napa   \n",
       "1           Northern Spain               Toro               Toro   \n",
       "2               California     Knights Valley             Sonoma   \n",
       "3                   Oregon  Willamette Valley  Willamette Valley   \n",
       "4           Northern Spain               Toro               Toro   \n",
       "...                    ...                ...                ...   \n",
       "134284      Southern Italy  Fiano di Avellino  Fiano di Avellino   \n",
       "134285           Champagne          Champagne          Champagne   \n",
       "134286      Southern Italy  Fiano di Avellino  Fiano di Avellino   \n",
       "134287           Champagne          Champagne          Champagne   \n",
       "134288  Northeastern Italy         Alto Adige         Alto Adige   \n",
       "\n",
       "                   variety                   winery   Counts   Red?  Still_Red  \n",
       "0       Cabernet Sauvignon                    Heitz  12671.0   True          1  \n",
       "1            Tinta de Toro  Bodega Carmen Rodríguez    221.0   True          1  \n",
       "2          Sauvignon Blanc                 Macauley   6054.0  False          0  \n",
       "3               Pinot Noir                    Ponzi  13625.0   True          1  \n",
       "4            Tinta de Toro                Numanthia    221.0   True          1  \n",
       "...                    ...                      ...      ...    ...        ...  \n",
       "134284         White Blend    Feudi di San Gregorio   2554.0  False          0  \n",
       "134285     Champagne Blend                H.Germain   1003.0  False          0  \n",
       "134286         White Blend                Terredora   2554.0  False          0  \n",
       "134287     Champagne Blend                   Gosset   1003.0  False          0  \n",
       "134288        Pinot Grigio            Alois Lageder   1270.0  False          0  \n",
       "\n",
       "[134289 rows x 13 columns]"
      ]
     },
     "execution_count": 119,
     "metadata": {},
     "output_type": "execute_result"
    }
   ],
   "source": [
    "wine_df"
   ]
  },
  {
   "cell_type": "code",
   "execution_count": 120,
   "metadata": {},
   "outputs": [
    {
     "data": {
      "text/plain": [
       "US                44550\n",
       "Italy             13365\n",
       "France             8021\n",
       "Spain              6510\n",
       "Argentina          4735\n",
       "Chile              4060\n",
       "Australia          3314\n",
       "Portugal           2982\n",
       "Austria            1620\n",
       "South Africa       1277\n",
       "New Zealand        1129\n",
       "Greece              513\n",
       "Israel              470\n",
       "Germany             192\n",
       "Hungary              80\n",
       "Uruguay              72\n",
       "Romania              64\n",
       "Canada               61\n",
       "Moldova              42\n",
       "Mexico               42\n",
       "Bulgaria             42\n",
       "Slovenia             25\n",
       "Brazil               24\n",
       "Lebanon              23\n",
       "Cyprus               23\n",
       "Turkey               22\n",
       "Croatia              16\n",
       "Lithuania             8\n",
       "Georgia               7\n",
       "Morocco               7\n",
       "England               6\n",
       "Macedonia             6\n",
       "Ukraine               4\n",
       "India                 4\n",
       "Serbia                3\n",
       "Switzerland           2\n",
       "Czech Republic        2\n",
       "Name: country, dtype: int64"
      ]
     },
     "execution_count": 120,
     "metadata": {},
     "output_type": "execute_result"
    }
   ],
   "source": [
    "#Red wines produced per country\n",
    "mask_red = wine_df.Still_Red == 1\n",
    "wine_red = wine_df.loc[mask_red]\n",
    "wine_red.country.value_counts()"
   ]
  },
  {
   "cell_type": "code",
   "execution_count": 121,
   "metadata": {},
   "outputs": [
    {
     "data": {
      "image/png": "[encoded data removed]",
      "text/plain": [
       "<Figure size 432x288 with 1 Axes>"
      ]
     },
     "metadata": {
      "needs_background": "light"
     },
     "output_type": "display_data"
    },
    {
     "data": {
      "image/png": "[encoded data removed]",
      "text/plain": [
       "<Figure size 432x288 with 1 Axes>"
      ]
     },
     "metadata": {
      "needs_background": "light"
     },
     "output_type": "display_data"
    },
    {
     "data": {
      "image/png": "[encoded data removed]",
      "text/plain": [
       "<Figure size 432x288 with 1 Axes>"
      ]
     },
     "metadata": {
      "needs_background": "light"
     },
     "output_type": "display_data"
    },
    {
     "data": {
      "image/png": "[encoded data removed]",
      "text/plain": [
       "<Figure size 432x288 with 1 Axes>"
      ]
     },
     "metadata": {
      "needs_background": "light"
     },
     "output_type": "display_data"
    },
    {
     "data": {
      "image/png": "[encoded data removed]",
      "text/plain": [
       "<Figure size 432x288 with 1 Axes>"
      ]
     },
     "metadata": {
      "needs_background": "light"
     },
     "output_type": "display_data"
    },
    {
     "data": {
      "image/png": "[encoded data removed]",
      "text/plain": [
       "<Figure size 432x288 with 1 Axes>"
      ]
     },
     "metadata": {
      "needs_background": "light"
     },
     "output_type": "display_data"
    },
    {
     "data": {
      "image/png": "[encoded data removed]",
      "text/plain": [
       "<Figure size 432x288 with 1 Axes>"
      ]
     },
     "metadata": {
      "needs_background": "light"
     },
     "output_type": "display_data"
    },
    {
     "data": {
      "image/png": "[encoded data removed]",
      "text/plain": [
       "<Figure size 432x288 with 1 Axes>"
      ]
     },
     "metadata": {
      "needs_background": "light"
     },
     "output_type": "display_data"
    },
    {
     "data": {
      "image/png": "[encoded data removed]",
      "text/plain": [
       "<Figure size 432x288 with 1 Axes>"
      ]
     },
     "metadata": {
      "needs_background": "light"
     },
     "output_type": "display_data"
    },
    {
     "data": {
      "image/png": "[encoded data removed]",
      "text/plain": [
       "<Figure size 432x288 with 1 Axes>"
      ]
     },
     "metadata": {
      "needs_background": "light"
     },
     "output_type": "display_data"
    },
    {
     "data": {
      "image/png": "[encoded data removed]",
      "text/plain": [
       "<Figure size 432x288 with 1 Axes>"
      ]
     },
     "metadata": {
      "needs_background": "light"
     },
     "output_type": "display_data"
    },
    {
     "data": {
      "image/png": "[encoded data removed]",
      "text/plain": [
       "<Figure size 432x288 with 1 Axes>"
      ]
     },
     "metadata": {
      "needs_background": "light"
     },
     "output_type": "display_data"
    }
   ],
   "source": [
    "#Plot top 12 red wine producing countries\n",
    "for country in wine_red.country.value_counts().index[0:12]:\n",
    "    mask6 = wine_red.country == country \n",
    "    red_wine = wine_red.loc[mask6]\n",
    "    \n",
    "    plt.hist(red_wine.points, bins = 10)\n",
    "    plt.xlim(80,100)\n",
    "    plt.title(country)\n",
    "    plt.ylabel(\"Number of wines with (x) points\")\n",
    "    plt.show()"
   ]
  },
  {
   "cell_type": "code",
   "execution_count": 122,
   "metadata": {},
   "outputs": [
    {
     "data": {
      "text/html": [
       "<div>\n",
       "<style scoped>\n",
       "    .dataframe tbody tr th:only-of-type {\n",
       "        vertical-align: middle;\n",
       "    }\n",
       "\n",
       "    .dataframe tbody tr th {\n",
       "        vertical-align: top;\n",
       "    }\n",
       "\n",
       "    .dataframe thead th {\n",
       "        text-align: right;\n",
       "    }\n",
       "</style>\n",
       "<table border=\"1\" class=\"dataframe\">\n",
       "  <thead>\n",
       "    <tr style=\"text-align: right;\">\n",
       "      <th></th>\n",
       "      <th>country</th>\n",
       "      <th>description</th>\n",
       "      <th>designation</th>\n",
       "      <th>points</th>\n",
       "      <th>price</th>\n",
       "      <th>province</th>\n",
       "      <th>region_1</th>\n",
       "      <th>region_2</th>\n",
       "      <th>variety</th>\n",
       "      <th>winery</th>\n",
       "      <th>Counts</th>\n",
       "      <th>Red?</th>\n",
       "      <th>Still_Red</th>\n",
       "    </tr>\n",
       "  </thead>\n",
       "  <tbody>\n",
       "    <tr>\n",
       "      <th>0</th>\n",
       "      <td>US</td>\n",
       "      <td>This tremendous 100% varietal wine hails from ...</td>\n",
       "      <td>Martha's Vineyard</td>\n",
       "      <td>96</td>\n",
       "      <td>235.0</td>\n",
       "      <td>California</td>\n",
       "      <td>Napa Valley</td>\n",
       "      <td>Napa</td>\n",
       "      <td>Cabernet Sauvignon</td>\n",
       "      <td>Heitz</td>\n",
       "      <td>12671.0</td>\n",
       "      <td>True</td>\n",
       "      <td>1</td>\n",
       "    </tr>\n",
       "    <tr>\n",
       "      <th>1</th>\n",
       "      <td>Spain</td>\n",
       "      <td>Ripe aromas of fig, blackberry and cassis are ...</td>\n",
       "      <td>Carodorum Selección Especial Reserva</td>\n",
       "      <td>96</td>\n",
       "      <td>110.0</td>\n",
       "      <td>Northern Spain</td>\n",
       "      <td>Toro</td>\n",
       "      <td>Toro</td>\n",
       "      <td>Tinta de Toro</td>\n",
       "      <td>Bodega Carmen Rodríguez</td>\n",
       "      <td>221.0</td>\n",
       "      <td>True</td>\n",
       "      <td>1</td>\n",
       "    </tr>\n",
       "    <tr>\n",
       "      <th>3</th>\n",
       "      <td>US</td>\n",
       "      <td>This spent 20 months in 30% new French oak, an...</td>\n",
       "      <td>Reserve</td>\n",
       "      <td>96</td>\n",
       "      <td>65.0</td>\n",
       "      <td>Oregon</td>\n",
       "      <td>Willamette Valley</td>\n",
       "      <td>Willamette Valley</td>\n",
       "      <td>Pinot Noir</td>\n",
       "      <td>Ponzi</td>\n",
       "      <td>13625.0</td>\n",
       "      <td>True</td>\n",
       "      <td>1</td>\n",
       "    </tr>\n",
       "    <tr>\n",
       "      <th>4</th>\n",
       "      <td>Spain</td>\n",
       "      <td>Deep, dense and pure from the opening bell, th...</td>\n",
       "      <td>Numanthia</td>\n",
       "      <td>95</td>\n",
       "      <td>73.0</td>\n",
       "      <td>Northern Spain</td>\n",
       "      <td>Toro</td>\n",
       "      <td>Toro</td>\n",
       "      <td>Tinta de Toro</td>\n",
       "      <td>Numanthia</td>\n",
       "      <td>221.0</td>\n",
       "      <td>True</td>\n",
       "      <td>1</td>\n",
       "    </tr>\n",
       "    <tr>\n",
       "      <th>5</th>\n",
       "      <td>Spain</td>\n",
       "      <td>Slightly gritty black-fruit aromas include a s...</td>\n",
       "      <td>San Román</td>\n",
       "      <td>95</td>\n",
       "      <td>65.0</td>\n",
       "      <td>Northern Spain</td>\n",
       "      <td>Toro</td>\n",
       "      <td>Toro</td>\n",
       "      <td>Tinta de Toro</td>\n",
       "      <td>Maurodos</td>\n",
       "      <td>221.0</td>\n",
       "      <td>True</td>\n",
       "      <td>1</td>\n",
       "    </tr>\n",
       "    <tr>\n",
       "      <th>...</th>\n",
       "      <td>...</td>\n",
       "      <td>...</td>\n",
       "      <td>...</td>\n",
       "      <td>...</td>\n",
       "      <td>...</td>\n",
       "      <td>...</td>\n",
       "      <td>...</td>\n",
       "      <td>...</td>\n",
       "      <td>...</td>\n",
       "      <td>...</td>\n",
       "      <td>...</td>\n",
       "      <td>...</td>\n",
       "      <td>...</td>\n",
       "    </tr>\n",
       "    <tr>\n",
       "      <th>134269</th>\n",
       "      <td>France</td>\n",
       "      <td>This is a lovely, fragrant Burgundy, with a sm...</td>\n",
       "      <td>Clos dea Argillieres</td>\n",
       "      <td>89</td>\n",
       "      <td>52.0</td>\n",
       "      <td>Burgundy</td>\n",
       "      <td>Nuits-St.-Georges</td>\n",
       "      <td>Nuits-St.-Georges</td>\n",
       "      <td>Pinot Noir</td>\n",
       "      <td>Daniel Rion</td>\n",
       "      <td>13625.0</td>\n",
       "      <td>True</td>\n",
       "      <td>1</td>\n",
       "    </tr>\n",
       "    <tr>\n",
       "      <th>134270</th>\n",
       "      <td>France</td>\n",
       "      <td>Scents of graham cracker and malted milk choco...</td>\n",
       "      <td>*Unknown Wine*</td>\n",
       "      <td>89</td>\n",
       "      <td>38.0</td>\n",
       "      <td>Burgundy</td>\n",
       "      <td>Chambolle-Musigny</td>\n",
       "      <td>Chambolle-Musigny</td>\n",
       "      <td>Pinot Noir</td>\n",
       "      <td>Michel Gros</td>\n",
       "      <td>13625.0</td>\n",
       "      <td>True</td>\n",
       "      <td>1</td>\n",
       "    </tr>\n",
       "    <tr>\n",
       "      <th>134271</th>\n",
       "      <td>France</td>\n",
       "      <td>This needs a good bit of breathing time, then ...</td>\n",
       "      <td>Les Chaliots</td>\n",
       "      <td>87</td>\n",
       "      <td>37.0</td>\n",
       "      <td>Burgundy</td>\n",
       "      <td>Nuits-St.-Georges</td>\n",
       "      <td>Nuits-St.-Georges</td>\n",
       "      <td>Pinot Noir</td>\n",
       "      <td>Michel Gros</td>\n",
       "      <td>13625.0</td>\n",
       "      <td>True</td>\n",
       "      <td>1</td>\n",
       "    </tr>\n",
       "    <tr>\n",
       "      <th>134272</th>\n",
       "      <td>France</td>\n",
       "      <td>The nose is dominated by the attractive scents...</td>\n",
       "      <td>Les Charmes</td>\n",
       "      <td>87</td>\n",
       "      <td>65.0</td>\n",
       "      <td>Burgundy</td>\n",
       "      <td>Chambolle-Musigny</td>\n",
       "      <td>Chambolle-Musigny</td>\n",
       "      <td>Pinot Noir</td>\n",
       "      <td>Daniel Rion</td>\n",
       "      <td>13625.0</td>\n",
       "      <td>True</td>\n",
       "      <td>1</td>\n",
       "    </tr>\n",
       "    <tr>\n",
       "      <th>134273</th>\n",
       "      <td>France</td>\n",
       "      <td>Inky and rustic, yet in a refined manner. This...</td>\n",
       "      <td>*Unknown Wine*</td>\n",
       "      <td>94</td>\n",
       "      <td>30.0</td>\n",
       "      <td>Rhône Valley</td>\n",
       "      <td>Châteauneuf-du-Pape</td>\n",
       "      <td>Châteauneuf-du-Pape</td>\n",
       "      <td>Rhône-style Red Blend</td>\n",
       "      <td>Le Vieux Donjon</td>\n",
       "      <td>1455.0</td>\n",
       "      <td>True</td>\n",
       "      <td>1</td>\n",
       "    </tr>\n",
       "  </tbody>\n",
       "</table>\n",
       "<p>92546 rows × 13 columns</p>\n",
       "</div>"
      ],
      "text/plain": [
       "       country                                        description  \\\n",
       "0           US  This tremendous 100% varietal wine hails from ...   \n",
       "1        Spain  Ripe aromas of fig, blackberry and cassis are ...   \n",
       "3           US  This spent 20 months in 30% new French oak, an...   \n",
       "4        Spain  Deep, dense and pure from the opening bell, th...   \n",
       "5        Spain  Slightly gritty black-fruit aromas include a s...   \n",
       "...        ...                                                ...   \n",
       "134269  France  This is a lovely, fragrant Burgundy, with a sm...   \n",
       "134270  France  Scents of graham cracker and malted milk choco...   \n",
       "134271  France  This needs a good bit of breathing time, then ...   \n",
       "134272  France  The nose is dominated by the attractive scents...   \n",
       "134273  France  Inky and rustic, yet in a refined manner. This...   \n",
       "\n",
       "                                 designation  points  price        province  \\\n",
       "0                          Martha's Vineyard      96  235.0      California   \n",
       "1       Carodorum Selección Especial Reserva      96  110.0  Northern Spain   \n",
       "3                                    Reserve      96   65.0          Oregon   \n",
       "4                                  Numanthia      95   73.0  Northern Spain   \n",
       "5                                  San Román      95   65.0  Northern Spain   \n",
       "...                                      ...     ...    ...             ...   \n",
       "134269                  Clos dea Argillieres      89   52.0        Burgundy   \n",
       "134270                        *Unknown Wine*      89   38.0        Burgundy   \n",
       "134271                          Les Chaliots      87   37.0        Burgundy   \n",
       "134272                           Les Charmes      87   65.0        Burgundy   \n",
       "134273                        *Unknown Wine*      94   30.0    Rhône Valley   \n",
       "\n",
       "                   region_1             region_2                variety  \\\n",
       "0               Napa Valley                 Napa     Cabernet Sauvignon   \n",
       "1                      Toro                 Toro          Tinta de Toro   \n",
       "3         Willamette Valley    Willamette Valley             Pinot Noir   \n",
       "4                      Toro                 Toro          Tinta de Toro   \n",
       "5                      Toro                 Toro          Tinta de Toro   \n",
       "...                     ...                  ...                    ...   \n",
       "134269    Nuits-St.-Georges    Nuits-St.-Georges             Pinot Noir   \n",
       "134270    Chambolle-Musigny    Chambolle-Musigny             Pinot Noir   \n",
       "134271    Nuits-St.-Georges    Nuits-St.-Georges             Pinot Noir   \n",
       "134272    Chambolle-Musigny    Chambolle-Musigny             Pinot Noir   \n",
       "134273  Châteauneuf-du-Pape  Châteauneuf-du-Pape  Rhône-style Red Blend   \n",
       "\n",
       "                         winery   Counts  Red?  Still_Red  \n",
       "0                         Heitz  12671.0  True          1  \n",
       "1       Bodega Carmen Rodríguez    221.0  True          1  \n",
       "3                         Ponzi  13625.0  True          1  \n",
       "4                     Numanthia    221.0  True          1  \n",
       "5                      Maurodos    221.0  True          1  \n",
       "...                         ...      ...   ...        ...  \n",
       "134269              Daniel Rion  13625.0  True          1  \n",
       "134270              Michel Gros  13625.0  True          1  \n",
       "134271              Michel Gros  13625.0  True          1  \n",
       "134272              Daniel Rion  13625.0  True          1  \n",
       "134273          Le Vieux Donjon   1455.0  True          1  \n",
       "\n",
       "[92546 rows x 13 columns]"
      ]
     },
     "execution_count": 122,
     "metadata": {},
     "output_type": "execute_result"
    }
   ],
   "source": [
    "#Dataframe sorted by Wine type: red\n",
    "mask8 = wine_red.country.isin(wine_red.country.value_counts().head(13).index)\n",
    "red2 = wine_red.loc[mask8]\n",
    "red2"
   ]
  },
  {
   "cell_type": "code",
   "execution_count": 123,
   "metadata": {},
   "outputs": [
    {
     "data": {
      "text/html": [
       "<div>\n",
       "<style scoped>\n",
       "    .dataframe tbody tr th:only-of-type {\n",
       "        vertical-align: middle;\n",
       "    }\n",
       "\n",
       "    .dataframe tbody tr th {\n",
       "        vertical-align: top;\n",
       "    }\n",
       "\n",
       "    .dataframe thead th {\n",
       "        text-align: right;\n",
       "    }\n",
       "</style>\n",
       "<table border=\"1\" class=\"dataframe\">\n",
       "  <thead>\n",
       "    <tr style=\"text-align: right;\">\n",
       "      <th></th>\n",
       "      <th>country</th>\n",
       "      <th>description</th>\n",
       "      <th>designation</th>\n",
       "      <th>points</th>\n",
       "      <th>price</th>\n",
       "      <th>province</th>\n",
       "      <th>region_1</th>\n",
       "      <th>region_2</th>\n",
       "      <th>variety</th>\n",
       "      <th>winery</th>\n",
       "      <th>Counts</th>\n",
       "      <th>Red?</th>\n",
       "      <th>Still_Red</th>\n",
       "    </tr>\n",
       "  </thead>\n",
       "  <tbody>\n",
       "    <tr>\n",
       "      <th>0</th>\n",
       "      <td>US</td>\n",
       "      <td>This tremendous 100% varietal wine hails from ...</td>\n",
       "      <td>Martha's Vineyard</td>\n",
       "      <td>96</td>\n",
       "      <td>235.0</td>\n",
       "      <td>California</td>\n",
       "      <td>Napa Valley</td>\n",
       "      <td>Napa</td>\n",
       "      <td>Cabernet Sauvignon</td>\n",
       "      <td>Heitz</td>\n",
       "      <td>12671.0</td>\n",
       "      <td>True</td>\n",
       "      <td>1</td>\n",
       "    </tr>\n",
       "    <tr>\n",
       "      <th>1</th>\n",
       "      <td>Spain</td>\n",
       "      <td>Ripe aromas of fig, blackberry and cassis are ...</td>\n",
       "      <td>Carodorum Selección Especial Reserva</td>\n",
       "      <td>96</td>\n",
       "      <td>110.0</td>\n",
       "      <td>Northern Spain</td>\n",
       "      <td>Toro</td>\n",
       "      <td>Toro</td>\n",
       "      <td>Tinta de Toro</td>\n",
       "      <td>Bodega Carmen Rodríguez</td>\n",
       "      <td>221.0</td>\n",
       "      <td>True</td>\n",
       "      <td>1</td>\n",
       "    </tr>\n",
       "    <tr>\n",
       "      <th>3</th>\n",
       "      <td>US</td>\n",
       "      <td>This spent 20 months in 30% new French oak, an...</td>\n",
       "      <td>Reserve</td>\n",
       "      <td>96</td>\n",
       "      <td>65.0</td>\n",
       "      <td>Oregon</td>\n",
       "      <td>Willamette Valley</td>\n",
       "      <td>Willamette Valley</td>\n",
       "      <td>Pinot Noir</td>\n",
       "      <td>Ponzi</td>\n",
       "      <td>13625.0</td>\n",
       "      <td>True</td>\n",
       "      <td>1</td>\n",
       "    </tr>\n",
       "    <tr>\n",
       "      <th>4</th>\n",
       "      <td>Spain</td>\n",
       "      <td>Deep, dense and pure from the opening bell, th...</td>\n",
       "      <td>Numanthia</td>\n",
       "      <td>95</td>\n",
       "      <td>73.0</td>\n",
       "      <td>Northern Spain</td>\n",
       "      <td>Toro</td>\n",
       "      <td>Toro</td>\n",
       "      <td>Tinta de Toro</td>\n",
       "      <td>Numanthia</td>\n",
       "      <td>221.0</td>\n",
       "      <td>True</td>\n",
       "      <td>1</td>\n",
       "    </tr>\n",
       "    <tr>\n",
       "      <th>5</th>\n",
       "      <td>Spain</td>\n",
       "      <td>Slightly gritty black-fruit aromas include a s...</td>\n",
       "      <td>San Román</td>\n",
       "      <td>95</td>\n",
       "      <td>65.0</td>\n",
       "      <td>Northern Spain</td>\n",
       "      <td>Toro</td>\n",
       "      <td>Toro</td>\n",
       "      <td>Tinta de Toro</td>\n",
       "      <td>Maurodos</td>\n",
       "      <td>221.0</td>\n",
       "      <td>True</td>\n",
       "      <td>1</td>\n",
       "    </tr>\n",
       "  </tbody>\n",
       "</table>\n",
       "</div>"
      ],
      "text/plain": [
       "  country                                        description  \\\n",
       "0      US  This tremendous 100% varietal wine hails from ...   \n",
       "1   Spain  Ripe aromas of fig, blackberry and cassis are ...   \n",
       "3      US  This spent 20 months in 30% new French oak, an...   \n",
       "4   Spain  Deep, dense and pure from the opening bell, th...   \n",
       "5   Spain  Slightly gritty black-fruit aromas include a s...   \n",
       "\n",
       "                            designation  points  price        province  \\\n",
       "0                     Martha's Vineyard      96  235.0      California   \n",
       "1  Carodorum Selección Especial Reserva      96  110.0  Northern Spain   \n",
       "3                               Reserve      96   65.0          Oregon   \n",
       "4                             Numanthia      95   73.0  Northern Spain   \n",
       "5                             San Román      95   65.0  Northern Spain   \n",
       "\n",
       "            region_1           region_2             variety  \\\n",
       "0        Napa Valley               Napa  Cabernet Sauvignon   \n",
       "1               Toro               Toro       Tinta de Toro   \n",
       "3  Willamette Valley  Willamette Valley          Pinot Noir   \n",
       "4               Toro               Toro       Tinta de Toro   \n",
       "5               Toro               Toro       Tinta de Toro   \n",
       "\n",
       "                    winery   Counts  Red?  Still_Red  \n",
       "0                    Heitz  12671.0  True          1  \n",
       "1  Bodega Carmen Rodríguez    221.0  True          1  \n",
       "3                    Ponzi  13625.0  True          1  \n",
       "4                Numanthia    221.0  True          1  \n",
       "5                 Maurodos    221.0  True          1  "
      ]
     },
     "execution_count": 123,
     "metadata": {},
     "output_type": "execute_result"
    }
   ],
   "source": [
    "#Top 13 countries withcounts of red wine produced\n",
    "mask8 = wine_red.country.isin(wine_red.country.value_counts().head(13).index)\n",
    "red2 = wine_red.loc[mask8]\n",
    "red2.head()"
   ]
  },
  {
   "cell_type": "code",
   "execution_count": 124,
   "metadata": {},
   "outputs": [
    {
     "data": {
      "image/png": "[encoded data removed]",
      "text/plain": [
       "<Figure size 432x288 with 1 Axes>"
      ]
     },
     "metadata": {
      "needs_background": "light"
     },
     "output_type": "display_data"
    }
   ],
   "source": [
    "#Top 13 Countries by avg points for red whine produced\n",
    "red2.boxplot(column = 'points', by = 'country', rot = 45)\n",
    "plt.show()"
   ]
  },
  {
   "cell_type": "code",
   "execution_count": 125,
   "metadata": {},
   "outputs": [
    {
     "data": {
      "text/plain": [
       "US                17021\n",
       "France             6467\n",
       "Italy              4785\n",
       "Germany            2109\n",
       "New Zealand        1936\n",
       "Chile              1626\n",
       "Australia          1500\n",
       "Spain              1217\n",
       "Portugal            926\n",
       "South Africa        920\n",
       "Argentina           800\n",
       "Austria             750\n",
       "Greece              290\n",
       "Israel              128\n",
       "Canada              120\n",
       "Hungary             116\n",
       "Romania              57\n",
       "Slovenia             46\n",
       "Bulgaria             25\n",
       "Moldova              25\n",
       "Croatia              20\n",
       "Mexico               18\n",
       "Lebanon              13\n",
       "Uruguay              10\n",
       "Luxembourg            9\n",
       "Georgia               5\n",
       "India                 4\n",
       "Morocco               4\n",
       "Slovakia              3\n",
       "China                 3\n",
       "England               2\n",
       "Serbia                2\n",
       "Turkey                2\n",
       "Cyprus                2\n",
       "US-France             1\n",
       "Czech Republic        1\n",
       "Brazil                1\n",
       "Ukraine               1\n",
       "Switzerland           1\n",
       "Name: country, dtype: int64"
      ]
     },
     "execution_count": 125,
     "metadata": {},
     "output_type": "execute_result"
    }
   ],
   "source": [
    "#white wine produced by country\n",
    "mask_white = wine_df.Still_Red == 0\n",
    "wine_white = wine_df.loc[mask_white]\n",
    "wine_white.country.value_counts()"
   ]
  },
  {
   "cell_type": "code",
   "execution_count": 126,
   "metadata": {},
   "outputs": [
    {
     "data": {
      "image/png": "[encoded data removed]",
      "text/plain": [
       "<Figure size 432x288 with 1 Axes>"
      ]
     },
     "metadata": {
      "needs_background": "light"
     },
     "output_type": "display_data"
    },
    {
     "data": {
      "image/png": "[encoded data removed]",
      "text/plain": [
       "<Figure size 432x288 with 1 Axes>"
      ]
     },
     "metadata": {
      "needs_background": "light"
     },
     "output_type": "display_data"
    },
    {
     "data": {
      "image/png": "[encoded data removed]",
      "text/plain": [
       "<Figure size 432x288 with 1 Axes>"
      ]
     },
     "metadata": {
      "needs_background": "light"
     },
     "output_type": "display_data"
    },
    {
     "data": {
      "image/png": "[encoded data removed]",
      "text/plain": [
       "<Figure size 432x288 with 1 Axes>"
      ]
     },
     "metadata": {
      "needs_background": "light"
     },
     "output_type": "display_data"
    },
    {
     "data": {
      "image/png": "[encoded data removed]",
      "text/plain": [
       "<Figure size 432x288 with 1 Axes>"
      ]
     },
     "metadata": {
      "needs_background": "light"
     },
     "output_type": "display_data"
    },
    {
     "data": {
      "image/png": "[encoded data removed]",
      "text/plain": [
       "<Figure size 432x288 with 1 Axes>"
      ]
     },
     "metadata": {
      "needs_background": "light"
     },
     "output_type": "display_data"
    },
    {
     "data": {
      "image/png": "[encoded data removed]",
      "text/plain": [
       "<Figure size 432x288 with 1 Axes>"
      ]
     },
     "metadata": {
      "needs_background": "light"
     },
     "output_type": "display_data"
    },
    {
     "data": {
      "image/png": "[encoded data removed]",
      "text/plain": [
       "<Figure size 432x288 with 1 Axes>"
      ]
     },
     "metadata": {
      "needs_background": "light"
     },
     "output_type": "display_data"
    },
    {
     "data": {
      "image/png": "[encoded data removed]",
      "text/plain": [
       "<Figure size 432x288 with 1 Axes>"
      ]
     },
     "metadata": {
      "needs_background": "light"
     },
     "output_type": "display_data"
    },
    {
     "data": {
      "image/png": "[encoded data removed]",
      "text/plain": [
       "<Figure size 432x288 with 1 Axes>"
      ]
     },
     "metadata": {
      "needs_background": "light"
     },
     "output_type": "display_data"
    },
    {
     "data": {
      "image/png": "[encoded data removed]",
      "text/plain": [
       "<Figure size 432x288 with 1 Axes>"
      ]
     },
     "metadata": {
      "needs_background": "light"
     },
     "output_type": "display_data"
    },
    {
     "data": {
      "image/png": "[encoded data removed]",
      "text/plain": [
       "<Figure size 432x288 with 1 Axes>"
      ]
     },
     "metadata": {
      "needs_background": "light"
     },
     "output_type": "display_data"
    }
   ],
   "source": [
    "#Plot top 12 white wine producing countries\n",
    "for country in wine_white.country.value_counts().index[0:12]:\n",
    "    mask7 = wine_white.country == country \n",
    "    white_wine = wine_white.loc[mask7]\n",
    "    \n",
    "    plt.hist(white_wine.points, bins = 10)\n",
    "    plt.title(country)\n",
    "    plt.ylabel(\"Number of wines with (x) points\")\n",
    "    plt.show()"
   ]
  },
  {
   "cell_type": "code",
   "execution_count": 127,
   "metadata": {},
   "outputs": [
    {
     "data": {
      "text/html": [
       "<div>\n",
       "<style scoped>\n",
       "    .dataframe tbody tr th:only-of-type {\n",
       "        vertical-align: middle;\n",
       "    }\n",
       "\n",
       "    .dataframe tbody tr th {\n",
       "        vertical-align: top;\n",
       "    }\n",
       "\n",
       "    .dataframe thead th {\n",
       "        text-align: right;\n",
       "    }\n",
       "</style>\n",
       "<table border=\"1\" class=\"dataframe\">\n",
       "  <thead>\n",
       "    <tr style=\"text-align: right;\">\n",
       "      <th></th>\n",
       "      <th>country</th>\n",
       "      <th>description</th>\n",
       "      <th>designation</th>\n",
       "      <th>points</th>\n",
       "      <th>price</th>\n",
       "      <th>province</th>\n",
       "      <th>region_1</th>\n",
       "      <th>region_2</th>\n",
       "      <th>variety</th>\n",
       "      <th>winery</th>\n",
       "      <th>Counts</th>\n",
       "      <th>Red?</th>\n",
       "      <th>Still_Red</th>\n",
       "    </tr>\n",
       "  </thead>\n",
       "  <tbody>\n",
       "    <tr>\n",
       "      <th>2</th>\n",
       "      <td>US</td>\n",
       "      <td>Mac Watson honors the memory of a wine once ma...</td>\n",
       "      <td>Special Selected Late Harvest</td>\n",
       "      <td>96</td>\n",
       "      <td>90.0</td>\n",
       "      <td>California</td>\n",
       "      <td>Knights Valley</td>\n",
       "      <td>Sonoma</td>\n",
       "      <td>Sauvignon Blanc</td>\n",
       "      <td>Macauley</td>\n",
       "      <td>6054.0</td>\n",
       "      <td>False</td>\n",
       "      <td>0</td>\n",
       "    </tr>\n",
       "    <tr>\n",
       "      <th>14</th>\n",
       "      <td>US</td>\n",
       "      <td>First made in 2006, this succulent luscious Ch...</td>\n",
       "      <td>Sigrid</td>\n",
       "      <td>95</td>\n",
       "      <td>90.0</td>\n",
       "      <td>Oregon</td>\n",
       "      <td>Willamette Valley</td>\n",
       "      <td>Willamette Valley</td>\n",
       "      <td>Chardonnay</td>\n",
       "      <td>Bergström</td>\n",
       "      <td>13775.0</td>\n",
       "      <td>False</td>\n",
       "      <td>0</td>\n",
       "    </tr>\n",
       "    <tr>\n",
       "      <th>22</th>\n",
       "      <td>US</td>\n",
       "      <td>The apogee of this ambitious winery's white wi...</td>\n",
       "      <td>Giallo Solare</td>\n",
       "      <td>95</td>\n",
       "      <td>60.0</td>\n",
       "      <td>California</td>\n",
       "      <td>Edna Valley</td>\n",
       "      <td>Central Coast</td>\n",
       "      <td>Chardonnay</td>\n",
       "      <td>Center of Effort</td>\n",
       "      <td>13775.0</td>\n",
       "      <td>False</td>\n",
       "      <td>0</td>\n",
       "    </tr>\n",
       "    <tr>\n",
       "      <th>24</th>\n",
       "      <td>New Zealand</td>\n",
       "      <td>Yields were down in 2015, but intensity is up,...</td>\n",
       "      <td>Maté's Vineyard</td>\n",
       "      <td>94</td>\n",
       "      <td>57.0</td>\n",
       "      <td>Kumeu</td>\n",
       "      <td>Kumeu</td>\n",
       "      <td>Kumeu</td>\n",
       "      <td>Chardonnay</td>\n",
       "      <td>Kumeu River</td>\n",
       "      <td>13775.0</td>\n",
       "      <td>False</td>\n",
       "      <td>0</td>\n",
       "    </tr>\n",
       "    <tr>\n",
       "      <th>29</th>\n",
       "      <td>US</td>\n",
       "      <td>Steely and perfumed, this wine sees only 20% n...</td>\n",
       "      <td>Babushka</td>\n",
       "      <td>90</td>\n",
       "      <td>37.0</td>\n",
       "      <td>California</td>\n",
       "      <td>Russian River Valley</td>\n",
       "      <td>Sonoma</td>\n",
       "      <td>Chardonnay</td>\n",
       "      <td>Zepaltas</td>\n",
       "      <td>13775.0</td>\n",
       "      <td>False</td>\n",
       "      <td>0</td>\n",
       "    </tr>\n",
       "  </tbody>\n",
       "</table>\n",
       "</div>"
      ],
      "text/plain": [
       "        country                                        description  \\\n",
       "2            US  Mac Watson honors the memory of a wine once ma...   \n",
       "14           US  First made in 2006, this succulent luscious Ch...   \n",
       "22           US  The apogee of this ambitious winery's white wi...   \n",
       "24  New Zealand  Yields were down in 2015, but intensity is up,...   \n",
       "29           US  Steely and perfumed, this wine sees only 20% n...   \n",
       "\n",
       "                      designation  points  price    province  \\\n",
       "2   Special Selected Late Harvest      96   90.0  California   \n",
       "14                         Sigrid      95   90.0      Oregon   \n",
       "22                  Giallo Solare      95   60.0  California   \n",
       "24                Maté's Vineyard      94   57.0       Kumeu   \n",
       "29                       Babushka      90   37.0  California   \n",
       "\n",
       "                region_1           region_2          variety  \\\n",
       "2         Knights Valley             Sonoma  Sauvignon Blanc   \n",
       "14     Willamette Valley  Willamette Valley       Chardonnay   \n",
       "22           Edna Valley      Central Coast       Chardonnay   \n",
       "24                 Kumeu              Kumeu       Chardonnay   \n",
       "29  Russian River Valley             Sonoma       Chardonnay   \n",
       "\n",
       "              winery   Counts   Red?  Still_Red  \n",
       "2           Macauley   6054.0  False          0  \n",
       "14         Bergström  13775.0  False          0  \n",
       "22  Center of Effort  13775.0  False          0  \n",
       "24       Kumeu River  13775.0  False          0  \n",
       "29          Zepaltas  13775.0  False          0  "
      ]
     },
     "execution_count": 127,
     "metadata": {},
     "output_type": "execute_result"
    }
   ],
   "source": [
    "mask9 = wine_white.country.isin(wine_white.country.value_counts().index[0:12])\n",
    "white2 = wine_white.loc[mask9]\n",
    "white2.head()"
   ]
  },
  {
   "cell_type": "code",
   "execution_count": 128,
   "metadata": {},
   "outputs": [
    {
     "data": {
      "image/png": "[encoded data removed]",
      "text/plain": [
       "<Figure size 432x288 with 1 Axes>"
      ]
     },
     "metadata": {
      "needs_background": "light"
     },
     "output_type": "display_data"
    }
   ],
   "source": [
    "#Top 13 Countries by avg points for white whine produced\n",
    "white2.boxplot(column = 'points', by = 'country', rot = 45)\n",
    "plt.show()"
   ]
  },
  {
   "cell_type": "code",
   "execution_count": 129,
   "metadata": {},
   "outputs": [
    {
     "data": {
      "image/png": "[encoded data removed]",
      "text/plain": [
       "<Figure size 432x288 with 1 Axes>"
      ]
     },
     "metadata": {
      "needs_background": "light"
     },
     "output_type": "display_data"
    }
   ],
   "source": [
    "#Wine color corresponding to amount of times scored for certain value (80-100)\n",
    "plt.hist(wine_red.points, label = \"red\", bins = 20)\n",
    "plt.hist(wine_white.points, label = 'white', bins = 20)\n",
    "plt.title ('Frequency of Points by Wine Type')\n",
    "plt.xlabel('Points')\n",
    "plt.legend()\n",
    "plt.show()"
   ]
  },
  {
   "cell_type": "code",
   "execution_count": 130,
   "metadata": {},
   "outputs": [
    {
     "data": {
      "image/png": "[encoded data removed]",
      "text/plain": [
       "<Figure size 432x288 with 1 Axes>"
      ]
     },
     "metadata": {
      "needs_background": "light"
     },
     "output_type": "display_data"
    }
   ],
   "source": [
    "# Number of times that a value ('price') appears in dataframe for both red and white wine\n",
    "plt.hist(wine_red.price, label = \"red\", bins = 50)\n",
    "plt.hist(wine_white.price, label = 'white', bins = 50)\n",
    "plt.title ('Frequency of Price by Wine Type')\n",
    "plt.xlim(0,wine_red.price.max())\n",
    "plt.xlabel('Price')\n",
    "plt.legend()\n",
    "plt.show()"
   ]
  },
  {
   "cell_type": "code",
   "execution_count": 131,
   "metadata": {},
   "outputs": [
    {
     "data": {
      "image/png": "[encoded data removed]",
      "text/plain": [
       "<Figure size 432x288 with 1 Axes>"
      ]
     },
     "metadata": {
      "needs_background": "light"
     },
     "output_type": "display_data"
    }
   ],
   "source": [
    "# Number of times that a value ('price') appears in dataframe for red wine\n",
    "plt.scatter(wine_red.price.value_counts().index, wine_red.price.value_counts().values)\n",
    "plt.title ('Frequency of Price - Red Wine')\n",
    "plt.xlim(0,wine_red.price.max())\n",
    "plt.xlabel('Red Wine Price')\n",
    "plt.ylabel('Frequency')\n",
    "plt.show()"
   ]
  },
  {
   "cell_type": "code",
   "execution_count": 132,
   "metadata": {},
   "outputs": [
    {
     "data": {
      "image/png": "[encoded data removed]",
      "text/plain": [
       "<Figure size 432x288 with 1 Axes>"
      ]
     },
     "metadata": {
      "needs_background": "light"
     },
     "output_type": "display_data"
    }
   ],
   "source": [
    "# Number of times that a value ('price') appears in dataframe for white wine\n",
    "plt.scatter(wine_white.price.value_counts().index, wine_white.price.value_counts().values)\n",
    "plt.title ('Frequency of Price - White Wine')\n",
    "plt.xlim(0,wine_white.price.max())\n",
    "plt.xlabel('White Wine Price')\n",
    "plt.ylabel('Frequency')\n",
    "plt.show()"
   ]
  },
  {
   "cell_type": "code",
   "execution_count": 133,
   "metadata": {},
   "outputs": [
    {
     "data": {
      "text/plain": [
       "2300.0"
      ]
     },
     "execution_count": 133,
     "metadata": {},
     "output_type": "execute_result"
    }
   ],
   "source": [
    "wine_red.price.max()"
   ]
  },
  {
   "cell_type": "code",
   "execution_count": 134,
   "metadata": {},
   "outputs": [
    {
     "data": {
      "image/png": "[encoded data removed]",
      "text/plain": [
       "<Figure size 432x288 with 1 Axes>"
      ]
     },
     "metadata": {
      "needs_background": "light"
     },
     "output_type": "display_data"
    }
   ],
   "source": [
    "plt.scatter(wine_df.points, wine_df.price)\n",
    "plt.title ('Price VS Points')\n",
    "plt.xlabel('Wine Price')\n",
    "plt.ylabel('Points scored')\n",
    "plt.show()"
   ]
  },
  {
   "cell_type": "code",
   "execution_count": 135,
   "metadata": {},
   "outputs": [
    {
     "name": "stdout",
     "output_type": "stream",
     "text": [
      "[5.5162092  2.09730684 1.55028246 ... 0.36430286 0.51093614 0.50105896]\n"
     ]
    }
   ],
   "source": [
    "z = np.abs(stats.zscore(wine_df.price))\n",
    "print(z)"
   ]
  },
  {
   "cell_type": "code",
   "execution_count": 31,
   "metadata": {},
   "outputs": [
    {
     "data": {
      "text/plain": [
       "(array([     0,     13,     15, ..., 132640, 132692, 133928], dtype=int64),)"
      ]
     },
     "execution_count": 31,
     "metadata": {},
     "output_type": "execute_result"
    }
   ],
   "source": [
    "threshold = 3\n",
    "np.where(z>3)"
   ]
  },
  {
   "cell_type": "code",
   "execution_count": 33,
   "metadata": {},
   "outputs": [
    {
     "name": "stdout",
     "output_type": "stream",
     "text": [
      "5.5162091978018974 1.5502824596649218\n"
     ]
    }
   ],
   "source": [
    "print(z[0],z[14])"
   ]
  },
  {
   "cell_type": "code",
   "execution_count": 36,
   "metadata": {},
   "outputs": [
    {
     "data": {
      "text/plain": [
       "points          10.0\n",
       "price           70.0\n",
       "Counts       13623.0\n",
       "Still_Red        1.0\n",
       "dtype: float64"
      ]
     },
     "execution_count": 36,
     "metadata": {},
     "output_type": "execute_result"
    }
   ],
   "source": [
    "#Interquantile range of all quantifiable columns\n",
    "Q1 = wine_df.quantile(0.05)\n",
    "Q3 = wine_df.quantile(0.95)\n",
    "IQR = Q3-Q1\n",
    "IQR"
   ]
  },
  {
   "cell_type": "code",
   "execution_count": 37,
   "metadata": {},
   "outputs": [
    {
     "name": "stdout",
     "output_type": "stream",
     "text": [
      "        Counts   Red?  Still_Red  country  description  designation  points  \\\n",
      "0         True  False       True    False        False        False    True   \n",
      "1         True  False       True    False        False        False    True   \n",
      "2         True  False       True    False        False        False    True   \n",
      "3         True  False       True    False        False        False    True   \n",
      "4         True  False       True    False        False        False    True   \n",
      "...        ...    ...        ...      ...          ...          ...     ...   \n",
      "134284    True  False       True    False        False        False    True   \n",
      "134285    True  False       True    False        False        False    True   \n",
      "134286    True  False       True    False        False        False    True   \n",
      "134287    True  False       True    False        False        False    True   \n",
      "134288    True  False       True    False        False        False    True   \n",
      "\n",
      "        price  province  region_1  region_2  variety  winery  \n",
      "0        True     False     False     False    False   False  \n",
      "1        True     False     False     False    False   False  \n",
      "2        True     False     False     False    False   False  \n",
      "3        True     False     False     False    False   False  \n",
      "4        True     False     False     False    False   False  \n",
      "...       ...       ...       ...       ...      ...     ...  \n",
      "134284   True     False     False     False    False   False  \n",
      "134285   True     False     False     False    False   False  \n",
      "134286   True     False     False     False    False   False  \n",
      "134287   True     False     False     False    False   False  \n",
      "134288   True     False     False     False    False   False  \n",
      "\n",
      "[134289 rows x 13 columns]\n"
     ]
    },
    {
     "ename": "TypeError",
     "evalue": "Cannot perform 'ror_' with a dtyped [bool] array and scalar of type [NoneType]",
     "output_type": "error",
     "traceback": [
      "\u001b[1;31m---------------------------------------------------------------------------\u001b[0m",
      "\u001b[1;31mTypeError\u001b[0m                                 Traceback (most recent call last)",
      "\u001b[1;32m~\\anaconda3\\lib\\site-packages\\pandas\\core\\ops\\array_ops.py\u001b[0m in \u001b[0;36mna_logical_op\u001b[1;34m(x, y, op)\u001b[0m\n\u001b[0;32m    273\u001b[0m         \u001b[1;31m#  (xint or xbool) and (yint or bool)\u001b[0m\u001b[1;33m\u001b[0m\u001b[1;33m\u001b[0m\u001b[1;33m\u001b[0m\u001b[0m\n\u001b[1;32m--> 274\u001b[1;33m         \u001b[0mresult\u001b[0m \u001b[1;33m=\u001b[0m \u001b[0mop\u001b[0m\u001b[1;33m(\u001b[0m\u001b[0mx\u001b[0m\u001b[1;33m,\u001b[0m \u001b[0my\u001b[0m\u001b[1;33m)\u001b[0m\u001b[1;33m\u001b[0m\u001b[1;33m\u001b[0m\u001b[0m\n\u001b[0m\u001b[0;32m    275\u001b[0m     \u001b[1;32mexcept\u001b[0m \u001b[0mTypeError\u001b[0m\u001b[1;33m:\u001b[0m\u001b[1;33m\u001b[0m\u001b[1;33m\u001b[0m\u001b[0m\n",
      "\u001b[1;32m~\\anaconda3\\lib\\site-packages\\pandas\\core\\ops\\roperator.py\u001b[0m in \u001b[0;36mror_\u001b[1;34m(left, right)\u001b[0m\n\u001b[0;32m     55\u001b[0m \u001b[1;32mdef\u001b[0m \u001b[0mror_\u001b[0m\u001b[1;33m(\u001b[0m\u001b[0mleft\u001b[0m\u001b[1;33m,\u001b[0m \u001b[0mright\u001b[0m\u001b[1;33m)\u001b[0m\u001b[1;33m:\u001b[0m\u001b[1;33m\u001b[0m\u001b[1;33m\u001b[0m\u001b[0m\n\u001b[1;32m---> 56\u001b[1;33m     \u001b[1;32mreturn\u001b[0m \u001b[0moperator\u001b[0m\u001b[1;33m.\u001b[0m\u001b[0mor_\u001b[0m\u001b[1;33m(\u001b[0m\u001b[0mright\u001b[0m\u001b[1;33m,\u001b[0m \u001b[0mleft\u001b[0m\u001b[1;33m)\u001b[0m\u001b[1;33m\u001b[0m\u001b[1;33m\u001b[0m\u001b[0m\n\u001b[0m\u001b[0;32m     57\u001b[0m \u001b[1;33m\u001b[0m\u001b[0m\n",
      "\u001b[1;31mTypeError\u001b[0m: unsupported operand type(s) for |: 'NoneType' and 'bool'",
      "\nDuring handling of the above exception, another exception occurred:\n",
      "\u001b[1;31mValueError\u001b[0m                                Traceback (most recent call last)",
      "\u001b[1;32m~\\anaconda3\\lib\\site-packages\\pandas\\core\\ops\\array_ops.py\u001b[0m in \u001b[0;36mna_logical_op\u001b[1;34m(x, y, op)\u001b[0m\n\u001b[0;32m    287\u001b[0m             \u001b[1;32mtry\u001b[0m\u001b[1;33m:\u001b[0m\u001b[1;33m\u001b[0m\u001b[1;33m\u001b[0m\u001b[0m\n\u001b[1;32m--> 288\u001b[1;33m                 \u001b[0mresult\u001b[0m \u001b[1;33m=\u001b[0m \u001b[0mlibops\u001b[0m\u001b[1;33m.\u001b[0m\u001b[0mscalar_binop\u001b[0m\u001b[1;33m(\u001b[0m\u001b[0mx\u001b[0m\u001b[1;33m,\u001b[0m \u001b[0my\u001b[0m\u001b[1;33m,\u001b[0m \u001b[0mop\u001b[0m\u001b[1;33m)\u001b[0m\u001b[1;33m\u001b[0m\u001b[1;33m\u001b[0m\u001b[0m\n\u001b[0m\u001b[0;32m    289\u001b[0m             except (\n",
      "\u001b[1;32mpandas\\_libs\\ops.pyx\u001b[0m in \u001b[0;36mpandas._libs.ops.scalar_binop\u001b[1;34m()\u001b[0m\n",
      "\u001b[1;31mValueError\u001b[0m: Buffer has wrong number of dimensions (expected 1, got 2)",
      "\nDuring handling of the above exception, another exception occurred:\n",
      "\u001b[1;31mTypeError\u001b[0m                                 Traceback (most recent call last)",
      "\u001b[1;32m<ipython-input-37-ebf5f38e63d0>\u001b[0m in \u001b[0;36m<module>\u001b[1;34m\u001b[0m\n\u001b[1;32m----> 1\u001b[1;33m \u001b[0mprint\u001b[0m\u001b[1;33m(\u001b[0m\u001b[0mwine_df\u001b[0m \u001b[1;33m>\u001b[0m \u001b[1;33m(\u001b[0m\u001b[0mQ1\u001b[0m \u001b[1;33m-\u001b[0m \u001b[1;36m1.5\u001b[0m\u001b[1;33m*\u001b[0m\u001b[0mIQR\u001b[0m\u001b[1;33m)\u001b[0m\u001b[1;33m)\u001b[0m \u001b[1;33m|\u001b[0m \u001b[1;33m(\u001b[0m\u001b[0mwine_df\u001b[0m \u001b[1;33m<\u001b[0m \u001b[1;33m(\u001b[0m\u001b[0mQ3\u001b[0m \u001b[1;33m+\u001b[0m \u001b[1;36m1.5\u001b[0m\u001b[1;33m*\u001b[0m\u001b[0mIQR\u001b[0m\u001b[1;33m)\u001b[0m\u001b[1;33m)\u001b[0m\u001b[1;33m\u001b[0m\u001b[1;33m\u001b[0m\u001b[0m\n\u001b[0m",
      "\u001b[1;32m~\\anaconda3\\lib\\site-packages\\pandas\\core\\ops\\__init__.py\u001b[0m in \u001b[0;36mf\u001b[1;34m(self, other, axis, level, fill_value)\u001b[0m\n\u001b[0;32m    717\u001b[0m                 \u001b[0mself\u001b[0m \u001b[1;33m=\u001b[0m \u001b[0mself\u001b[0m\u001b[1;33m.\u001b[0m\u001b[0mfillna\u001b[0m\u001b[1;33m(\u001b[0m\u001b[0mfill_value\u001b[0m\u001b[1;33m)\u001b[0m\u001b[1;33m\u001b[0m\u001b[1;33m\u001b[0m\u001b[0m\n\u001b[0;32m    718\u001b[0m \u001b[1;33m\u001b[0m\u001b[0m\n\u001b[1;32m--> 719\u001b[1;33m             \u001b[0mnew_data\u001b[0m \u001b[1;33m=\u001b[0m \u001b[0mdispatch_to_series\u001b[0m\u001b[1;33m(\u001b[0m\u001b[0mself\u001b[0m\u001b[1;33m,\u001b[0m \u001b[0mother\u001b[0m\u001b[1;33m,\u001b[0m \u001b[0mop\u001b[0m\u001b[1;33m,\u001b[0m \u001b[0mstr_rep\u001b[0m\u001b[1;33m)\u001b[0m\u001b[1;33m\u001b[0m\u001b[1;33m\u001b[0m\u001b[0m\n\u001b[0m\u001b[0;32m    720\u001b[0m             \u001b[1;32mreturn\u001b[0m \u001b[0mself\u001b[0m\u001b[1;33m.\u001b[0m\u001b[0m_construct_result\u001b[0m\u001b[1;33m(\u001b[0m\u001b[0mnew_data\u001b[0m\u001b[1;33m)\u001b[0m\u001b[1;33m\u001b[0m\u001b[1;33m\u001b[0m\u001b[0m\n\u001b[0;32m    721\u001b[0m \u001b[1;33m\u001b[0m\u001b[0m\n",
      "\u001b[1;32m~\\anaconda3\\lib\\site-packages\\pandas\\core\\ops\\__init__.py\u001b[0m in \u001b[0;36mdispatch_to_series\u001b[1;34m(left, right, func, str_rep, axis)\u001b[0m\n\u001b[0;32m    376\u001b[0m         \u001b[1;31m# Get the appropriate array-op to apply to each block's values.\u001b[0m\u001b[1;33m\u001b[0m\u001b[1;33m\u001b[0m\u001b[1;33m\u001b[0m\u001b[0m\n\u001b[0;32m    377\u001b[0m         \u001b[0marray_op\u001b[0m \u001b[1;33m=\u001b[0m \u001b[0mget_array_op\u001b[0m\u001b[1;33m(\u001b[0m\u001b[0mfunc\u001b[0m\u001b[1;33m,\u001b[0m \u001b[0mstr_rep\u001b[0m\u001b[1;33m=\u001b[0m\u001b[0mstr_rep\u001b[0m\u001b[1;33m)\u001b[0m\u001b[1;33m\u001b[0m\u001b[1;33m\u001b[0m\u001b[0m\n\u001b[1;32m--> 378\u001b[1;33m         \u001b[0mbm\u001b[0m \u001b[1;33m=\u001b[0m \u001b[0mleft\u001b[0m\u001b[1;33m.\u001b[0m\u001b[0m_data\u001b[0m\u001b[1;33m.\u001b[0m\u001b[0mapply\u001b[0m\u001b[1;33m(\u001b[0m\u001b[0marray_op\u001b[0m\u001b[1;33m,\u001b[0m \u001b[0mright\u001b[0m\u001b[1;33m=\u001b[0m\u001b[0mright\u001b[0m\u001b[1;33m)\u001b[0m\u001b[1;33m\u001b[0m\u001b[1;33m\u001b[0m\u001b[0m\n\u001b[0m\u001b[0;32m    379\u001b[0m         \u001b[1;32mreturn\u001b[0m \u001b[0mtype\u001b[0m\u001b[1;33m(\u001b[0m\u001b[0mleft\u001b[0m\u001b[1;33m)\u001b[0m\u001b[1;33m(\u001b[0m\u001b[0mbm\u001b[0m\u001b[1;33m)\u001b[0m\u001b[1;33m\u001b[0m\u001b[1;33m\u001b[0m\u001b[0m\n\u001b[0;32m    380\u001b[0m \u001b[1;33m\u001b[0m\u001b[0m\n",
      "\u001b[1;32m~\\anaconda3\\lib\\site-packages\\pandas\\core\\internals\\managers.py\u001b[0m in \u001b[0;36mapply\u001b[1;34m(self, f, filter, **kwargs)\u001b[0m\n\u001b[0;32m    438\u001b[0m \u001b[1;33m\u001b[0m\u001b[0m\n\u001b[0;32m    439\u001b[0m             \u001b[1;32mif\u001b[0m \u001b[0mcallable\u001b[0m\u001b[1;33m(\u001b[0m\u001b[0mf\u001b[0m\u001b[1;33m)\u001b[0m\u001b[1;33m:\u001b[0m\u001b[1;33m\u001b[0m\u001b[1;33m\u001b[0m\u001b[0m\n\u001b[1;32m--> 440\u001b[1;33m                 \u001b[0mapplied\u001b[0m \u001b[1;33m=\u001b[0m \u001b[0mb\u001b[0m\u001b[1;33m.\u001b[0m\u001b[0mapply\u001b[0m\u001b[1;33m(\u001b[0m\u001b[0mf\u001b[0m\u001b[1;33m,\u001b[0m \u001b[1;33m**\u001b[0m\u001b[0mkwargs\u001b[0m\u001b[1;33m)\u001b[0m\u001b[1;33m\u001b[0m\u001b[1;33m\u001b[0m\u001b[0m\n\u001b[0m\u001b[0;32m    441\u001b[0m             \u001b[1;32melse\u001b[0m\u001b[1;33m:\u001b[0m\u001b[1;33m\u001b[0m\u001b[1;33m\u001b[0m\u001b[0m\n\u001b[0;32m    442\u001b[0m                 \u001b[0mapplied\u001b[0m \u001b[1;33m=\u001b[0m \u001b[0mgetattr\u001b[0m\u001b[1;33m(\u001b[0m\u001b[0mb\u001b[0m\u001b[1;33m,\u001b[0m \u001b[0mf\u001b[0m\u001b[1;33m)\u001b[0m\u001b[1;33m(\u001b[0m\u001b[1;33m**\u001b[0m\u001b[0mkwargs\u001b[0m\u001b[1;33m)\u001b[0m\u001b[1;33m\u001b[0m\u001b[1;33m\u001b[0m\u001b[0m\n",
      "\u001b[1;32m~\\anaconda3\\lib\\site-packages\\pandas\\core\\internals\\blocks.py\u001b[0m in \u001b[0;36mapply\u001b[1;34m(self, func, **kwargs)\u001b[0m\n\u001b[0;32m    388\u001b[0m         \"\"\"\n\u001b[0;32m    389\u001b[0m         \u001b[1;32mwith\u001b[0m \u001b[0mnp\u001b[0m\u001b[1;33m.\u001b[0m\u001b[0merrstate\u001b[0m\u001b[1;33m(\u001b[0m\u001b[0mall\u001b[0m\u001b[1;33m=\u001b[0m\u001b[1;34m\"ignore\"\u001b[0m\u001b[1;33m)\u001b[0m\u001b[1;33m:\u001b[0m\u001b[1;33m\u001b[0m\u001b[1;33m\u001b[0m\u001b[0m\n\u001b[1;32m--> 390\u001b[1;33m             \u001b[0mresult\u001b[0m \u001b[1;33m=\u001b[0m \u001b[0mfunc\u001b[0m\u001b[1;33m(\u001b[0m\u001b[0mself\u001b[0m\u001b[1;33m.\u001b[0m\u001b[0mvalues\u001b[0m\u001b[1;33m,\u001b[0m \u001b[1;33m**\u001b[0m\u001b[0mkwargs\u001b[0m\u001b[1;33m)\u001b[0m\u001b[1;33m\u001b[0m\u001b[1;33m\u001b[0m\u001b[0m\n\u001b[0m\u001b[0;32m    391\u001b[0m \u001b[1;33m\u001b[0m\u001b[0m\n\u001b[0;32m    392\u001b[0m         \u001b[1;32mif\u001b[0m \u001b[0mis_extension_array_dtype\u001b[0m\u001b[1;33m(\u001b[0m\u001b[0mresult\u001b[0m\u001b[1;33m)\u001b[0m \u001b[1;32mand\u001b[0m \u001b[0mresult\u001b[0m\u001b[1;33m.\u001b[0m\u001b[0mndim\u001b[0m \u001b[1;33m>\u001b[0m \u001b[1;36m1\u001b[0m\u001b[1;33m:\u001b[0m\u001b[1;33m\u001b[0m\u001b[1;33m\u001b[0m\u001b[0m\n",
      "\u001b[1;32m~\\anaconda3\\lib\\site-packages\\pandas\\core\\ops\\array_ops.py\u001b[0m in \u001b[0;36mlogical_op\u001b[1;34m(left, right, op)\u001b[0m\n\u001b[0;32m    364\u001b[0m         \u001b[0mfiller\u001b[0m \u001b[1;33m=\u001b[0m \u001b[0mfill_int\u001b[0m \u001b[1;32mif\u001b[0m \u001b[0mis_self_int_dtype\u001b[0m \u001b[1;32mand\u001b[0m \u001b[0mis_other_int_dtype\u001b[0m \u001b[1;32melse\u001b[0m \u001b[0mfill_bool\u001b[0m\u001b[1;33m\u001b[0m\u001b[1;33m\u001b[0m\u001b[0m\n\u001b[0;32m    365\u001b[0m \u001b[1;33m\u001b[0m\u001b[0m\n\u001b[1;32m--> 366\u001b[1;33m         \u001b[0mres_values\u001b[0m \u001b[1;33m=\u001b[0m \u001b[0mna_logical_op\u001b[0m\u001b[1;33m(\u001b[0m\u001b[0mlvalues\u001b[0m\u001b[1;33m,\u001b[0m \u001b[0mrvalues\u001b[0m\u001b[1;33m,\u001b[0m \u001b[0mop\u001b[0m\u001b[1;33m)\u001b[0m\u001b[1;33m\u001b[0m\u001b[1;33m\u001b[0m\u001b[0m\n\u001b[0m\u001b[0;32m    367\u001b[0m         \u001b[0mres_values\u001b[0m \u001b[1;33m=\u001b[0m \u001b[0mfiller\u001b[0m\u001b[1;33m(\u001b[0m\u001b[0mres_values\u001b[0m\u001b[1;33m)\u001b[0m  \u001b[1;31m# type: ignore\u001b[0m\u001b[1;33m\u001b[0m\u001b[1;33m\u001b[0m\u001b[0m\n\u001b[0;32m    368\u001b[0m \u001b[1;33m\u001b[0m\u001b[0m\n",
      "\u001b[1;32m~\\anaconda3\\lib\\site-packages\\pandas\\core\\ops\\array_ops.py\u001b[0m in \u001b[0;36mna_logical_op\u001b[1;34m(x, y, op)\u001b[0m\n\u001b[0;32m    296\u001b[0m                 \u001b[0mtyp\u001b[0m \u001b[1;33m=\u001b[0m \u001b[0mtype\u001b[0m\u001b[1;33m(\u001b[0m\u001b[0my\u001b[0m\u001b[1;33m)\u001b[0m\u001b[1;33m.\u001b[0m\u001b[0m__name__\u001b[0m\u001b[1;33m\u001b[0m\u001b[1;33m\u001b[0m\u001b[0m\n\u001b[0;32m    297\u001b[0m                 raise TypeError(\n\u001b[1;32m--> 298\u001b[1;33m                     \u001b[1;34mf\"Cannot perform '{op.__name__}' with a dtyped [{x.dtype}] array \"\u001b[0m\u001b[1;33m\u001b[0m\u001b[1;33m\u001b[0m\u001b[0m\n\u001b[0m\u001b[0;32m    299\u001b[0m                     \u001b[1;34mf\"and scalar of type [{typ}]\"\u001b[0m\u001b[1;33m\u001b[0m\u001b[1;33m\u001b[0m\u001b[0m\n\u001b[0;32m    300\u001b[0m                 )\n",
      "\u001b[1;31mTypeError\u001b[0m: Cannot perform 'ror_' with a dtyped [bool] array and scalar of type [NoneType]"
     ]
    }
   ],
   "source": [
    "print(wine_df > (Q1 - 1.5*IQR)) | (wine_df < (Q3 + 1.5*IQR))"
   ]
  },
  {
   "cell_type": "code",
   "execution_count": 136,
   "metadata": {},
   "outputs": [
    {
     "data": {
      "text/html": [
       "<div>\n",
       "<style scoped>\n",
       "    .dataframe tbody tr th:only-of-type {\n",
       "        vertical-align: middle;\n",
       "    }\n",
       "\n",
       "    .dataframe tbody tr th {\n",
       "        vertical-align: top;\n",
       "    }\n",
       "\n",
       "    .dataframe thead th {\n",
       "        text-align: right;\n",
       "    }\n",
       "</style>\n",
       "<table border=\"1\" class=\"dataframe\">\n",
       "  <thead>\n",
       "    <tr style=\"text-align: right;\">\n",
       "      <th></th>\n",
       "      <th>country</th>\n",
       "      <th>description</th>\n",
       "      <th>designation</th>\n",
       "      <th>points</th>\n",
       "      <th>price</th>\n",
       "      <th>province</th>\n",
       "      <th>region_1</th>\n",
       "      <th>region_2</th>\n",
       "      <th>variety</th>\n",
       "      <th>winery</th>\n",
       "      <th>Counts</th>\n",
       "      <th>Red?</th>\n",
       "      <th>Still_Red</th>\n",
       "    </tr>\n",
       "  </thead>\n",
       "  <tbody>\n",
       "    <tr>\n",
       "      <th>1</th>\n",
       "      <td>Spain</td>\n",
       "      <td>Ripe aromas of fig, blackberry and cassis are ...</td>\n",
       "      <td>Carodorum Selección Especial Reserva</td>\n",
       "      <td>96</td>\n",
       "      <td>110.0</td>\n",
       "      <td>Northern Spain</td>\n",
       "      <td>Toro</td>\n",
       "      <td>Toro</td>\n",
       "      <td>Tinta de Toro</td>\n",
       "      <td>Bodega Carmen Rodríguez</td>\n",
       "      <td>221.0</td>\n",
       "      <td>True</td>\n",
       "      <td>1</td>\n",
       "    </tr>\n",
       "    <tr>\n",
       "      <th>2</th>\n",
       "      <td>US</td>\n",
       "      <td>Mac Watson honors the memory of a wine once ma...</td>\n",
       "      <td>Special Selected Late Harvest</td>\n",
       "      <td>96</td>\n",
       "      <td>90.0</td>\n",
       "      <td>California</td>\n",
       "      <td>Knights Valley</td>\n",
       "      <td>Sonoma</td>\n",
       "      <td>Sauvignon Blanc</td>\n",
       "      <td>Macauley</td>\n",
       "      <td>6054.0</td>\n",
       "      <td>False</td>\n",
       "      <td>0</td>\n",
       "    </tr>\n",
       "    <tr>\n",
       "      <th>3</th>\n",
       "      <td>US</td>\n",
       "      <td>This spent 20 months in 30% new French oak, an...</td>\n",
       "      <td>Reserve</td>\n",
       "      <td>96</td>\n",
       "      <td>65.0</td>\n",
       "      <td>Oregon</td>\n",
       "      <td>Willamette Valley</td>\n",
       "      <td>Willamette Valley</td>\n",
       "      <td>Pinot Noir</td>\n",
       "      <td>Ponzi</td>\n",
       "      <td>13625.0</td>\n",
       "      <td>True</td>\n",
       "      <td>1</td>\n",
       "    </tr>\n",
       "    <tr>\n",
       "      <th>4</th>\n",
       "      <td>Spain</td>\n",
       "      <td>Deep, dense and pure from the opening bell, th...</td>\n",
       "      <td>Numanthia</td>\n",
       "      <td>95</td>\n",
       "      <td>73.0</td>\n",
       "      <td>Northern Spain</td>\n",
       "      <td>Toro</td>\n",
       "      <td>Toro</td>\n",
       "      <td>Tinta de Toro</td>\n",
       "      <td>Numanthia</td>\n",
       "      <td>221.0</td>\n",
       "      <td>True</td>\n",
       "      <td>1</td>\n",
       "    </tr>\n",
       "    <tr>\n",
       "      <th>5</th>\n",
       "      <td>Spain</td>\n",
       "      <td>Slightly gritty black-fruit aromas include a s...</td>\n",
       "      <td>San Román</td>\n",
       "      <td>95</td>\n",
       "      <td>65.0</td>\n",
       "      <td>Northern Spain</td>\n",
       "      <td>Toro</td>\n",
       "      <td>Toro</td>\n",
       "      <td>Tinta de Toro</td>\n",
       "      <td>Maurodos</td>\n",
       "      <td>221.0</td>\n",
       "      <td>True</td>\n",
       "      <td>1</td>\n",
       "    </tr>\n",
       "    <tr>\n",
       "      <th>...</th>\n",
       "      <td>...</td>\n",
       "      <td>...</td>\n",
       "      <td>...</td>\n",
       "      <td>...</td>\n",
       "      <td>...</td>\n",
       "      <td>...</td>\n",
       "      <td>...</td>\n",
       "      <td>...</td>\n",
       "      <td>...</td>\n",
       "      <td>...</td>\n",
       "      <td>...</td>\n",
       "      <td>...</td>\n",
       "      <td>...</td>\n",
       "    </tr>\n",
       "    <tr>\n",
       "      <th>134284</th>\n",
       "      <td>Italy</td>\n",
       "      <td>Many people feel Fiano represents southern Ita...</td>\n",
       "      <td>*Unknown Wine*</td>\n",
       "      <td>91</td>\n",
       "      <td>20.0</td>\n",
       "      <td>Southern Italy</td>\n",
       "      <td>Fiano di Avellino</td>\n",
       "      <td>Fiano di Avellino</td>\n",
       "      <td>White Blend</td>\n",
       "      <td>Feudi di San Gregorio</td>\n",
       "      <td>2554.0</td>\n",
       "      <td>False</td>\n",
       "      <td>0</td>\n",
       "    </tr>\n",
       "    <tr>\n",
       "      <th>134285</th>\n",
       "      <td>France</td>\n",
       "      <td>Offers an intriguing nose with ginger, lime an...</td>\n",
       "      <td>Cuvée Prestige</td>\n",
       "      <td>91</td>\n",
       "      <td>27.0</td>\n",
       "      <td>Champagne</td>\n",
       "      <td>Champagne</td>\n",
       "      <td>Champagne</td>\n",
       "      <td>Champagne Blend</td>\n",
       "      <td>H.Germain</td>\n",
       "      <td>1003.0</td>\n",
       "      <td>False</td>\n",
       "      <td>0</td>\n",
       "    </tr>\n",
       "    <tr>\n",
       "      <th>134286</th>\n",
       "      <td>Italy</td>\n",
       "      <td>This classic example comes from a cru vineyard...</td>\n",
       "      <td>Terre di Dora</td>\n",
       "      <td>91</td>\n",
       "      <td>20.0</td>\n",
       "      <td>Southern Italy</td>\n",
       "      <td>Fiano di Avellino</td>\n",
       "      <td>Fiano di Avellino</td>\n",
       "      <td>White Blend</td>\n",
       "      <td>Terredora</td>\n",
       "      <td>2554.0</td>\n",
       "      <td>False</td>\n",
       "      <td>0</td>\n",
       "    </tr>\n",
       "    <tr>\n",
       "      <th>134287</th>\n",
       "      <td>France</td>\n",
       "      <td>A perfect salmon shade, with scents of peaches...</td>\n",
       "      <td>Grand Brut Rosé</td>\n",
       "      <td>90</td>\n",
       "      <td>52.0</td>\n",
       "      <td>Champagne</td>\n",
       "      <td>Champagne</td>\n",
       "      <td>Champagne</td>\n",
       "      <td>Champagne Blend</td>\n",
       "      <td>Gosset</td>\n",
       "      <td>1003.0</td>\n",
       "      <td>False</td>\n",
       "      <td>0</td>\n",
       "    </tr>\n",
       "    <tr>\n",
       "      <th>134288</th>\n",
       "      <td>Italy</td>\n",
       "      <td>More Pinot Grigios should taste like this. A r...</td>\n",
       "      <td>*Unknown Wine*</td>\n",
       "      <td>90</td>\n",
       "      <td>15.0</td>\n",
       "      <td>Northeastern Italy</td>\n",
       "      <td>Alto Adige</td>\n",
       "      <td>Alto Adige</td>\n",
       "      <td>Pinot Grigio</td>\n",
       "      <td>Alois Lageder</td>\n",
       "      <td>1270.0</td>\n",
       "      <td>False</td>\n",
       "      <td>0</td>\n",
       "    </tr>\n",
       "  </tbody>\n",
       "</table>\n",
       "<p>133349 rows × 13 columns</p>\n",
       "</div>"
      ],
      "text/plain": [
       "       country                                        description  \\\n",
       "1        Spain  Ripe aromas of fig, blackberry and cassis are ...   \n",
       "2           US  Mac Watson honors the memory of a wine once ma...   \n",
       "3           US  This spent 20 months in 30% new French oak, an...   \n",
       "4        Spain  Deep, dense and pure from the opening bell, th...   \n",
       "5        Spain  Slightly gritty black-fruit aromas include a s...   \n",
       "...        ...                                                ...   \n",
       "134284   Italy  Many people feel Fiano represents southern Ita...   \n",
       "134285  France  Offers an intriguing nose with ginger, lime an...   \n",
       "134286   Italy  This classic example comes from a cru vineyard...   \n",
       "134287  France  A perfect salmon shade, with scents of peaches...   \n",
       "134288   Italy  More Pinot Grigios should taste like this. A r...   \n",
       "\n",
       "                                 designation  points  price  \\\n",
       "1       Carodorum Selección Especial Reserva      96  110.0   \n",
       "2              Special Selected Late Harvest      96   90.0   \n",
       "3                                    Reserve      96   65.0   \n",
       "4                                  Numanthia      95   73.0   \n",
       "5                                  San Román      95   65.0   \n",
       "...                                      ...     ...    ...   \n",
       "134284                        *Unknown Wine*      91   20.0   \n",
       "134285                        Cuvée Prestige      91   27.0   \n",
       "134286                         Terre di Dora      91   20.0   \n",
       "134287                       Grand Brut Rosé      90   52.0   \n",
       "134288                        *Unknown Wine*      90   15.0   \n",
       "\n",
       "                  province           region_1           region_2  \\\n",
       "1           Northern Spain               Toro               Toro   \n",
       "2               California     Knights Valley             Sonoma   \n",
       "3                   Oregon  Willamette Valley  Willamette Valley   \n",
       "4           Northern Spain               Toro               Toro   \n",
       "5           Northern Spain               Toro               Toro   \n",
       "...                    ...                ...                ...   \n",
       "134284      Southern Italy  Fiano di Avellino  Fiano di Avellino   \n",
       "134285           Champagne          Champagne          Champagne   \n",
       "134286      Southern Italy  Fiano di Avellino  Fiano di Avellino   \n",
       "134287           Champagne          Champagne          Champagne   \n",
       "134288  Northeastern Italy         Alto Adige         Alto Adige   \n",
       "\n",
       "                variety                   winery   Counts   Red?  Still_Red  \n",
       "1         Tinta de Toro  Bodega Carmen Rodríguez    221.0   True          1  \n",
       "2       Sauvignon Blanc                 Macauley   6054.0  False          0  \n",
       "3            Pinot Noir                    Ponzi  13625.0   True          1  \n",
       "4         Tinta de Toro                Numanthia    221.0   True          1  \n",
       "5         Tinta de Toro                 Maurodos    221.0   True          1  \n",
       "...                 ...                      ...      ...    ...        ...  \n",
       "134284      White Blend    Feudi di San Gregorio   2554.0  False          0  \n",
       "134285  Champagne Blend                H.Germain   1003.0  False          0  \n",
       "134286      White Blend                Terredora   2554.0  False          0  \n",
       "134287  Champagne Blend                   Gosset   1003.0  False          0  \n",
       "134288     Pinot Grigio            Alois Lageder   1270.0  False          0  \n",
       "\n",
       "[133349 rows x 13 columns]"
      ]
     },
     "execution_count": 136,
     "metadata": {},
     "output_type": "execute_result"
    }
   ],
   "source": [
    "#Outliers removed df\n",
    "priceZ = wine_df[~((wine_df < (Q1 - 1.5 * IQR)) |(wine_df > (Q3 + 1.5 * IQR))).any(axis=1)]\n",
    "priceZ"
   ]
  },
  {
   "cell_type": "code",
   "execution_count": 40,
   "metadata": {},
   "outputs": [
    {
     "data": {
      "text/html": [
       "<div>\n",
       "<style scoped>\n",
       "    .dataframe tbody tr th:only-of-type {\n",
       "        vertical-align: middle;\n",
       "    }\n",
       "\n",
       "    .dataframe tbody tr th {\n",
       "        vertical-align: top;\n",
       "    }\n",
       "\n",
       "    .dataframe thead th {\n",
       "        text-align: right;\n",
       "    }\n",
       "</style>\n",
       "<table border=\"1\" class=\"dataframe\">\n",
       "  <thead>\n",
       "    <tr style=\"text-align: right;\">\n",
       "      <th></th>\n",
       "      <th>price</th>\n",
       "      <th>points</th>\n",
       "      <th>Still_Red</th>\n",
       "    </tr>\n",
       "  </thead>\n",
       "  <tbody>\n",
       "    <tr>\n",
       "      <th>price</th>\n",
       "      <td>1.000000</td>\n",
       "      <td>0.459624</td>\n",
       "      <td>0.108498</td>\n",
       "    </tr>\n",
       "    <tr>\n",
       "      <th>points</th>\n",
       "      <td>0.459624</td>\n",
       "      <td>1.000000</td>\n",
       "      <td>0.061808</td>\n",
       "    </tr>\n",
       "    <tr>\n",
       "      <th>Still_Red</th>\n",
       "      <td>0.108498</td>\n",
       "      <td>0.061808</td>\n",
       "      <td>1.000000</td>\n",
       "    </tr>\n",
       "  </tbody>\n",
       "</table>\n",
       "</div>"
      ],
      "text/plain": [
       "              price    points  Still_Red\n",
       "price      1.000000  0.459624   0.108498\n",
       "points     0.459624  1.000000   0.061808\n",
       "Still_Red  0.108498  0.061808   1.000000"
      ]
     },
     "execution_count": 40,
     "metadata": {},
     "output_type": "execute_result"
    }
   ],
   "source": [
    "wine_df[['price','points','Still_Red']].corr()"
   ]
  },
  {
   "cell_type": "code",
   "execution_count": 41,
   "metadata": {},
   "outputs": [
    {
     "data": {
      "text/plain": [
       "Ttest_indResult(statistic=23.349294596442785, pvalue=3.4024913851525474e-120)"
      ]
     },
     "execution_count": 41,
     "metadata": {},
     "output_type": "execute_result"
    }
   ],
   "source": [
    "stats.ttest_ind(wine_red.points, wine_white.points, equal_var=False)"
   ]
  },
  {
   "cell_type": "code",
   "execution_count": 42,
   "metadata": {},
   "outputs": [
    {
     "data": {
      "text/plain": [
       "87.93201032971507"
      ]
     },
     "execution_count": 42,
     "metadata": {},
     "output_type": "execute_result"
    }
   ],
   "source": [
    "wine_red.points.mean()"
   ]
  },
  {
   "cell_type": "code",
   "execution_count": 43,
   "metadata": {},
   "outputs": [
    {
     "data": {
      "text/plain": [
       "87.49904799101694"
      ]
     },
     "execution_count": 43,
     "metadata": {},
     "output_type": "execute_result"
    }
   ],
   "source": [
    "wine_white.points.mean()"
   ]
  },
  {
   "cell_type": "code",
   "execution_count": 44,
   "metadata": {},
   "outputs": [
    {
     "data": {
      "text/plain": [
       "93323"
      ]
     },
     "execution_count": 44,
     "metadata": {},
     "output_type": "execute_result"
    }
   ],
   "source": [
    "wine_red.points.count()"
   ]
  },
  {
   "cell_type": "code",
   "execution_count": 45,
   "metadata": {},
   "outputs": [
    {
     "data": {
      "text/plain": [
       "40966"
      ]
     },
     "execution_count": 45,
     "metadata": {},
     "output_type": "execute_result"
    }
   ],
   "source": [
    "wine_white.points.count()"
   ]
  },
  {
   "cell_type": "code",
   "execution_count": 46,
   "metadata": {},
   "outputs": [
    {
     "data": {
      "text/plain": [
       "0.01076380993151733"
      ]
     },
     "execution_count": 46,
     "metadata": {},
     "output_type": "execute_result"
    }
   ],
   "source": [
    "stats.sem(wine_red.points)"
   ]
  },
  {
   "cell_type": "code",
   "execution_count": 47,
   "metadata": {},
   "outputs": [
    {
     "data": {
      "text/plain": [
       "0.015098923061268945"
      ]
     },
     "execution_count": 47,
     "metadata": {},
     "output_type": "execute_result"
    }
   ],
   "source": [
    "stats.sem(wine_white.points)"
   ]
  },
  {
   "cell_type": "code",
   "execution_count": 48,
   "metadata": {},
   "outputs": [
    {
     "data": {
      "text/plain": [
       "Ttest_indResult(statistic=39.55164412347694, pvalue=0.0)"
      ]
     },
     "execution_count": 48,
     "metadata": {},
     "output_type": "execute_result"
    }
   ],
   "source": [
    "stats.ttest_ind(wine_red.price, wine_white.price, equal_var=False)"
   ]
  },
  {
   "cell_type": "code",
   "execution_count": 49,
   "metadata": {},
   "outputs": [
    {
     "name": "stdout",
     "output_type": "stream",
     "text": [
      "35.947665634409525\n",
      "27.332177903627397\n",
      "0.11792129941087051\n",
      "0.18315010059964076\n"
     ]
    }
   ],
   "source": [
    "print(wine_red.price.mean())\n",
    "print(wine_white.price.mean())\n",
    "print(stats.sem(wine_red.price))\n",
    "print(stats.sem(wine_white.price))"
   ]
  },
  {
   "cell_type": "code",
   "execution_count": 50,
   "metadata": {},
   "outputs": [
    {
     "data": {
      "text/plain": [
       "(array([9.2937e+04, 3.3400e+02, 3.7000e+01, 8.0000e+00, 3.0000e+00,\n",
       "        2.0000e+00, 0.0000e+00, 0.0000e+00, 1.0000e+00, 1.0000e+00]),\n",
       " array([   4. ,  233.6,  463.2,  692.8,  922.4, 1152. , 1381.6, 1611.2,\n",
       "        1840.8, 2070.4, 2300. ]),\n",
       " <a list of 10 Patch objects>)"
      ]
     },
     "execution_count": 50,
     "metadata": {},
     "output_type": "execute_result"
    },
    {
     "data": {
      "image/png": "[encoded data removed]",
      "text/plain": [
       "<Figure size 432x288 with 1 Axes>"
      ]
     },
     "metadata": {
      "needs_background": "light"
     },
     "output_type": "display_data"
    }
   ],
   "source": [
    "plt.hist(wine_red.price)"
   ]
  },
  {
   "cell_type": "code",
   "execution_count": 51,
   "metadata": {},
   "outputs": [
    {
     "data": {
      "text/plain": [
       "110.0"
      ]
     },
     "execution_count": 51,
     "metadata": {},
     "output_type": "execute_result"
    }
   ],
   "source": [
    "np.quantile(wine_red.price, 0.975)"
   ]
  },
  {
   "cell_type": "code",
   "execution_count": 52,
   "metadata": {},
   "outputs": [
    {
     "data": {
      "text/html": [
       "<div>\n",
       "<style scoped>\n",
       "    .dataframe tbody tr th:only-of-type {\n",
       "        vertical-align: middle;\n",
       "    }\n",
       "\n",
       "    .dataframe tbody tr th {\n",
       "        vertical-align: top;\n",
       "    }\n",
       "\n",
       "    .dataframe thead th {\n",
       "        text-align: right;\n",
       "    }\n",
       "</style>\n",
       "<table border=\"1\" class=\"dataframe\">\n",
       "  <thead>\n",
       "    <tr style=\"text-align: right;\">\n",
       "      <th></th>\n",
       "      <th>country</th>\n",
       "      <th>description</th>\n",
       "      <th>designation</th>\n",
       "      <th>points</th>\n",
       "      <th>price</th>\n",
       "      <th>province</th>\n",
       "      <th>region_1</th>\n",
       "      <th>region_2</th>\n",
       "      <th>variety</th>\n",
       "      <th>winery</th>\n",
       "      <th>Counts</th>\n",
       "      <th>Red?</th>\n",
       "      <th>Still_Red</th>\n",
       "    </tr>\n",
       "  </thead>\n",
       "  <tbody>\n",
       "    <tr>\n",
       "      <th>3</th>\n",
       "      <td>US</td>\n",
       "      <td>This spent 20 months in 30% new French oak, an...</td>\n",
       "      <td>Reserve</td>\n",
       "      <td>96</td>\n",
       "      <td>65.0</td>\n",
       "      <td>Oregon</td>\n",
       "      <td>Willamette Valley</td>\n",
       "      <td>Willamette Valley</td>\n",
       "      <td>Pinot Noir</td>\n",
       "      <td>Ponzi</td>\n",
       "      <td>13625.0</td>\n",
       "      <td>True</td>\n",
       "      <td>1</td>\n",
       "    </tr>\n",
       "    <tr>\n",
       "      <th>4</th>\n",
       "      <td>Spain</td>\n",
       "      <td>Deep, dense and pure from the opening bell, th...</td>\n",
       "      <td>Numanthia</td>\n",
       "      <td>95</td>\n",
       "      <td>73.0</td>\n",
       "      <td>Northern Spain</td>\n",
       "      <td>Toro</td>\n",
       "      <td>Toro</td>\n",
       "      <td>Tinta de Toro</td>\n",
       "      <td>Numanthia</td>\n",
       "      <td>221.0</td>\n",
       "      <td>True</td>\n",
       "      <td>1</td>\n",
       "    </tr>\n",
       "    <tr>\n",
       "      <th>5</th>\n",
       "      <td>Spain</td>\n",
       "      <td>Slightly gritty black-fruit aromas include a s...</td>\n",
       "      <td>San Román</td>\n",
       "      <td>95</td>\n",
       "      <td>65.0</td>\n",
       "      <td>Northern Spain</td>\n",
       "      <td>Toro</td>\n",
       "      <td>Toro</td>\n",
       "      <td>Tinta de Toro</td>\n",
       "      <td>Maurodos</td>\n",
       "      <td>221.0</td>\n",
       "      <td>True</td>\n",
       "      <td>1</td>\n",
       "    </tr>\n",
       "    <tr>\n",
       "      <th>7</th>\n",
       "      <td>US</td>\n",
       "      <td>This re-named vineyard was formerly bottled as...</td>\n",
       "      <td>Silice</td>\n",
       "      <td>95</td>\n",
       "      <td>65.0</td>\n",
       "      <td>Oregon</td>\n",
       "      <td>Chehalem Mountains</td>\n",
       "      <td>Willamette Valley</td>\n",
       "      <td>Pinot Noir</td>\n",
       "      <td>Bergström</td>\n",
       "      <td>13625.0</td>\n",
       "      <td>True</td>\n",
       "      <td>1</td>\n",
       "    </tr>\n",
       "    <tr>\n",
       "      <th>8</th>\n",
       "      <td>US</td>\n",
       "      <td>The producer sources from two blocks of the vi...</td>\n",
       "      <td>Gap's Crown Vineyard</td>\n",
       "      <td>95</td>\n",
       "      <td>60.0</td>\n",
       "      <td>California</td>\n",
       "      <td>Sonoma Coast</td>\n",
       "      <td>Sonoma</td>\n",
       "      <td>Pinot Noir</td>\n",
       "      <td>Blue Farm</td>\n",
       "      <td>13625.0</td>\n",
       "      <td>True</td>\n",
       "      <td>1</td>\n",
       "    </tr>\n",
       "    <tr>\n",
       "      <th>...</th>\n",
       "      <td>...</td>\n",
       "      <td>...</td>\n",
       "      <td>...</td>\n",
       "      <td>...</td>\n",
       "      <td>...</td>\n",
       "      <td>...</td>\n",
       "      <td>...</td>\n",
       "      <td>...</td>\n",
       "      <td>...</td>\n",
       "      <td>...</td>\n",
       "      <td>...</td>\n",
       "      <td>...</td>\n",
       "      <td>...</td>\n",
       "    </tr>\n",
       "    <tr>\n",
       "      <th>134269</th>\n",
       "      <td>France</td>\n",
       "      <td>This is a lovely, fragrant Burgundy, with a sm...</td>\n",
       "      <td>Clos dea Argillieres</td>\n",
       "      <td>89</td>\n",
       "      <td>52.0</td>\n",
       "      <td>Burgundy</td>\n",
       "      <td>Nuits-St.-Georges</td>\n",
       "      <td>Nuits-St.-Georges</td>\n",
       "      <td>Pinot Noir</td>\n",
       "      <td>Daniel Rion</td>\n",
       "      <td>13625.0</td>\n",
       "      <td>True</td>\n",
       "      <td>1</td>\n",
       "    </tr>\n",
       "    <tr>\n",
       "      <th>134270</th>\n",
       "      <td>France</td>\n",
       "      <td>Scents of graham cracker and malted milk choco...</td>\n",
       "      <td>*Unknown Wine*</td>\n",
       "      <td>89</td>\n",
       "      <td>38.0</td>\n",
       "      <td>Burgundy</td>\n",
       "      <td>Chambolle-Musigny</td>\n",
       "      <td>Chambolle-Musigny</td>\n",
       "      <td>Pinot Noir</td>\n",
       "      <td>Michel Gros</td>\n",
       "      <td>13625.0</td>\n",
       "      <td>True</td>\n",
       "      <td>1</td>\n",
       "    </tr>\n",
       "    <tr>\n",
       "      <th>134271</th>\n",
       "      <td>France</td>\n",
       "      <td>This needs a good bit of breathing time, then ...</td>\n",
       "      <td>Les Chaliots</td>\n",
       "      <td>87</td>\n",
       "      <td>37.0</td>\n",
       "      <td>Burgundy</td>\n",
       "      <td>Nuits-St.-Georges</td>\n",
       "      <td>Nuits-St.-Georges</td>\n",
       "      <td>Pinot Noir</td>\n",
       "      <td>Michel Gros</td>\n",
       "      <td>13625.0</td>\n",
       "      <td>True</td>\n",
       "      <td>1</td>\n",
       "    </tr>\n",
       "    <tr>\n",
       "      <th>134272</th>\n",
       "      <td>France</td>\n",
       "      <td>The nose is dominated by the attractive scents...</td>\n",
       "      <td>Les Charmes</td>\n",
       "      <td>87</td>\n",
       "      <td>65.0</td>\n",
       "      <td>Burgundy</td>\n",
       "      <td>Chambolle-Musigny</td>\n",
       "      <td>Chambolle-Musigny</td>\n",
       "      <td>Pinot Noir</td>\n",
       "      <td>Daniel Rion</td>\n",
       "      <td>13625.0</td>\n",
       "      <td>True</td>\n",
       "      <td>1</td>\n",
       "    </tr>\n",
       "    <tr>\n",
       "      <th>134273</th>\n",
       "      <td>France</td>\n",
       "      <td>Inky and rustic, yet in a refined manner. This...</td>\n",
       "      <td>*Unknown Wine*</td>\n",
       "      <td>94</td>\n",
       "      <td>30.0</td>\n",
       "      <td>Rhône Valley</td>\n",
       "      <td>Châteauneuf-du-Pape</td>\n",
       "      <td>Châteauneuf-du-Pape</td>\n",
       "      <td>Rhône-style Red Blend</td>\n",
       "      <td>Le Vieux Donjon</td>\n",
       "      <td>1455.0</td>\n",
       "      <td>True</td>\n",
       "      <td>1</td>\n",
       "    </tr>\n",
       "  </tbody>\n",
       "</table>\n",
       "<p>87720 rows × 13 columns</p>\n",
       "</div>"
      ],
      "text/plain": [
       "       country                                        description  \\\n",
       "3           US  This spent 20 months in 30% new French oak, an...   \n",
       "4        Spain  Deep, dense and pure from the opening bell, th...   \n",
       "5        Spain  Slightly gritty black-fruit aromas include a s...   \n",
       "7           US  This re-named vineyard was formerly bottled as...   \n",
       "8           US  The producer sources from two blocks of the vi...   \n",
       "...        ...                                                ...   \n",
       "134269  France  This is a lovely, fragrant Burgundy, with a sm...   \n",
       "134270  France  Scents of graham cracker and malted milk choco...   \n",
       "134271  France  This needs a good bit of breathing time, then ...   \n",
       "134272  France  The nose is dominated by the attractive scents...   \n",
       "134273  France  Inky and rustic, yet in a refined manner. This...   \n",
       "\n",
       "                 designation  points  price        province  \\\n",
       "3                    Reserve      96   65.0          Oregon   \n",
       "4                  Numanthia      95   73.0  Northern Spain   \n",
       "5                  San Román      95   65.0  Northern Spain   \n",
       "7                     Silice      95   65.0          Oregon   \n",
       "8       Gap's Crown Vineyard      95   60.0      California   \n",
       "...                      ...     ...    ...             ...   \n",
       "134269  Clos dea Argillieres      89   52.0        Burgundy   \n",
       "134270        *Unknown Wine*      89   38.0        Burgundy   \n",
       "134271          Les Chaliots      87   37.0        Burgundy   \n",
       "134272           Les Charmes      87   65.0        Burgundy   \n",
       "134273        *Unknown Wine*      94   30.0    Rhône Valley   \n",
       "\n",
       "                   region_1             region_2                variety  \\\n",
       "3         Willamette Valley    Willamette Valley             Pinot Noir   \n",
       "4                      Toro                 Toro          Tinta de Toro   \n",
       "5                      Toro                 Toro          Tinta de Toro   \n",
       "7        Chehalem Mountains    Willamette Valley             Pinot Noir   \n",
       "8              Sonoma Coast               Sonoma             Pinot Noir   \n",
       "...                     ...                  ...                    ...   \n",
       "134269    Nuits-St.-Georges    Nuits-St.-Georges             Pinot Noir   \n",
       "134270    Chambolle-Musigny    Chambolle-Musigny             Pinot Noir   \n",
       "134271    Nuits-St.-Georges    Nuits-St.-Georges             Pinot Noir   \n",
       "134272    Chambolle-Musigny    Chambolle-Musigny             Pinot Noir   \n",
       "134273  Châteauneuf-du-Pape  Châteauneuf-du-Pape  Rhône-style Red Blend   \n",
       "\n",
       "                 winery   Counts  Red?  Still_Red  \n",
       "3                 Ponzi  13625.0  True          1  \n",
       "4             Numanthia    221.0  True          1  \n",
       "5              Maurodos    221.0  True          1  \n",
       "7             Bergström  13625.0  True          1  \n",
       "8             Blue Farm  13625.0  True          1  \n",
       "...                 ...      ...   ...        ...  \n",
       "134269      Daniel Rion  13625.0  True          1  \n",
       "134270      Michel Gros  13625.0  True          1  \n",
       "134271      Michel Gros  13625.0  True          1  \n",
       "134272      Daniel Rion  13625.0  True          1  \n",
       "134273  Le Vieux Donjon   1455.0  True          1  \n",
       "\n",
       "[87720 rows x 13 columns]"
      ]
     },
     "execution_count": 52,
     "metadata": {},
     "output_type": "execute_result"
    }
   ],
   "source": [
    "new_mask = (wine_red.price > np.quantile(wine_red.price, 0.025)) & (wine_red.price < np.quantile(wine_red.price, 0.975))\n",
    "\n",
    "red_sub = wine_red.loc[new_mask]\n",
    "red_sub"
   ]
  },
  {
   "cell_type": "code",
   "execution_count": 53,
   "metadata": {},
   "outputs": [
    {
     "data": {
      "text/plain": [
       "<matplotlib.collections.PathCollection at 0x13c0ead6a48>"
      ]
     },
     "execution_count": 53,
     "metadata": {},
     "output_type": "execute_result"
    },
    {
     "data": {
      "image/png": "[encoded data removed]",
      "text/plain": [
       "<Figure size 432x288 with 1 Axes>"
      ]
     },
     "metadata": {
      "needs_background": "light"
     },
     "output_type": "display_data"
    }
   ],
   "source": [
    "plt.scatter(red_sub.points, red_sub.price)"
   ]
  },
  {
   "cell_type": "code",
   "execution_count": 54,
   "metadata": {},
   "outputs": [
    {
     "data": {
      "text/html": [
       "<div>\n",
       "<style scoped>\n",
       "    .dataframe tbody tr th:only-of-type {\n",
       "        vertical-align: middle;\n",
       "    }\n",
       "\n",
       "    .dataframe tbody tr th {\n",
       "        vertical-align: top;\n",
       "    }\n",
       "\n",
       "    .dataframe thead th {\n",
       "        text-align: right;\n",
       "    }\n",
       "</style>\n",
       "<table border=\"1\" class=\"dataframe\">\n",
       "  <thead>\n",
       "    <tr style=\"text-align: right;\">\n",
       "      <th></th>\n",
       "      <th>points</th>\n",
       "      <th>price</th>\n",
       "      <th>Counts</th>\n",
       "      <th>Still_Red</th>\n",
       "    </tr>\n",
       "  </thead>\n",
       "  <tbody>\n",
       "    <tr>\n",
       "      <th>points</th>\n",
       "      <td>1.000000</td>\n",
       "      <td>0.538650</td>\n",
       "      <td>0.081764</td>\n",
       "      <td>NaN</td>\n",
       "    </tr>\n",
       "    <tr>\n",
       "      <th>price</th>\n",
       "      <td>0.538650</td>\n",
       "      <td>1.000000</td>\n",
       "      <td>0.207736</td>\n",
       "      <td>NaN</td>\n",
       "    </tr>\n",
       "    <tr>\n",
       "      <th>Counts</th>\n",
       "      <td>0.081764</td>\n",
       "      <td>0.207736</td>\n",
       "      <td>1.000000</td>\n",
       "      <td>NaN</td>\n",
       "    </tr>\n",
       "    <tr>\n",
       "      <th>Still_Red</th>\n",
       "      <td>NaN</td>\n",
       "      <td>NaN</td>\n",
       "      <td>NaN</td>\n",
       "      <td>NaN</td>\n",
       "    </tr>\n",
       "  </tbody>\n",
       "</table>\n",
       "</div>"
      ],
      "text/plain": [
       "             points     price    Counts  Still_Red\n",
       "points     1.000000  0.538650  0.081764        NaN\n",
       "price      0.538650  1.000000  0.207736        NaN\n",
       "Counts     0.081764  0.207736  1.000000        NaN\n",
       "Still_Red       NaN       NaN       NaN        NaN"
      ]
     },
     "execution_count": 54,
     "metadata": {},
     "output_type": "execute_result"
    }
   ],
   "source": [
    "red_sub.corr()"
   ]
  },
  {
   "cell_type": "code",
   "execution_count": 55,
   "metadata": {},
   "outputs": [
    {
     "data": {
      "text/html": [
       "<div>\n",
       "<style scoped>\n",
       "    .dataframe tbody tr th:only-of-type {\n",
       "        vertical-align: middle;\n",
       "    }\n",
       "\n",
       "    .dataframe tbody tr th {\n",
       "        vertical-align: top;\n",
       "    }\n",
       "\n",
       "    .dataframe thead th {\n",
       "        text-align: right;\n",
       "    }\n",
       "</style>\n",
       "<table border=\"1\" class=\"dataframe\">\n",
       "  <thead>\n",
       "    <tr style=\"text-align: right;\">\n",
       "      <th></th>\n",
       "      <th>points</th>\n",
       "      <th>price</th>\n",
       "      <th>Counts</th>\n",
       "      <th>Still_Red</th>\n",
       "    </tr>\n",
       "  </thead>\n",
       "  <tbody>\n",
       "    <tr>\n",
       "      <th>points</th>\n",
       "      <td>1.000000</td>\n",
       "      <td>0.474773</td>\n",
       "      <td>0.089191</td>\n",
       "      <td>NaN</td>\n",
       "    </tr>\n",
       "    <tr>\n",
       "      <th>price</th>\n",
       "      <td>0.474773</td>\n",
       "      <td>1.000000</td>\n",
       "      <td>0.127757</td>\n",
       "      <td>NaN</td>\n",
       "    </tr>\n",
       "    <tr>\n",
       "      <th>Counts</th>\n",
       "      <td>0.089191</td>\n",
       "      <td>0.127757</td>\n",
       "      <td>1.000000</td>\n",
       "      <td>NaN</td>\n",
       "    </tr>\n",
       "    <tr>\n",
       "      <th>Still_Red</th>\n",
       "      <td>NaN</td>\n",
       "      <td>NaN</td>\n",
       "      <td>NaN</td>\n",
       "      <td>NaN</td>\n",
       "    </tr>\n",
       "  </tbody>\n",
       "</table>\n",
       "</div>"
      ],
      "text/plain": [
       "             points     price    Counts  Still_Red\n",
       "points     1.000000  0.474773  0.089191        NaN\n",
       "price      0.474773  1.000000  0.127757        NaN\n",
       "Counts     0.089191  0.127757  1.000000        NaN\n",
       "Still_Red       NaN       NaN       NaN        NaN"
      ]
     },
     "execution_count": 55,
     "metadata": {},
     "output_type": "execute_result"
    }
   ],
   "source": [
    "wine_red.corr()"
   ]
  },
  {
   "cell_type": "code",
   "execution_count": 56,
   "metadata": {},
   "outputs": [
    {
     "data": {
      "text/plain": [
       "32.84124487004104"
      ]
     },
     "execution_count": 56,
     "metadata": {},
     "output_type": "execute_result"
    }
   ],
   "source": [
    "red_sub.price.mean()"
   ]
  },
  {
   "cell_type": "code",
   "execution_count": 57,
   "metadata": {},
   "outputs": [
    {
     "data": {
      "text/plain": [
       "<matplotlib.collections.PathCollection at 0x13c0ee40748>"
      ]
     },
     "execution_count": 57,
     "metadata": {},
     "output_type": "execute_result"
    },
    {
     "data": {
      "image/png": "[encoded data removed]",
      "text/plain": [
       "<Figure size 432x288 with 1 Axes>"
      ]
     },
     "metadata": {
      "needs_background": "light"
     },
     "output_type": "display_data"
    }
   ],
   "source": [
    "plt.scatter(wine_white.points, wine_white.price)"
   ]
  },
  {
   "cell_type": "code",
   "execution_count": 58,
   "metadata": {},
   "outputs": [
    {
     "data": {
      "text/html": [
       "<div>\n",
       "<style scoped>\n",
       "    .dataframe tbody tr th:only-of-type {\n",
       "        vertical-align: middle;\n",
       "    }\n",
       "\n",
       "    .dataframe tbody tr th {\n",
       "        vertical-align: top;\n",
       "    }\n",
       "\n",
       "    .dataframe thead th {\n",
       "        text-align: right;\n",
       "    }\n",
       "</style>\n",
       "<table border=\"1\" class=\"dataframe\">\n",
       "  <thead>\n",
       "    <tr style=\"text-align: right;\">\n",
       "      <th></th>\n",
       "      <th>country</th>\n",
       "      <th>description</th>\n",
       "      <th>designation</th>\n",
       "      <th>points</th>\n",
       "      <th>price</th>\n",
       "      <th>province</th>\n",
       "      <th>region_1</th>\n",
       "      <th>region_2</th>\n",
       "      <th>variety</th>\n",
       "      <th>winery</th>\n",
       "      <th>Counts</th>\n",
       "      <th>Red?</th>\n",
       "      <th>Still_Red</th>\n",
       "    </tr>\n",
       "  </thead>\n",
       "  <tbody>\n",
       "    <tr>\n",
       "      <th>22</th>\n",
       "      <td>US</td>\n",
       "      <td>The apogee of this ambitious winery's white wi...</td>\n",
       "      <td>Giallo Solare</td>\n",
       "      <td>95</td>\n",
       "      <td>60.0</td>\n",
       "      <td>California</td>\n",
       "      <td>Edna Valley</td>\n",
       "      <td>Central Coast</td>\n",
       "      <td>Chardonnay</td>\n",
       "      <td>Center of Effort</td>\n",
       "      <td>13775.0</td>\n",
       "      <td>False</td>\n",
       "      <td>0</td>\n",
       "    </tr>\n",
       "    <tr>\n",
       "      <th>24</th>\n",
       "      <td>New Zealand</td>\n",
       "      <td>Yields were down in 2015, but intensity is up,...</td>\n",
       "      <td>Maté's Vineyard</td>\n",
       "      <td>94</td>\n",
       "      <td>57.0</td>\n",
       "      <td>Kumeu</td>\n",
       "      <td>Kumeu</td>\n",
       "      <td>Kumeu</td>\n",
       "      <td>Chardonnay</td>\n",
       "      <td>Kumeu River</td>\n",
       "      <td>13775.0</td>\n",
       "      <td>False</td>\n",
       "      <td>0</td>\n",
       "    </tr>\n",
       "    <tr>\n",
       "      <th>29</th>\n",
       "      <td>US</td>\n",
       "      <td>Steely and perfumed, this wine sees only 20% n...</td>\n",
       "      <td>Babushka</td>\n",
       "      <td>90</td>\n",
       "      <td>37.0</td>\n",
       "      <td>California</td>\n",
       "      <td>Russian River Valley</td>\n",
       "      <td>Sonoma</td>\n",
       "      <td>Chardonnay</td>\n",
       "      <td>Zepaltas</td>\n",
       "      <td>13775.0</td>\n",
       "      <td>False</td>\n",
       "      <td>0</td>\n",
       "    </tr>\n",
       "    <tr>\n",
       "      <th>31</th>\n",
       "      <td>US</td>\n",
       "      <td>The aromas entice with notes of wet stone, hon...</td>\n",
       "      <td>Conner Lee Vineyard</td>\n",
       "      <td>90</td>\n",
       "      <td>42.0</td>\n",
       "      <td>Washington</td>\n",
       "      <td>Columbia Valley (WA)</td>\n",
       "      <td>Columbia Valley</td>\n",
       "      <td>Chardonnay</td>\n",
       "      <td>Buty</td>\n",
       "      <td>13775.0</td>\n",
       "      <td>False</td>\n",
       "      <td>0</td>\n",
       "    </tr>\n",
       "    <tr>\n",
       "      <th>33</th>\n",
       "      <td>France</td>\n",
       "      <td>Gingery spice notes accent fresh pear and melo...</td>\n",
       "      <td>*Unknown Wine*</td>\n",
       "      <td>90</td>\n",
       "      <td>60.0</td>\n",
       "      <td>Rhône Valley</td>\n",
       "      <td>Châteauneuf-du-Pape</td>\n",
       "      <td>Châteauneuf-du-Pape</td>\n",
       "      <td>Rhône-style White Blend</td>\n",
       "      <td>Clos de L'Oratoire des Papes</td>\n",
       "      <td>407.0</td>\n",
       "      <td>False</td>\n",
       "      <td>0</td>\n",
       "    </tr>\n",
       "    <tr>\n",
       "      <th>...</th>\n",
       "      <td>...</td>\n",
       "      <td>...</td>\n",
       "      <td>...</td>\n",
       "      <td>...</td>\n",
       "      <td>...</td>\n",
       "      <td>...</td>\n",
       "      <td>...</td>\n",
       "      <td>...</td>\n",
       "      <td>...</td>\n",
       "      <td>...</td>\n",
       "      <td>...</td>\n",
       "      <td>...</td>\n",
       "      <td>...</td>\n",
       "    </tr>\n",
       "    <tr>\n",
       "      <th>134284</th>\n",
       "      <td>Italy</td>\n",
       "      <td>Many people feel Fiano represents southern Ita...</td>\n",
       "      <td>*Unknown Wine*</td>\n",
       "      <td>91</td>\n",
       "      <td>20.0</td>\n",
       "      <td>Southern Italy</td>\n",
       "      <td>Fiano di Avellino</td>\n",
       "      <td>Fiano di Avellino</td>\n",
       "      <td>White Blend</td>\n",
       "      <td>Feudi di San Gregorio</td>\n",
       "      <td>2554.0</td>\n",
       "      <td>False</td>\n",
       "      <td>0</td>\n",
       "    </tr>\n",
       "    <tr>\n",
       "      <th>134285</th>\n",
       "      <td>France</td>\n",
       "      <td>Offers an intriguing nose with ginger, lime an...</td>\n",
       "      <td>Cuvée Prestige</td>\n",
       "      <td>91</td>\n",
       "      <td>27.0</td>\n",
       "      <td>Champagne</td>\n",
       "      <td>Champagne</td>\n",
       "      <td>Champagne</td>\n",
       "      <td>Champagne Blend</td>\n",
       "      <td>H.Germain</td>\n",
       "      <td>1003.0</td>\n",
       "      <td>False</td>\n",
       "      <td>0</td>\n",
       "    </tr>\n",
       "    <tr>\n",
       "      <th>134286</th>\n",
       "      <td>Italy</td>\n",
       "      <td>This classic example comes from a cru vineyard...</td>\n",
       "      <td>Terre di Dora</td>\n",
       "      <td>91</td>\n",
       "      <td>20.0</td>\n",
       "      <td>Southern Italy</td>\n",
       "      <td>Fiano di Avellino</td>\n",
       "      <td>Fiano di Avellino</td>\n",
       "      <td>White Blend</td>\n",
       "      <td>Terredora</td>\n",
       "      <td>2554.0</td>\n",
       "      <td>False</td>\n",
       "      <td>0</td>\n",
       "    </tr>\n",
       "    <tr>\n",
       "      <th>134287</th>\n",
       "      <td>France</td>\n",
       "      <td>A perfect salmon shade, with scents of peaches...</td>\n",
       "      <td>Grand Brut Rosé</td>\n",
       "      <td>90</td>\n",
       "      <td>52.0</td>\n",
       "      <td>Champagne</td>\n",
       "      <td>Champagne</td>\n",
       "      <td>Champagne</td>\n",
       "      <td>Champagne Blend</td>\n",
       "      <td>Gosset</td>\n",
       "      <td>1003.0</td>\n",
       "      <td>False</td>\n",
       "      <td>0</td>\n",
       "    </tr>\n",
       "    <tr>\n",
       "      <th>134288</th>\n",
       "      <td>Italy</td>\n",
       "      <td>More Pinot Grigios should taste like this. A r...</td>\n",
       "      <td>*Unknown Wine*</td>\n",
       "      <td>90</td>\n",
       "      <td>15.0</td>\n",
       "      <td>Northeastern Italy</td>\n",
       "      <td>Alto Adige</td>\n",
       "      <td>Alto Adige</td>\n",
       "      <td>Pinot Grigio</td>\n",
       "      <td>Alois Lageder</td>\n",
       "      <td>1270.0</td>\n",
       "      <td>False</td>\n",
       "      <td>0</td>\n",
       "    </tr>\n",
       "  </tbody>\n",
       "</table>\n",
       "<p>38864 rows × 13 columns</p>\n",
       "</div>"
      ],
      "text/plain": [
       "            country                                        description  \\\n",
       "22               US  The apogee of this ambitious winery's white wi...   \n",
       "24      New Zealand  Yields were down in 2015, but intensity is up,...   \n",
       "29               US  Steely and perfumed, this wine sees only 20% n...   \n",
       "31               US  The aromas entice with notes of wet stone, hon...   \n",
       "33           France  Gingery spice notes accent fresh pear and melo...   \n",
       "...             ...                                                ...   \n",
       "134284        Italy  Many people feel Fiano represents southern Ita...   \n",
       "134285       France  Offers an intriguing nose with ginger, lime an...   \n",
       "134286        Italy  This classic example comes from a cru vineyard...   \n",
       "134287       France  A perfect salmon shade, with scents of peaches...   \n",
       "134288        Italy  More Pinot Grigios should taste like this. A r...   \n",
       "\n",
       "                designation  points  price            province  \\\n",
       "22            Giallo Solare      95   60.0          California   \n",
       "24          Maté's Vineyard      94   57.0               Kumeu   \n",
       "29                 Babushka      90   37.0          California   \n",
       "31      Conner Lee Vineyard      90   42.0          Washington   \n",
       "33           *Unknown Wine*      90   60.0        Rhône Valley   \n",
       "...                     ...     ...    ...                 ...   \n",
       "134284       *Unknown Wine*      91   20.0      Southern Italy   \n",
       "134285       Cuvée Prestige      91   27.0           Champagne   \n",
       "134286        Terre di Dora      91   20.0      Southern Italy   \n",
       "134287      Grand Brut Rosé      90   52.0           Champagne   \n",
       "134288       *Unknown Wine*      90   15.0  Northeastern Italy   \n",
       "\n",
       "                    region_1             region_2                  variety  \\\n",
       "22               Edna Valley        Central Coast               Chardonnay   \n",
       "24                     Kumeu                Kumeu               Chardonnay   \n",
       "29      Russian River Valley               Sonoma               Chardonnay   \n",
       "31      Columbia Valley (WA)      Columbia Valley               Chardonnay   \n",
       "33       Châteauneuf-du-Pape  Châteauneuf-du-Pape  Rhône-style White Blend   \n",
       "...                      ...                  ...                      ...   \n",
       "134284     Fiano di Avellino    Fiano di Avellino              White Blend   \n",
       "134285             Champagne            Champagne          Champagne Blend   \n",
       "134286     Fiano di Avellino    Fiano di Avellino              White Blend   \n",
       "134287             Champagne            Champagne          Champagne Blend   \n",
       "134288            Alto Adige           Alto Adige             Pinot Grigio   \n",
       "\n",
       "                              winery   Counts   Red?  Still_Red  \n",
       "22                  Center of Effort  13775.0  False          0  \n",
       "24                       Kumeu River  13775.0  False          0  \n",
       "29                          Zepaltas  13775.0  False          0  \n",
       "31                              Buty  13775.0  False          0  \n",
       "33      Clos de L'Oratoire des Papes    407.0  False          0  \n",
       "...                              ...      ...    ...        ...  \n",
       "134284         Feudi di San Gregorio   2554.0  False          0  \n",
       "134285                     H.Germain   1003.0  False          0  \n",
       "134286                     Terredora   2554.0  False          0  \n",
       "134287                        Gosset   1003.0  False          0  \n",
       "134288                 Alois Lageder   1270.0  False          0  \n",
       "\n",
       "[38864 rows x 13 columns]"
      ]
     },
     "execution_count": 58,
     "metadata": {},
     "output_type": "execute_result"
    }
   ],
   "source": [
    "new_mask2 = (wine_white.price > np.quantile(wine_white.price, 0.025)) & (wine_white.price < np.quantile(wine_white.price, 0.975))\n",
    "\n",
    "white_sub = wine_white.loc[new_mask2]\n",
    "white_sub"
   ]
  },
  {
   "cell_type": "code",
   "execution_count": 59,
   "metadata": {},
   "outputs": [
    {
     "data": {
      "text/html": [
       "<div>\n",
       "<style scoped>\n",
       "    .dataframe tbody tr th:only-of-type {\n",
       "        vertical-align: middle;\n",
       "    }\n",
       "\n",
       "    .dataframe tbody tr th {\n",
       "        vertical-align: top;\n",
       "    }\n",
       "\n",
       "    .dataframe thead th {\n",
       "        text-align: right;\n",
       "    }\n",
       "</style>\n",
       "<table border=\"1\" class=\"dataframe\">\n",
       "  <thead>\n",
       "    <tr style=\"text-align: right;\">\n",
       "      <th></th>\n",
       "      <th>points</th>\n",
       "      <th>price</th>\n",
       "      <th>Counts</th>\n",
       "      <th>Still_Red</th>\n",
       "    </tr>\n",
       "  </thead>\n",
       "  <tbody>\n",
       "    <tr>\n",
       "      <th>points</th>\n",
       "      <td>1.000000</td>\n",
       "      <td>0.536413</td>\n",
       "      <td>0.040876</td>\n",
       "      <td>NaN</td>\n",
       "    </tr>\n",
       "    <tr>\n",
       "      <th>price</th>\n",
       "      <td>0.536413</td>\n",
       "      <td>1.000000</td>\n",
       "      <td>0.173914</td>\n",
       "      <td>NaN</td>\n",
       "    </tr>\n",
       "    <tr>\n",
       "      <th>Counts</th>\n",
       "      <td>0.040876</td>\n",
       "      <td>0.173914</td>\n",
       "      <td>1.000000</td>\n",
       "      <td>NaN</td>\n",
       "    </tr>\n",
       "    <tr>\n",
       "      <th>Still_Red</th>\n",
       "      <td>NaN</td>\n",
       "      <td>NaN</td>\n",
       "      <td>NaN</td>\n",
       "      <td>NaN</td>\n",
       "    </tr>\n",
       "  </tbody>\n",
       "</table>\n",
       "</div>"
      ],
      "text/plain": [
       "             points     price    Counts  Still_Red\n",
       "points     1.000000  0.536413  0.040876        NaN\n",
       "price      0.536413  1.000000  0.173914        NaN\n",
       "Counts     0.040876  0.173914  1.000000        NaN\n",
       "Still_Red       NaN       NaN       NaN        NaN"
      ]
     },
     "execution_count": 59,
     "metadata": {},
     "output_type": "execute_result"
    }
   ],
   "source": [
    "white_sub.corr()"
   ]
  },
  {
   "cell_type": "code",
   "execution_count": 60,
   "metadata": {},
   "outputs": [
    {
     "data": {
      "text/html": [
       "<div>\n",
       "<style scoped>\n",
       "    .dataframe tbody tr th:only-of-type {\n",
       "        vertical-align: middle;\n",
       "    }\n",
       "\n",
       "    .dataframe tbody tr th {\n",
       "        vertical-align: top;\n",
       "    }\n",
       "\n",
       "    .dataframe thead th {\n",
       "        text-align: right;\n",
       "    }\n",
       "</style>\n",
       "<table border=\"1\" class=\"dataframe\">\n",
       "  <thead>\n",
       "    <tr style=\"text-align: right;\">\n",
       "      <th></th>\n",
       "      <th>points</th>\n",
       "      <th>price</th>\n",
       "      <th>Counts</th>\n",
       "      <th>Still_Red</th>\n",
       "    </tr>\n",
       "  </thead>\n",
       "  <tbody>\n",
       "    <tr>\n",
       "      <th>points</th>\n",
       "      <td>1.000000</td>\n",
       "      <td>0.414576</td>\n",
       "      <td>0.043053</td>\n",
       "      <td>NaN</td>\n",
       "    </tr>\n",
       "    <tr>\n",
       "      <th>price</th>\n",
       "      <td>0.414576</td>\n",
       "      <td>1.000000</td>\n",
       "      <td>0.076988</td>\n",
       "      <td>NaN</td>\n",
       "    </tr>\n",
       "    <tr>\n",
       "      <th>Counts</th>\n",
       "      <td>0.043053</td>\n",
       "      <td>0.076988</td>\n",
       "      <td>1.000000</td>\n",
       "      <td>NaN</td>\n",
       "    </tr>\n",
       "    <tr>\n",
       "      <th>Still_Red</th>\n",
       "      <td>NaN</td>\n",
       "      <td>NaN</td>\n",
       "      <td>NaN</td>\n",
       "      <td>NaN</td>\n",
       "    </tr>\n",
       "  </tbody>\n",
       "</table>\n",
       "</div>"
      ],
      "text/plain": [
       "             points     price    Counts  Still_Red\n",
       "points     1.000000  0.414576  0.043053        NaN\n",
       "price      0.414576  1.000000  0.076988        NaN\n",
       "Counts     0.043053  0.076988  1.000000        NaN\n",
       "Still_Red       NaN       NaN       NaN        NaN"
      ]
     },
     "execution_count": 60,
     "metadata": {},
     "output_type": "execute_result"
    }
   ],
   "source": [
    "wine_white.corr()"
   ]
  },
  {
   "cell_type": "code",
   "execution_count": 61,
   "metadata": {},
   "outputs": [
    {
     "data": {
      "text/plain": [
       "23.84170440510498"
      ]
     },
     "execution_count": 61,
     "metadata": {},
     "output_type": "execute_result"
    }
   ],
   "source": [
    "white_sub.price.mean()"
   ]
  },
  {
   "cell_type": "code",
   "execution_count": 62,
   "metadata": {},
   "outputs": [
    {
     "data": {
      "text/html": [
       "<div>\n",
       "<style scoped>\n",
       "    .dataframe tbody tr th:only-of-type {\n",
       "        vertical-align: middle;\n",
       "    }\n",
       "\n",
       "    .dataframe tbody tr th {\n",
       "        vertical-align: top;\n",
       "    }\n",
       "\n",
       "    .dataframe thead th {\n",
       "        text-align: right;\n",
       "    }\n",
       "</style>\n",
       "<table border=\"1\" class=\"dataframe\">\n",
       "  <thead>\n",
       "    <tr style=\"text-align: right;\">\n",
       "      <th></th>\n",
       "      <th>country</th>\n",
       "      <th>description</th>\n",
       "      <th>designation</th>\n",
       "      <th>points</th>\n",
       "      <th>price</th>\n",
       "      <th>province</th>\n",
       "      <th>region_1</th>\n",
       "      <th>region_2</th>\n",
       "      <th>variety</th>\n",
       "      <th>winery</th>\n",
       "      <th>Counts</th>\n",
       "      <th>Red?</th>\n",
       "      <th>Still_Red</th>\n",
       "    </tr>\n",
       "  </thead>\n",
       "  <tbody>\n",
       "    <tr>\n",
       "      <th>3</th>\n",
       "      <td>US</td>\n",
       "      <td>This spent 20 months in 30% new French oak, an...</td>\n",
       "      <td>Reserve</td>\n",
       "      <td>96</td>\n",
       "      <td>65.0</td>\n",
       "      <td>Oregon</td>\n",
       "      <td>Willamette Valley</td>\n",
       "      <td>Willamette Valley</td>\n",
       "      <td>Pinot Noir</td>\n",
       "      <td>Ponzi</td>\n",
       "      <td>13625.0</td>\n",
       "      <td>True</td>\n",
       "      <td>1</td>\n",
       "    </tr>\n",
       "    <tr>\n",
       "      <th>4</th>\n",
       "      <td>Spain</td>\n",
       "      <td>Deep, dense and pure from the opening bell, th...</td>\n",
       "      <td>Numanthia</td>\n",
       "      <td>95</td>\n",
       "      <td>73.0</td>\n",
       "      <td>Northern Spain</td>\n",
       "      <td>Toro</td>\n",
       "      <td>Toro</td>\n",
       "      <td>Tinta de Toro</td>\n",
       "      <td>Numanthia</td>\n",
       "      <td>221.0</td>\n",
       "      <td>True</td>\n",
       "      <td>1</td>\n",
       "    </tr>\n",
       "    <tr>\n",
       "      <th>5</th>\n",
       "      <td>Spain</td>\n",
       "      <td>Slightly gritty black-fruit aromas include a s...</td>\n",
       "      <td>San Román</td>\n",
       "      <td>95</td>\n",
       "      <td>65.0</td>\n",
       "      <td>Northern Spain</td>\n",
       "      <td>Toro</td>\n",
       "      <td>Toro</td>\n",
       "      <td>Tinta de Toro</td>\n",
       "      <td>Maurodos</td>\n",
       "      <td>221.0</td>\n",
       "      <td>True</td>\n",
       "      <td>1</td>\n",
       "    </tr>\n",
       "    <tr>\n",
       "      <th>7</th>\n",
       "      <td>US</td>\n",
       "      <td>This re-named vineyard was formerly bottled as...</td>\n",
       "      <td>Silice</td>\n",
       "      <td>95</td>\n",
       "      <td>65.0</td>\n",
       "      <td>Oregon</td>\n",
       "      <td>Chehalem Mountains</td>\n",
       "      <td>Willamette Valley</td>\n",
       "      <td>Pinot Noir</td>\n",
       "      <td>Bergström</td>\n",
       "      <td>13625.0</td>\n",
       "      <td>True</td>\n",
       "      <td>1</td>\n",
       "    </tr>\n",
       "    <tr>\n",
       "      <th>8</th>\n",
       "      <td>US</td>\n",
       "      <td>The producer sources from two blocks of the vi...</td>\n",
       "      <td>Gap's Crown Vineyard</td>\n",
       "      <td>95</td>\n",
       "      <td>60.0</td>\n",
       "      <td>California</td>\n",
       "      <td>Sonoma Coast</td>\n",
       "      <td>Sonoma</td>\n",
       "      <td>Pinot Noir</td>\n",
       "      <td>Blue Farm</td>\n",
       "      <td>13625.0</td>\n",
       "      <td>True</td>\n",
       "      <td>1</td>\n",
       "    </tr>\n",
       "    <tr>\n",
       "      <th>...</th>\n",
       "      <td>...</td>\n",
       "      <td>...</td>\n",
       "      <td>...</td>\n",
       "      <td>...</td>\n",
       "      <td>...</td>\n",
       "      <td>...</td>\n",
       "      <td>...</td>\n",
       "      <td>...</td>\n",
       "      <td>...</td>\n",
       "      <td>...</td>\n",
       "      <td>...</td>\n",
       "      <td>...</td>\n",
       "      <td>...</td>\n",
       "    </tr>\n",
       "    <tr>\n",
       "      <th>134284</th>\n",
       "      <td>Italy</td>\n",
       "      <td>Many people feel Fiano represents southern Ita...</td>\n",
       "      <td>*Unknown Wine*</td>\n",
       "      <td>91</td>\n",
       "      <td>20.0</td>\n",
       "      <td>Southern Italy</td>\n",
       "      <td>Fiano di Avellino</td>\n",
       "      <td>Fiano di Avellino</td>\n",
       "      <td>White Blend</td>\n",
       "      <td>Feudi di San Gregorio</td>\n",
       "      <td>2554.0</td>\n",
       "      <td>False</td>\n",
       "      <td>0</td>\n",
       "    </tr>\n",
       "    <tr>\n",
       "      <th>134285</th>\n",
       "      <td>France</td>\n",
       "      <td>Offers an intriguing nose with ginger, lime an...</td>\n",
       "      <td>Cuvée Prestige</td>\n",
       "      <td>91</td>\n",
       "      <td>27.0</td>\n",
       "      <td>Champagne</td>\n",
       "      <td>Champagne</td>\n",
       "      <td>Champagne</td>\n",
       "      <td>Champagne Blend</td>\n",
       "      <td>H.Germain</td>\n",
       "      <td>1003.0</td>\n",
       "      <td>False</td>\n",
       "      <td>0</td>\n",
       "    </tr>\n",
       "    <tr>\n",
       "      <th>134286</th>\n",
       "      <td>Italy</td>\n",
       "      <td>This classic example comes from a cru vineyard...</td>\n",
       "      <td>Terre di Dora</td>\n",
       "      <td>91</td>\n",
       "      <td>20.0</td>\n",
       "      <td>Southern Italy</td>\n",
       "      <td>Fiano di Avellino</td>\n",
       "      <td>Fiano di Avellino</td>\n",
       "      <td>White Blend</td>\n",
       "      <td>Terredora</td>\n",
       "      <td>2554.0</td>\n",
       "      <td>False</td>\n",
       "      <td>0</td>\n",
       "    </tr>\n",
       "    <tr>\n",
       "      <th>134287</th>\n",
       "      <td>France</td>\n",
       "      <td>A perfect salmon shade, with scents of peaches...</td>\n",
       "      <td>Grand Brut Rosé</td>\n",
       "      <td>90</td>\n",
       "      <td>52.0</td>\n",
       "      <td>Champagne</td>\n",
       "      <td>Champagne</td>\n",
       "      <td>Champagne</td>\n",
       "      <td>Champagne Blend</td>\n",
       "      <td>Gosset</td>\n",
       "      <td>1003.0</td>\n",
       "      <td>False</td>\n",
       "      <td>0</td>\n",
       "    </tr>\n",
       "    <tr>\n",
       "      <th>134288</th>\n",
       "      <td>Italy</td>\n",
       "      <td>More Pinot Grigios should taste like this. A r...</td>\n",
       "      <td>*Unknown Wine*</td>\n",
       "      <td>90</td>\n",
       "      <td>15.0</td>\n",
       "      <td>Northeastern Italy</td>\n",
       "      <td>Alto Adige</td>\n",
       "      <td>Alto Adige</td>\n",
       "      <td>Pinot Grigio</td>\n",
       "      <td>Alois Lageder</td>\n",
       "      <td>1270.0</td>\n",
       "      <td>False</td>\n",
       "      <td>0</td>\n",
       "    </tr>\n",
       "  </tbody>\n",
       "</table>\n",
       "<p>126584 rows × 13 columns</p>\n",
       "</div>"
      ],
      "text/plain": [
       "       country                                        description  \\\n",
       "3           US  This spent 20 months in 30% new French oak, an...   \n",
       "4        Spain  Deep, dense and pure from the opening bell, th...   \n",
       "5        Spain  Slightly gritty black-fruit aromas include a s...   \n",
       "7           US  This re-named vineyard was formerly bottled as...   \n",
       "8           US  The producer sources from two blocks of the vi...   \n",
       "...        ...                                                ...   \n",
       "134284   Italy  Many people feel Fiano represents southern Ita...   \n",
       "134285  France  Offers an intriguing nose with ginger, lime an...   \n",
       "134286   Italy  This classic example comes from a cru vineyard...   \n",
       "134287  France  A perfect salmon shade, with scents of peaches...   \n",
       "134288   Italy  More Pinot Grigios should taste like this. A r...   \n",
       "\n",
       "                 designation  points  price            province  \\\n",
       "3                    Reserve      96   65.0              Oregon   \n",
       "4                  Numanthia      95   73.0      Northern Spain   \n",
       "5                  San Román      95   65.0      Northern Spain   \n",
       "7                     Silice      95   65.0              Oregon   \n",
       "8       Gap's Crown Vineyard      95   60.0          California   \n",
       "...                      ...     ...    ...                 ...   \n",
       "134284        *Unknown Wine*      91   20.0      Southern Italy   \n",
       "134285        Cuvée Prestige      91   27.0           Champagne   \n",
       "134286         Terre di Dora      91   20.0      Southern Italy   \n",
       "134287       Grand Brut Rosé      90   52.0           Champagne   \n",
       "134288        *Unknown Wine*      90   15.0  Northeastern Italy   \n",
       "\n",
       "                  region_1           region_2          variety  \\\n",
       "3        Willamette Valley  Willamette Valley       Pinot Noir   \n",
       "4                     Toro               Toro    Tinta de Toro   \n",
       "5                     Toro               Toro    Tinta de Toro   \n",
       "7       Chehalem Mountains  Willamette Valley       Pinot Noir   \n",
       "8             Sonoma Coast             Sonoma       Pinot Noir   \n",
       "...                    ...                ...              ...   \n",
       "134284   Fiano di Avellino  Fiano di Avellino      White Blend   \n",
       "134285           Champagne          Champagne  Champagne Blend   \n",
       "134286   Fiano di Avellino  Fiano di Avellino      White Blend   \n",
       "134287           Champagne          Champagne  Champagne Blend   \n",
       "134288          Alto Adige         Alto Adige     Pinot Grigio   \n",
       "\n",
       "                       winery   Counts   Red?  Still_Red  \n",
       "3                       Ponzi  13625.0   True          1  \n",
       "4                   Numanthia    221.0   True          1  \n",
       "5                    Maurodos    221.0   True          1  \n",
       "7                   Bergström  13625.0   True          1  \n",
       "8                   Blue Farm  13625.0   True          1  \n",
       "...                       ...      ...    ...        ...  \n",
       "134284  Feudi di San Gregorio   2554.0  False          0  \n",
       "134285              H.Germain   1003.0  False          0  \n",
       "134286              Terredora   2554.0  False          0  \n",
       "134287                 Gosset   1003.0  False          0  \n",
       "134288          Alois Lageder   1270.0  False          0  \n",
       "\n",
       "[126584 rows x 13 columns]"
      ]
     },
     "execution_count": 62,
     "metadata": {},
     "output_type": "execute_result"
    }
   ],
   "source": [
    "wine_sub = red_sub.append(white_sub)\n",
    "wine_sub"
   ]
  },
  {
   "cell_type": "code",
   "execution_count": 63,
   "metadata": {},
   "outputs": [
    {
     "data": {
      "text/html": [
       "<div>\n",
       "<style scoped>\n",
       "    .dataframe tbody tr th:only-of-type {\n",
       "        vertical-align: middle;\n",
       "    }\n",
       "\n",
       "    .dataframe tbody tr th {\n",
       "        vertical-align: top;\n",
       "    }\n",
       "\n",
       "    .dataframe thead th {\n",
       "        text-align: right;\n",
       "    }\n",
       "</style>\n",
       "<table border=\"1\" class=\"dataframe\">\n",
       "  <thead>\n",
       "    <tr style=\"text-align: right;\">\n",
       "      <th></th>\n",
       "      <th>points</th>\n",
       "      <th>price</th>\n",
       "      <th>Counts</th>\n",
       "      <th>Still_Red</th>\n",
       "    </tr>\n",
       "  </thead>\n",
       "  <tbody>\n",
       "    <tr>\n",
       "      <th>points</th>\n",
       "      <td>1.000000</td>\n",
       "      <td>0.535937</td>\n",
       "      <td>0.066897</td>\n",
       "      <td>0.070902</td>\n",
       "    </tr>\n",
       "    <tr>\n",
       "      <th>price</th>\n",
       "      <td>0.535937</td>\n",
       "      <td>1.000000</td>\n",
       "      <td>0.184860</td>\n",
       "      <td>0.222282</td>\n",
       "    </tr>\n",
       "    <tr>\n",
       "      <th>Counts</th>\n",
       "      <td>0.066897</td>\n",
       "      <td>0.184860</td>\n",
       "      <td>1.000000</td>\n",
       "      <td>-0.025279</td>\n",
       "    </tr>\n",
       "    <tr>\n",
       "      <th>Still_Red</th>\n",
       "      <td>0.070902</td>\n",
       "      <td>0.222282</td>\n",
       "      <td>-0.025279</td>\n",
       "      <td>1.000000</td>\n",
       "    </tr>\n",
       "  </tbody>\n",
       "</table>\n",
       "</div>"
      ],
      "text/plain": [
       "             points     price    Counts  Still_Red\n",
       "points     1.000000  0.535937  0.066897   0.070902\n",
       "price      0.535937  1.000000  0.184860   0.222282\n",
       "Counts     0.066897  0.184860  1.000000  -0.025279\n",
       "Still_Red  0.070902  0.222282 -0.025279   1.000000"
      ]
     },
     "execution_count": 63,
     "metadata": {},
     "output_type": "execute_result"
    }
   ],
   "source": [
    "wine_sub.corr()"
   ]
  },
  {
   "cell_type": "code",
   "execution_count": 64,
   "metadata": {},
   "outputs": [
    {
     "data": {
      "text/html": [
       "<div>\n",
       "<style scoped>\n",
       "    .dataframe tbody tr th:only-of-type {\n",
       "        vertical-align: middle;\n",
       "    }\n",
       "\n",
       "    .dataframe tbody tr th {\n",
       "        vertical-align: top;\n",
       "    }\n",
       "\n",
       "    .dataframe thead th {\n",
       "        text-align: right;\n",
       "    }\n",
       "</style>\n",
       "<table border=\"1\" class=\"dataframe\">\n",
       "  <thead>\n",
       "    <tr style=\"text-align: right;\">\n",
       "      <th></th>\n",
       "      <th>points</th>\n",
       "      <th>price</th>\n",
       "      <th>Counts</th>\n",
       "      <th>Still_Red</th>\n",
       "    </tr>\n",
       "  </thead>\n",
       "  <tbody>\n",
       "    <tr>\n",
       "      <th>count</th>\n",
       "      <td>126584.000000</td>\n",
       "      <td>126584.000000</td>\n",
       "      <td>126584.000000</td>\n",
       "      <td>126584.000000</td>\n",
       "    </tr>\n",
       "    <tr>\n",
       "      <th>mean</th>\n",
       "      <td>87.767245</td>\n",
       "      <td>30.078193</td>\n",
       "      <td>6363.028124</td>\n",
       "      <td>0.692979</td>\n",
       "    </tr>\n",
       "    <tr>\n",
       "      <th>std</th>\n",
       "      <td>3.093177</td>\n",
       "      <td>18.675083</td>\n",
       "      <td>5155.713547</td>\n",
       "      <td>0.461260</td>\n",
       "    </tr>\n",
       "    <tr>\n",
       "      <th>min</th>\n",
       "      <td>80.000000</td>\n",
       "      <td>9.000000</td>\n",
       "      <td>30.000000</td>\n",
       "      <td>0.000000</td>\n",
       "    </tr>\n",
       "    <tr>\n",
       "      <th>25%</th>\n",
       "      <td>86.000000</td>\n",
       "      <td>16.000000</td>\n",
       "      <td>1455.000000</td>\n",
       "      <td>0.000000</td>\n",
       "    </tr>\n",
       "    <tr>\n",
       "      <th>50%</th>\n",
       "      <td>88.000000</td>\n",
       "      <td>25.000000</td>\n",
       "      <td>4987.000000</td>\n",
       "      <td>1.000000</td>\n",
       "    </tr>\n",
       "    <tr>\n",
       "      <th>75%</th>\n",
       "      <td>90.000000</td>\n",
       "      <td>39.000000</td>\n",
       "      <td>12671.000000</td>\n",
       "      <td>1.000000</td>\n",
       "    </tr>\n",
       "    <tr>\n",
       "      <th>max</th>\n",
       "      <td>100.000000</td>\n",
       "      <td>109.000000</td>\n",
       "      <td>13775.000000</td>\n",
       "      <td>1.000000</td>\n",
       "    </tr>\n",
       "  </tbody>\n",
       "</table>\n",
       "</div>"
      ],
      "text/plain": [
       "              points          price         Counts      Still_Red\n",
       "count  126584.000000  126584.000000  126584.000000  126584.000000\n",
       "mean       87.767245      30.078193    6363.028124       0.692979\n",
       "std         3.093177      18.675083    5155.713547       0.461260\n",
       "min        80.000000       9.000000      30.000000       0.000000\n",
       "25%        86.000000      16.000000    1455.000000       0.000000\n",
       "50%        88.000000      25.000000    4987.000000       1.000000\n",
       "75%        90.000000      39.000000   12671.000000       1.000000\n",
       "max       100.000000     109.000000   13775.000000       1.000000"
      ]
     },
     "execution_count": 64,
     "metadata": {},
     "output_type": "execute_result"
    }
   ],
   "source": [
    "wine_sub.describe()"
   ]
  },
  {
   "cell_type": "code",
   "execution_count": 65,
   "metadata": {},
   "outputs": [],
   "source": [
    "mask9 = wine_sub.country.isin(wine_sub.country.value_counts().index[0:9])\n",
    "top_wines = wine_sub.loc[mask9]\n",
    "yasmine = top_wines[[ 'points', 'price', 'Still_Red']]\n",
    "daniel = pd.get_dummies(top_wines.country)"
   ]
  },
  {
   "cell_type": "code",
   "execution_count": 66,
   "metadata": {},
   "outputs": [
    {
     "data": {
      "text/html": [
       "<div>\n",
       "<style scoped>\n",
       "    .dataframe tbody tr th:only-of-type {\n",
       "        vertical-align: middle;\n",
       "    }\n",
       "\n",
       "    .dataframe tbody tr th {\n",
       "        vertical-align: top;\n",
       "    }\n",
       "\n",
       "    .dataframe thead th {\n",
       "        text-align: right;\n",
       "    }\n",
       "</style>\n",
       "<table border=\"1\" class=\"dataframe\">\n",
       "  <thead>\n",
       "    <tr style=\"text-align: right;\">\n",
       "      <th></th>\n",
       "      <th>Argentina</th>\n",
       "      <th>Australia</th>\n",
       "      <th>Chile</th>\n",
       "      <th>France</th>\n",
       "      <th>Italy</th>\n",
       "      <th>New Zealand</th>\n",
       "      <th>Portugal</th>\n",
       "      <th>Spain</th>\n",
       "      <th>US</th>\n",
       "    </tr>\n",
       "  </thead>\n",
       "  <tbody>\n",
       "    <tr>\n",
       "      <th>3</th>\n",
       "      <td>0</td>\n",
       "      <td>0</td>\n",
       "      <td>0</td>\n",
       "      <td>0</td>\n",
       "      <td>0</td>\n",
       "      <td>0</td>\n",
       "      <td>0</td>\n",
       "      <td>0</td>\n",
       "      <td>1</td>\n",
       "    </tr>\n",
       "    <tr>\n",
       "      <th>4</th>\n",
       "      <td>0</td>\n",
       "      <td>0</td>\n",
       "      <td>0</td>\n",
       "      <td>0</td>\n",
       "      <td>0</td>\n",
       "      <td>0</td>\n",
       "      <td>0</td>\n",
       "      <td>1</td>\n",
       "      <td>0</td>\n",
       "    </tr>\n",
       "    <tr>\n",
       "      <th>5</th>\n",
       "      <td>0</td>\n",
       "      <td>0</td>\n",
       "      <td>0</td>\n",
       "      <td>0</td>\n",
       "      <td>0</td>\n",
       "      <td>0</td>\n",
       "      <td>0</td>\n",
       "      <td>1</td>\n",
       "      <td>0</td>\n",
       "    </tr>\n",
       "    <tr>\n",
       "      <th>7</th>\n",
       "      <td>0</td>\n",
       "      <td>0</td>\n",
       "      <td>0</td>\n",
       "      <td>0</td>\n",
       "      <td>0</td>\n",
       "      <td>0</td>\n",
       "      <td>0</td>\n",
       "      <td>0</td>\n",
       "      <td>1</td>\n",
       "    </tr>\n",
       "    <tr>\n",
       "      <th>8</th>\n",
       "      <td>0</td>\n",
       "      <td>0</td>\n",
       "      <td>0</td>\n",
       "      <td>0</td>\n",
       "      <td>0</td>\n",
       "      <td>0</td>\n",
       "      <td>0</td>\n",
       "      <td>0</td>\n",
       "      <td>1</td>\n",
       "    </tr>\n",
       "    <tr>\n",
       "      <th>...</th>\n",
       "      <td>...</td>\n",
       "      <td>...</td>\n",
       "      <td>...</td>\n",
       "      <td>...</td>\n",
       "      <td>...</td>\n",
       "      <td>...</td>\n",
       "      <td>...</td>\n",
       "      <td>...</td>\n",
       "      <td>...</td>\n",
       "    </tr>\n",
       "    <tr>\n",
       "      <th>134284</th>\n",
       "      <td>0</td>\n",
       "      <td>0</td>\n",
       "      <td>0</td>\n",
       "      <td>0</td>\n",
       "      <td>1</td>\n",
       "      <td>0</td>\n",
       "      <td>0</td>\n",
       "      <td>0</td>\n",
       "      <td>0</td>\n",
       "    </tr>\n",
       "    <tr>\n",
       "      <th>134285</th>\n",
       "      <td>0</td>\n",
       "      <td>0</td>\n",
       "      <td>0</td>\n",
       "      <td>1</td>\n",
       "      <td>0</td>\n",
       "      <td>0</td>\n",
       "      <td>0</td>\n",
       "      <td>0</td>\n",
       "      <td>0</td>\n",
       "    </tr>\n",
       "    <tr>\n",
       "      <th>134286</th>\n",
       "      <td>0</td>\n",
       "      <td>0</td>\n",
       "      <td>0</td>\n",
       "      <td>0</td>\n",
       "      <td>1</td>\n",
       "      <td>0</td>\n",
       "      <td>0</td>\n",
       "      <td>0</td>\n",
       "      <td>0</td>\n",
       "    </tr>\n",
       "    <tr>\n",
       "      <th>134287</th>\n",
       "      <td>0</td>\n",
       "      <td>0</td>\n",
       "      <td>0</td>\n",
       "      <td>1</td>\n",
       "      <td>0</td>\n",
       "      <td>0</td>\n",
       "      <td>0</td>\n",
       "      <td>0</td>\n",
       "      <td>0</td>\n",
       "    </tr>\n",
       "    <tr>\n",
       "      <th>134288</th>\n",
       "      <td>0</td>\n",
       "      <td>0</td>\n",
       "      <td>0</td>\n",
       "      <td>0</td>\n",
       "      <td>1</td>\n",
       "      <td>0</td>\n",
       "      <td>0</td>\n",
       "      <td>0</td>\n",
       "      <td>0</td>\n",
       "    </tr>\n",
       "  </tbody>\n",
       "</table>\n",
       "<p>117681 rows × 9 columns</p>\n",
       "</div>"
      ],
      "text/plain": [
       "        Argentina  Australia  Chile  France  Italy  New Zealand  Portugal  \\\n",
       "3               0          0      0       0      0            0         0   \n",
       "4               0          0      0       0      0            0         0   \n",
       "5               0          0      0       0      0            0         0   \n",
       "7               0          0      0       0      0            0         0   \n",
       "8               0          0      0       0      0            0         0   \n",
       "...           ...        ...    ...     ...    ...          ...       ...   \n",
       "134284          0          0      0       0      1            0         0   \n",
       "134285          0          0      0       1      0            0         0   \n",
       "134286          0          0      0       0      1            0         0   \n",
       "134287          0          0      0       1      0            0         0   \n",
       "134288          0          0      0       0      1            0         0   \n",
       "\n",
       "        Spain  US  \n",
       "3           0   1  \n",
       "4           1   0  \n",
       "5           1   0  \n",
       "7           0   1  \n",
       "8           0   1  \n",
       "...       ...  ..  \n",
       "134284      0   0  \n",
       "134285      0   0  \n",
       "134286      0   0  \n",
       "134287      0   0  \n",
       "134288      0   0  \n",
       "\n",
       "[117681 rows x 9 columns]"
      ]
     },
     "execution_count": 66,
     "metadata": {},
     "output_type": "execute_result"
    }
   ],
   "source": [
    "daniel"
   ]
  },
  {
   "cell_type": "code",
   "execution_count": 67,
   "metadata": {},
   "outputs": [
    {
     "data": {
      "text/html": [
       "<div>\n",
       "<style scoped>\n",
       "    .dataframe tbody tr th:only-of-type {\n",
       "        vertical-align: middle;\n",
       "    }\n",
       "\n",
       "    .dataframe tbody tr th {\n",
       "        vertical-align: top;\n",
       "    }\n",
       "\n",
       "    .dataframe thead th {\n",
       "        text-align: right;\n",
       "    }\n",
       "</style>\n",
       "<table border=\"1\" class=\"dataframe\">\n",
       "  <thead>\n",
       "    <tr style=\"text-align: right;\">\n",
       "      <th></th>\n",
       "      <th>points</th>\n",
       "      <th>price</th>\n",
       "      <th>Still_Red</th>\n",
       "      <th>Argentina</th>\n",
       "      <th>Australia</th>\n",
       "      <th>Chile</th>\n",
       "      <th>France</th>\n",
       "      <th>Italy</th>\n",
       "      <th>New Zealand</th>\n",
       "      <th>Portugal</th>\n",
       "      <th>Spain</th>\n",
       "      <th>US</th>\n",
       "    </tr>\n",
       "  </thead>\n",
       "  <tbody>\n",
       "    <tr>\n",
       "      <th>points</th>\n",
       "      <td>1.000000</td>\n",
       "      <td>0.539262</td>\n",
       "      <td>0.082539</td>\n",
       "      <td>-0.110656</td>\n",
       "      <td>0.008028</td>\n",
       "      <td>-0.087819</td>\n",
       "      <td>0.052769</td>\n",
       "      <td>0.080276</td>\n",
       "      <td>-0.011449</td>\n",
       "      <td>0.041109</td>\n",
       "      <td>-0.079011</td>\n",
       "      <td>0.014230</td>\n",
       "    </tr>\n",
       "    <tr>\n",
       "      <th>price</th>\n",
       "      <td>0.539262</td>\n",
       "      <td>1.000000</td>\n",
       "      <td>0.230951</td>\n",
       "      <td>-0.112325</td>\n",
       "      <td>-0.029218</td>\n",
       "      <td>-0.122933</td>\n",
       "      <td>0.024949</td>\n",
       "      <td>0.069351</td>\n",
       "      <td>-0.054175</td>\n",
       "      <td>-0.042771</td>\n",
       "      <td>-0.077625</td>\n",
       "      <td>0.109578</td>\n",
       "    </tr>\n",
       "    <tr>\n",
       "      <th>Still_Red</th>\n",
       "      <td>0.082539</td>\n",
       "      <td>0.230951</td>\n",
       "      <td>1.000000</td>\n",
       "      <td>0.068105</td>\n",
       "      <td>-0.008425</td>\n",
       "      <td>0.000460</td>\n",
       "      <td>-0.111275</td>\n",
       "      <td>0.018708</td>\n",
       "      <td>-0.121567</td>\n",
       "      <td>0.023034</td>\n",
       "      <td>0.068709</td>\n",
       "      <td>0.030987</td>\n",
       "    </tr>\n",
       "    <tr>\n",
       "      <th>Argentina</th>\n",
       "      <td>-0.110656</td>\n",
       "      <td>-0.112325</td>\n",
       "      <td>0.068105</td>\n",
       "      <td>1.000000</td>\n",
       "      <td>-0.041730</td>\n",
       "      <td>-0.044770</td>\n",
       "      <td>-0.073815</td>\n",
       "      <td>-0.087001</td>\n",
       "      <td>-0.034249</td>\n",
       "      <td>-0.036032</td>\n",
       "      <td>-0.052014</td>\n",
       "      <td>-0.212660</td>\n",
       "    </tr>\n",
       "    <tr>\n",
       "      <th>Australia</th>\n",
       "      <td>0.008028</td>\n",
       "      <td>-0.029218</td>\n",
       "      <td>-0.008425</td>\n",
       "      <td>-0.041730</td>\n",
       "      <td>1.000000</td>\n",
       "      <td>-0.042449</td>\n",
       "      <td>-0.069988</td>\n",
       "      <td>-0.082491</td>\n",
       "      <td>-0.032473</td>\n",
       "      <td>-0.034164</td>\n",
       "      <td>-0.049317</td>\n",
       "      <td>-0.201635</td>\n",
       "    </tr>\n",
       "    <tr>\n",
       "      <th>Chile</th>\n",
       "      <td>-0.087819</td>\n",
       "      <td>-0.122933</td>\n",
       "      <td>0.000460</td>\n",
       "      <td>-0.044770</td>\n",
       "      <td>-0.042449</td>\n",
       "      <td>1.000000</td>\n",
       "      <td>-0.075088</td>\n",
       "      <td>-0.088501</td>\n",
       "      <td>-0.034839</td>\n",
       "      <td>-0.036653</td>\n",
       "      <td>-0.052910</td>\n",
       "      <td>-0.216326</td>\n",
       "    </tr>\n",
       "    <tr>\n",
       "      <th>France</th>\n",
       "      <td>0.052769</td>\n",
       "      <td>0.024949</td>\n",
       "      <td>-0.111275</td>\n",
       "      <td>-0.073815</td>\n",
       "      <td>-0.069988</td>\n",
       "      <td>-0.075088</td>\n",
       "      <td>1.000000</td>\n",
       "      <td>-0.145916</td>\n",
       "      <td>-0.057441</td>\n",
       "      <td>-0.060432</td>\n",
       "      <td>-0.087236</td>\n",
       "      <td>-0.356666</td>\n",
       "    </tr>\n",
       "    <tr>\n",
       "      <th>Italy</th>\n",
       "      <td>0.080276</td>\n",
       "      <td>0.069351</td>\n",
       "      <td>0.018708</td>\n",
       "      <td>-0.087001</td>\n",
       "      <td>-0.082491</td>\n",
       "      <td>-0.088501</td>\n",
       "      <td>-0.145916</td>\n",
       "      <td>1.000000</td>\n",
       "      <td>-0.067703</td>\n",
       "      <td>-0.071227</td>\n",
       "      <td>-0.102819</td>\n",
       "      <td>-0.420380</td>\n",
       "    </tr>\n",
       "    <tr>\n",
       "      <th>New Zealand</th>\n",
       "      <td>-0.011449</td>\n",
       "      <td>-0.054175</td>\n",
       "      <td>-0.121567</td>\n",
       "      <td>-0.034249</td>\n",
       "      <td>-0.032473</td>\n",
       "      <td>-0.034839</td>\n",
       "      <td>-0.057441</td>\n",
       "      <td>-0.067703</td>\n",
       "      <td>1.000000</td>\n",
       "      <td>-0.028039</td>\n",
       "      <td>-0.040476</td>\n",
       "      <td>-0.165488</td>\n",
       "    </tr>\n",
       "    <tr>\n",
       "      <th>Portugal</th>\n",
       "      <td>0.041109</td>\n",
       "      <td>-0.042771</td>\n",
       "      <td>0.023034</td>\n",
       "      <td>-0.036032</td>\n",
       "      <td>-0.034164</td>\n",
       "      <td>-0.036653</td>\n",
       "      <td>-0.060432</td>\n",
       "      <td>-0.071227</td>\n",
       "      <td>-0.028039</td>\n",
       "      <td>1.000000</td>\n",
       "      <td>-0.042583</td>\n",
       "      <td>-0.174102</td>\n",
       "    </tr>\n",
       "    <tr>\n",
       "      <th>Spain</th>\n",
       "      <td>-0.079011</td>\n",
       "      <td>-0.077625</td>\n",
       "      <td>0.068709</td>\n",
       "      <td>-0.052014</td>\n",
       "      <td>-0.049317</td>\n",
       "      <td>-0.052910</td>\n",
       "      <td>-0.087236</td>\n",
       "      <td>-0.102819</td>\n",
       "      <td>-0.040476</td>\n",
       "      <td>-0.042583</td>\n",
       "      <td>1.000000</td>\n",
       "      <td>-0.251325</td>\n",
       "    </tr>\n",
       "    <tr>\n",
       "      <th>US</th>\n",
       "      <td>0.014230</td>\n",
       "      <td>0.109578</td>\n",
       "      <td>0.030987</td>\n",
       "      <td>-0.212660</td>\n",
       "      <td>-0.201635</td>\n",
       "      <td>-0.216326</td>\n",
       "      <td>-0.356666</td>\n",
       "      <td>-0.420380</td>\n",
       "      <td>-0.165488</td>\n",
       "      <td>-0.174102</td>\n",
       "      <td>-0.251325</td>\n",
       "      <td>1.000000</td>\n",
       "    </tr>\n",
       "  </tbody>\n",
       "</table>\n",
       "</div>"
      ],
      "text/plain": [
       "               points     price  Still_Red  Argentina  Australia     Chile  \\\n",
       "points       1.000000  0.539262   0.082539  -0.110656   0.008028 -0.087819   \n",
       "price        0.539262  1.000000   0.230951  -0.112325  -0.029218 -0.122933   \n",
       "Still_Red    0.082539  0.230951   1.000000   0.068105  -0.008425  0.000460   \n",
       "Argentina   -0.110656 -0.112325   0.068105   1.000000  -0.041730 -0.044770   \n",
       "Australia    0.008028 -0.029218  -0.008425  -0.041730   1.000000 -0.042449   \n",
       "Chile       -0.087819 -0.122933   0.000460  -0.044770  -0.042449  1.000000   \n",
       "France       0.052769  0.024949  -0.111275  -0.073815  -0.069988 -0.075088   \n",
       "Italy        0.080276  0.069351   0.018708  -0.087001  -0.082491 -0.088501   \n",
       "New Zealand -0.011449 -0.054175  -0.121567  -0.034249  -0.032473 -0.034839   \n",
       "Portugal     0.041109 -0.042771   0.023034  -0.036032  -0.034164 -0.036653   \n",
       "Spain       -0.079011 -0.077625   0.068709  -0.052014  -0.049317 -0.052910   \n",
       "US           0.014230  0.109578   0.030987  -0.212660  -0.201635 -0.216326   \n",
       "\n",
       "               France     Italy  New Zealand  Portugal     Spain        US  \n",
       "points       0.052769  0.080276    -0.011449  0.041109 -0.079011  0.014230  \n",
       "price        0.024949  0.069351    -0.054175 -0.042771 -0.077625  0.109578  \n",
       "Still_Red   -0.111275  0.018708    -0.121567  0.023034  0.068709  0.030987  \n",
       "Argentina   -0.073815 -0.087001    -0.034249 -0.036032 -0.052014 -0.212660  \n",
       "Australia   -0.069988 -0.082491    -0.032473 -0.034164 -0.049317 -0.201635  \n",
       "Chile       -0.075088 -0.088501    -0.034839 -0.036653 -0.052910 -0.216326  \n",
       "France       1.000000 -0.145916    -0.057441 -0.060432 -0.087236 -0.356666  \n",
       "Italy       -0.145916  1.000000    -0.067703 -0.071227 -0.102819 -0.420380  \n",
       "New Zealand -0.057441 -0.067703     1.000000 -0.028039 -0.040476 -0.165488  \n",
       "Portugal    -0.060432 -0.071227    -0.028039  1.000000 -0.042583 -0.174102  \n",
       "Spain       -0.087236 -0.102819    -0.040476 -0.042583  1.000000 -0.251325  \n",
       "US          -0.356666 -0.420380    -0.165488 -0.174102 -0.251325  1.000000  "
      ]
     },
     "execution_count": 67,
     "metadata": {},
     "output_type": "execute_result"
    }
   ],
   "source": [
    "prof_booth = yasmine.join(daniel)\n",
    "prof_booth.corr()"
   ]
  },
  {
   "cell_type": "code",
   "execution_count": 68,
   "metadata": {},
   "outputs": [],
   "source": [
    "import seaborn as sn "
   ]
  },
  {
   "cell_type": "code",
   "execution_count": 69,
   "metadata": {},
   "outputs": [
    {
     "data": {
      "text/plain": [
       "<matplotlib.axes._subplots.AxesSubplot at 0x13c0ed12108>"
      ]
     },
     "execution_count": 69,
     "metadata": {},
     "output_type": "execute_result"
    },
    {
     "data": {
      "image/png": "[encoded data removed]",
      "text/plain": [
       "<Figure size 432x288 with 2 Axes>"
      ]
     },
     "metadata": {
      "needs_background": "light"
     },
     "output_type": "display_data"
    }
   ],
   "source": [
    "sn.heatmap(prof_booth.corr())"
   ]
  },
  {
   "cell_type": "code",
   "execution_count": 70,
   "metadata": {},
   "outputs": [],
   "source": [
    "import statsmodels.api as sm"
   ]
  },
  {
   "cell_type": "code",
   "execution_count": 71,
   "metadata": {},
   "outputs": [],
   "source": [
    "X = prof_booth.drop('price', axis =1)\n",
    "# X = prof_booth[['points','Still_Red']]\n",
    "y = prof_booth[[\"price\"]]"
   ]
  },
  {
   "cell_type": "code",
   "execution_count": 72,
   "metadata": {},
   "outputs": [
    {
     "data": {
      "text/html": [
       "<table class=\"simpletable\">\n",
       "<caption>OLS Regression Results</caption>\n",
       "<tr>\n",
       "  <th>Dep. Variable:</th>          <td>price</td>      <th>  R-squared:         </th>  <td>   0.350</td>  \n",
       "</tr>\n",
       "<tr>\n",
       "  <th>Model:</th>                   <td>OLS</td>       <th>  Adj. R-squared:    </th>  <td>   0.350</td>  \n",
       "</tr>\n",
       "<tr>\n",
       "  <th>Method:</th>             <td>Least Squares</td>  <th>  F-statistic:       </th>  <td>   6336.</td>  \n",
       "</tr>\n",
       "<tr>\n",
       "  <th>Date:</th>             <td>Fri, 08 May 2020</td> <th>  Prob (F-statistic):</th>   <td>  0.00</td>   \n",
       "</tr>\n",
       "<tr>\n",
       "  <th>Time:</th>                 <td>23:25:41</td>     <th>  Log-Likelihood:    </th> <td>-4.8716e+05</td>\n",
       "</tr>\n",
       "<tr>\n",
       "  <th>No. Observations:</th>      <td>117681</td>      <th>  AIC:               </th>  <td>9.744e+05</td> \n",
       "</tr>\n",
       "<tr>\n",
       "  <th>Df Residuals:</th>          <td>117670</td>      <th>  BIC:               </th>  <td>9.745e+05</td> \n",
       "</tr>\n",
       "<tr>\n",
       "  <th>Df Model:</th>              <td>    10</td>      <th>                     </th>      <td> </td>     \n",
       "</tr>\n",
       "<tr>\n",
       "  <th>Covariance Type:</th>      <td>nonrobust</td>    <th>                     </th>      <td> </td>     \n",
       "</tr>\n",
       "</table>\n",
       "<table class=\"simpletable\">\n",
       "<tr>\n",
       "       <td></td>          <th>coef</th>     <th>std err</th>      <th>t</th>      <th>P>|t|</th>  <th>[0.025</th>    <th>0.975]</th>  \n",
       "</tr>\n",
       "<tr>\n",
       "  <th>const</th>       <td> -221.2869</td> <td>    1.141</td> <td> -193.906</td> <td> 0.000</td> <td> -223.524</td> <td> -219.050</td>\n",
       "</tr>\n",
       "<tr>\n",
       "  <th>points</th>      <td>    3.0485</td> <td>    0.015</td> <td>  209.871</td> <td> 0.000</td> <td>    3.020</td> <td>    3.077</td>\n",
       "</tr>\n",
       "<tr>\n",
       "  <th>Still_Red</th>   <td>    8.1038</td> <td>    0.100</td> <td>   81.344</td> <td> 0.000</td> <td>    7.909</td> <td>    8.299</td>\n",
       "</tr>\n",
       "<tr>\n",
       "  <th>Argentina</th>   <td>  -27.9245</td> <td>    0.228</td> <td> -122.213</td> <td> 0.000</td> <td>  -28.372</td> <td>  -27.477</td>\n",
       "</tr>\n",
       "<tr>\n",
       "  <th>Australia</th>   <td>  -24.6496</td> <td>    0.249</td> <td>  -98.839</td> <td> 0.000</td> <td>  -25.138</td> <td>  -24.161</td>\n",
       "</tr>\n",
       "<tr>\n",
       "  <th>Chile</th>       <td>  -28.6038</td> <td>    0.228</td> <td> -125.435</td> <td> 0.000</td> <td>  -29.051</td> <td>  -28.157</td>\n",
       "</tr>\n",
       "<tr>\n",
       "  <th>France</th>      <td>  -20.5781</td> <td>    0.192</td> <td> -107.151</td> <td> 0.000</td> <td>  -20.955</td> <td>  -20.202</td>\n",
       "</tr>\n",
       "<tr>\n",
       "  <th>Italy</th>       <td>  -20.5101</td> <td>    0.183</td> <td> -112.063</td> <td> 0.000</td> <td>  -20.869</td> <td>  -20.151</td>\n",
       "</tr>\n",
       "<tr>\n",
       "  <th>New Zealand</th> <td>  -24.4948</td> <td>    0.286</td> <td>  -85.784</td> <td> 0.000</td> <td>  -25.054</td> <td>  -23.935</td>\n",
       "</tr>\n",
       "<tr>\n",
       "  <th>Portugal</th>    <td>  -29.1171</td> <td>    0.280</td> <td> -104.169</td> <td> 0.000</td> <td>  -29.665</td> <td>  -28.569</td>\n",
       "</tr>\n",
       "<tr>\n",
       "  <th>Spain</th>       <td>  -25.5453</td> <td>    0.210</td> <td> -121.641</td> <td> 0.000</td> <td>  -25.957</td> <td>  -25.134</td>\n",
       "</tr>\n",
       "<tr>\n",
       "  <th>US</th>          <td>  -19.8635</td> <td>    0.154</td> <td> -128.972</td> <td> 0.000</td> <td>  -20.165</td> <td>  -19.562</td>\n",
       "</tr>\n",
       "</table>\n",
       "<table class=\"simpletable\">\n",
       "<tr>\n",
       "  <th>Omnibus:</th>       <td>25897.356</td> <th>  Durbin-Watson:     </th> <td>   1.799</td> \n",
       "</tr>\n",
       "<tr>\n",
       "  <th>Prob(Omnibus):</th>  <td> 0.000</td>   <th>  Jarque-Bera (JB):  </th> <td>56353.331</td>\n",
       "</tr>\n",
       "<tr>\n",
       "  <th>Skew:</th>           <td> 1.277</td>   <th>  Prob(JB):          </th> <td>    0.00</td> \n",
       "</tr>\n",
       "<tr>\n",
       "  <th>Kurtosis:</th>       <td> 5.230</td>   <th>  Cond. No.          </th> <td>8.02e+16</td> \n",
       "</tr>\n",
       "</table><br/><br/>Warnings:<br/>[1] Standard Errors assume that the covariance matrix of the errors is correctly specified.<br/>[2] The smallest eigenvalue is 1.41e-25. This might indicate that there are<br/>strong multicollinearity problems or that the design matrix is singular."
      ],
      "text/plain": [
       "<class 'statsmodels.iolib.summary.Summary'>\n",
       "\"\"\"\n",
       "                            OLS Regression Results                            \n",
       "==============================================================================\n",
       "Dep. Variable:                  price   R-squared:                       0.350\n",
       "Model:                            OLS   Adj. R-squared:                  0.350\n",
       "Method:                 Least Squares   F-statistic:                     6336.\n",
       "Date:                Fri, 08 May 2020   Prob (F-statistic):               0.00\n",
       "Time:                        23:25:41   Log-Likelihood:            -4.8716e+05\n",
       "No. Observations:              117681   AIC:                         9.744e+05\n",
       "Df Residuals:                  117670   BIC:                         9.745e+05\n",
       "Df Model:                          10                                         \n",
       "Covariance Type:            nonrobust                                         \n",
       "===============================================================================\n",
       "                  coef    std err          t      P>|t|      [0.025      0.975]\n",
       "-------------------------------------------------------------------------------\n",
       "const        -221.2869      1.141   -193.906      0.000    -223.524    -219.050\n",
       "points          3.0485      0.015    209.871      0.000       3.020       3.077\n",
       "Still_Red       8.1038      0.100     81.344      0.000       7.909       8.299\n",
       "Argentina     -27.9245      0.228   -122.213      0.000     -28.372     -27.477\n",
       "Australia     -24.6496      0.249    -98.839      0.000     -25.138     -24.161\n",
       "Chile         -28.6038      0.228   -125.435      0.000     -29.051     -28.157\n",
       "France        -20.5781      0.192   -107.151      0.000     -20.955     -20.202\n",
       "Italy         -20.5101      0.183   -112.063      0.000     -20.869     -20.151\n",
       "New Zealand   -24.4948      0.286    -85.784      0.000     -25.054     -23.935\n",
       "Portugal      -29.1171      0.280   -104.169      0.000     -29.665     -28.569\n",
       "Spain         -25.5453      0.210   -121.641      0.000     -25.957     -25.134\n",
       "US            -19.8635      0.154   -128.972      0.000     -20.165     -19.562\n",
       "==============================================================================\n",
       "Omnibus:                    25897.356   Durbin-Watson:                   1.799\n",
       "Prob(Omnibus):                  0.000   Jarque-Bera (JB):            56353.331\n",
       "Skew:                           1.277   Prob(JB):                         0.00\n",
       "Kurtosis:                       5.230   Cond. No.                     8.02e+16\n",
       "==============================================================================\n",
       "\n",
       "Warnings:\n",
       "[1] Standard Errors assume that the covariance matrix of the errors is correctly specified.\n",
       "[2] The smallest eigenvalue is 1.41e-25. This might indicate that there are\n",
       "strong multicollinearity problems or that the design matrix is singular.\n",
       "\"\"\""
      ]
     },
     "execution_count": 72,
     "metadata": {},
     "output_type": "execute_result"
    }
   ],
   "source": [
    "X = sm.add_constant(X) ## let's add an intercept (beta_0) to our model\n",
    "# Note the difference in argument order\n",
    "model = sm.OLS(y, X).fit() ## sm.OLS(output, input)\n",
    "predictions = model.predict(X)\n",
    "# Print out the statistics\n",
    "model.summary()"
   ]
  },
  {
   "cell_type": "code",
   "execution_count": 73,
   "metadata": {},
   "outputs": [
    {
     "data": {
      "text/plain": [
       "<matplotlib.collections.PathCollection at 0x13c19fe9c08>"
      ]
     },
     "execution_count": 73,
     "metadata": {},
     "output_type": "execute_result"
    },
    {
     "data": {
      "image/png": "[encoded data removed]",
      "text/plain": [
       "<Figure size 432x288 with 1 Axes>"
      ]
     },
     "metadata": {
      "needs_background": "light"
     },
     "output_type": "display_data"
    }
   ],
   "source": [
    "plt.scatter(predictions, y)"
   ]
  },
  {
   "cell_type": "code",
   "execution_count": 75,
   "metadata": {},
   "outputs": [],
   "source": [
    "from sklearn.ensemble import RandomForestRegressor"
   ]
  },
  {
   "cell_type": "code",
   "execution_count": 76,
   "metadata": {},
   "outputs": [],
   "source": [
    "from sklearn.linear_model import LinearRegression"
   ]
  },
  {
   "cell_type": "code",
   "execution_count": 77,
   "metadata": {},
   "outputs": [],
   "source": [
    "# Labels are the values we want to predict\n",
    "labels = np.array(prof_booth['price'])\n",
    "# Remove the labels from the features\n",
    "# axis 1 refers to the columns\n",
    "features= prof_booth.drop('price', axis = 1)\n",
    "# Saving feature names for later use\n",
    "feature_list = list(features.columns)\n",
    "# Convert to numpy array\n",
    "features = np.array(features)"
   ]
  },
  {
   "cell_type": "code",
   "execution_count": 78,
   "metadata": {},
   "outputs": [],
   "source": [
    "# Using Skicit-learn to split data into training and testing sets\n",
    "from sklearn.model_selection import train_test_split\n",
    "# Split the data into training and testing sets\n",
    "train_features, test_features, train_labels, test_labels = train_test_split(features, labels, test_size = 0.25, random_state = 42)"
   ]
  },
  {
   "cell_type": "code",
   "execution_count": 79,
   "metadata": {},
   "outputs": [],
   "source": [
    "# Instantiate model with 1000 decision trees\n",
    "rf = RandomForestRegressor(n_estimators = 100, random_state = 42)\n",
    "# Train the model on training data\n",
    "rf.fit(train_features, train_labels);"
   ]
  },
  {
   "cell_type": "code",
   "execution_count": 80,
   "metadata": {},
   "outputs": [
    {
     "data": {
      "text/plain": [
       "0.4251721003464957"
      ]
     },
     "execution_count": 80,
     "metadata": {},
     "output_type": "execute_result"
    }
   ],
   "source": [
    "rf.score(test_features, test_labels)"
   ]
  },
  {
   "cell_type": "code",
   "execution_count": 81,
   "metadata": {},
   "outputs": [
    {
     "name": "stdout",
     "output_type": "stream",
     "text": [
      "Mean Absolute Error: 10.23 dollars.\n"
     ]
    }
   ],
   "source": [
    "# Use the forest's predict method on the test data\n",
    "predictions = rf.predict(test_features)\n",
    "# Calculate the absolute errors\n",
    "errors = abs(predictions - test_labels)\n",
    "# Print out the mean absolute error (mae)\n",
    "print('Mean Absolute Error:', round(np.mean(errors), 2), 'dollars.')"
   ]
  },
  {
   "cell_type": "code",
   "execution_count": 82,
   "metadata": {},
   "outputs": [
    {
     "data": {
      "text/plain": [
       "[('points', 0.7815691539888602),\n",
       " ('Still_Red', 0.0908328319458858),\n",
       " ('Argentina', 0.00289929825026991),\n",
       " ('Australia', 0.0018356456300703036),\n",
       " ('Chile', 0.0037002461583432425),\n",
       " ('France', 0.028891007387623516),\n",
       " ('Italy', 0.02504440892607178),\n",
       " ('New Zealand', 0.0020789918711532004),\n",
       " ('Portugal', 0.004441179240846912),\n",
       " ('Spain', 0.0016919607713094232),\n",
       " ('US', 0.057015275829565684)]"
      ]
     },
     "execution_count": 82,
     "metadata": {},
     "output_type": "execute_result"
    }
   ],
   "source": [
    "list(zip(feature_list, rf.feature_importances_))"
   ]
  },
  {
   "cell_type": "code",
   "execution_count": 83,
   "metadata": {},
   "outputs": [
    {
     "data": {
      "text/plain": [
       "<matplotlib.collections.PathCollection at 0x13c1d5b48c8>"
      ]
     },
     "execution_count": 83,
     "metadata": {},
     "output_type": "execute_result"
    },
    {
     "data": {
      "image/png": "[encoded data removed]",
      "text/plain": [
       "<Figure size 432x288 with 1 Axes>"
      ]
     },
     "metadata": {
      "needs_background": "light"
     },
     "output_type": "display_data"
    }
   ],
   "source": [
    "plt.scatter(predictions, test_labels)"
   ]
  },
  {
   "cell_type": "code",
   "execution_count": 84,
   "metadata": {},
   "outputs": [],
   "source": [
    "lm = LinearRegression()"
   ]
  },
  {
   "cell_type": "code",
   "execution_count": 85,
   "metadata": {},
   "outputs": [
    {
     "data": {
      "text/plain": [
       "LinearRegression(copy_X=True, fit_intercept=True, n_jobs=None, normalize=False)"
      ]
     },
     "execution_count": 85,
     "metadata": {},
     "output_type": "execute_result"
    }
   ],
   "source": [
    "lm.fit(train_features, train_labels)"
   ]
  },
  {
   "cell_type": "code",
   "execution_count": 86,
   "metadata": {},
   "outputs": [
    {
     "name": "stdout",
     "output_type": "stream",
     "text": [
      "Mean Absolute Error: 11.29 dollars.\n"
     ]
    }
   ],
   "source": [
    "predictions_lm = lm.predict(test_features)\n",
    "\n",
    "# Calculate the absolute errors\n",
    "errors = abs(predictions_lm - test_labels)\n",
    "# Print out the mean absolute error (mae)\n",
    "print('Mean Absolute Error:', round(np.mean(errors), 2), 'dollars.')"
   ]
  },
  {
   "cell_type": "code",
   "execution_count": 87,
   "metadata": {},
   "outputs": [
    {
     "data": {
      "text/plain": [
       "0.3510499441024"
      ]
     },
     "execution_count": 87,
     "metadata": {},
     "output_type": "execute_result"
    }
   ],
   "source": [
    "lm.score(test_features, test_labels)"
   ]
  },
  {
   "cell_type": "code",
   "execution_count": 88,
   "metadata": {},
   "outputs": [
    {
     "data": {
      "text/plain": [
       "<matplotlib.collections.PathCollection at 0x13c1d61b4c8>"
      ]
     },
     "execution_count": 88,
     "metadata": {},
     "output_type": "execute_result"
    },
    {
     "data": {
      "image/png": "[encoded data removed]",
      "text/plain": [
       "<Figure size 432x288 with 1 Axes>"
      ]
     },
     "metadata": {
      "needs_background": "light"
     },
     "output_type": "display_data"
    }
   ],
   "source": [
    "plt.scatter(predictions_lm, test_labels)"
   ]
  },
  {
   "cell_type": "code",
   "execution_count": 89,
   "metadata": {},
   "outputs": [
    {
     "data": {
      "text/plain": [
       "[('points', 3.0449997948077945),\n",
       " ('Still_Red', 8.158594699633522),\n",
       " ('Argentina', -3.2656182483594676),\n",
       " ('Australia', -0.12089803833070992),\n",
       " ('Chile', -4.0642946390221795),\n",
       " ('France', 4.014415566683601),\n",
       " ('Italy', 4.071897145721462),\n",
       " ('New Zealand', 0.12057232584676728),\n",
       " ('Portugal', -4.4662816055056584),\n",
       " ('Spain', -1.004889724768368),\n",
       " ('US', 4.71509721773456)]"
      ]
     },
     "execution_count": 89,
     "metadata": {},
     "output_type": "execute_result"
    }
   ],
   "source": [
    "list(zip(feature_list,lm.coef_))"
   ]
  },
  {
   "cell_type": "code",
   "execution_count": 90,
   "metadata": {},
   "outputs": [
    {
     "data": {
      "text/plain": [
       "-245.59826767669728"
      ]
     },
     "execution_count": 90,
     "metadata": {},
     "output_type": "execute_result"
    }
   ],
   "source": [
    "lm.intercept_"
   ]
  },
  {
   "cell_type": "code",
   "execution_count": 202,
   "metadata": {},
   "outputs": [
    {
     "data": {
      "text/plain": [
       "30913    2300.0\n",
       "12076    2013.0\n",
       "30915    1900.0\n",
       "45799    1400.0\n",
       "73573    1400.0\n",
       "23306    1400.0\n",
       "30931    1300.0\n",
       "30934    1200.0\n",
       "30920    1100.0\n",
       "9677     1100.0\n",
       "Name: price, dtype: float64"
      ]
     },
     "execution_count": 202,
     "metadata": {},
     "output_type": "execute_result"
    }
   ],
   "source": [
    "#top 10 most expensive wines\n",
    "top10cost = wine_df.price.sort_values(ascending=False)\n",
    "top10cost.head(10)"
   ]
  },
  {
   "cell_type": "code",
   "execution_count": 203,
   "metadata": {},
   "outputs": [
    {
     "data": {
      "text/html": [
       "<div>\n",
       "<style scoped>\n",
       "    .dataframe tbody tr th:only-of-type {\n",
       "        vertical-align: middle;\n",
       "    }\n",
       "\n",
       "    .dataframe tbody tr th {\n",
       "        vertical-align: top;\n",
       "    }\n",
       "\n",
       "    .dataframe thead th {\n",
       "        text-align: right;\n",
       "    }\n",
       "</style>\n",
       "<table border=\"1\" class=\"dataframe\">\n",
       "  <thead>\n",
       "    <tr style=\"text-align: right;\">\n",
       "      <th></th>\n",
       "      <th>country</th>\n",
       "      <th>description</th>\n",
       "      <th>designation</th>\n",
       "      <th>points</th>\n",
       "      <th>price</th>\n",
       "      <th>province</th>\n",
       "      <th>region_1</th>\n",
       "      <th>region_2</th>\n",
       "      <th>variety</th>\n",
       "      <th>winery</th>\n",
       "      <th>Red?</th>\n",
       "      <th>Still_Red</th>\n",
       "    </tr>\n",
       "  </thead>\n",
       "  <tbody>\n",
       "    <tr>\n",
       "      <th>0</th>\n",
       "      <td>France</td>\n",
       "      <td>A big, powerful wine that sums up the richness...</td>\n",
       "      <td>*Unknown Wine*</td>\n",
       "      <td>99</td>\n",
       "      <td>2300.0</td>\n",
       "      <td>Bordeaux</td>\n",
       "      <td>Pauillac</td>\n",
       "      <td>Pauillac</td>\n",
       "      <td>Bordeaux-style Red Blend</td>\n",
       "      <td>Château Latour</td>\n",
       "      <td>True</td>\n",
       "      <td>1</td>\n",
       "    </tr>\n",
       "    <tr>\n",
       "      <th>1</th>\n",
       "      <td>US</td>\n",
       "      <td>The nose on this single-vineyard wine from a s...</td>\n",
       "      <td>Roger Rose Vineyard</td>\n",
       "      <td>91</td>\n",
       "      <td>2013.0</td>\n",
       "      <td>California</td>\n",
       "      <td>Arroyo Seco</td>\n",
       "      <td>Central Coast</td>\n",
       "      <td>Chardonnay</td>\n",
       "      <td>Blair</td>\n",
       "      <td>False</td>\n",
       "      <td>0</td>\n",
       "    </tr>\n",
       "    <tr>\n",
       "      <th>2</th>\n",
       "      <td>France</td>\n",
       "      <td>A massive wine for Margaux, packed with tannin...</td>\n",
       "      <td>*Unknown Wine*</td>\n",
       "      <td>98</td>\n",
       "      <td>1900.0</td>\n",
       "      <td>Bordeaux</td>\n",
       "      <td>Margaux</td>\n",
       "      <td>Margaux</td>\n",
       "      <td>Bordeaux-style Red Blend</td>\n",
       "      <td>Château Margaux</td>\n",
       "      <td>True</td>\n",
       "      <td>1</td>\n",
       "    </tr>\n",
       "  </tbody>\n",
       "</table>\n",
       "</div>"
      ],
      "text/plain": [
       "  country                                        description  \\\n",
       "0  France  A big, powerful wine that sums up the richness...   \n",
       "1      US  The nose on this single-vineyard wine from a s...   \n",
       "2  France  A massive wine for Margaux, packed with tannin...   \n",
       "\n",
       "           designation  points   price    province     region_1  \\\n",
       "0       *Unknown Wine*      99  2300.0    Bordeaux     Pauillac   \n",
       "1  Roger Rose Vineyard      91  2013.0  California  Arroyo Seco   \n",
       "2       *Unknown Wine*      98  1900.0    Bordeaux      Margaux   \n",
       "\n",
       "        region_2                   variety           winery   Red?  Still_Red  \n",
       "0       Pauillac  Bordeaux-style Red Blend   Château Latour   True          1  \n",
       "1  Central Coast                Chardonnay            Blair  False          0  \n",
       "2        Margaux  Bordeaux-style Red Blend  Château Margaux   True          1  "
      ]
     },
     "execution_count": 203,
     "metadata": {},
     "output_type": "execute_result"
    }
   ],
   "source": [
    "#Most expensive wine\n",
    "top_wine_price = wine_df.iloc[[30913, 12076, 30915]].drop(\"Counts\", axis=1).reset_index(drop=True)\n",
    "\n",
    "top_wine_price"
   ]
  },
  {
   "cell_type": "code",
   "execution_count": 91,
   "metadata": {},
   "outputs": [],
   "source": [
    "import gmaps\n",
    "import requests\n",
    "import json\n",
    "from pprint import pprint\n",
    "from api_keys import g_key\n",
    "import time"
   ]
  },
  {
   "cell_type": "code",
   "execution_count": 92,
   "metadata": {},
   "outputs": [],
   "source": [
    "#White wine counts per region\n",
    "reg_Wht = wine_white.province.value_counts().reset_index()\n",
    "reg_Wht.rename(columns={'index':'province','province': 'white_wine_counts'},inplace=True)\n",
    "heat_Wht = reg_Wht['province']"
   ]
  },
  {
   "cell_type": "code",
   "execution_count": 93,
   "metadata": {},
   "outputs": [],
   "source": [
    "#Red wine counts per region\n",
    "reg_Red = wine_red.province.value_counts().reset_index()\n",
    "reg_Red.rename(columns={'index':'province','province': 'red_wine_counts'},inplace=True)\n",
    "heat_Red = reg_Red['province']"
   ]
  },
  {
   "cell_type": "code",
   "execution_count": 94,
   "metadata": {},
   "outputs": [],
   "source": [
    "red_Heat = wine_red.country.value_counts().reset_index()\n",
    "red_Heat.rename(columns={'index':'country','country': 'red_wines'},inplace=True)\n",
    "red_Heat\n",
    "country_list = red_Heat['country'].tolist()"
   ]
  },
  {
   "cell_type": "code",
   "execution_count": null,
   "metadata": {},
   "outputs": [],
   "source": [
    "lat = []\n",
    "lng = []\n",
    "\n",
    "for country in country_list:\n",
    "    \n",
    "    url = f\"https://maps.googleapis.com/maps/api/geocode/json?address={country}&key={g_key}\"\n",
    "       \n",
    "    try:\n",
    "        response = requests.get(url).json()\n",
    "        status = response['status']\n",
    "                           \n",
    "        if status == \"OK\":\n",
    "            lat.append(response['results'][0]['geometry']['location']['lat'])\n",
    "            lng.append(response['results'][0]['geometry']['location']['lng'])\n",
    "                                  \n",
    "    except Exception as e:    \n",
    "        print(e)\n",
    "time.sleep(1)"
   ]
  },
  {
   "cell_type": "code",
   "execution_count": null,
   "metadata": {},
   "outputs": [],
   "source": [
    "lat1 = []\n",
    "lng1 = []\n",
    "\n",
    "for province in heat_Red:\n",
    "    \n",
    "    url1 = f\"https://maps.googleapis.com/maps/api/geocode/json?address={province}&key={g_key}\"\n",
    "       \n",
    "    try:\n",
    "        response1 = requests.get(url1).json()\n",
    "        \n",
    "        lat1.append(response1['results'][0]['geometry']['location']['lat'])\n",
    "        lng1.append(response1['results'][0]['geometry']['location']['lng'])\n",
    "                                  \n",
    "    except IndexError as e:    \n",
    "        print(f\"No info found for {province}\")\n",
    "        lat1.append({province})\n",
    "        lng1.append({province})\n",
    "time.sleep(1)"
   ]
  },
  {
   "cell_type": "code",
   "execution_count": null,
   "metadata": {},
   "outputs": [],
   "source": [
    "lat2 = []\n",
    "lng2 = []\n",
    "\n",
    "for province in heat_Wht:\n",
    "    \n",
    "    url1 = f\"https://maps.googleapis.com/maps/api/geocode/json?address={province}&key={g_key}\"\n",
    "       \n",
    "    try:\n",
    "        response1 = requests.get(url1).json()\n",
    "        \n",
    "        lat2.append(response1['results'][0]['geometry']['location']['lat'])\n",
    "        lng2.append(response1['results'][0]['geometry']['location']['lng'])\n",
    "                                  \n",
    "    except IndexError as e:    \n",
    "        print(f\"No info found for {province}\")\n",
    "        lat2.append({province})\n",
    "        lng2.append({province})\n",
    "time.sleep(1)"
   ]
  },
  {
   "cell_type": "code",
   "execution_count": 95,
   "metadata": {},
   "outputs": [
    {
     "data": {
      "text/html": [
       "<div>\n",
       "<style scoped>\n",
       "    .dataframe tbody tr th:only-of-type {\n",
       "        vertical-align: middle;\n",
       "    }\n",
       "\n",
       "    .dataframe tbody tr th {\n",
       "        vertical-align: top;\n",
       "    }\n",
       "\n",
       "    .dataframe thead th {\n",
       "        text-align: right;\n",
       "    }\n",
       "</style>\n",
       "<table border=\"1\" class=\"dataframe\">\n",
       "  <thead>\n",
       "    <tr style=\"text-align: right;\">\n",
       "      <th></th>\n",
       "      <th>province</th>\n",
       "      <th>red_wine_counts</th>\n",
       "      <th>latitude</th>\n",
       "      <th>longitude</th>\n",
       "    </tr>\n",
       "  </thead>\n",
       "  <tbody>\n",
       "    <tr>\n",
       "      <th>0</th>\n",
       "      <td>California</td>\n",
       "      <td>32247</td>\n",
       "      <td>36.778261</td>\n",
       "      <td>-119.417932</td>\n",
       "    </tr>\n",
       "    <tr>\n",
       "      <th>1</th>\n",
       "      <td>Washington</td>\n",
       "      <td>7303</td>\n",
       "      <td>47.751074</td>\n",
       "      <td>-120.740139</td>\n",
       "    </tr>\n",
       "    <tr>\n",
       "      <th>2</th>\n",
       "      <td>Tuscany</td>\n",
       "      <td>5542</td>\n",
       "      <td>43.771051</td>\n",
       "      <td>11.248621</td>\n",
       "    </tr>\n",
       "    <tr>\n",
       "      <th>3</th>\n",
       "      <td>Mendoza Province</td>\n",
       "      <td>3982</td>\n",
       "      <td>-32.889625</td>\n",
       "      <td>-68.852687</td>\n",
       "    </tr>\n",
       "    <tr>\n",
       "      <th>4</th>\n",
       "      <td>Northern Spain</td>\n",
       "      <td>3877</td>\n",
       "      <td>42.816977</td>\n",
       "      <td>-1.641765</td>\n",
       "    </tr>\n",
       "    <tr>\n",
       "      <th>...</th>\n",
       "      <td>...</td>\n",
       "      <td>...</td>\n",
       "      <td>...</td>\n",
       "      <td>...</td>\n",
       "    </tr>\n",
       "    <tr>\n",
       "      <th>338</th>\n",
       "      <td>Central Otago-Marlborough</td>\n",
       "      <td>1</td>\n",
       "      <td>-44.956632</td>\n",
       "      <td>169.398845</td>\n",
       "    </tr>\n",
       "    <tr>\n",
       "      <th>339</th>\n",
       "      <td>Arcadia</td>\n",
       "      <td>1</td>\n",
       "      <td>34.139729</td>\n",
       "      <td>-118.035345</td>\n",
       "    </tr>\n",
       "    <tr>\n",
       "      <th>340</th>\n",
       "      <td>Cyprus</td>\n",
       "      <td>1</td>\n",
       "      <td>35.126413</td>\n",
       "      <td>33.429859</td>\n",
       "    </tr>\n",
       "    <tr>\n",
       "      <th>341</th>\n",
       "      <td>Dolenjska</td>\n",
       "      <td>1</td>\n",
       "      <td>45.755858</td>\n",
       "      <td>15.059233</td>\n",
       "    </tr>\n",
       "    <tr>\n",
       "      <th>342</th>\n",
       "      <td>Istria</td>\n",
       "      <td>1</td>\n",
       "      <td>45.274502</td>\n",
       "      <td>13.890186</td>\n",
       "    </tr>\n",
       "  </tbody>\n",
       "</table>\n",
       "<p>343 rows × 4 columns</p>\n",
       "</div>"
      ],
      "text/plain": [
       "                      province  red_wine_counts   latitude   longitude\n",
       "0                   California            32247  36.778261 -119.417932\n",
       "1                   Washington             7303  47.751074 -120.740139\n",
       "2                      Tuscany             5542  43.771051   11.248621\n",
       "3             Mendoza Province             3982 -32.889625  -68.852687\n",
       "4               Northern Spain             3877  42.816977   -1.641765\n",
       "..                         ...              ...        ...         ...\n",
       "338  Central Otago-Marlborough                1 -44.956632  169.398845\n",
       "339                    Arcadia                1  34.139729 -118.035345\n",
       "340                     Cyprus                1  35.126413   33.429859\n",
       "341                  Dolenjska                1  45.755858   15.059233\n",
       "342                     Istria                1  45.274502   13.890186\n",
       "\n",
       "[343 rows x 4 columns]"
      ]
     },
     "execution_count": 95,
     "metadata": {},
     "output_type": "execute_result"
    }
   ],
   "source": [
    "redW_df = pd.read_csv(\"Red_Wine_Provinces.csv\")\n",
    "redW_df.drop(\"Unnamed: 0\", axis=1,inplace=True)\n",
    "redW_df.rename(columns= {'longtitude': 'longitude'},inplace=True)\n",
    "redW_df"
   ]
  },
  {
   "cell_type": "code",
   "execution_count": 96,
   "metadata": {},
   "outputs": [
    {
     "data": {
      "text/html": [
       "<div>\n",
       "<style scoped>\n",
       "    .dataframe tbody tr th:only-of-type {\n",
       "        vertical-align: middle;\n",
       "    }\n",
       "\n",
       "    .dataframe tbody tr th {\n",
       "        vertical-align: top;\n",
       "    }\n",
       "\n",
       "    .dataframe thead th {\n",
       "        text-align: right;\n",
       "    }\n",
       "</style>\n",
       "<table border=\"1\" class=\"dataframe\">\n",
       "  <thead>\n",
       "    <tr style=\"text-align: right;\">\n",
       "      <th></th>\n",
       "      <th>province</th>\n",
       "      <th>white_wine_counts</th>\n",
       "      <th>latitude</th>\n",
       "      <th>longitude</th>\n",
       "    </tr>\n",
       "  </thead>\n",
       "  <tbody>\n",
       "    <tr>\n",
       "      <th>0</th>\n",
       "      <td>California</td>\n",
       "      <td>11823</td>\n",
       "      <td>36.778261</td>\n",
       "      <td>-119.417932</td>\n",
       "    </tr>\n",
       "    <tr>\n",
       "      <th>1</th>\n",
       "      <td>Washington</td>\n",
       "      <td>2286</td>\n",
       "      <td>47.751074</td>\n",
       "      <td>-120.740139</td>\n",
       "    </tr>\n",
       "    <tr>\n",
       "      <th>2</th>\n",
       "      <td>Burgundy</td>\n",
       "      <td>1979</td>\n",
       "      <td>47.052505</td>\n",
       "      <td>4.383722</td>\n",
       "    </tr>\n",
       "    <tr>\n",
       "      <th>3</th>\n",
       "      <td>Veneto</td>\n",
       "      <td>1418</td>\n",
       "      <td>45.441466</td>\n",
       "      <td>12.315259</td>\n",
       "    </tr>\n",
       "    <tr>\n",
       "      <th>4</th>\n",
       "      <td>Northeastern Italy</td>\n",
       "      <td>1361</td>\n",
       "      <td>45.929502</td>\n",
       "      <td>11.562142</td>\n",
       "    </tr>\n",
       "    <tr>\n",
       "      <th>...</th>\n",
       "      <td>...</td>\n",
       "      <td>...</td>\n",
       "      <td>...</td>\n",
       "      <td>...</td>\n",
       "    </tr>\n",
       "    <tr>\n",
       "      <th>320</th>\n",
       "      <td>Achaia</td>\n",
       "      <td>1</td>\n",
       "      <td>38.115873</td>\n",
       "      <td>21.952249</td>\n",
       "    </tr>\n",
       "    <tr>\n",
       "      <th>321</th>\n",
       "      <td>Pageon</td>\n",
       "      <td>1</td>\n",
       "      <td>40.396380</td>\n",
       "      <td>23.847252</td>\n",
       "    </tr>\n",
       "    <tr>\n",
       "      <th>322</th>\n",
       "      <td>Middle and South Dalmatia</td>\n",
       "      <td>1</td>\n",
       "      <td>43.880944</td>\n",
       "      <td>15.919306</td>\n",
       "    </tr>\n",
       "    <tr>\n",
       "      <th>323</th>\n",
       "      <td>Casablanca-Curicó Valley</td>\n",
       "      <td>1</td>\n",
       "      <td>-34.977985</td>\n",
       "      <td>-71.252880</td>\n",
       "    </tr>\n",
       "    <tr>\n",
       "      <th>324</th>\n",
       "      <td>Palmela</td>\n",
       "      <td>1</td>\n",
       "      <td>38.569441</td>\n",
       "      <td>-8.901694</td>\n",
       "    </tr>\n",
       "  </tbody>\n",
       "</table>\n",
       "<p>325 rows × 4 columns</p>\n",
       "</div>"
      ],
      "text/plain": [
       "                      province  white_wine_counts   latitude   longitude\n",
       "0                   California              11823  36.778261 -119.417932\n",
       "1                   Washington               2286  47.751074 -120.740139\n",
       "2                     Burgundy               1979  47.052505    4.383722\n",
       "3                       Veneto               1418  45.441466   12.315259\n",
       "4           Northeastern Italy               1361  45.929502   11.562142\n",
       "..                         ...                ...        ...         ...\n",
       "320                     Achaia                  1  38.115873   21.952249\n",
       "321                     Pageon                  1  40.396380   23.847252\n",
       "322  Middle and South Dalmatia                  1  43.880944   15.919306\n",
       "323   Casablanca-Curicó Valley                  1 -34.977985  -71.252880\n",
       "324                    Palmela                  1  38.569441   -8.901694\n",
       "\n",
       "[325 rows x 4 columns]"
      ]
     },
     "execution_count": 96,
     "metadata": {},
     "output_type": "execute_result"
    }
   ],
   "source": [
    "whtW_df = pd.read_csv(\"Wht_Wine_Provinces.csv\")\n",
    "whtW_df.drop(\"Unnamed: 0\", axis=1,inplace=True)\n",
    "whtW_df.rename(columns= {'longtitude': 'longitude'},inplace=True)\n",
    "whtW_df"
   ]
  },
  {
   "cell_type": "code",
   "execution_count": 97,
   "metadata": {},
   "outputs": [
    {
     "data": {
      "application/vnd.jupyter.widget-view+json": {
       "model_id": "9ce9109b924f49dba3b134dd7b583e0d",
       "version_major": 2,
       "version_minor": 0
      },
      "text/plain": [
       "Figure(layout=FigureLayout(height='420px'))"
      ]
     },
     "metadata": {},
     "output_type": "display_data"
    }
   ],
   "source": [
    "#Red wine and province heatmap\n",
    "locations1 = redW_df[[\"latitude\", \"longitude\"]]\n",
    "\n",
    "fig1 = gmaps.figure(map_type=\"HYBRID\")\n",
    "\n",
    "heat_layer = gmaps.heatmap_layer(locations1, weights= redW_df.red_wine_counts, dissipating=False,max_intensity=100,\n",
    "                                point_radius=1)\n",
    "\n",
    "fig1.add_layer(heat_layer)\n",
    "\n",
    "fig1"
   ]
  },
  {
   "cell_type": "code",
   "execution_count": 98,
   "metadata": {},
   "outputs": [
    {
     "data": {
      "application/vnd.jupyter.widget-view+json": {
       "model_id": "6d5c08e739ce4a6d94d959264723ea2b",
       "version_major": 2,
       "version_minor": 0
      },
      "text/plain": [
       "Figure(layout=FigureLayout(height='420px'))"
      ]
     },
     "metadata": {},
     "output_type": "display_data"
    }
   ],
   "source": [
    "#White wine and province heatmap\n",
    "locations2 = whtW_df[[\"latitude\", \"longitude\"]]\n",
    "\n",
    "fig2 = gmaps.figure(map_type=\"HYBRID\")\n",
    "\n",
    "heat_layer = gmaps.heatmap_layer(locations2, weights= whtW_df.white_wine_counts, dissipating=False,max_intensity=100,\n",
    "                                point_radius=1)\n",
    "\n",
    "fig2.add_layer(heat_layer)\n",
    "\n",
    "fig2"
   ]
  }
 ],
 "metadata": {
  "kernelspec": {
   "display_name": "Python 3",
   "language": "python",
   "name": "python3"
  },
  "language_info": {
   "codemirror_mode": {
    "name": "ipython",
    "version": 3
   },
   "file_extension": ".py",
   "mimetype": "text/x-python",
   "name": "python",
   "nbconvert_exporter": "python",
   "pygments_lexer": "ipython3",
   "version": "3.7.6"
  }
 },
 "nbformat": 4,
 "nbformat_minor": 2
}
