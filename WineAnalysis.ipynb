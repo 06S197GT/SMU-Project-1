{
 "cells": [
  {
   "cell_type": "code",
   "execution_count": 1,
   "metadata": {},
   "outputs": [],
   "source": [
    "import pandas as pd\n",
    "import matplotlib.pyplot as plt\n",
    "import seaborn as sn "
   ]
  },
  {
   "cell_type": "code",
   "execution_count": 2,
   "metadata": {},
   "outputs": [],
   "source": [
    "file = \"winemag-data_first150k.csv\""
   ]
  },
  {
   "cell_type": "code",
   "execution_count": 3,
   "metadata": {},
   "outputs": [
    {
     "name": "stdout",
     "output_type": "stream",
     "text": [
      "<class 'pandas.core.frame.DataFrame'>\n",
      "RangeIndex: 150930 entries, 0 to 150929\n",
      "Data columns (total 10 columns):\n",
      " #   Column       Non-Null Count   Dtype  \n",
      "---  ------       --------------   -----  \n",
      " 0   country      150925 non-null  object \n",
      " 1   description  150930 non-null  object \n",
      " 2   designation  105195 non-null  object \n",
      " 3   points       150930 non-null  int64  \n",
      " 4   price        137235 non-null  float64\n",
      " 5   province     150925 non-null  object \n",
      " 6   region_1     125870 non-null  object \n",
      " 7   region_2     60953 non-null   object \n",
      " 8   variety      150930 non-null  object \n",
      " 9   winery       150930 non-null  object \n",
      "dtypes: float64(1), int64(1), object(8)\n",
      "memory usage: 11.5+ MB\n",
      "None\n",
      "              points          price\n",
      "count  150930.000000  137235.000000\n",
      "mean       87.888418      33.131482\n",
      "std         3.222392      36.322536\n",
      "min        80.000000       4.000000\n",
      "25%        86.000000      16.000000\n",
      "50%        88.000000      24.000000\n",
      "75%        90.000000      40.000000\n",
      "max       100.000000    2300.000000\n"
     ]
    }
   ],
   "source": [
    "#read in csv \n",
    "df = pd.read_csv(file)\n",
    "\n",
    "#drop Unnamed column\n",
    "df = df.drop(\"Unnamed: 0\", axis=1)\n",
    "print(df.info())\n",
    "print(df.describe())"
   ]
  },
  {
   "cell_type": "code",
   "execution_count": 4,
   "metadata": {},
   "outputs": [
    {
     "data": {
      "text/html": [
       "<div>\n",
       "<style scoped>\n",
       "    .dataframe tbody tr th:only-of-type {\n",
       "        vertical-align: middle;\n",
       "    }\n",
       "\n",
       "    .dataframe tbody tr th {\n",
       "        vertical-align: top;\n",
       "    }\n",
       "\n",
       "    .dataframe thead th {\n",
       "        text-align: right;\n",
       "    }\n",
       "</style>\n",
       "<table border=\"1\" class=\"dataframe\">\n",
       "  <thead>\n",
       "    <tr style=\"text-align: right;\">\n",
       "      <th></th>\n",
       "      <th>country</th>\n",
       "      <th>description</th>\n",
       "      <th>designation</th>\n",
       "      <th>points</th>\n",
       "      <th>price</th>\n",
       "      <th>province</th>\n",
       "      <th>region_1</th>\n",
       "      <th>region_2</th>\n",
       "      <th>variety</th>\n",
       "      <th>winery</th>\n",
       "    </tr>\n",
       "  </thead>\n",
       "  <tbody>\n",
       "    <tr>\n",
       "      <th>0</th>\n",
       "      <td>US</td>\n",
       "      <td>This tremendous 100% varietal wine hails from ...</td>\n",
       "      <td>Martha's Vineyard</td>\n",
       "      <td>96</td>\n",
       "      <td>235.0</td>\n",
       "      <td>California</td>\n",
       "      <td>Napa Valley</td>\n",
       "      <td>Napa</td>\n",
       "      <td>Cabernet Sauvignon</td>\n",
       "      <td>Heitz</td>\n",
       "    </tr>\n",
       "    <tr>\n",
       "      <th>1</th>\n",
       "      <td>Spain</td>\n",
       "      <td>Ripe aromas of fig, blackberry and cassis are ...</td>\n",
       "      <td>Carodorum Selección Especial Reserva</td>\n",
       "      <td>96</td>\n",
       "      <td>110.0</td>\n",
       "      <td>Northern Spain</td>\n",
       "      <td>Toro</td>\n",
       "      <td>NaN</td>\n",
       "      <td>Tinta de Toro</td>\n",
       "      <td>Bodega Carmen Rodríguez</td>\n",
       "    </tr>\n",
       "    <tr>\n",
       "      <th>2</th>\n",
       "      <td>US</td>\n",
       "      <td>Mac Watson honors the memory of a wine once ma...</td>\n",
       "      <td>Special Selected Late Harvest</td>\n",
       "      <td>96</td>\n",
       "      <td>90.0</td>\n",
       "      <td>California</td>\n",
       "      <td>Knights Valley</td>\n",
       "      <td>Sonoma</td>\n",
       "      <td>Sauvignon Blanc</td>\n",
       "      <td>Macauley</td>\n",
       "    </tr>\n",
       "    <tr>\n",
       "      <th>3</th>\n",
       "      <td>US</td>\n",
       "      <td>This spent 20 months in 30% new French oak, an...</td>\n",
       "      <td>Reserve</td>\n",
       "      <td>96</td>\n",
       "      <td>65.0</td>\n",
       "      <td>Oregon</td>\n",
       "      <td>Willamette Valley</td>\n",
       "      <td>Willamette Valley</td>\n",
       "      <td>Pinot Noir</td>\n",
       "      <td>Ponzi</td>\n",
       "    </tr>\n",
       "    <tr>\n",
       "      <th>4</th>\n",
       "      <td>France</td>\n",
       "      <td>This is the top wine from La Bégude, named aft...</td>\n",
       "      <td>La Brûlade</td>\n",
       "      <td>95</td>\n",
       "      <td>66.0</td>\n",
       "      <td>Provence</td>\n",
       "      <td>Bandol</td>\n",
       "      <td>NaN</td>\n",
       "      <td>Provence red blend</td>\n",
       "      <td>Domaine de la Bégude</td>\n",
       "    </tr>\n",
       "  </tbody>\n",
       "</table>\n",
       "</div>"
      ],
      "text/plain": [
       "  country                                        description  \\\n",
       "0      US  This tremendous 100% varietal wine hails from ...   \n",
       "1   Spain  Ripe aromas of fig, blackberry and cassis are ...   \n",
       "2      US  Mac Watson honors the memory of a wine once ma...   \n",
       "3      US  This spent 20 months in 30% new French oak, an...   \n",
       "4  France  This is the top wine from La Bégude, named aft...   \n",
       "\n",
       "                            designation  points  price        province  \\\n",
       "0                     Martha's Vineyard      96  235.0      California   \n",
       "1  Carodorum Selección Especial Reserva      96  110.0  Northern Spain   \n",
       "2         Special Selected Late Harvest      96   90.0      California   \n",
       "3                               Reserve      96   65.0          Oregon   \n",
       "4                            La Brûlade      95   66.0        Provence   \n",
       "\n",
       "            region_1           region_2             variety  \\\n",
       "0        Napa Valley               Napa  Cabernet Sauvignon   \n",
       "1               Toro                NaN       Tinta de Toro   \n",
       "2     Knights Valley             Sonoma     Sauvignon Blanc   \n",
       "3  Willamette Valley  Willamette Valley          Pinot Noir   \n",
       "4             Bandol                NaN  Provence red blend   \n",
       "\n",
       "                    winery  \n",
       "0                    Heitz  \n",
       "1  Bodega Carmen Rodríguez  \n",
       "2                 Macauley  \n",
       "3                    Ponzi  \n",
       "4     Domaine de la Bégude  "
      ]
     },
     "execution_count": 4,
     "metadata": {},
     "output_type": "execute_result"
    }
   ],
   "source": [
    "#drop NaN values for country and price columns\n",
    "mask = pd.notnull(df.country)\n",
    "mask2 = pd.notnull(df.price)\n",
    "clean_df = df.loc[mask & mask2].reset_index(drop=True)\n",
    "clean_df.head()"
   ]
  },
  {
   "cell_type": "code",
   "execution_count": 5,
   "metadata": {},
   "outputs": [
    {
     "data": {
      "text/plain": [
       "US                        62139\n",
       "Italy                     18784\n",
       "France                    14785\n",
       "Spain                      8160\n",
       "Chile                      5766\n",
       "Argentina                  5587\n",
       "Australia                  4894\n",
       "Portugal                   4176\n",
       "New Zealand                3070\n",
       "Austria                    2483\n",
       "Germany                    2347\n",
       "South Africa               2237\n",
       "Greece                      872\n",
       "Israel                      610\n",
       "Hungary                     230\n",
       "Canada                      194\n",
       "Romania                     139\n",
       "Uruguay                      85\n",
       "Croatia                      83\n",
       "Slovenia                     81\n",
       "Bulgaria                     77\n",
       "Moldova                      71\n",
       "Mexico                       63\n",
       "Turkey                       50\n",
       "Georgia                      43\n",
       "Lebanon                      37\n",
       "Cyprus                       31\n",
       "Brazil                       25\n",
       "Macedonia                    16\n",
       "Serbia                       14\n",
       "Morocco                      12\n",
       "Luxembourg                    9\n",
       "England                       8\n",
       "India                         8\n",
       "Lithuania                     8\n",
       "Czech Republic                6\n",
       "Ukraine                       5\n",
       "South Korea                   4\n",
       "Switzerland                   4\n",
       "Bosnia and Herzegovina        4\n",
       "Slovakia                      3\n",
       "China                         3\n",
       "Montenegro                    2\n",
       "Albania                       2\n",
       "Japan                         2\n",
       "US-France                     1\n",
       "Name: country, dtype: int64"
      ]
     },
     "execution_count": 5,
     "metadata": {},
     "output_type": "execute_result"
    }
   ],
   "source": [
    "#get list of countries\n",
    "clean_df.country.value_counts()"
   ]
  },
  {
   "cell_type": "code",
   "execution_count": 6,
   "metadata": {},
   "outputs": [
    {
     "data": {
      "text/html": [
       "<div>\n",
       "<style scoped>\n",
       "    .dataframe tbody tr th:only-of-type {\n",
       "        vertical-align: middle;\n",
       "    }\n",
       "\n",
       "    .dataframe tbody tr th {\n",
       "        vertical-align: top;\n",
       "    }\n",
       "\n",
       "    .dataframe thead th {\n",
       "        text-align: right;\n",
       "    }\n",
       "</style>\n",
       "<table border=\"1\" class=\"dataframe\">\n",
       "  <thead>\n",
       "    <tr style=\"text-align: right;\">\n",
       "      <th></th>\n",
       "      <th>country</th>\n",
       "      <th>description</th>\n",
       "      <th>designation</th>\n",
       "      <th>points</th>\n",
       "      <th>price</th>\n",
       "      <th>province</th>\n",
       "      <th>region_1</th>\n",
       "      <th>region_2</th>\n",
       "      <th>variety</th>\n",
       "      <th>winery</th>\n",
       "    </tr>\n",
       "  </thead>\n",
       "  <tbody>\n",
       "    <tr>\n",
       "      <th>130712</th>\n",
       "      <td>US-France</td>\n",
       "      <td>Defies categorization, in more ways than one. ...</td>\n",
       "      <td>NaN</td>\n",
       "      <td>88</td>\n",
       "      <td>50.0</td>\n",
       "      <td>Santa Barbara County-Condrieu</td>\n",
       "      <td>NaN</td>\n",
       "      <td>NaN</td>\n",
       "      <td>Viognier</td>\n",
       "      <td>Deux C</td>\n",
       "    </tr>\n",
       "  </tbody>\n",
       "</table>\n",
       "</div>"
      ],
      "text/plain": [
       "          country                                        description  \\\n",
       "130712  US-France  Defies categorization, in more ways than one. ...   \n",
       "\n",
       "       designation  points  price                       province region_1  \\\n",
       "130712         NaN      88   50.0  Santa Barbara County-Condrieu      NaN   \n",
       "\n",
       "       region_2   variety  winery  \n",
       "130712      NaN  Viognier  Deux C  "
      ]
     },
     "execution_count": 6,
     "metadata": {},
     "output_type": "execute_result"
    }
   ],
   "source": [
    "#look to see if US-France is a legitimate option for country\n",
    "mask3 = clean_df.country == \"US-France\"\n",
    "clean_df.loc[mask3]"
   ]
  },
  {
   "cell_type": "code",
   "execution_count": 7,
   "metadata": {},
   "outputs": [],
   "source": [
    "#Look at top ten countries to see the spread\n",
    "top10 = clean_df.country.value_counts()[0:10].sort_values(ascending=True)"
   ]
  },
  {
   "cell_type": "code",
   "execution_count": 263,
   "metadata": {},
   "outputs": [
    {
     "data": {
      "image/png": "[encoded data removed]",
      "text/plain": [
       "<Figure size 432x288 with 1 Axes>"
      ]
     },
     "metadata": {
      "needs_background": "light"
     },
     "output_type": "display_data"
    }
   ],
   "source": [
    "plt.barh(top10.index, top10.values)\n",
    "plt.title('Top Ten Wine Producing Countries in Dataset')\n",
    "plt.show()"
   ]
  },
  {
   "cell_type": "code",
   "execution_count": 264,
   "metadata": {},
   "outputs": [
    {
     "data": {
      "image/png": "[encoded data removed]",
      "text/plain": [
       "<Figure size 432x288 with 1 Axes>"
      ]
     },
     "metadata": {
      "needs_background": "light"
     },
     "output_type": "display_data"
    }
   ],
   "source": [
    "#Look at top ten varieties to see the spread\n",
    "variety10 = clean_df.variety.value_counts()[0:10].sort_values(ascending=True)\n",
    "plt.barh(variety10.index, variety10.values)\n",
    "plt.title('Top Ten Wine Varieties in Dataset')\n",
    "plt.show()"
   ]
  },
  {
   "cell_type": "code",
   "execution_count": 10,
   "metadata": {},
   "outputs": [
    {
     "data": {
      "text/plain": [
       "Chardonnay            13775\n",
       "Pinot Noir            13625\n",
       "Cabernet Sauvignon    12671\n",
       "Red Blend              9377\n",
       "Sauvignon Blanc        6054\n",
       "                      ...  \n",
       "Cabernet Moravia          1\n",
       "Azal                      1\n",
       "Vidadillo                 1\n",
       "Cococciola                1\n",
       "Grenache Gris             1\n",
       "Name: variety, Length: 619, dtype: int64"
      ]
     },
     "execution_count": 10,
     "metadata": {},
     "output_type": "execute_result"
    }
   ],
   "source": [
    "#get varieties of wine for red vs white categorization \n",
    "counts = clean_df.variety.value_counts()\n",
    "counts"
   ]
  },
  {
   "cell_type": "code",
   "execution_count": 11,
   "metadata": {},
   "outputs": [],
   "source": [
    "#export to csv \n",
    "counts.to_csv(\"Wine.csv\", index=True)"
   ]
  },
  {
   "cell_type": "code",
   "execution_count": 12,
   "metadata": {},
   "outputs": [
    {
     "data": {
      "image/png": "[encoded data removed]",
      "text/plain": [
       "<Figure size 432x288 with 1 Axes>"
      ]
     },
     "metadata": {
      "needs_background": "light"
     },
     "output_type": "display_data"
    }
   ],
   "source": [
    "#look at spread of all varieties\n",
    "plt.bar(counts.index, counts.values)\n",
    "plt.show()"
   ]
  },
  {
   "cell_type": "code",
   "execution_count": 13,
   "metadata": {},
   "outputs": [
    {
     "data": {
      "text/html": [
       "<div>\n",
       "<style scoped>\n",
       "    .dataframe tbody tr th:only-of-type {\n",
       "        vertical-align: middle;\n",
       "    }\n",
       "\n",
       "    .dataframe tbody tr th {\n",
       "        vertical-align: top;\n",
       "    }\n",
       "\n",
       "    .dataframe thead th {\n",
       "        text-align: right;\n",
       "    }\n",
       "</style>\n",
       "<table border=\"1\" class=\"dataframe\">\n",
       "  <thead>\n",
       "    <tr style=\"text-align: right;\">\n",
       "      <th></th>\n",
       "      <th>variety</th>\n",
       "      <th>Counts</th>\n",
       "      <th>Red?</th>\n",
       "    </tr>\n",
       "  </thead>\n",
       "  <tbody>\n",
       "    <tr>\n",
       "      <th>0</th>\n",
       "      <td>Chardonnay</td>\n",
       "      <td>13775</td>\n",
       "      <td>False</td>\n",
       "    </tr>\n",
       "    <tr>\n",
       "      <th>1</th>\n",
       "      <td>Pinot Noir</td>\n",
       "      <td>13625</td>\n",
       "      <td>True</td>\n",
       "    </tr>\n",
       "    <tr>\n",
       "      <th>2</th>\n",
       "      <td>Cabernet Sauvignon</td>\n",
       "      <td>12671</td>\n",
       "      <td>True</td>\n",
       "    </tr>\n",
       "    <tr>\n",
       "      <th>3</th>\n",
       "      <td>Red Blend</td>\n",
       "      <td>9377</td>\n",
       "      <td>True</td>\n",
       "    </tr>\n",
       "    <tr>\n",
       "      <th>4</th>\n",
       "      <td>Sauvignon Blanc</td>\n",
       "      <td>6054</td>\n",
       "      <td>False</td>\n",
       "    </tr>\n",
       "  </tbody>\n",
       "</table>\n",
       "</div>"
      ],
      "text/plain": [
       "              variety  Counts   Red?\n",
       "0          Chardonnay   13775  False\n",
       "1          Pinot Noir   13625   True\n",
       "2  Cabernet Sauvignon   12671   True\n",
       "3           Red Blend    9377   True\n",
       "4     Sauvignon Blanc    6054  False"
      ]
     },
     "execution_count": 13,
     "metadata": {},
     "output_type": "execute_result"
    }
   ],
   "source": [
    "#read in csv with comparison - since only goes through varieties >= 30 wines, drop any that aren't assigned\n",
    "reds = pd.read_csv('Wine_Reds.csv').dropna()\n",
    "\n",
    "#rename column for the merge\n",
    "reds = reds.rename(columns = {\"Variety\":\"variety\"})\n",
    "reds.head()"
   ]
  },
  {
   "cell_type": "code",
   "execution_count": 14,
   "metadata": {},
   "outputs": [
    {
     "data": {
      "text/html": [
       "<div>\n",
       "<style scoped>\n",
       "    .dataframe tbody tr th:only-of-type {\n",
       "        vertical-align: middle;\n",
       "    }\n",
       "\n",
       "    .dataframe tbody tr th {\n",
       "        vertical-align: top;\n",
       "    }\n",
       "\n",
       "    .dataframe thead th {\n",
       "        text-align: right;\n",
       "    }\n",
       "</style>\n",
       "<table border=\"1\" class=\"dataframe\">\n",
       "  <thead>\n",
       "    <tr style=\"text-align: right;\">\n",
       "      <th></th>\n",
       "      <th>country</th>\n",
       "      <th>description</th>\n",
       "      <th>designation</th>\n",
       "      <th>points</th>\n",
       "      <th>price</th>\n",
       "      <th>province</th>\n",
       "      <th>region_1</th>\n",
       "      <th>region_2</th>\n",
       "      <th>variety</th>\n",
       "      <th>winery</th>\n",
       "      <th>Counts</th>\n",
       "      <th>Red?</th>\n",
       "    </tr>\n",
       "  </thead>\n",
       "  <tbody>\n",
       "    <tr>\n",
       "      <th>0</th>\n",
       "      <td>US</td>\n",
       "      <td>This tremendous 100% varietal wine hails from ...</td>\n",
       "      <td>Martha's Vineyard</td>\n",
       "      <td>96</td>\n",
       "      <td>235.0</td>\n",
       "      <td>California</td>\n",
       "      <td>Napa Valley</td>\n",
       "      <td>Napa</td>\n",
       "      <td>Cabernet Sauvignon</td>\n",
       "      <td>Heitz</td>\n",
       "      <td>12671.0</td>\n",
       "      <td>True</td>\n",
       "    </tr>\n",
       "    <tr>\n",
       "      <th>1</th>\n",
       "      <td>Spain</td>\n",
       "      <td>Ripe aromas of fig, blackberry and cassis are ...</td>\n",
       "      <td>Carodorum Selección Especial Reserva</td>\n",
       "      <td>96</td>\n",
       "      <td>110.0</td>\n",
       "      <td>Northern Spain</td>\n",
       "      <td>Toro</td>\n",
       "      <td>NaN</td>\n",
       "      <td>Tinta de Toro</td>\n",
       "      <td>Bodega Carmen Rodríguez</td>\n",
       "      <td>221.0</td>\n",
       "      <td>True</td>\n",
       "    </tr>\n",
       "    <tr>\n",
       "      <th>2</th>\n",
       "      <td>US</td>\n",
       "      <td>Mac Watson honors the memory of a wine once ma...</td>\n",
       "      <td>Special Selected Late Harvest</td>\n",
       "      <td>96</td>\n",
       "      <td>90.0</td>\n",
       "      <td>California</td>\n",
       "      <td>Knights Valley</td>\n",
       "      <td>Sonoma</td>\n",
       "      <td>Sauvignon Blanc</td>\n",
       "      <td>Macauley</td>\n",
       "      <td>6054.0</td>\n",
       "      <td>False</td>\n",
       "    </tr>\n",
       "    <tr>\n",
       "      <th>3</th>\n",
       "      <td>US</td>\n",
       "      <td>This spent 20 months in 30% new French oak, an...</td>\n",
       "      <td>Reserve</td>\n",
       "      <td>96</td>\n",
       "      <td>65.0</td>\n",
       "      <td>Oregon</td>\n",
       "      <td>Willamette Valley</td>\n",
       "      <td>Willamette Valley</td>\n",
       "      <td>Pinot Noir</td>\n",
       "      <td>Ponzi</td>\n",
       "      <td>13625.0</td>\n",
       "      <td>True</td>\n",
       "    </tr>\n",
       "    <tr>\n",
       "      <th>4</th>\n",
       "      <td>Spain</td>\n",
       "      <td>Deep, dense and pure from the opening bell, th...</td>\n",
       "      <td>Numanthia</td>\n",
       "      <td>95</td>\n",
       "      <td>73.0</td>\n",
       "      <td>Northern Spain</td>\n",
       "      <td>Toro</td>\n",
       "      <td>NaN</td>\n",
       "      <td>Tinta de Toro</td>\n",
       "      <td>Numanthia</td>\n",
       "      <td>221.0</td>\n",
       "      <td>True</td>\n",
       "    </tr>\n",
       "  </tbody>\n",
       "</table>\n",
       "</div>"
      ],
      "text/plain": [
       "  country                                        description  \\\n",
       "0      US  This tremendous 100% varietal wine hails from ...   \n",
       "1   Spain  Ripe aromas of fig, blackberry and cassis are ...   \n",
       "2      US  Mac Watson honors the memory of a wine once ma...   \n",
       "3      US  This spent 20 months in 30% new French oak, an...   \n",
       "4   Spain  Deep, dense and pure from the opening bell, th...   \n",
       "\n",
       "                            designation  points  price        province  \\\n",
       "0                     Martha's Vineyard      96  235.0      California   \n",
       "1  Carodorum Selección Especial Reserva      96  110.0  Northern Spain   \n",
       "2         Special Selected Late Harvest      96   90.0      California   \n",
       "3                               Reserve      96   65.0          Oregon   \n",
       "4                             Numanthia      95   73.0  Northern Spain   \n",
       "\n",
       "            region_1           region_2             variety  \\\n",
       "0        Napa Valley               Napa  Cabernet Sauvignon   \n",
       "1               Toro                NaN       Tinta de Toro   \n",
       "2     Knights Valley             Sonoma     Sauvignon Blanc   \n",
       "3  Willamette Valley  Willamette Valley          Pinot Noir   \n",
       "4               Toro                NaN       Tinta de Toro   \n",
       "\n",
       "                    winery   Counts   Red?  \n",
       "0                    Heitz  12671.0   True  \n",
       "1  Bodega Carmen Rodríguez    221.0   True  \n",
       "2                 Macauley   6054.0  False  \n",
       "3                    Ponzi  13625.0   True  \n",
       "4                Numanthia    221.0   True  "
      ]
     },
     "execution_count": 14,
     "metadata": {},
     "output_type": "execute_result"
    }
   ],
   "source": [
    "#merge the dataframes - merge function will fill in T/F for the value \n",
    "temp = pd.merge(clean_df,reds,on = \"variety\", how = \"left\")\n",
    "\n",
    "#bring back only the fields that have values for red vs white\n",
    "mask5 = pd.notnull(temp[\"Red?\"])\n",
    "wine_df = temp.loc[mask5].reset_index(drop=True)\n",
    "wine_df.head()"
   ]
  },
  {
   "cell_type": "code",
   "execution_count": 15,
   "metadata": {},
   "outputs": [],
   "source": [
    "#cast boolean arguments as integers to be able to incorporate into model\n",
    "wine_df['Still_Red'] = wine_df['Red?'].astype(int)"
   ]
  },
  {
   "cell_type": "markdown",
   "metadata": {},
   "source": [
    "##### wine_df: Varieties of wine with 30 or more wines reviewed"
   ]
  },
  {
   "cell_type": "code",
   "execution_count": 16,
   "metadata": {
    "scrolled": true
   },
   "outputs": [
    {
     "data": {
      "text/html": [
       "<div>\n",
       "<style scoped>\n",
       "    .dataframe tbody tr th:only-of-type {\n",
       "        vertical-align: middle;\n",
       "    }\n",
       "\n",
       "    .dataframe tbody tr th {\n",
       "        vertical-align: top;\n",
       "    }\n",
       "\n",
       "    .dataframe thead th {\n",
       "        text-align: right;\n",
       "    }\n",
       "</style>\n",
       "<table border=\"1\" class=\"dataframe\">\n",
       "  <thead>\n",
       "    <tr style=\"text-align: right;\">\n",
       "      <th></th>\n",
       "      <th>country</th>\n",
       "      <th>description</th>\n",
       "      <th>designation</th>\n",
       "      <th>points</th>\n",
       "      <th>price</th>\n",
       "      <th>province</th>\n",
       "      <th>region_1</th>\n",
       "      <th>region_2</th>\n",
       "      <th>variety</th>\n",
       "      <th>winery</th>\n",
       "      <th>Counts</th>\n",
       "      <th>Red?</th>\n",
       "      <th>Still_Red</th>\n",
       "    </tr>\n",
       "  </thead>\n",
       "  <tbody>\n",
       "    <tr>\n",
       "      <th>0</th>\n",
       "      <td>US</td>\n",
       "      <td>This tremendous 100% varietal wine hails from ...</td>\n",
       "      <td>Martha's Vineyard</td>\n",
       "      <td>96</td>\n",
       "      <td>235.0</td>\n",
       "      <td>California</td>\n",
       "      <td>Napa Valley</td>\n",
       "      <td>Napa</td>\n",
       "      <td>Cabernet Sauvignon</td>\n",
       "      <td>Heitz</td>\n",
       "      <td>12671.0</td>\n",
       "      <td>True</td>\n",
       "      <td>1</td>\n",
       "    </tr>\n",
       "    <tr>\n",
       "      <th>1</th>\n",
       "      <td>Spain</td>\n",
       "      <td>Ripe aromas of fig, blackberry and cassis are ...</td>\n",
       "      <td>Carodorum Selección Especial Reserva</td>\n",
       "      <td>96</td>\n",
       "      <td>110.0</td>\n",
       "      <td>Northern Spain</td>\n",
       "      <td>Toro</td>\n",
       "      <td>NaN</td>\n",
       "      <td>Tinta de Toro</td>\n",
       "      <td>Bodega Carmen Rodríguez</td>\n",
       "      <td>221.0</td>\n",
       "      <td>True</td>\n",
       "      <td>1</td>\n",
       "    </tr>\n",
       "    <tr>\n",
       "      <th>2</th>\n",
       "      <td>US</td>\n",
       "      <td>Mac Watson honors the memory of a wine once ma...</td>\n",
       "      <td>Special Selected Late Harvest</td>\n",
       "      <td>96</td>\n",
       "      <td>90.0</td>\n",
       "      <td>California</td>\n",
       "      <td>Knights Valley</td>\n",
       "      <td>Sonoma</td>\n",
       "      <td>Sauvignon Blanc</td>\n",
       "      <td>Macauley</td>\n",
       "      <td>6054.0</td>\n",
       "      <td>False</td>\n",
       "      <td>0</td>\n",
       "    </tr>\n",
       "    <tr>\n",
       "      <th>3</th>\n",
       "      <td>US</td>\n",
       "      <td>This spent 20 months in 30% new French oak, an...</td>\n",
       "      <td>Reserve</td>\n",
       "      <td>96</td>\n",
       "      <td>65.0</td>\n",
       "      <td>Oregon</td>\n",
       "      <td>Willamette Valley</td>\n",
       "      <td>Willamette Valley</td>\n",
       "      <td>Pinot Noir</td>\n",
       "      <td>Ponzi</td>\n",
       "      <td>13625.0</td>\n",
       "      <td>True</td>\n",
       "      <td>1</td>\n",
       "    </tr>\n",
       "    <tr>\n",
       "      <th>4</th>\n",
       "      <td>Spain</td>\n",
       "      <td>Deep, dense and pure from the opening bell, th...</td>\n",
       "      <td>Numanthia</td>\n",
       "      <td>95</td>\n",
       "      <td>73.0</td>\n",
       "      <td>Northern Spain</td>\n",
       "      <td>Toro</td>\n",
       "      <td>NaN</td>\n",
       "      <td>Tinta de Toro</td>\n",
       "      <td>Numanthia</td>\n",
       "      <td>221.0</td>\n",
       "      <td>True</td>\n",
       "      <td>1</td>\n",
       "    </tr>\n",
       "  </tbody>\n",
       "</table>\n",
       "</div>"
      ],
      "text/plain": [
       "  country                                        description  \\\n",
       "0      US  This tremendous 100% varietal wine hails from ...   \n",
       "1   Spain  Ripe aromas of fig, blackberry and cassis are ...   \n",
       "2      US  Mac Watson honors the memory of a wine once ma...   \n",
       "3      US  This spent 20 months in 30% new French oak, an...   \n",
       "4   Spain  Deep, dense and pure from the opening bell, th...   \n",
       "\n",
       "                            designation  points  price        province  \\\n",
       "0                     Martha's Vineyard      96  235.0      California   \n",
       "1  Carodorum Selección Especial Reserva      96  110.0  Northern Spain   \n",
       "2         Special Selected Late Harvest      96   90.0      California   \n",
       "3                               Reserve      96   65.0          Oregon   \n",
       "4                             Numanthia      95   73.0  Northern Spain   \n",
       "\n",
       "            region_1           region_2             variety  \\\n",
       "0        Napa Valley               Napa  Cabernet Sauvignon   \n",
       "1               Toro                NaN       Tinta de Toro   \n",
       "2     Knights Valley             Sonoma     Sauvignon Blanc   \n",
       "3  Willamette Valley  Willamette Valley          Pinot Noir   \n",
       "4               Toro                NaN       Tinta de Toro   \n",
       "\n",
       "                    winery   Counts   Red?  Still_Red  \n",
       "0                    Heitz  12671.0   True          1  \n",
       "1  Bodega Carmen Rodríguez    221.0   True          1  \n",
       "2                 Macauley   6054.0  False          0  \n",
       "3                    Ponzi  13625.0   True          1  \n",
       "4                Numanthia    221.0   True          1  "
      ]
     },
     "execution_count": 16,
     "metadata": {},
     "output_type": "execute_result"
    }
   ],
   "source": [
    "wine_df.head()"
   ]
  },
  {
   "cell_type": "markdown",
   "metadata": {},
   "source": [
    "##### wine_red: wine_df split into red wines (red wines where the variety had 30 or more wines reviewed)"
   ]
  },
  {
   "cell_type": "code",
   "execution_count": 17,
   "metadata": {},
   "outputs": [
    {
     "data": {
      "text/plain": [
       "US                44550\n",
       "Italy             13365\n",
       "France             8021\n",
       "Spain              6510\n",
       "Argentina          4735\n",
       "Chile              4060\n",
       "Australia          3314\n",
       "Portugal           2982\n",
       "Austria            1620\n",
       "South Africa       1277\n",
       "New Zealand        1129\n",
       "Greece              513\n",
       "Israel              470\n",
       "Germany             192\n",
       "Hungary              80\n",
       "Uruguay              72\n",
       "Romania              64\n",
       "Canada               61\n",
       "Moldova              42\n",
       "Bulgaria             42\n",
       "Mexico               42\n",
       "Slovenia             25\n",
       "Brazil               24\n",
       "Lebanon              23\n",
       "Cyprus               23\n",
       "Turkey               22\n",
       "Croatia              16\n",
       "Lithuania             8\n",
       "Morocco               7\n",
       "Georgia               7\n",
       "Macedonia             6\n",
       "England               6\n",
       "Ukraine               4\n",
       "India                 4\n",
       "Serbia                3\n",
       "Czech Republic        2\n",
       "Switzerland           2\n",
       "Name: country, dtype: int64"
      ]
     },
     "execution_count": 17,
     "metadata": {},
     "output_type": "execute_result"
    }
   ],
   "source": [
    "#create df with only red wines and look at distribution of wines by country \n",
    "mask_red = wine_df.Still_Red == 1\n",
    "wine_red = wine_df.loc[mask_red]\n",
    "wine_red.country.value_counts()"
   ]
  },
  {
   "cell_type": "code",
   "execution_count": 202,
   "metadata": {},
   "outputs": [
    {
     "data": {
      "image/png": "[encoded data removed]",
      "text/plain": [
       "<Figure size 432x288 with 1 Axes>"
      ]
     },
     "metadata": {
      "needs_background": "light"
     },
     "output_type": "display_data"
    },
    {
     "data": {
      "image/png": "[encoded data removed]",
      "text/plain": [
       "<Figure size 432x288 with 1 Axes>"
      ]
     },
     "metadata": {
      "needs_background": "light"
     },
     "output_type": "display_data"
    },
    {
     "data": {
      "image/png": "[encoded data removed]",
      "text/plain": [
       "<Figure size 432x288 with 1 Axes>"
      ]
     },
     "metadata": {
      "needs_background": "light"
     },
     "output_type": "display_data"
    },
    {
     "data": {
      "image/png": "[encoded data removed]",
      "text/plain": [
       "<Figure size 432x288 with 1 Axes>"
      ]
     },
     "metadata": {
      "needs_background": "light"
     },
     "output_type": "display_data"
    },
    {
     "data": {
      "image/png": "[encoded data removed]",
      "text/plain": [
       "<Figure size 432x288 with 1 Axes>"
      ]
     },
     "metadata": {
      "needs_background": "light"
     },
     "output_type": "display_data"
    },
    {
     "data": {
      "image/png": "[encoded data removed]",
      "text/plain": [
       "<Figure size 432x288 with 1 Axes>"
      ]
     },
     "metadata": {
      "needs_background": "light"
     },
     "output_type": "display_data"
    },
    {
     "data": {
      "image/png": "[encoded data removed]",
      "text/plain": [
       "<Figure size 432x288 with 1 Axes>"
      ]
     },
     "metadata": {
      "needs_background": "light"
     },
     "output_type": "display_data"
    },
    {
     "data": {
      "image/png": "[encoded data removed]",
      "text/plain": [
       "<Figure size 432x288 with 1 Axes>"
      ]
     },
     "metadata": {
      "needs_background": "light"
     },
     "output_type": "display_data"
    },
    {
     "data": {
      "image/png": "[encoded data removed]",
      "text/plain": [
       "<Figure size 432x288 with 1 Axes>"
      ]
     },
     "metadata": {
      "needs_background": "light"
     },
     "output_type": "display_data"
    },
    {
     "data": {
      "image/png": "[encoded data removed]",
      "text/plain": [
       "<Figure size 432x288 with 1 Axes>"
      ]
     },
     "metadata": {
      "needs_background": "light"
     },
     "output_type": "display_data"
    },
    {
     "data": {
      "image/png": "[encoded data removed]",
      "text/plain": [
       "<Figure size 432x288 with 1 Axes>"
      ]
     },
     "metadata": {
      "needs_background": "light"
     },
     "output_type": "display_data"
    },
    {
     "data": {
      "image/png": "[encoded data removed]",
      "text/plain": [
       "<Figure size 432x288 with 1 Axes>"
      ]
     },
     "metadata": {
      "needs_background": "light"
     },
     "output_type": "display_data"
    }
   ],
   "source": [
    "#print histograms for the top thirteen countries - WHY DID WE PICK THIRTEEN? \n",
    "for country in wine_red.country.value_counts().index[0:12]:\n",
    "    mask6 = wine_red.country == country \n",
    "    red_wine = wine_red.loc[mask6]\n",
    "    \n",
    "    plt.hist(red_wine.points, bins = 10, color = 'firebrick')\n",
    "    plt.xlim(80,100)\n",
    "    plt.title(f' Spread of Red Wine Points in {country}')\n",
    "    plt.xlabel('Points')\n",
    "    plt.ylabel('Frequency')\n",
    "    plt.show()"
   ]
  },
  {
   "cell_type": "markdown",
   "metadata": {},
   "source": [
    "##### red2: dataframe of the top thirteen represented red-wine countries in wine_red"
   ]
  },
  {
   "cell_type": "code",
   "execution_count": 19,
   "metadata": {},
   "outputs": [
    {
     "data": {
      "text/html": [
       "<div>\n",
       "<style scoped>\n",
       "    .dataframe tbody tr th:only-of-type {\n",
       "        vertical-align: middle;\n",
       "    }\n",
       "\n",
       "    .dataframe tbody tr th {\n",
       "        vertical-align: top;\n",
       "    }\n",
       "\n",
       "    .dataframe thead th {\n",
       "        text-align: right;\n",
       "    }\n",
       "</style>\n",
       "<table border=\"1\" class=\"dataframe\">\n",
       "  <thead>\n",
       "    <tr style=\"text-align: right;\">\n",
       "      <th></th>\n",
       "      <th>country</th>\n",
       "      <th>description</th>\n",
       "      <th>designation</th>\n",
       "      <th>points</th>\n",
       "      <th>price</th>\n",
       "      <th>province</th>\n",
       "      <th>region_1</th>\n",
       "      <th>region_2</th>\n",
       "      <th>variety</th>\n",
       "      <th>winery</th>\n",
       "      <th>Counts</th>\n",
       "      <th>Red?</th>\n",
       "      <th>Still_Red</th>\n",
       "    </tr>\n",
       "  </thead>\n",
       "  <tbody>\n",
       "    <tr>\n",
       "      <th>0</th>\n",
       "      <td>US</td>\n",
       "      <td>This tremendous 100% varietal wine hails from ...</td>\n",
       "      <td>Martha's Vineyard</td>\n",
       "      <td>96</td>\n",
       "      <td>235.0</td>\n",
       "      <td>California</td>\n",
       "      <td>Napa Valley</td>\n",
       "      <td>Napa</td>\n",
       "      <td>Cabernet Sauvignon</td>\n",
       "      <td>Heitz</td>\n",
       "      <td>12671.0</td>\n",
       "      <td>True</td>\n",
       "      <td>1</td>\n",
       "    </tr>\n",
       "    <tr>\n",
       "      <th>1</th>\n",
       "      <td>Spain</td>\n",
       "      <td>Ripe aromas of fig, blackberry and cassis are ...</td>\n",
       "      <td>Carodorum Selección Especial Reserva</td>\n",
       "      <td>96</td>\n",
       "      <td>110.0</td>\n",
       "      <td>Northern Spain</td>\n",
       "      <td>Toro</td>\n",
       "      <td>NaN</td>\n",
       "      <td>Tinta de Toro</td>\n",
       "      <td>Bodega Carmen Rodríguez</td>\n",
       "      <td>221.0</td>\n",
       "      <td>True</td>\n",
       "      <td>1</td>\n",
       "    </tr>\n",
       "    <tr>\n",
       "      <th>3</th>\n",
       "      <td>US</td>\n",
       "      <td>This spent 20 months in 30% new French oak, an...</td>\n",
       "      <td>Reserve</td>\n",
       "      <td>96</td>\n",
       "      <td>65.0</td>\n",
       "      <td>Oregon</td>\n",
       "      <td>Willamette Valley</td>\n",
       "      <td>Willamette Valley</td>\n",
       "      <td>Pinot Noir</td>\n",
       "      <td>Ponzi</td>\n",
       "      <td>13625.0</td>\n",
       "      <td>True</td>\n",
       "      <td>1</td>\n",
       "    </tr>\n",
       "    <tr>\n",
       "      <th>4</th>\n",
       "      <td>Spain</td>\n",
       "      <td>Deep, dense and pure from the opening bell, th...</td>\n",
       "      <td>Numanthia</td>\n",
       "      <td>95</td>\n",
       "      <td>73.0</td>\n",
       "      <td>Northern Spain</td>\n",
       "      <td>Toro</td>\n",
       "      <td>NaN</td>\n",
       "      <td>Tinta de Toro</td>\n",
       "      <td>Numanthia</td>\n",
       "      <td>221.0</td>\n",
       "      <td>True</td>\n",
       "      <td>1</td>\n",
       "    </tr>\n",
       "    <tr>\n",
       "      <th>5</th>\n",
       "      <td>Spain</td>\n",
       "      <td>Slightly gritty black-fruit aromas include a s...</td>\n",
       "      <td>San Román</td>\n",
       "      <td>95</td>\n",
       "      <td>65.0</td>\n",
       "      <td>Northern Spain</td>\n",
       "      <td>Toro</td>\n",
       "      <td>NaN</td>\n",
       "      <td>Tinta de Toro</td>\n",
       "      <td>Maurodos</td>\n",
       "      <td>221.0</td>\n",
       "      <td>True</td>\n",
       "      <td>1</td>\n",
       "    </tr>\n",
       "  </tbody>\n",
       "</table>\n",
       "</div>"
      ],
      "text/plain": [
       "  country                                        description  \\\n",
       "0      US  This tremendous 100% varietal wine hails from ...   \n",
       "1   Spain  Ripe aromas of fig, blackberry and cassis are ...   \n",
       "3      US  This spent 20 months in 30% new French oak, an...   \n",
       "4   Spain  Deep, dense and pure from the opening bell, th...   \n",
       "5   Spain  Slightly gritty black-fruit aromas include a s...   \n",
       "\n",
       "                            designation  points  price        province  \\\n",
       "0                     Martha's Vineyard      96  235.0      California   \n",
       "1  Carodorum Selección Especial Reserva      96  110.0  Northern Spain   \n",
       "3                               Reserve      96   65.0          Oregon   \n",
       "4                             Numanthia      95   73.0  Northern Spain   \n",
       "5                             San Román      95   65.0  Northern Spain   \n",
       "\n",
       "            region_1           region_2             variety  \\\n",
       "0        Napa Valley               Napa  Cabernet Sauvignon   \n",
       "1               Toro                NaN       Tinta de Toro   \n",
       "3  Willamette Valley  Willamette Valley          Pinot Noir   \n",
       "4               Toro                NaN       Tinta de Toro   \n",
       "5               Toro                NaN       Tinta de Toro   \n",
       "\n",
       "                    winery   Counts  Red?  Still_Red  \n",
       "0                    Heitz  12671.0  True          1  \n",
       "1  Bodega Carmen Rodríguez    221.0  True          1  \n",
       "3                    Ponzi  13625.0  True          1  \n",
       "4                Numanthia    221.0  True          1  \n",
       "5                 Maurodos    221.0  True          1  "
      ]
     },
     "execution_count": 19,
     "metadata": {},
     "output_type": "execute_result"
    }
   ],
   "source": [
    "#create df with top thirteen red wine producing countries\n",
    "mask8 = wine_red.country.isin(wine_red.country.value_counts().head(13).index)\n",
    "red2 = wine_red.loc[mask8]\n",
    "red2.head()"
   ]
  },
  {
   "cell_type": "code",
   "execution_count": 203,
   "metadata": {},
   "outputs": [
    {
     "data": {
      "image/png": "[encoded data removed]",
      "text/plain": [
       "<Figure size 432x288 with 1 Axes>"
      ]
     },
     "metadata": {
      "needs_background": "light"
     },
     "output_type": "display_data"
    }
   ],
   "source": [
    "#plot the points spread for each of the top thirteen countries \n",
    "#NEED TO CLEAN UP GRAPHS - FIX TITLE AND AXIS LABELS \n",
    "red2.boxplot(column = 'points', by = 'country', rot = 45, grid = False)\n",
    "plt.title('Points for Top 13 Red Wine Producing Countries')\n",
    "plt.xlabel('')\n",
    "plt.ylabel('Points')\n",
    "plt.suptitle('')\n",
    "plt.show()"
   ]
  },
  {
   "cell_type": "code",
   "execution_count": 198,
   "metadata": {},
   "outputs": [
    {
     "data": {
      "image/png": "[encoded data removed]",
      "text/plain": [
       "<Figure size 432x288 with 1 Axes>"
      ]
     },
     "metadata": {
      "needs_background": "light"
     },
     "output_type": "display_data"
    }
   ],
   "source": [
    "#boxplots to show price distribution by country - THIS WILL BE GOOD TO SHOW IMPACT OF OUTLIERS\n",
    "red2.boxplot(column = 'price', by = 'country', rot = 45, grid = False)\n",
    "plt.title('Prices for Top 13 Countries')\n",
    "plt.xlabel('')\n",
    "plt.ylabel('Prices ($)')\n",
    "plt.suptitle('')\n",
    "plt.show()"
   ]
  },
  {
   "cell_type": "markdown",
   "metadata": {},
   "source": [
    "##### wine_white: wine_df grouped into white wines (where variety had 30 or more wines reviewed)"
   ]
  },
  {
   "cell_type": "code",
   "execution_count": 22,
   "metadata": {},
   "outputs": [
    {
     "data": {
      "text/plain": [
       "US                17021\n",
       "France             6467\n",
       "Italy              4785\n",
       "Germany            2109\n",
       "New Zealand        1936\n",
       "Chile              1626\n",
       "Australia          1500\n",
       "Spain              1217\n",
       "Portugal            926\n",
       "South Africa        920\n",
       "Argentina           800\n",
       "Austria             750\n",
       "Greece              290\n",
       "Israel              128\n",
       "Canada              120\n",
       "Hungary             116\n",
       "Romania              57\n",
       "Slovenia             46\n",
       "Moldova              25\n",
       "Bulgaria             25\n",
       "Croatia              20\n",
       "Mexico               18\n",
       "Lebanon              13\n",
       "Uruguay              10\n",
       "Luxembourg            9\n",
       "Georgia               5\n",
       "Morocco               4\n",
       "India                 4\n",
       "China                 3\n",
       "Slovakia              3\n",
       "Turkey                2\n",
       "Cyprus                2\n",
       "England               2\n",
       "Serbia                2\n",
       "US-France             1\n",
       "Switzerland           1\n",
       "Ukraine               1\n",
       "Czech Republic        1\n",
       "Brazil                1\n",
       "Name: country, dtype: int64"
      ]
     },
     "execution_count": 22,
     "metadata": {},
     "output_type": "execute_result"
    }
   ],
   "source": [
    "#create df for white wines only \n",
    "mask_white = wine_df.Still_Red == 0\n",
    "wine_white = wine_df.loc[mask_white]\n",
    "wine_white.country.value_counts()\n"
   ]
  },
  {
   "cell_type": "code",
   "execution_count": 262,
   "metadata": {},
   "outputs": [
    {
     "data": {
      "image/png": "[encoded data removed]",
      "text/plain": [
       "<Figure size 432x288 with 1 Axes>"
      ]
     },
     "metadata": {
      "needs_background": "light"
     },
     "output_type": "display_data"
    },
    {
     "data": {
      "image/png": "[encoded data removed]",
      "text/plain": [
       "<Figure size 432x288 with 1 Axes>"
      ]
     },
     "metadata": {
      "needs_background": "light"
     },
     "output_type": "display_data"
    },
    {
     "data": {
      "image/png": "[encoded data removed]",
      "text/plain": [
       "<Figure size 432x288 with 1 Axes>"
      ]
     },
     "metadata": {
      "needs_background": "light"
     },
     "output_type": "display_data"
    },
    {
     "data": {
      "image/png": "[encoded data removed]",
      "text/plain": [
       "<Figure size 432x288 with 1 Axes>"
      ]
     },
     "metadata": {
      "needs_background": "light"
     },
     "output_type": "display_data"
    },
    {
     "data": {
      "image/png": "[encoded data removed]",
      "text/plain": [
       "<Figure size 432x288 with 1 Axes>"
      ]
     },
     "metadata": {
      "needs_background": "light"
     },
     "output_type": "display_data"
    },
    {
     "data": {
      "image/png": "[encoded data removed]",
      "text/plain": [
       "<Figure size 432x288 with 1 Axes>"
      ]
     },
     "metadata": {
      "needs_background": "light"
     },
     "output_type": "display_data"
    },
    {
     "data": {
      "image/png": "[encoded data removed]",
      "text/plain": [
       "<Figure size 432x288 with 1 Axes>"
      ]
     },
     "metadata": {
      "needs_background": "light"
     },
     "output_type": "display_data"
    },
    {
     "data": {
      "image/png": "[encoded data removed]",
      "text/plain": [
       "<Figure size 432x288 with 1 Axes>"
      ]
     },
     "metadata": {
      "needs_background": "light"
     },
     "output_type": "display_data"
    },
    {
     "data": {
      "image/png": "[encoded data removed]",
      "text/plain": [
       "<Figure size 432x288 with 1 Axes>"
      ]
     },
     "metadata": {
      "needs_background": "light"
     },
     "output_type": "display_data"
    },
    {
     "data": {
      "image/png": "[encoded data removed]",
      "text/plain": [
       "<Figure size 432x288 with 1 Axes>"
      ]
     },
     "metadata": {
      "needs_background": "light"
     },
     "output_type": "display_data"
    },
    {
     "data": {
      "image/png": "[encoded data removed]",
      "text/plain": [
       "<Figure size 432x288 with 1 Axes>"
      ]
     },
     "metadata": {
      "needs_background": "light"
     },
     "output_type": "display_data"
    },
    {
     "data": {
      "image/png": "[encoded data removed]",
      "text/plain": [
       "<Figure size 432x288 with 1 Axes>"
      ]
     },
     "metadata": {
      "needs_background": "light"
     },
     "output_type": "display_data"
    }
   ],
   "source": [
    "#create histograms for the top thirteen wines \n",
    "for country in wine_white.country.value_counts().index[0:12]:\n",
    "    mask7 = wine_white.country == country \n",
    "    white_wine = wine_white.loc[mask7]\n",
    "    \n",
    "    plt.hist(white_wine.points, bins = 10, color = 'lightgrey')\n",
    "    plt.title(f' Spread of White Wine Points in {country}')\n",
    "    plt.xlabel('Points')\n",
    "    plt.ylabel('Frequency')\n",
    "    plt.show()"
   ]
  },
  {
   "cell_type": "markdown",
   "metadata": {},
   "source": [
    "##### white2: dataframe with top thirteen represented white wine producing countries in wine_white"
   ]
  },
  {
   "cell_type": "code",
   "execution_count": 24,
   "metadata": {},
   "outputs": [
    {
     "data": {
      "text/html": [
       "<div>\n",
       "<style scoped>\n",
       "    .dataframe tbody tr th:only-of-type {\n",
       "        vertical-align: middle;\n",
       "    }\n",
       "\n",
       "    .dataframe tbody tr th {\n",
       "        vertical-align: top;\n",
       "    }\n",
       "\n",
       "    .dataframe thead th {\n",
       "        text-align: right;\n",
       "    }\n",
       "</style>\n",
       "<table border=\"1\" class=\"dataframe\">\n",
       "  <thead>\n",
       "    <tr style=\"text-align: right;\">\n",
       "      <th></th>\n",
       "      <th>country</th>\n",
       "      <th>description</th>\n",
       "      <th>designation</th>\n",
       "      <th>points</th>\n",
       "      <th>price</th>\n",
       "      <th>province</th>\n",
       "      <th>region_1</th>\n",
       "      <th>region_2</th>\n",
       "      <th>variety</th>\n",
       "      <th>winery</th>\n",
       "      <th>Counts</th>\n",
       "      <th>Red?</th>\n",
       "      <th>Still_Red</th>\n",
       "    </tr>\n",
       "  </thead>\n",
       "  <tbody>\n",
       "    <tr>\n",
       "      <th>2</th>\n",
       "      <td>US</td>\n",
       "      <td>Mac Watson honors the memory of a wine once ma...</td>\n",
       "      <td>Special Selected Late Harvest</td>\n",
       "      <td>96</td>\n",
       "      <td>90.0</td>\n",
       "      <td>California</td>\n",
       "      <td>Knights Valley</td>\n",
       "      <td>Sonoma</td>\n",
       "      <td>Sauvignon Blanc</td>\n",
       "      <td>Macauley</td>\n",
       "      <td>6054.0</td>\n",
       "      <td>False</td>\n",
       "      <td>0</td>\n",
       "    </tr>\n",
       "    <tr>\n",
       "      <th>14</th>\n",
       "      <td>US</td>\n",
       "      <td>First made in 2006, this succulent luscious Ch...</td>\n",
       "      <td>Sigrid</td>\n",
       "      <td>95</td>\n",
       "      <td>90.0</td>\n",
       "      <td>Oregon</td>\n",
       "      <td>Willamette Valley</td>\n",
       "      <td>Willamette Valley</td>\n",
       "      <td>Chardonnay</td>\n",
       "      <td>Bergström</td>\n",
       "      <td>13775.0</td>\n",
       "      <td>False</td>\n",
       "      <td>0</td>\n",
       "    </tr>\n",
       "    <tr>\n",
       "      <th>22</th>\n",
       "      <td>US</td>\n",
       "      <td>The apogee of this ambitious winery's white wi...</td>\n",
       "      <td>Giallo Solare</td>\n",
       "      <td>95</td>\n",
       "      <td>60.0</td>\n",
       "      <td>California</td>\n",
       "      <td>Edna Valley</td>\n",
       "      <td>Central Coast</td>\n",
       "      <td>Chardonnay</td>\n",
       "      <td>Center of Effort</td>\n",
       "      <td>13775.0</td>\n",
       "      <td>False</td>\n",
       "      <td>0</td>\n",
       "    </tr>\n",
       "    <tr>\n",
       "      <th>24</th>\n",
       "      <td>New Zealand</td>\n",
       "      <td>Yields were down in 2015, but intensity is up,...</td>\n",
       "      <td>Maté's Vineyard</td>\n",
       "      <td>94</td>\n",
       "      <td>57.0</td>\n",
       "      <td>Kumeu</td>\n",
       "      <td>NaN</td>\n",
       "      <td>NaN</td>\n",
       "      <td>Chardonnay</td>\n",
       "      <td>Kumeu River</td>\n",
       "      <td>13775.0</td>\n",
       "      <td>False</td>\n",
       "      <td>0</td>\n",
       "    </tr>\n",
       "    <tr>\n",
       "      <th>29</th>\n",
       "      <td>US</td>\n",
       "      <td>Steely and perfumed, this wine sees only 20% n...</td>\n",
       "      <td>Babushka</td>\n",
       "      <td>90</td>\n",
       "      <td>37.0</td>\n",
       "      <td>California</td>\n",
       "      <td>Russian River Valley</td>\n",
       "      <td>Sonoma</td>\n",
       "      <td>Chardonnay</td>\n",
       "      <td>Zepaltas</td>\n",
       "      <td>13775.0</td>\n",
       "      <td>False</td>\n",
       "      <td>0</td>\n",
       "    </tr>\n",
       "  </tbody>\n",
       "</table>\n",
       "</div>"
      ],
      "text/plain": [
       "        country                                        description  \\\n",
       "2            US  Mac Watson honors the memory of a wine once ma...   \n",
       "14           US  First made in 2006, this succulent luscious Ch...   \n",
       "22           US  The apogee of this ambitious winery's white wi...   \n",
       "24  New Zealand  Yields were down in 2015, but intensity is up,...   \n",
       "29           US  Steely and perfumed, this wine sees only 20% n...   \n",
       "\n",
       "                      designation  points  price    province  \\\n",
       "2   Special Selected Late Harvest      96   90.0  California   \n",
       "14                         Sigrid      95   90.0      Oregon   \n",
       "22                  Giallo Solare      95   60.0  California   \n",
       "24                Maté's Vineyard      94   57.0       Kumeu   \n",
       "29                       Babushka      90   37.0  California   \n",
       "\n",
       "                region_1           region_2          variety  \\\n",
       "2         Knights Valley             Sonoma  Sauvignon Blanc   \n",
       "14     Willamette Valley  Willamette Valley       Chardonnay   \n",
       "22           Edna Valley      Central Coast       Chardonnay   \n",
       "24                   NaN                NaN       Chardonnay   \n",
       "29  Russian River Valley             Sonoma       Chardonnay   \n",
       "\n",
       "              winery   Counts   Red?  Still_Red  \n",
       "2           Macauley   6054.0  False          0  \n",
       "14         Bergström  13775.0  False          0  \n",
       "22  Center of Effort  13775.0  False          0  \n",
       "24       Kumeu River  13775.0  False          0  \n",
       "29          Zepaltas  13775.0  False          0  "
      ]
     },
     "execution_count": 24,
     "metadata": {},
     "output_type": "execute_result"
    }
   ],
   "source": [
    "#create df for top thirteen wines\n",
    "mask9 = wine_white.country.isin(wine_white.country.value_counts().index[0:12])\n",
    "white2 = wine_white.loc[mask9]\n",
    "white2.head()"
   ]
  },
  {
   "cell_type": "code",
   "execution_count": 204,
   "metadata": {},
   "outputs": [
    {
     "data": {
      "image/png": "[encoded data removed]",
      "text/plain": [
       "<Figure size 432x288 with 1 Axes>"
      ]
     },
     "metadata": {
      "needs_background": "light"
     },
     "output_type": "display_data"
    }
   ],
   "source": [
    "#boxplots to show point distribution by country \n",
    "white2.boxplot(column = 'points', by = 'country', rot = 45, grid = False)\n",
    "plt.title('Points for Top 13 White Wine Producing Countries')\n",
    "plt.xlabel('')\n",
    "plt.ylabel('Points')\n",
    "plt.suptitle('')\n",
    "plt.show()"
   ]
  },
  {
   "cell_type": "code",
   "execution_count": 205,
   "metadata": {},
   "outputs": [
    {
     "data": {
      "image/png": "[encoded data removed]",
      "text/plain": [
       "<Figure size 432x288 with 1 Axes>"
      ]
     },
     "metadata": {
      "needs_background": "light"
     },
     "output_type": "display_data"
    }
   ],
   "source": [
    "#boxplots to show price distribution by country - THIS WILL BE GOOD TO SHOW IMPACT OF OUTLIERS\n",
    "white2.boxplot(column = 'price', by = 'country', rot = 45, grid = False)\n",
    "plt.title('Points for Top 13 White Wine Producing Countries')\n",
    "plt.xlabel('')\n",
    "plt.ylabel('Points')\n",
    "plt.suptitle('')\n",
    "plt.show()"
   ]
  },
  {
   "cell_type": "code",
   "execution_count": 261,
   "metadata": {},
   "outputs": [
    {
     "data": {
      "image/png": "[encoded data removed]",
      "text/plain": [
       "<Figure size 432x288 with 1 Axes>"
      ]
     },
     "metadata": {
      "needs_background": "light"
     },
     "output_type": "display_data"
    }
   ],
   "source": [
    "plt.hist(wine_red.points, label = \"red\", bins = 20, color = 'firebrick')\n",
    "plt.hist(wine_white.points, label = 'white', bins = 20, color = 'lightgrey', alpha = 0.7)\n",
    "plt.title ('Frequency of Points by Wine Type')\n",
    "plt.xlabel('Points')\n",
    "plt.ylabel('Frequency')\n",
    "plt.legend(loc=\"best\")\n",
    "plt.show()"
   ]
  },
  {
   "cell_type": "code",
   "execution_count": 28,
   "metadata": {},
   "outputs": [
    {
     "data": {
      "image/png": "[encoded data removed]",
      "text/plain": [
       "<Figure size 432x288 with 1 Axes>"
      ]
     },
     "metadata": {
      "needs_background": "light"
     },
     "output_type": "display_data"
    }
   ],
   "source": [
    "#DO NOT USE\n",
    "plt.hist(wine_red.price, label = \"red\", bins = 50)\n",
    "plt.hist(wine_white.price, label = 'white', bins = 50)\n",
    "plt.title ('Frequency of Price by Wine Type')\n",
    "plt.xlim(0,wine_red.price.max())\n",
    "plt.xlabel('Price')\n",
    "plt.legend(loc=\"best\")\n",
    "plt.show()"
   ]
  },
  {
   "cell_type": "code",
   "execution_count": 29,
   "metadata": {},
   "outputs": [
    {
     "data": {
      "image/png": "[encoded data removed]",
      "text/plain": [
       "<Figure size 432x288 with 1 Axes>"
      ]
     },
     "metadata": {
      "needs_background": "light"
     },
     "output_type": "display_data"
    }
   ],
   "source": [
    "#Alternate way to show skew of prices - PROBABLY DON'T USE\n",
    "plt.scatter(wine_red.price.value_counts().index, wine_red.price.value_counts().values)\n",
    "plt.title ('Frequency of Price - Red Wine')\n",
    "plt.xlim(0,wine_red.price.max())\n",
    "plt.xlabel('Red Wine Price')\n",
    "plt.ylabel('Frequency')\n",
    "plt.show()"
   ]
  },
  {
   "cell_type": "code",
   "execution_count": 212,
   "metadata": {},
   "outputs": [
    {
     "data": {
      "image/png": "[encoded data removed]",
      "text/plain": [
       "<Figure size 432x288 with 1 Axes>"
      ]
     },
     "metadata": {
      "needs_background": "light"
     },
     "output_type": "display_data"
    }
   ],
   "source": [
    "#Alternate way to show skew of prices - DON'T USE\n",
    "plt.scatter(wine_white.price.value_counts().index, wine_white.price.value_counts().values)\n",
    "plt.title ('Frequency of Price - White Wine')\n",
    "plt.xlim(0,wine_white.price.max())\n",
    "plt.xlabel('White Wine Price')\n",
    "plt.ylabel('Frequency')\n",
    "plt.show()"
   ]
  },
  {
   "cell_type": "code",
   "execution_count": 31,
   "metadata": {},
   "outputs": [
    {
     "data": {
      "text/plain": [
       "2300.0"
      ]
     },
     "execution_count": 31,
     "metadata": {},
     "output_type": "execute_result"
    }
   ],
   "source": [
    "wine_red.price.max()"
   ]
  },
  {
   "cell_type": "markdown",
   "metadata": {},
   "source": [
    "## Points vs Price Correlation - Red vs White"
   ]
  },
  {
   "cell_type": "code",
   "execution_count": 268,
   "metadata": {},
   "outputs": [
    {
     "data": {
      "image/png": "[encoded data removed]",
      "text/plain": [
       "<Figure size 432x288 with 1 Axes>"
      ]
     },
     "metadata": {
      "needs_background": "light"
     },
     "output_type": "display_data"
    }
   ],
   "source": [
    "#Scatter of Wine Price vs Wine Points - Total \n",
    "plt.scatter(wine_df.points, wine_df.price)\n",
    "plt.xlabel('Points')\n",
    "plt.ylabel('Price($)')\n",
    "plt.title('Points vs Price - All Wines')\n",
    "plt.show()"
   ]
  },
  {
   "cell_type": "code",
   "execution_count": 274,
   "metadata": {},
   "outputs": [
    {
     "data": {
      "text/html": [
       "<div>\n",
       "<style scoped>\n",
       "    .dataframe tbody tr th:only-of-type {\n",
       "        vertical-align: middle;\n",
       "    }\n",
       "\n",
       "    .dataframe tbody tr th {\n",
       "        vertical-align: top;\n",
       "    }\n",
       "\n",
       "    .dataframe thead th {\n",
       "        text-align: right;\n",
       "    }\n",
       "</style>\n",
       "<table border=\"1\" class=\"dataframe\">\n",
       "  <thead>\n",
       "    <tr style=\"text-align: right;\">\n",
       "      <th></th>\n",
       "      <th>price</th>\n",
       "      <th>points</th>\n",
       "      <th>Still_Red</th>\n",
       "    </tr>\n",
       "  </thead>\n",
       "  <tbody>\n",
       "    <tr>\n",
       "      <th>price</th>\n",
       "      <td>1.000000</td>\n",
       "      <td>0.459624</td>\n",
       "      <td>0.108498</td>\n",
       "    </tr>\n",
       "    <tr>\n",
       "      <th>points</th>\n",
       "      <td>0.459624</td>\n",
       "      <td>1.000000</td>\n",
       "      <td>0.061808</td>\n",
       "    </tr>\n",
       "    <tr>\n",
       "      <th>Still_Red</th>\n",
       "      <td>0.108498</td>\n",
       "      <td>0.061808</td>\n",
       "      <td>1.000000</td>\n",
       "    </tr>\n",
       "  </tbody>\n",
       "</table>\n",
       "</div>"
      ],
      "text/plain": [
       "              price    points  Still_Red\n",
       "price      1.000000  0.459624   0.108498\n",
       "points     0.459624  1.000000   0.061808\n",
       "Still_Red  0.108498  0.061808   1.000000"
      ]
     },
     "execution_count": 274,
     "metadata": {},
     "output_type": "execute_result"
    },
    {
     "data": {
      "image/png": "[encoded data removed]",
      "text/plain": [
       "<Figure size 432x288 with 2 Axes>"
      ]
     },
     "metadata": {
      "needs_background": "light"
     },
     "output_type": "display_data"
    }
   ],
   "source": [
    "sn.heatmap(wine_df[['price','points','Still_Red']].corr(), vmin=0, vmax=1)\n",
    "plt.title('Initial Correlation - All Wine')\n",
    "wine_df[['price','points','Still_Red']].corr()"
   ]
  },
  {
   "cell_type": "code",
   "execution_count": 267,
   "metadata": {},
   "outputs": [
    {
     "data": {
      "image/png": "[encoded data removed]",
      "text/plain": [
       "<Figure size 432x288 with 1 Axes>"
      ]
     },
     "metadata": {
      "needs_background": "light"
     },
     "output_type": "display_data"
    }
   ],
   "source": [
    "#Scatter of Wine Price vs Wine Points - Red Wine\n",
    "plt.scatter(wine_red.points, wine_red.price, color = 'firebrick')\n",
    "plt.xlabel('Points')\n",
    "plt.ylabel('Price($)')\n",
    "plt.title('Points vs Price - Red Wine')\n",
    "plt.show()"
   ]
  },
  {
   "cell_type": "code",
   "execution_count": 257,
   "metadata": {},
   "outputs": [
    {
     "name": "stdout",
     "output_type": "stream",
     "text": [
      "           price    points\n",
      "price   1.000000  0.474773\n",
      "points  0.474773  1.000000\n"
     ]
    },
    {
     "data": {
      "image/png": "[encoded data removed]",
      "text/plain": [
       "<Figure size 432x288 with 2 Axes>"
      ]
     },
     "metadata": {
      "needs_background": "light"
     },
     "output_type": "display_data"
    }
   ],
   "source": [
    "#Correlations - Red Wine\n",
    "sn.heatmap(wine_red[['price','points']].corr(),vmin=0, vmax=1)\n",
    "plt.title('Initial Correlation - Red Wine')\n",
    "print(wine_red[['price','points']].corr())"
   ]
  },
  {
   "cell_type": "code",
   "execution_count": 269,
   "metadata": {},
   "outputs": [
    {
     "data": {
      "image/png": "[encoded data removed]",
      "text/plain": [
       "<Figure size 432x288 with 1 Axes>"
      ]
     },
     "metadata": {
      "needs_background": "light"
     },
     "output_type": "display_data"
    }
   ],
   "source": [
    "#Scatter of Wine Price vs Wine Points - White Wine\n",
    "plt.scatter(wine_white.points, wine_white.price, color = 'lightgrey')\n",
    "plt.xlabel('Points')\n",
    "plt.ylabel('Price($)')\n",
    "plt.title('Points vs Price - White Wine')\n",
    "plt.show()"
   ]
  },
  {
   "cell_type": "code",
   "execution_count": 258,
   "metadata": {},
   "outputs": [
    {
     "name": "stdout",
     "output_type": "stream",
     "text": [
      "           price    points\n",
      "price   1.000000  0.414576\n",
      "points  0.414576  1.000000\n"
     ]
    },
    {
     "data": {
      "image/png": "[encoded data removed]",
      "text/plain": [
       "<Figure size 432x288 with 2 Axes>"
      ]
     },
     "metadata": {
      "needs_background": "light"
     },
     "output_type": "display_data"
    }
   ],
   "source": [
    "sn.heatmap(wine_white[['price','points']].corr(),vmin=0, vmax=1)\n",
    "plt.title('Initial Correlation - White Wine')\n",
    "print(wine_white[['price','points']].corr())"
   ]
  },
  {
   "cell_type": "markdown",
   "metadata": {},
   "source": [
    "## Statistical Tests"
   ]
  },
  {
   "cell_type": "code",
   "execution_count": 38,
   "metadata": {},
   "outputs": [],
   "source": [
    "import scipy.stats as stats"
   ]
  },
  {
   "cell_type": "markdown",
   "metadata": {},
   "source": [
    "### Red vs White Wine - Points \n",
    "* Null Hypothesis - There is no difference in the average points of red and white wines \n",
    "* Alternate Hypothesis - There is a difference in the average points of red and white wines\n",
    "* Outcome - At an alpha of 0.05 and with a p-value of almost zero, we reject the null hypothesis that there is no difference in the average points of red and white whines. We have enough evidence to suggest that there is a statistically significant difference in the average red wine points and the average white wine points. "
   ]
  },
  {
   "cell_type": "code",
   "execution_count": 39,
   "metadata": {},
   "outputs": [
    {
     "data": {
      "text/plain": [
       "Ttest_indResult(statistic=23.349294596442785, pvalue=3.4024913851525474e-120)"
      ]
     },
     "execution_count": 39,
     "metadata": {},
     "output_type": "execute_result"
    }
   ],
   "source": [
    "#T-Test for red vs whitw wine popularity \n",
    "stats.ttest_ind(wine_red.points, wine_white.points, equal_var=False)"
   ]
  },
  {
   "cell_type": "code",
   "execution_count": 106,
   "metadata": {},
   "outputs": [
    {
     "data": {
      "text/plain": [
       "87.93201032971507"
      ]
     },
     "execution_count": 106,
     "metadata": {},
     "output_type": "execute_result"
    }
   ],
   "source": [
    "red_mean = wine_red.points.mean()\n",
    "red_mean"
   ]
  },
  {
   "cell_type": "code",
   "execution_count": 107,
   "metadata": {},
   "outputs": [
    {
     "data": {
      "text/plain": [
       "87.49904799101694"
      ]
     },
     "execution_count": 107,
     "metadata": {},
     "output_type": "execute_result"
    }
   ],
   "source": [
    "white_mean = wine_white.points.mean()\n",
    "white_mean"
   ]
  },
  {
   "cell_type": "code",
   "execution_count": 42,
   "metadata": {},
   "outputs": [
    {
     "data": {
      "text/plain": [
       "93323"
      ]
     },
     "execution_count": 42,
     "metadata": {},
     "output_type": "execute_result"
    }
   ],
   "source": [
    "wine_red.points.count()"
   ]
  },
  {
   "cell_type": "code",
   "execution_count": 43,
   "metadata": {},
   "outputs": [
    {
     "data": {
      "text/plain": [
       "40966"
      ]
     },
     "execution_count": 43,
     "metadata": {},
     "output_type": "execute_result"
    }
   ],
   "source": [
    "wine_white.points.count()"
   ]
  },
  {
   "cell_type": "code",
   "execution_count": 109,
   "metadata": {},
   "outputs": [
    {
     "data": {
      "text/plain": [
       "0.01076380993151733"
      ]
     },
     "execution_count": 109,
     "metadata": {},
     "output_type": "execute_result"
    }
   ],
   "source": [
    "red_err = stats.sem(wine_red.points)\n",
    "red_err"
   ]
  },
  {
   "cell_type": "code",
   "execution_count": 115,
   "metadata": {},
   "outputs": [
    {
     "data": {
      "text/plain": [
       "0.015098923061268945"
      ]
     },
     "execution_count": 115,
     "metadata": {},
     "output_type": "execute_result"
    }
   ],
   "source": [
    "white_err = stats.sem(wine_white.points)\n",
    "white_err"
   ]
  },
  {
   "cell_type": "code",
   "execution_count": 271,
   "metadata": {},
   "outputs": [
    {
     "data": {
      "image/png": "[encoded data removed]",
      "text/plain": [
       "<Figure size 432x288 with 2 Axes>"
      ]
     },
     "metadata": {
      "needs_background": "light"
     },
     "output_type": "display_data"
    }
   ],
   "source": [
    "#standard error plot - POINT OUT THE DIFFERENCE IN AXIS; GOOD VIZ FOR T-TEST\n",
    "fig, (ax1, ax2) = plt.subplots(1, 2)\n",
    "ax1.scatter('Red',red_mean, marker = 'o', color = 'firebrick', s = 75)\n",
    "ax1.errorbar(0,red_mean, yerr = red_err, color = 'firebrick', capsize = 5)\n",
    "ax1.set_title('Red Wine Mean Points and Standard Error')\n",
    "ax2.scatter('White', white_mean, marker = 'o', color = 'grey', s = 75)\n",
    "ax2.errorbar(0,white_mean, yerr = white_err, color = 'grey', capsize = 5)\n",
    "ax2.set_title('White Wine Mean Points and Standard Error')\n",
    "plt.subplots_adjust(bottom=0.1, right=1.7, top=0.9)\n",
    "\n",
    "#CREATE SECOND Y AND PUT ON THE SAME GRAPH"
   ]
  },
  {
   "cell_type": "markdown",
   "metadata": {},
   "source": [
    "### Red vs White Wine - Price\n",
    "* Null Hypothesis - There is no difference in the average price of red and white wines \n",
    "* Alternate Hypothesis - There is a difference in the average price of red and white wines\n",
    "* Outcome - At an alpha of 0.05 and with a p-value of zero, we reject the null hypothesis that there is no difference in the average price of red and white whines. We have enough evidence to suggest that there is a statistically significant difference in the average red wine price and the average white wine price. "
   ]
  },
  {
   "cell_type": "code",
   "execution_count": 47,
   "metadata": {},
   "outputs": [
    {
     "data": {
      "text/plain": [
       "Ttest_indResult(statistic=39.55164412347694, pvalue=0.0)"
      ]
     },
     "execution_count": 47,
     "metadata": {},
     "output_type": "execute_result"
    }
   ],
   "source": [
    "#T-Test for red vs white price \n",
    "stats.ttest_ind(wine_red.price, wine_white.price, equal_var=False)"
   ]
  },
  {
   "cell_type": "code",
   "execution_count": 171,
   "metadata": {},
   "outputs": [
    {
     "name": "stdout",
     "output_type": "stream",
     "text": [
      "35.947665634409525 27.332177903627397 0.11792129941087051 0.18315010059964076\n"
     ]
    }
   ],
   "source": [
    "red_price_mean = wine_red.price.mean()\n",
    "wht_price_mean = wine_white.price.mean()\n",
    "red_price_sem = stats.sem(wine_red.price)\n",
    "wht_price_sem = stats.sem(wine_white.price)\n",
    "\n",
    "print(red_price_mean,wht_price_mean,red_price_sem,wht_price_sem)"
   ]
  },
  {
   "cell_type": "code",
   "execution_count": 272,
   "metadata": {},
   "outputs": [
    {
     "data": {
      "image/png": "[encoded data removed]",
      "text/plain": [
       "<Figure size 432x288 with 2 Axes>"
      ]
     },
     "metadata": {
      "needs_background": "light"
     },
     "output_type": "display_data"
    }
   ],
   "source": [
    "#standard error plot -- POINT OUT THE DIFFERENCE IN AXIS; GOOD VIZ FOR T-TEST\n",
    "fig, (ax1, ax2) = plt.subplots(1, 2)\n",
    "ax1.scatter('Red',red_price_mean, marker = 'o', color = 'firebrick', s = 75)\n",
    "ax1.errorbar(0,red_price_mean, yerr = red_price_sem, color = 'firebrick', capsize = 5)\n",
    "ax1.set_title('Red Wine Mean Price and Standard Error')\n",
    "ax2.scatter('White', wht_price_mean, marker = 'o', color = 'grey', s = 75)\n",
    "ax2.errorbar(0,wht_price_mean, yerr = wht_price_sem, color = 'grey', capsize = 5)\n",
    "ax2.set_title('White Wine Mean Price and Standard Error')\n",
    "plt.subplots_adjust(bottom=0.1, right=1.7, top=0.9)"
   ]
  },
  {
   "cell_type": "markdown",
   "metadata": {},
   "source": [
    "## Data Trimming (Removing Outliers)"
   ]
  },
  {
   "cell_type": "code",
   "execution_count": 237,
   "metadata": {},
   "outputs": [
    {
     "data": {
      "image/png": "[encoded data removed]",
      "text/plain": [
       "<Figure size 432x288 with 1 Axes>"
      ]
     },
     "metadata": {
      "needs_background": "light"
     },
     "output_type": "display_data"
    }
   ],
   "source": [
    "plt.hist(wine_red.price)\n",
    "plt.show()"
   ]
  },
  {
   "cell_type": "code",
   "execution_count": 50,
   "metadata": {},
   "outputs": [],
   "source": [
    "import numpy as np "
   ]
  },
  {
   "cell_type": "code",
   "execution_count": 51,
   "metadata": {},
   "outputs": [
    {
     "data": {
      "text/plain": [
       "110.0"
      ]
     },
     "execution_count": 51,
     "metadata": {},
     "output_type": "execute_result"
    }
   ],
   "source": [
    "np.quantile(wine_red.price, 0.975)"
   ]
  },
  {
   "cell_type": "markdown",
   "metadata": {},
   "source": [
    "##### red_sub: dataframe from wine_red that takes out the top and bottom 2.5% aka shows the middle 95% of red wines included in wine_red"
   ]
  },
  {
   "cell_type": "code",
   "execution_count": 52,
   "metadata": {},
   "outputs": [
    {
     "data": {
      "text/html": [
       "<div>\n",
       "<style scoped>\n",
       "    .dataframe tbody tr th:only-of-type {\n",
       "        vertical-align: middle;\n",
       "    }\n",
       "\n",
       "    .dataframe tbody tr th {\n",
       "        vertical-align: top;\n",
       "    }\n",
       "\n",
       "    .dataframe thead th {\n",
       "        text-align: right;\n",
       "    }\n",
       "</style>\n",
       "<table border=\"1\" class=\"dataframe\">\n",
       "  <thead>\n",
       "    <tr style=\"text-align: right;\">\n",
       "      <th></th>\n",
       "      <th>country</th>\n",
       "      <th>description</th>\n",
       "      <th>designation</th>\n",
       "      <th>points</th>\n",
       "      <th>price</th>\n",
       "      <th>province</th>\n",
       "      <th>region_1</th>\n",
       "      <th>region_2</th>\n",
       "      <th>variety</th>\n",
       "      <th>winery</th>\n",
       "      <th>Counts</th>\n",
       "      <th>Red?</th>\n",
       "      <th>Still_Red</th>\n",
       "    </tr>\n",
       "  </thead>\n",
       "  <tbody>\n",
       "    <tr>\n",
       "      <th>3</th>\n",
       "      <td>US</td>\n",
       "      <td>This spent 20 months in 30% new French oak, an...</td>\n",
       "      <td>Reserve</td>\n",
       "      <td>96</td>\n",
       "      <td>65.0</td>\n",
       "      <td>Oregon</td>\n",
       "      <td>Willamette Valley</td>\n",
       "      <td>Willamette Valley</td>\n",
       "      <td>Pinot Noir</td>\n",
       "      <td>Ponzi</td>\n",
       "      <td>13625.0</td>\n",
       "      <td>True</td>\n",
       "      <td>1</td>\n",
       "    </tr>\n",
       "    <tr>\n",
       "      <th>4</th>\n",
       "      <td>Spain</td>\n",
       "      <td>Deep, dense and pure from the opening bell, th...</td>\n",
       "      <td>Numanthia</td>\n",
       "      <td>95</td>\n",
       "      <td>73.0</td>\n",
       "      <td>Northern Spain</td>\n",
       "      <td>Toro</td>\n",
       "      <td>NaN</td>\n",
       "      <td>Tinta de Toro</td>\n",
       "      <td>Numanthia</td>\n",
       "      <td>221.0</td>\n",
       "      <td>True</td>\n",
       "      <td>1</td>\n",
       "    </tr>\n",
       "    <tr>\n",
       "      <th>5</th>\n",
       "      <td>Spain</td>\n",
       "      <td>Slightly gritty black-fruit aromas include a s...</td>\n",
       "      <td>San Román</td>\n",
       "      <td>95</td>\n",
       "      <td>65.0</td>\n",
       "      <td>Northern Spain</td>\n",
       "      <td>Toro</td>\n",
       "      <td>NaN</td>\n",
       "      <td>Tinta de Toro</td>\n",
       "      <td>Maurodos</td>\n",
       "      <td>221.0</td>\n",
       "      <td>True</td>\n",
       "      <td>1</td>\n",
       "    </tr>\n",
       "    <tr>\n",
       "      <th>7</th>\n",
       "      <td>US</td>\n",
       "      <td>This re-named vineyard was formerly bottled as...</td>\n",
       "      <td>Silice</td>\n",
       "      <td>95</td>\n",
       "      <td>65.0</td>\n",
       "      <td>Oregon</td>\n",
       "      <td>Chehalem Mountains</td>\n",
       "      <td>Willamette Valley</td>\n",
       "      <td>Pinot Noir</td>\n",
       "      <td>Bergström</td>\n",
       "      <td>13625.0</td>\n",
       "      <td>True</td>\n",
       "      <td>1</td>\n",
       "    </tr>\n",
       "    <tr>\n",
       "      <th>8</th>\n",
       "      <td>US</td>\n",
       "      <td>The producer sources from two blocks of the vi...</td>\n",
       "      <td>Gap's Crown Vineyard</td>\n",
       "      <td>95</td>\n",
       "      <td>60.0</td>\n",
       "      <td>California</td>\n",
       "      <td>Sonoma Coast</td>\n",
       "      <td>Sonoma</td>\n",
       "      <td>Pinot Noir</td>\n",
       "      <td>Blue Farm</td>\n",
       "      <td>13625.0</td>\n",
       "      <td>True</td>\n",
       "      <td>1</td>\n",
       "    </tr>\n",
       "    <tr>\n",
       "      <th>...</th>\n",
       "      <td>...</td>\n",
       "      <td>...</td>\n",
       "      <td>...</td>\n",
       "      <td>...</td>\n",
       "      <td>...</td>\n",
       "      <td>...</td>\n",
       "      <td>...</td>\n",
       "      <td>...</td>\n",
       "      <td>...</td>\n",
       "      <td>...</td>\n",
       "      <td>...</td>\n",
       "      <td>...</td>\n",
       "      <td>...</td>\n",
       "    </tr>\n",
       "    <tr>\n",
       "      <th>134269</th>\n",
       "      <td>France</td>\n",
       "      <td>This is a lovely, fragrant Burgundy, with a sm...</td>\n",
       "      <td>Clos dea Argillieres</td>\n",
       "      <td>89</td>\n",
       "      <td>52.0</td>\n",
       "      <td>Burgundy</td>\n",
       "      <td>Nuits-St.-Georges</td>\n",
       "      <td>NaN</td>\n",
       "      <td>Pinot Noir</td>\n",
       "      <td>Daniel Rion</td>\n",
       "      <td>13625.0</td>\n",
       "      <td>True</td>\n",
       "      <td>1</td>\n",
       "    </tr>\n",
       "    <tr>\n",
       "      <th>134270</th>\n",
       "      <td>France</td>\n",
       "      <td>Scents of graham cracker and malted milk choco...</td>\n",
       "      <td>NaN</td>\n",
       "      <td>89</td>\n",
       "      <td>38.0</td>\n",
       "      <td>Burgundy</td>\n",
       "      <td>Chambolle-Musigny</td>\n",
       "      <td>NaN</td>\n",
       "      <td>Pinot Noir</td>\n",
       "      <td>Michel Gros</td>\n",
       "      <td>13625.0</td>\n",
       "      <td>True</td>\n",
       "      <td>1</td>\n",
       "    </tr>\n",
       "    <tr>\n",
       "      <th>134271</th>\n",
       "      <td>France</td>\n",
       "      <td>This needs a good bit of breathing time, then ...</td>\n",
       "      <td>Les Chaliots</td>\n",
       "      <td>87</td>\n",
       "      <td>37.0</td>\n",
       "      <td>Burgundy</td>\n",
       "      <td>Nuits-St.-Georges</td>\n",
       "      <td>NaN</td>\n",
       "      <td>Pinot Noir</td>\n",
       "      <td>Michel Gros</td>\n",
       "      <td>13625.0</td>\n",
       "      <td>True</td>\n",
       "      <td>1</td>\n",
       "    </tr>\n",
       "    <tr>\n",
       "      <th>134272</th>\n",
       "      <td>France</td>\n",
       "      <td>The nose is dominated by the attractive scents...</td>\n",
       "      <td>Les Charmes</td>\n",
       "      <td>87</td>\n",
       "      <td>65.0</td>\n",
       "      <td>Burgundy</td>\n",
       "      <td>Chambolle-Musigny</td>\n",
       "      <td>NaN</td>\n",
       "      <td>Pinot Noir</td>\n",
       "      <td>Daniel Rion</td>\n",
       "      <td>13625.0</td>\n",
       "      <td>True</td>\n",
       "      <td>1</td>\n",
       "    </tr>\n",
       "    <tr>\n",
       "      <th>134273</th>\n",
       "      <td>France</td>\n",
       "      <td>Inky and rustic, yet in a refined manner. This...</td>\n",
       "      <td>NaN</td>\n",
       "      <td>94</td>\n",
       "      <td>30.0</td>\n",
       "      <td>Rhône Valley</td>\n",
       "      <td>Châteauneuf-du-Pape</td>\n",
       "      <td>NaN</td>\n",
       "      <td>Rhône-style Red Blend</td>\n",
       "      <td>Le Vieux Donjon</td>\n",
       "      <td>1455.0</td>\n",
       "      <td>True</td>\n",
       "      <td>1</td>\n",
       "    </tr>\n",
       "  </tbody>\n",
       "</table>\n",
       "<p>87720 rows × 13 columns</p>\n",
       "</div>"
      ],
      "text/plain": [
       "       country                                        description  \\\n",
       "3           US  This spent 20 months in 30% new French oak, an...   \n",
       "4        Spain  Deep, dense and pure from the opening bell, th...   \n",
       "5        Spain  Slightly gritty black-fruit aromas include a s...   \n",
       "7           US  This re-named vineyard was formerly bottled as...   \n",
       "8           US  The producer sources from two blocks of the vi...   \n",
       "...        ...                                                ...   \n",
       "134269  France  This is a lovely, fragrant Burgundy, with a sm...   \n",
       "134270  France  Scents of graham cracker and malted milk choco...   \n",
       "134271  France  This needs a good bit of breathing time, then ...   \n",
       "134272  France  The nose is dominated by the attractive scents...   \n",
       "134273  France  Inky and rustic, yet in a refined manner. This...   \n",
       "\n",
       "                 designation  points  price        province  \\\n",
       "3                    Reserve      96   65.0          Oregon   \n",
       "4                  Numanthia      95   73.0  Northern Spain   \n",
       "5                  San Román      95   65.0  Northern Spain   \n",
       "7                     Silice      95   65.0          Oregon   \n",
       "8       Gap's Crown Vineyard      95   60.0      California   \n",
       "...                      ...     ...    ...             ...   \n",
       "134269  Clos dea Argillieres      89   52.0        Burgundy   \n",
       "134270                   NaN      89   38.0        Burgundy   \n",
       "134271          Les Chaliots      87   37.0        Burgundy   \n",
       "134272           Les Charmes      87   65.0        Burgundy   \n",
       "134273                   NaN      94   30.0    Rhône Valley   \n",
       "\n",
       "                   region_1           region_2                variety  \\\n",
       "3         Willamette Valley  Willamette Valley             Pinot Noir   \n",
       "4                      Toro                NaN          Tinta de Toro   \n",
       "5                      Toro                NaN          Tinta de Toro   \n",
       "7        Chehalem Mountains  Willamette Valley             Pinot Noir   \n",
       "8              Sonoma Coast             Sonoma             Pinot Noir   \n",
       "...                     ...                ...                    ...   \n",
       "134269    Nuits-St.-Georges                NaN             Pinot Noir   \n",
       "134270    Chambolle-Musigny                NaN             Pinot Noir   \n",
       "134271    Nuits-St.-Georges                NaN             Pinot Noir   \n",
       "134272    Chambolle-Musigny                NaN             Pinot Noir   \n",
       "134273  Châteauneuf-du-Pape                NaN  Rhône-style Red Blend   \n",
       "\n",
       "                 winery   Counts  Red?  Still_Red  \n",
       "3                 Ponzi  13625.0  True          1  \n",
       "4             Numanthia    221.0  True          1  \n",
       "5              Maurodos    221.0  True          1  \n",
       "7             Bergström  13625.0  True          1  \n",
       "8             Blue Farm  13625.0  True          1  \n",
       "...                 ...      ...   ...        ...  \n",
       "134269      Daniel Rion  13625.0  True          1  \n",
       "134270      Michel Gros  13625.0  True          1  \n",
       "134271      Michel Gros  13625.0  True          1  \n",
       "134272      Daniel Rion  13625.0  True          1  \n",
       "134273  Le Vieux Donjon   1455.0  True          1  \n",
       "\n",
       "[87720 rows x 13 columns]"
      ]
     },
     "execution_count": 52,
     "metadata": {},
     "output_type": "execute_result"
    }
   ],
   "source": [
    "#Trim out the bottom and top 2.5% - CHANGE IF ONLY PREDICTING FOR CHEAP WINES\n",
    "new_mask = (wine_red.price > np.quantile(wine_red.price, 0.025)) & (wine_red.price < np.quantile(wine_red.price, 0.975))\n",
    "\n",
    "red_sub = wine_red.loc[new_mask]\n",
    "red_sub"
   ]
  },
  {
   "cell_type": "code",
   "execution_count": 254,
   "metadata": {},
   "outputs": [
    {
     "data": {
      "image/png": "[encoded data removed]",
      "text/plain": [
       "<Figure size 432x288 with 1 Axes>"
      ]
     },
     "metadata": {
      "needs_background": "light"
     },
     "output_type": "display_data"
    }
   ],
   "source": [
    "#DUPLICATE\n",
    "plt.scatter(red_sub.points, red_sub.price, color = 'firebrick')\n",
    "plt.title('Points vs Price - Red Wine')\n",
    "plt.xlabel('Points')\n",
    "plt.ylabel('Price')\n",
    "plt.show()"
   ]
  },
  {
   "cell_type": "code",
   "execution_count": 235,
   "metadata": {},
   "outputs": [
    {
     "name": "stdout",
     "output_type": "stream",
     "text": [
      "         points    price\n",
      "points  1.00000  0.53865\n",
      "price   0.53865  1.00000\n"
     ]
    },
    {
     "data": {
      "image/png": "[encoded data removed]",
      "text/plain": [
       "<Figure size 432x288 with 2 Axes>"
      ]
     },
     "metadata": {
      "needs_background": "light"
     },
     "output_type": "display_data"
    }
   ],
   "source": [
    "#SHOW CHANGE IN CORRELATION IN REPORT\n",
    "print(red_sub[['points', 'price']].corr())\n",
    "sn.heatmap(red_sub[['points', 'price']].corr(),vmin=0, vmax=1)\n",
    "plt.show()"
   ]
  },
  {
   "cell_type": "code",
   "execution_count": 234,
   "metadata": {},
   "outputs": [
    {
     "name": "stdout",
     "output_type": "stream",
     "text": [
      "          points     price\n",
      "points  1.000000  0.474773\n",
      "price   0.474773  1.000000\n"
     ]
    },
    {
     "data": {
      "image/png": "[encoded data removed]",
      "text/plain": [
       "<Figure size 432x288 with 2 Axes>"
      ]
     },
     "metadata": {
      "needs_background": "light"
     },
     "output_type": "display_data"
    }
   ],
   "source": [
    "print(wine_red[['points', 'price']].corr())\n",
    "sn.heatmap(wine_red[['points', 'price']].corr(), vmin = 0, vmax = 1)\n",
    "plt.show()"
   ]
  },
  {
   "cell_type": "code",
   "execution_count": 56,
   "metadata": {},
   "outputs": [
    {
     "data": {
      "text/plain": [
       "32.84124487004104"
      ]
     },
     "execution_count": 56,
     "metadata": {},
     "output_type": "execute_result"
    }
   ],
   "source": [
    "red_sub.price.mean()"
   ]
  },
  {
   "cell_type": "code",
   "execution_count": 255,
   "metadata": {},
   "outputs": [
    {
     "data": {
      "image/png": "[encoded data removed]",
      "text/plain": [
       "<Figure size 432x288 with 1 Axes>"
      ]
     },
     "metadata": {
      "needs_background": "light"
     },
     "output_type": "display_data"
    }
   ],
   "source": [
    "#DUPLICATE\n",
    "plt.scatter(wine_white.points, wine_white.price)\n",
    "plt.title('Points vs Price - White Wine')\n",
    "plt.xlabel('Points')\n",
    "plt.ylabel('Price')\n",
    "plt.show()"
   ]
  },
  {
   "cell_type": "markdown",
   "metadata": {},
   "source": [
    "##### white_sub: dataframe trimming the top and bottom 2.5% from wine_white"
   ]
  },
  {
   "cell_type": "code",
   "execution_count": 58,
   "metadata": {},
   "outputs": [
    {
     "data": {
      "text/html": [
       "<div>\n",
       "<style scoped>\n",
       "    .dataframe tbody tr th:only-of-type {\n",
       "        vertical-align: middle;\n",
       "    }\n",
       "\n",
       "    .dataframe tbody tr th {\n",
       "        vertical-align: top;\n",
       "    }\n",
       "\n",
       "    .dataframe thead th {\n",
       "        text-align: right;\n",
       "    }\n",
       "</style>\n",
       "<table border=\"1\" class=\"dataframe\">\n",
       "  <thead>\n",
       "    <tr style=\"text-align: right;\">\n",
       "      <th></th>\n",
       "      <th>country</th>\n",
       "      <th>description</th>\n",
       "      <th>designation</th>\n",
       "      <th>points</th>\n",
       "      <th>price</th>\n",
       "      <th>province</th>\n",
       "      <th>region_1</th>\n",
       "      <th>region_2</th>\n",
       "      <th>variety</th>\n",
       "      <th>winery</th>\n",
       "      <th>Counts</th>\n",
       "      <th>Red?</th>\n",
       "      <th>Still_Red</th>\n",
       "    </tr>\n",
       "  </thead>\n",
       "  <tbody>\n",
       "    <tr>\n",
       "      <th>22</th>\n",
       "      <td>US</td>\n",
       "      <td>The apogee of this ambitious winery's white wi...</td>\n",
       "      <td>Giallo Solare</td>\n",
       "      <td>95</td>\n",
       "      <td>60.0</td>\n",
       "      <td>California</td>\n",
       "      <td>Edna Valley</td>\n",
       "      <td>Central Coast</td>\n",
       "      <td>Chardonnay</td>\n",
       "      <td>Center of Effort</td>\n",
       "      <td>13775.0</td>\n",
       "      <td>False</td>\n",
       "      <td>0</td>\n",
       "    </tr>\n",
       "    <tr>\n",
       "      <th>24</th>\n",
       "      <td>New Zealand</td>\n",
       "      <td>Yields were down in 2015, but intensity is up,...</td>\n",
       "      <td>Maté's Vineyard</td>\n",
       "      <td>94</td>\n",
       "      <td>57.0</td>\n",
       "      <td>Kumeu</td>\n",
       "      <td>NaN</td>\n",
       "      <td>NaN</td>\n",
       "      <td>Chardonnay</td>\n",
       "      <td>Kumeu River</td>\n",
       "      <td>13775.0</td>\n",
       "      <td>False</td>\n",
       "      <td>0</td>\n",
       "    </tr>\n",
       "    <tr>\n",
       "      <th>29</th>\n",
       "      <td>US</td>\n",
       "      <td>Steely and perfumed, this wine sees only 20% n...</td>\n",
       "      <td>Babushka</td>\n",
       "      <td>90</td>\n",
       "      <td>37.0</td>\n",
       "      <td>California</td>\n",
       "      <td>Russian River Valley</td>\n",
       "      <td>Sonoma</td>\n",
       "      <td>Chardonnay</td>\n",
       "      <td>Zepaltas</td>\n",
       "      <td>13775.0</td>\n",
       "      <td>False</td>\n",
       "      <td>0</td>\n",
       "    </tr>\n",
       "    <tr>\n",
       "      <th>31</th>\n",
       "      <td>US</td>\n",
       "      <td>The aromas entice with notes of wet stone, hon...</td>\n",
       "      <td>Conner Lee Vineyard</td>\n",
       "      <td>90</td>\n",
       "      <td>42.0</td>\n",
       "      <td>Washington</td>\n",
       "      <td>Columbia Valley (WA)</td>\n",
       "      <td>Columbia Valley</td>\n",
       "      <td>Chardonnay</td>\n",
       "      <td>Buty</td>\n",
       "      <td>13775.0</td>\n",
       "      <td>False</td>\n",
       "      <td>0</td>\n",
       "    </tr>\n",
       "    <tr>\n",
       "      <th>33</th>\n",
       "      <td>France</td>\n",
       "      <td>Gingery spice notes accent fresh pear and melo...</td>\n",
       "      <td>NaN</td>\n",
       "      <td>90</td>\n",
       "      <td>60.0</td>\n",
       "      <td>Rhône Valley</td>\n",
       "      <td>Châteauneuf-du-Pape</td>\n",
       "      <td>NaN</td>\n",
       "      <td>Rhône-style White Blend</td>\n",
       "      <td>Clos de L'Oratoire des Papes</td>\n",
       "      <td>407.0</td>\n",
       "      <td>False</td>\n",
       "      <td>0</td>\n",
       "    </tr>\n",
       "    <tr>\n",
       "      <th>...</th>\n",
       "      <td>...</td>\n",
       "      <td>...</td>\n",
       "      <td>...</td>\n",
       "      <td>...</td>\n",
       "      <td>...</td>\n",
       "      <td>...</td>\n",
       "      <td>...</td>\n",
       "      <td>...</td>\n",
       "      <td>...</td>\n",
       "      <td>...</td>\n",
       "      <td>...</td>\n",
       "      <td>...</td>\n",
       "      <td>...</td>\n",
       "    </tr>\n",
       "    <tr>\n",
       "      <th>134284</th>\n",
       "      <td>Italy</td>\n",
       "      <td>Many people feel Fiano represents southern Ita...</td>\n",
       "      <td>NaN</td>\n",
       "      <td>91</td>\n",
       "      <td>20.0</td>\n",
       "      <td>Southern Italy</td>\n",
       "      <td>Fiano di Avellino</td>\n",
       "      <td>NaN</td>\n",
       "      <td>White Blend</td>\n",
       "      <td>Feudi di San Gregorio</td>\n",
       "      <td>2554.0</td>\n",
       "      <td>False</td>\n",
       "      <td>0</td>\n",
       "    </tr>\n",
       "    <tr>\n",
       "      <th>134285</th>\n",
       "      <td>France</td>\n",
       "      <td>Offers an intriguing nose with ginger, lime an...</td>\n",
       "      <td>Cuvée Prestige</td>\n",
       "      <td>91</td>\n",
       "      <td>27.0</td>\n",
       "      <td>Champagne</td>\n",
       "      <td>Champagne</td>\n",
       "      <td>NaN</td>\n",
       "      <td>Champagne Blend</td>\n",
       "      <td>H.Germain</td>\n",
       "      <td>1003.0</td>\n",
       "      <td>False</td>\n",
       "      <td>0</td>\n",
       "    </tr>\n",
       "    <tr>\n",
       "      <th>134286</th>\n",
       "      <td>Italy</td>\n",
       "      <td>This classic example comes from a cru vineyard...</td>\n",
       "      <td>Terre di Dora</td>\n",
       "      <td>91</td>\n",
       "      <td>20.0</td>\n",
       "      <td>Southern Italy</td>\n",
       "      <td>Fiano di Avellino</td>\n",
       "      <td>NaN</td>\n",
       "      <td>White Blend</td>\n",
       "      <td>Terredora</td>\n",
       "      <td>2554.0</td>\n",
       "      <td>False</td>\n",
       "      <td>0</td>\n",
       "    </tr>\n",
       "    <tr>\n",
       "      <th>134287</th>\n",
       "      <td>France</td>\n",
       "      <td>A perfect salmon shade, with scents of peaches...</td>\n",
       "      <td>Grand Brut Rosé</td>\n",
       "      <td>90</td>\n",
       "      <td>52.0</td>\n",
       "      <td>Champagne</td>\n",
       "      <td>Champagne</td>\n",
       "      <td>NaN</td>\n",
       "      <td>Champagne Blend</td>\n",
       "      <td>Gosset</td>\n",
       "      <td>1003.0</td>\n",
       "      <td>False</td>\n",
       "      <td>0</td>\n",
       "    </tr>\n",
       "    <tr>\n",
       "      <th>134288</th>\n",
       "      <td>Italy</td>\n",
       "      <td>More Pinot Grigios should taste like this. A r...</td>\n",
       "      <td>NaN</td>\n",
       "      <td>90</td>\n",
       "      <td>15.0</td>\n",
       "      <td>Northeastern Italy</td>\n",
       "      <td>Alto Adige</td>\n",
       "      <td>NaN</td>\n",
       "      <td>Pinot Grigio</td>\n",
       "      <td>Alois Lageder</td>\n",
       "      <td>1270.0</td>\n",
       "      <td>False</td>\n",
       "      <td>0</td>\n",
       "    </tr>\n",
       "  </tbody>\n",
       "</table>\n",
       "<p>38864 rows × 13 columns</p>\n",
       "</div>"
      ],
      "text/plain": [
       "            country                                        description  \\\n",
       "22               US  The apogee of this ambitious winery's white wi...   \n",
       "24      New Zealand  Yields were down in 2015, but intensity is up,...   \n",
       "29               US  Steely and perfumed, this wine sees only 20% n...   \n",
       "31               US  The aromas entice with notes of wet stone, hon...   \n",
       "33           France  Gingery spice notes accent fresh pear and melo...   \n",
       "...             ...                                                ...   \n",
       "134284        Italy  Many people feel Fiano represents southern Ita...   \n",
       "134285       France  Offers an intriguing nose with ginger, lime an...   \n",
       "134286        Italy  This classic example comes from a cru vineyard...   \n",
       "134287       France  A perfect salmon shade, with scents of peaches...   \n",
       "134288        Italy  More Pinot Grigios should taste like this. A r...   \n",
       "\n",
       "                designation  points  price            province  \\\n",
       "22            Giallo Solare      95   60.0          California   \n",
       "24          Maté's Vineyard      94   57.0               Kumeu   \n",
       "29                 Babushka      90   37.0          California   \n",
       "31      Conner Lee Vineyard      90   42.0          Washington   \n",
       "33                      NaN      90   60.0        Rhône Valley   \n",
       "...                     ...     ...    ...                 ...   \n",
       "134284                  NaN      91   20.0      Southern Italy   \n",
       "134285       Cuvée Prestige      91   27.0           Champagne   \n",
       "134286        Terre di Dora      91   20.0      Southern Italy   \n",
       "134287      Grand Brut Rosé      90   52.0           Champagne   \n",
       "134288                  NaN      90   15.0  Northeastern Italy   \n",
       "\n",
       "                    region_1         region_2                  variety  \\\n",
       "22               Edna Valley    Central Coast               Chardonnay   \n",
       "24                       NaN              NaN               Chardonnay   \n",
       "29      Russian River Valley           Sonoma               Chardonnay   \n",
       "31      Columbia Valley (WA)  Columbia Valley               Chardonnay   \n",
       "33       Châteauneuf-du-Pape              NaN  Rhône-style White Blend   \n",
       "...                      ...              ...                      ...   \n",
       "134284     Fiano di Avellino              NaN              White Blend   \n",
       "134285             Champagne              NaN          Champagne Blend   \n",
       "134286     Fiano di Avellino              NaN              White Blend   \n",
       "134287             Champagne              NaN          Champagne Blend   \n",
       "134288            Alto Adige              NaN             Pinot Grigio   \n",
       "\n",
       "                              winery   Counts   Red?  Still_Red  \n",
       "22                  Center of Effort  13775.0  False          0  \n",
       "24                       Kumeu River  13775.0  False          0  \n",
       "29                          Zepaltas  13775.0  False          0  \n",
       "31                              Buty  13775.0  False          0  \n",
       "33      Clos de L'Oratoire des Papes    407.0  False          0  \n",
       "...                              ...      ...    ...        ...  \n",
       "134284         Feudi di San Gregorio   2554.0  False          0  \n",
       "134285                     H.Germain   1003.0  False          0  \n",
       "134286                     Terredora   2554.0  False          0  \n",
       "134287                        Gosset   1003.0  False          0  \n",
       "134288                 Alois Lageder   1270.0  False          0  \n",
       "\n",
       "[38864 rows x 13 columns]"
      ]
     },
     "execution_count": 58,
     "metadata": {},
     "output_type": "execute_result"
    }
   ],
   "source": [
    "new_mask2 = (wine_white.price > np.quantile(wine_white.price, 0.025)) & (wine_white.price < np.quantile(wine_white.price, 0.975))\n",
    "\n",
    "white_sub = wine_white.loc[new_mask2]\n",
    "white_sub"
   ]
  },
  {
   "cell_type": "code",
   "execution_count": 233,
   "metadata": {},
   "outputs": [
    {
     "name": "stdout",
     "output_type": "stream",
     "text": [
      "          points     price\n",
      "points  1.000000  0.536413\n",
      "price   0.536413  1.000000\n"
     ]
    },
    {
     "data": {
      "image/png": "[encoded data removed]",
      "text/plain": [
       "<Figure size 432x288 with 2 Axes>"
      ]
     },
     "metadata": {
      "needs_background": "light"
     },
     "output_type": "display_data"
    }
   ],
   "source": [
    "print(white_sub[['points', 'price']].corr())\n",
    "sn.heatmap(white_sub[['points', 'price']].corr(),vmin=0,vmax=1)\n",
    "plt.show()"
   ]
  },
  {
   "cell_type": "code",
   "execution_count": 239,
   "metadata": {},
   "outputs": [
    {
     "data": {
      "text/html": [
       "<div>\n",
       "<style scoped>\n",
       "    .dataframe tbody tr th:only-of-type {\n",
       "        vertical-align: middle;\n",
       "    }\n",
       "\n",
       "    .dataframe tbody tr th {\n",
       "        vertical-align: top;\n",
       "    }\n",
       "\n",
       "    .dataframe thead th {\n",
       "        text-align: right;\n",
       "    }\n",
       "</style>\n",
       "<table border=\"1\" class=\"dataframe\">\n",
       "  <thead>\n",
       "    <tr style=\"text-align: right;\">\n",
       "      <th></th>\n",
       "      <th>points</th>\n",
       "      <th>price</th>\n",
       "    </tr>\n",
       "  </thead>\n",
       "  <tbody>\n",
       "    <tr>\n",
       "      <th>points</th>\n",
       "      <td>1.000000</td>\n",
       "      <td>0.414576</td>\n",
       "    </tr>\n",
       "    <tr>\n",
       "      <th>price</th>\n",
       "      <td>0.414576</td>\n",
       "      <td>1.000000</td>\n",
       "    </tr>\n",
       "  </tbody>\n",
       "</table>\n",
       "</div>"
      ],
      "text/plain": [
       "          points     price\n",
       "points  1.000000  0.414576\n",
       "price   0.414576  1.000000"
      ]
     },
     "execution_count": 239,
     "metadata": {},
     "output_type": "execute_result"
    }
   ],
   "source": [
    "wine_white[['points', 'price']].corr()"
   ]
  },
  {
   "cell_type": "code",
   "execution_count": 61,
   "metadata": {},
   "outputs": [
    {
     "data": {
      "text/plain": [
       "23.84170440510498"
      ]
     },
     "execution_count": 61,
     "metadata": {},
     "output_type": "execute_result"
    }
   ],
   "source": [
    "white_sub.price.mean()"
   ]
  },
  {
   "cell_type": "code",
   "execution_count": 62,
   "metadata": {},
   "outputs": [
    {
     "data": {
      "text/html": [
       "<div>\n",
       "<style scoped>\n",
       "    .dataframe tbody tr th:only-of-type {\n",
       "        vertical-align: middle;\n",
       "    }\n",
       "\n",
       "    .dataframe tbody tr th {\n",
       "        vertical-align: top;\n",
       "    }\n",
       "\n",
       "    .dataframe thead th {\n",
       "        text-align: right;\n",
       "    }\n",
       "</style>\n",
       "<table border=\"1\" class=\"dataframe\">\n",
       "  <thead>\n",
       "    <tr style=\"text-align: right;\">\n",
       "      <th></th>\n",
       "      <th>country</th>\n",
       "      <th>description</th>\n",
       "      <th>designation</th>\n",
       "      <th>points</th>\n",
       "      <th>price</th>\n",
       "      <th>province</th>\n",
       "      <th>region_1</th>\n",
       "      <th>region_2</th>\n",
       "      <th>variety</th>\n",
       "      <th>winery</th>\n",
       "      <th>Counts</th>\n",
       "      <th>Red?</th>\n",
       "      <th>Still_Red</th>\n",
       "    </tr>\n",
       "  </thead>\n",
       "  <tbody>\n",
       "    <tr>\n",
       "      <th>3</th>\n",
       "      <td>US</td>\n",
       "      <td>This spent 20 months in 30% new French oak, an...</td>\n",
       "      <td>Reserve</td>\n",
       "      <td>96</td>\n",
       "      <td>65.0</td>\n",
       "      <td>Oregon</td>\n",
       "      <td>Willamette Valley</td>\n",
       "      <td>Willamette Valley</td>\n",
       "      <td>Pinot Noir</td>\n",
       "      <td>Ponzi</td>\n",
       "      <td>13625.0</td>\n",
       "      <td>True</td>\n",
       "      <td>1</td>\n",
       "    </tr>\n",
       "    <tr>\n",
       "      <th>4</th>\n",
       "      <td>Spain</td>\n",
       "      <td>Deep, dense and pure from the opening bell, th...</td>\n",
       "      <td>Numanthia</td>\n",
       "      <td>95</td>\n",
       "      <td>73.0</td>\n",
       "      <td>Northern Spain</td>\n",
       "      <td>Toro</td>\n",
       "      <td>NaN</td>\n",
       "      <td>Tinta de Toro</td>\n",
       "      <td>Numanthia</td>\n",
       "      <td>221.0</td>\n",
       "      <td>True</td>\n",
       "      <td>1</td>\n",
       "    </tr>\n",
       "    <tr>\n",
       "      <th>5</th>\n",
       "      <td>Spain</td>\n",
       "      <td>Slightly gritty black-fruit aromas include a s...</td>\n",
       "      <td>San Román</td>\n",
       "      <td>95</td>\n",
       "      <td>65.0</td>\n",
       "      <td>Northern Spain</td>\n",
       "      <td>Toro</td>\n",
       "      <td>NaN</td>\n",
       "      <td>Tinta de Toro</td>\n",
       "      <td>Maurodos</td>\n",
       "      <td>221.0</td>\n",
       "      <td>True</td>\n",
       "      <td>1</td>\n",
       "    </tr>\n",
       "    <tr>\n",
       "      <th>7</th>\n",
       "      <td>US</td>\n",
       "      <td>This re-named vineyard was formerly bottled as...</td>\n",
       "      <td>Silice</td>\n",
       "      <td>95</td>\n",
       "      <td>65.0</td>\n",
       "      <td>Oregon</td>\n",
       "      <td>Chehalem Mountains</td>\n",
       "      <td>Willamette Valley</td>\n",
       "      <td>Pinot Noir</td>\n",
       "      <td>Bergström</td>\n",
       "      <td>13625.0</td>\n",
       "      <td>True</td>\n",
       "      <td>1</td>\n",
       "    </tr>\n",
       "    <tr>\n",
       "      <th>8</th>\n",
       "      <td>US</td>\n",
       "      <td>The producer sources from two blocks of the vi...</td>\n",
       "      <td>Gap's Crown Vineyard</td>\n",
       "      <td>95</td>\n",
       "      <td>60.0</td>\n",
       "      <td>California</td>\n",
       "      <td>Sonoma Coast</td>\n",
       "      <td>Sonoma</td>\n",
       "      <td>Pinot Noir</td>\n",
       "      <td>Blue Farm</td>\n",
       "      <td>13625.0</td>\n",
       "      <td>True</td>\n",
       "      <td>1</td>\n",
       "    </tr>\n",
       "    <tr>\n",
       "      <th>...</th>\n",
       "      <td>...</td>\n",
       "      <td>...</td>\n",
       "      <td>...</td>\n",
       "      <td>...</td>\n",
       "      <td>...</td>\n",
       "      <td>...</td>\n",
       "      <td>...</td>\n",
       "      <td>...</td>\n",
       "      <td>...</td>\n",
       "      <td>...</td>\n",
       "      <td>...</td>\n",
       "      <td>...</td>\n",
       "      <td>...</td>\n",
       "    </tr>\n",
       "    <tr>\n",
       "      <th>134284</th>\n",
       "      <td>Italy</td>\n",
       "      <td>Many people feel Fiano represents southern Ita...</td>\n",
       "      <td>NaN</td>\n",
       "      <td>91</td>\n",
       "      <td>20.0</td>\n",
       "      <td>Southern Italy</td>\n",
       "      <td>Fiano di Avellino</td>\n",
       "      <td>NaN</td>\n",
       "      <td>White Blend</td>\n",
       "      <td>Feudi di San Gregorio</td>\n",
       "      <td>2554.0</td>\n",
       "      <td>False</td>\n",
       "      <td>0</td>\n",
       "    </tr>\n",
       "    <tr>\n",
       "      <th>134285</th>\n",
       "      <td>France</td>\n",
       "      <td>Offers an intriguing nose with ginger, lime an...</td>\n",
       "      <td>Cuvée Prestige</td>\n",
       "      <td>91</td>\n",
       "      <td>27.0</td>\n",
       "      <td>Champagne</td>\n",
       "      <td>Champagne</td>\n",
       "      <td>NaN</td>\n",
       "      <td>Champagne Blend</td>\n",
       "      <td>H.Germain</td>\n",
       "      <td>1003.0</td>\n",
       "      <td>False</td>\n",
       "      <td>0</td>\n",
       "    </tr>\n",
       "    <tr>\n",
       "      <th>134286</th>\n",
       "      <td>Italy</td>\n",
       "      <td>This classic example comes from a cru vineyard...</td>\n",
       "      <td>Terre di Dora</td>\n",
       "      <td>91</td>\n",
       "      <td>20.0</td>\n",
       "      <td>Southern Italy</td>\n",
       "      <td>Fiano di Avellino</td>\n",
       "      <td>NaN</td>\n",
       "      <td>White Blend</td>\n",
       "      <td>Terredora</td>\n",
       "      <td>2554.0</td>\n",
       "      <td>False</td>\n",
       "      <td>0</td>\n",
       "    </tr>\n",
       "    <tr>\n",
       "      <th>134287</th>\n",
       "      <td>France</td>\n",
       "      <td>A perfect salmon shade, with scents of peaches...</td>\n",
       "      <td>Grand Brut Rosé</td>\n",
       "      <td>90</td>\n",
       "      <td>52.0</td>\n",
       "      <td>Champagne</td>\n",
       "      <td>Champagne</td>\n",
       "      <td>NaN</td>\n",
       "      <td>Champagne Blend</td>\n",
       "      <td>Gosset</td>\n",
       "      <td>1003.0</td>\n",
       "      <td>False</td>\n",
       "      <td>0</td>\n",
       "    </tr>\n",
       "    <tr>\n",
       "      <th>134288</th>\n",
       "      <td>Italy</td>\n",
       "      <td>More Pinot Grigios should taste like this. A r...</td>\n",
       "      <td>NaN</td>\n",
       "      <td>90</td>\n",
       "      <td>15.0</td>\n",
       "      <td>Northeastern Italy</td>\n",
       "      <td>Alto Adige</td>\n",
       "      <td>NaN</td>\n",
       "      <td>Pinot Grigio</td>\n",
       "      <td>Alois Lageder</td>\n",
       "      <td>1270.0</td>\n",
       "      <td>False</td>\n",
       "      <td>0</td>\n",
       "    </tr>\n",
       "  </tbody>\n",
       "</table>\n",
       "<p>126584 rows × 13 columns</p>\n",
       "</div>"
      ],
      "text/plain": [
       "       country                                        description  \\\n",
       "3           US  This spent 20 months in 30% new French oak, an...   \n",
       "4        Spain  Deep, dense and pure from the opening bell, th...   \n",
       "5        Spain  Slightly gritty black-fruit aromas include a s...   \n",
       "7           US  This re-named vineyard was formerly bottled as...   \n",
       "8           US  The producer sources from two blocks of the vi...   \n",
       "...        ...                                                ...   \n",
       "134284   Italy  Many people feel Fiano represents southern Ita...   \n",
       "134285  France  Offers an intriguing nose with ginger, lime an...   \n",
       "134286   Italy  This classic example comes from a cru vineyard...   \n",
       "134287  France  A perfect salmon shade, with scents of peaches...   \n",
       "134288   Italy  More Pinot Grigios should taste like this. A r...   \n",
       "\n",
       "                 designation  points  price            province  \\\n",
       "3                    Reserve      96   65.0              Oregon   \n",
       "4                  Numanthia      95   73.0      Northern Spain   \n",
       "5                  San Román      95   65.0      Northern Spain   \n",
       "7                     Silice      95   65.0              Oregon   \n",
       "8       Gap's Crown Vineyard      95   60.0          California   \n",
       "...                      ...     ...    ...                 ...   \n",
       "134284                   NaN      91   20.0      Southern Italy   \n",
       "134285        Cuvée Prestige      91   27.0           Champagne   \n",
       "134286         Terre di Dora      91   20.0      Southern Italy   \n",
       "134287       Grand Brut Rosé      90   52.0           Champagne   \n",
       "134288                   NaN      90   15.0  Northeastern Italy   \n",
       "\n",
       "                  region_1           region_2          variety  \\\n",
       "3        Willamette Valley  Willamette Valley       Pinot Noir   \n",
       "4                     Toro                NaN    Tinta de Toro   \n",
       "5                     Toro                NaN    Tinta de Toro   \n",
       "7       Chehalem Mountains  Willamette Valley       Pinot Noir   \n",
       "8             Sonoma Coast             Sonoma       Pinot Noir   \n",
       "...                    ...                ...              ...   \n",
       "134284   Fiano di Avellino                NaN      White Blend   \n",
       "134285           Champagne                NaN  Champagne Blend   \n",
       "134286   Fiano di Avellino                NaN      White Blend   \n",
       "134287           Champagne                NaN  Champagne Blend   \n",
       "134288          Alto Adige                NaN     Pinot Grigio   \n",
       "\n",
       "                       winery   Counts   Red?  Still_Red  \n",
       "3                       Ponzi  13625.0   True          1  \n",
       "4                   Numanthia    221.0   True          1  \n",
       "5                    Maurodos    221.0   True          1  \n",
       "7                   Bergström  13625.0   True          1  \n",
       "8                   Blue Farm  13625.0   True          1  \n",
       "...                       ...      ...    ...        ...  \n",
       "134284  Feudi di San Gregorio   2554.0  False          0  \n",
       "134285              H.Germain   1003.0  False          0  \n",
       "134286              Terredora   2554.0  False          0  \n",
       "134287                 Gosset   1003.0  False          0  \n",
       "134288          Alois Lageder   1270.0  False          0  \n",
       "\n",
       "[126584 rows x 13 columns]"
      ]
     },
     "execution_count": 62,
     "metadata": {},
     "output_type": "execute_result"
    }
   ],
   "source": [
    "wine_sub = red_sub.append(white_sub)\n",
    "wine_sub"
   ]
  },
  {
   "cell_type": "code",
   "execution_count": 242,
   "metadata": {},
   "outputs": [
    {
     "name": "stdout",
     "output_type": "stream",
     "text": [
      "             points     price    Counts  Still_Red\n",
      "points     1.000000  0.535937  0.066897   0.070902\n",
      "price      0.535937  1.000000  0.184860   0.222282\n",
      "Counts     0.066897  0.184860  1.000000  -0.025279\n",
      "Still_Red  0.070902  0.222282 -0.025279   1.000000\n"
     ]
    },
    {
     "data": {
      "image/png": "[encoded data removed]",
      "text/plain": [
       "<Figure size 432x288 with 2 Axes>"
      ]
     },
     "metadata": {
      "needs_background": "light"
     },
     "output_type": "display_data"
    }
   ],
   "source": [
    "sn.heatmap(wine_sub.corr(), vmin=0, vmax=1)\n",
    "plt.title('Correlations - Trimmed Data')\n",
    "print(wine_sub.corr())"
   ]
  },
  {
   "cell_type": "code",
   "execution_count": 64,
   "metadata": {},
   "outputs": [
    {
     "data": {
      "text/html": [
       "<div>\n",
       "<style scoped>\n",
       "    .dataframe tbody tr th:only-of-type {\n",
       "        vertical-align: middle;\n",
       "    }\n",
       "\n",
       "    .dataframe tbody tr th {\n",
       "        vertical-align: top;\n",
       "    }\n",
       "\n",
       "    .dataframe thead th {\n",
       "        text-align: right;\n",
       "    }\n",
       "</style>\n",
       "<table border=\"1\" class=\"dataframe\">\n",
       "  <thead>\n",
       "    <tr style=\"text-align: right;\">\n",
       "      <th></th>\n",
       "      <th>points</th>\n",
       "      <th>price</th>\n",
       "      <th>Counts</th>\n",
       "      <th>Still_Red</th>\n",
       "    </tr>\n",
       "  </thead>\n",
       "  <tbody>\n",
       "    <tr>\n",
       "      <th>count</th>\n",
       "      <td>126584.000000</td>\n",
       "      <td>126584.000000</td>\n",
       "      <td>126584.000000</td>\n",
       "      <td>126584.000000</td>\n",
       "    </tr>\n",
       "    <tr>\n",
       "      <th>mean</th>\n",
       "      <td>87.767245</td>\n",
       "      <td>30.078193</td>\n",
       "      <td>6363.028124</td>\n",
       "      <td>0.692979</td>\n",
       "    </tr>\n",
       "    <tr>\n",
       "      <th>std</th>\n",
       "      <td>3.093177</td>\n",
       "      <td>18.675083</td>\n",
       "      <td>5155.713547</td>\n",
       "      <td>0.461260</td>\n",
       "    </tr>\n",
       "    <tr>\n",
       "      <th>min</th>\n",
       "      <td>80.000000</td>\n",
       "      <td>9.000000</td>\n",
       "      <td>30.000000</td>\n",
       "      <td>0.000000</td>\n",
       "    </tr>\n",
       "    <tr>\n",
       "      <th>25%</th>\n",
       "      <td>86.000000</td>\n",
       "      <td>16.000000</td>\n",
       "      <td>1455.000000</td>\n",
       "      <td>0.000000</td>\n",
       "    </tr>\n",
       "    <tr>\n",
       "      <th>50%</th>\n",
       "      <td>88.000000</td>\n",
       "      <td>25.000000</td>\n",
       "      <td>4987.000000</td>\n",
       "      <td>1.000000</td>\n",
       "    </tr>\n",
       "    <tr>\n",
       "      <th>75%</th>\n",
       "      <td>90.000000</td>\n",
       "      <td>39.000000</td>\n",
       "      <td>12671.000000</td>\n",
       "      <td>1.000000</td>\n",
       "    </tr>\n",
       "    <tr>\n",
       "      <th>max</th>\n",
       "      <td>100.000000</td>\n",
       "      <td>109.000000</td>\n",
       "      <td>13775.000000</td>\n",
       "      <td>1.000000</td>\n",
       "    </tr>\n",
       "  </tbody>\n",
       "</table>\n",
       "</div>"
      ],
      "text/plain": [
       "              points          price         Counts      Still_Red\n",
       "count  126584.000000  126584.000000  126584.000000  126584.000000\n",
       "mean       87.767245      30.078193    6363.028124       0.692979\n",
       "std         3.093177      18.675083    5155.713547       0.461260\n",
       "min        80.000000       9.000000      30.000000       0.000000\n",
       "25%        86.000000      16.000000    1455.000000       0.000000\n",
       "50%        88.000000      25.000000    4987.000000       1.000000\n",
       "75%        90.000000      39.000000   12671.000000       1.000000\n",
       "max       100.000000     109.000000   13775.000000       1.000000"
      ]
     },
     "execution_count": 64,
     "metadata": {},
     "output_type": "execute_result"
    }
   ],
   "source": [
    "wine_sub.describe()"
   ]
  },
  {
   "cell_type": "code",
   "execution_count": 65,
   "metadata": {},
   "outputs": [],
   "source": [
    "#get the top ten wine producing countries\n",
    "mask9 = wine_sub.country.isin(wine_sub.country.value_counts().index[0:9])\n",
    "top_wines = wine_sub.loc[mask9]\n",
    "\n",
    "#select specific data points\n",
    "select_wines = top_wines[[ 'points', 'price', 'Still_Red']]\n",
    "\n",
    "#dummify the countries - 1 if the wine is from X country, 0 if it isn't\n",
    "dummy_wines = pd.get_dummies(top_wines.country)"
   ]
  },
  {
   "cell_type": "code",
   "execution_count": 66,
   "metadata": {},
   "outputs": [
    {
     "data": {
      "text/html": [
       "<div>\n",
       "<style scoped>\n",
       "    .dataframe tbody tr th:only-of-type {\n",
       "        vertical-align: middle;\n",
       "    }\n",
       "\n",
       "    .dataframe tbody tr th {\n",
       "        vertical-align: top;\n",
       "    }\n",
       "\n",
       "    .dataframe thead th {\n",
       "        text-align: right;\n",
       "    }\n",
       "</style>\n",
       "<table border=\"1\" class=\"dataframe\">\n",
       "  <thead>\n",
       "    <tr style=\"text-align: right;\">\n",
       "      <th></th>\n",
       "      <th>points</th>\n",
       "      <th>price</th>\n",
       "      <th>Still_Red</th>\n",
       "      <th>Argentina</th>\n",
       "      <th>Australia</th>\n",
       "      <th>Chile</th>\n",
       "      <th>France</th>\n",
       "      <th>Italy</th>\n",
       "      <th>New Zealand</th>\n",
       "      <th>Portugal</th>\n",
       "      <th>Spain</th>\n",
       "      <th>US</th>\n",
       "    </tr>\n",
       "  </thead>\n",
       "  <tbody>\n",
       "    <tr>\n",
       "      <th>points</th>\n",
       "      <td>1.000000</td>\n",
       "      <td>0.539262</td>\n",
       "      <td>0.082539</td>\n",
       "      <td>-0.110656</td>\n",
       "      <td>0.008028</td>\n",
       "      <td>-0.087819</td>\n",
       "      <td>0.052769</td>\n",
       "      <td>0.080276</td>\n",
       "      <td>-0.011449</td>\n",
       "      <td>0.041109</td>\n",
       "      <td>-0.079011</td>\n",
       "      <td>0.014230</td>\n",
       "    </tr>\n",
       "    <tr>\n",
       "      <th>price</th>\n",
       "      <td>0.539262</td>\n",
       "      <td>1.000000</td>\n",
       "      <td>0.230951</td>\n",
       "      <td>-0.112325</td>\n",
       "      <td>-0.029218</td>\n",
       "      <td>-0.122933</td>\n",
       "      <td>0.024949</td>\n",
       "      <td>0.069351</td>\n",
       "      <td>-0.054175</td>\n",
       "      <td>-0.042771</td>\n",
       "      <td>-0.077625</td>\n",
       "      <td>0.109578</td>\n",
       "    </tr>\n",
       "    <tr>\n",
       "      <th>Still_Red</th>\n",
       "      <td>0.082539</td>\n",
       "      <td>0.230951</td>\n",
       "      <td>1.000000</td>\n",
       "      <td>0.068105</td>\n",
       "      <td>-0.008425</td>\n",
       "      <td>0.000460</td>\n",
       "      <td>-0.111275</td>\n",
       "      <td>0.018708</td>\n",
       "      <td>-0.121567</td>\n",
       "      <td>0.023034</td>\n",
       "      <td>0.068709</td>\n",
       "      <td>0.030987</td>\n",
       "    </tr>\n",
       "    <tr>\n",
       "      <th>Argentina</th>\n",
       "      <td>-0.110656</td>\n",
       "      <td>-0.112325</td>\n",
       "      <td>0.068105</td>\n",
       "      <td>1.000000</td>\n",
       "      <td>-0.041730</td>\n",
       "      <td>-0.044770</td>\n",
       "      <td>-0.073815</td>\n",
       "      <td>-0.087001</td>\n",
       "      <td>-0.034249</td>\n",
       "      <td>-0.036032</td>\n",
       "      <td>-0.052014</td>\n",
       "      <td>-0.212660</td>\n",
       "    </tr>\n",
       "    <tr>\n",
       "      <th>Australia</th>\n",
       "      <td>0.008028</td>\n",
       "      <td>-0.029218</td>\n",
       "      <td>-0.008425</td>\n",
       "      <td>-0.041730</td>\n",
       "      <td>1.000000</td>\n",
       "      <td>-0.042449</td>\n",
       "      <td>-0.069988</td>\n",
       "      <td>-0.082491</td>\n",
       "      <td>-0.032473</td>\n",
       "      <td>-0.034164</td>\n",
       "      <td>-0.049317</td>\n",
       "      <td>-0.201635</td>\n",
       "    </tr>\n",
       "    <tr>\n",
       "      <th>Chile</th>\n",
       "      <td>-0.087819</td>\n",
       "      <td>-0.122933</td>\n",
       "      <td>0.000460</td>\n",
       "      <td>-0.044770</td>\n",
       "      <td>-0.042449</td>\n",
       "      <td>1.000000</td>\n",
       "      <td>-0.075088</td>\n",
       "      <td>-0.088501</td>\n",
       "      <td>-0.034839</td>\n",
       "      <td>-0.036653</td>\n",
       "      <td>-0.052910</td>\n",
       "      <td>-0.216326</td>\n",
       "    </tr>\n",
       "    <tr>\n",
       "      <th>France</th>\n",
       "      <td>0.052769</td>\n",
       "      <td>0.024949</td>\n",
       "      <td>-0.111275</td>\n",
       "      <td>-0.073815</td>\n",
       "      <td>-0.069988</td>\n",
       "      <td>-0.075088</td>\n",
       "      <td>1.000000</td>\n",
       "      <td>-0.145916</td>\n",
       "      <td>-0.057441</td>\n",
       "      <td>-0.060432</td>\n",
       "      <td>-0.087236</td>\n",
       "      <td>-0.356666</td>\n",
       "    </tr>\n",
       "    <tr>\n",
       "      <th>Italy</th>\n",
       "      <td>0.080276</td>\n",
       "      <td>0.069351</td>\n",
       "      <td>0.018708</td>\n",
       "      <td>-0.087001</td>\n",
       "      <td>-0.082491</td>\n",
       "      <td>-0.088501</td>\n",
       "      <td>-0.145916</td>\n",
       "      <td>1.000000</td>\n",
       "      <td>-0.067703</td>\n",
       "      <td>-0.071227</td>\n",
       "      <td>-0.102819</td>\n",
       "      <td>-0.420380</td>\n",
       "    </tr>\n",
       "    <tr>\n",
       "      <th>New Zealand</th>\n",
       "      <td>-0.011449</td>\n",
       "      <td>-0.054175</td>\n",
       "      <td>-0.121567</td>\n",
       "      <td>-0.034249</td>\n",
       "      <td>-0.032473</td>\n",
       "      <td>-0.034839</td>\n",
       "      <td>-0.057441</td>\n",
       "      <td>-0.067703</td>\n",
       "      <td>1.000000</td>\n",
       "      <td>-0.028039</td>\n",
       "      <td>-0.040476</td>\n",
       "      <td>-0.165488</td>\n",
       "    </tr>\n",
       "    <tr>\n",
       "      <th>Portugal</th>\n",
       "      <td>0.041109</td>\n",
       "      <td>-0.042771</td>\n",
       "      <td>0.023034</td>\n",
       "      <td>-0.036032</td>\n",
       "      <td>-0.034164</td>\n",
       "      <td>-0.036653</td>\n",
       "      <td>-0.060432</td>\n",
       "      <td>-0.071227</td>\n",
       "      <td>-0.028039</td>\n",
       "      <td>1.000000</td>\n",
       "      <td>-0.042583</td>\n",
       "      <td>-0.174102</td>\n",
       "    </tr>\n",
       "    <tr>\n",
       "      <th>Spain</th>\n",
       "      <td>-0.079011</td>\n",
       "      <td>-0.077625</td>\n",
       "      <td>0.068709</td>\n",
       "      <td>-0.052014</td>\n",
       "      <td>-0.049317</td>\n",
       "      <td>-0.052910</td>\n",
       "      <td>-0.087236</td>\n",
       "      <td>-0.102819</td>\n",
       "      <td>-0.040476</td>\n",
       "      <td>-0.042583</td>\n",
       "      <td>1.000000</td>\n",
       "      <td>-0.251325</td>\n",
       "    </tr>\n",
       "    <tr>\n",
       "      <th>US</th>\n",
       "      <td>0.014230</td>\n",
       "      <td>0.109578</td>\n",
       "      <td>0.030987</td>\n",
       "      <td>-0.212660</td>\n",
       "      <td>-0.201635</td>\n",
       "      <td>-0.216326</td>\n",
       "      <td>-0.356666</td>\n",
       "      <td>-0.420380</td>\n",
       "      <td>-0.165488</td>\n",
       "      <td>-0.174102</td>\n",
       "      <td>-0.251325</td>\n",
       "      <td>1.000000</td>\n",
       "    </tr>\n",
       "  </tbody>\n",
       "</table>\n",
       "</div>"
      ],
      "text/plain": [
       "               points     price  Still_Red  Argentina  Australia     Chile  \\\n",
       "points       1.000000  0.539262   0.082539  -0.110656   0.008028 -0.087819   \n",
       "price        0.539262  1.000000   0.230951  -0.112325  -0.029218 -0.122933   \n",
       "Still_Red    0.082539  0.230951   1.000000   0.068105  -0.008425  0.000460   \n",
       "Argentina   -0.110656 -0.112325   0.068105   1.000000  -0.041730 -0.044770   \n",
       "Australia    0.008028 -0.029218  -0.008425  -0.041730   1.000000 -0.042449   \n",
       "Chile       -0.087819 -0.122933   0.000460  -0.044770  -0.042449  1.000000   \n",
       "France       0.052769  0.024949  -0.111275  -0.073815  -0.069988 -0.075088   \n",
       "Italy        0.080276  0.069351   0.018708  -0.087001  -0.082491 -0.088501   \n",
       "New Zealand -0.011449 -0.054175  -0.121567  -0.034249  -0.032473 -0.034839   \n",
       "Portugal     0.041109 -0.042771   0.023034  -0.036032  -0.034164 -0.036653   \n",
       "Spain       -0.079011 -0.077625   0.068709  -0.052014  -0.049317 -0.052910   \n",
       "US           0.014230  0.109578   0.030987  -0.212660  -0.201635 -0.216326   \n",
       "\n",
       "               France     Italy  New Zealand  Portugal     Spain        US  \n",
       "points       0.052769  0.080276    -0.011449  0.041109 -0.079011  0.014230  \n",
       "price        0.024949  0.069351    -0.054175 -0.042771 -0.077625  0.109578  \n",
       "Still_Red   -0.111275  0.018708    -0.121567  0.023034  0.068709  0.030987  \n",
       "Argentina   -0.073815 -0.087001    -0.034249 -0.036032 -0.052014 -0.212660  \n",
       "Australia   -0.069988 -0.082491    -0.032473 -0.034164 -0.049317 -0.201635  \n",
       "Chile       -0.075088 -0.088501    -0.034839 -0.036653 -0.052910 -0.216326  \n",
       "France       1.000000 -0.145916    -0.057441 -0.060432 -0.087236 -0.356666  \n",
       "Italy       -0.145916  1.000000    -0.067703 -0.071227 -0.102819 -0.420380  \n",
       "New Zealand -0.057441 -0.067703     1.000000 -0.028039 -0.040476 -0.165488  \n",
       "Portugal    -0.060432 -0.071227    -0.028039  1.000000 -0.042583 -0.174102  \n",
       "Spain       -0.087236 -0.102819    -0.040476 -0.042583  1.000000 -0.251325  \n",
       "US          -0.356666 -0.420380    -0.165488 -0.174102 -0.251325  1.000000  "
      ]
     },
     "execution_count": 66,
     "metadata": {},
     "output_type": "execute_result"
    }
   ],
   "source": [
    "#join the dummy columns to the original df\n",
    "full_dummy = select_wines.join(dummy_wines)\n",
    "full_dummy.corr()"
   ]
  },
  {
   "cell_type": "code",
   "execution_count": 249,
   "metadata": {},
   "outputs": [
    {
     "name": "stdout",
     "output_type": "stream",
     "text": [
      "               points     price  Still_Red  Argentina  Australia     Chile  \\\n",
      "points       1.000000  0.539262   0.082539  -0.110656   0.008028 -0.087819   \n",
      "price        0.539262  1.000000   0.230951  -0.112325  -0.029218 -0.122933   \n",
      "Still_Red    0.082539  0.230951   1.000000   0.068105  -0.008425  0.000460   \n",
      "Argentina   -0.110656 -0.112325   0.068105   1.000000  -0.041730 -0.044770   \n",
      "Australia    0.008028 -0.029218  -0.008425  -0.041730   1.000000 -0.042449   \n",
      "Chile       -0.087819 -0.122933   0.000460  -0.044770  -0.042449  1.000000   \n",
      "France       0.052769  0.024949  -0.111275  -0.073815  -0.069988 -0.075088   \n",
      "Italy        0.080276  0.069351   0.018708  -0.087001  -0.082491 -0.088501   \n",
      "New Zealand -0.011449 -0.054175  -0.121567  -0.034249  -0.032473 -0.034839   \n",
      "Portugal     0.041109 -0.042771   0.023034  -0.036032  -0.034164 -0.036653   \n",
      "Spain       -0.079011 -0.077625   0.068709  -0.052014  -0.049317 -0.052910   \n",
      "US           0.014230  0.109578   0.030987  -0.212660  -0.201635 -0.216326   \n",
      "\n",
      "               France     Italy  New Zealand  Portugal     Spain        US  \n",
      "points       0.052769  0.080276    -0.011449  0.041109 -0.079011  0.014230  \n",
      "price        0.024949  0.069351    -0.054175 -0.042771 -0.077625  0.109578  \n",
      "Still_Red   -0.111275  0.018708    -0.121567  0.023034  0.068709  0.030987  \n",
      "Argentina   -0.073815 -0.087001    -0.034249 -0.036032 -0.052014 -0.212660  \n",
      "Australia   -0.069988 -0.082491    -0.032473 -0.034164 -0.049317 -0.201635  \n",
      "Chile       -0.075088 -0.088501    -0.034839 -0.036653 -0.052910 -0.216326  \n",
      "France       1.000000 -0.145916    -0.057441 -0.060432 -0.087236 -0.356666  \n",
      "Italy       -0.145916  1.000000    -0.067703 -0.071227 -0.102819 -0.420380  \n",
      "New Zealand -0.057441 -0.067703     1.000000 -0.028039 -0.040476 -0.165488  \n",
      "Portugal    -0.060432 -0.071227    -0.028039  1.000000 -0.042583 -0.174102  \n",
      "Spain       -0.087236 -0.102819    -0.040476 -0.042583  1.000000 -0.251325  \n",
      "US          -0.356666 -0.420380    -0.165488 -0.174102 -0.251325  1.000000  \n"
     ]
    },
    {
     "data": {
      "image/png": "[encoded data removed]",
      "text/plain": [
       "<Figure size 432x288 with 2 Axes>"
      ]
     },
     "metadata": {
      "needs_background": "light"
     },
     "output_type": "display_data"
    }
   ],
   "source": [
    "sn.heatmap(full_dummy.corr())\n",
    "plt.title('Correlations - With Country Dummies')\n",
    "print(full_dummy.corr())"
   ]
  },
  {
   "cell_type": "markdown",
   "metadata": {},
   "source": [
    "### Regression Analysis - Linear "
   ]
  },
  {
   "cell_type": "code",
   "execution_count": 68,
   "metadata": {},
   "outputs": [],
   "source": [
    "import statsmodels.api as sm"
   ]
  },
  {
   "cell_type": "markdown",
   "metadata": {},
   "source": [
    "#### Regression Analysis - Determine Price with Type of Wine and Points\n",
    "* wine_sub: To get this data set we trimmed the top and bottom 2.5% of wines from the top 13 countries for red and white wines and then combined the dataframes. "
   ]
  },
  {
   "cell_type": "code",
   "execution_count": null,
   "metadata": {},
   "outputs": [],
   "source": [
    "x_values = wine_sub\n",
    "y_values = data['1Y_Disease_Progress']\n",
    "(slope, intercept, rvalue, pvalue, stderr) = linregress(x_values, y_values)\n",
    "regress_values = x_values * slope + intercept\n",
    "line_eq = \"y = \" + str(round(slope,2)) + \"x + \" + str(round(intercept,2))\n",
    "plt.scatter(x_values,y_values)\n",
    "plt.plot(x_values,regress_values,\"r-\")\n",
    "plt.annotate(line_eq,(0,50),fontsize=15,color=\"red\")\n",
    "plt.xlabel('Normalized Blood Pressure')\n",
    "plt.ylabel('1Y_Disease_Progress')\n",
    "print(f\"The r-squared is: {rvalue**2}\")\n",
    "plt.show()"
   ]
  },
  {
   "cell_type": "markdown",
   "metadata": {},
   "source": [
    "#### Regression Analysis - Determine Price with Type of Wine, Points, and Country\n",
    "* full_dummy: to get this dataset we took the top ten countries from the trimmed data (middle 95%) and then dummified the country variables"
   ]
  },
  {
   "cell_type": "code",
   "execution_count": 251,
   "metadata": {},
   "outputs": [],
   "source": [
    "#set x and y for regression analysis\n",
    "X = full_dummy.drop('price', axis =1)\n",
    "# X = prof_booth[['points','Still_Red']]\n",
    "y = full_dummy[[\"price\"]]"
   ]
  },
  {
   "cell_type": "code",
   "execution_count": 252,
   "metadata": {},
   "outputs": [
    {
     "data": {
      "text/html": [
       "<table class=\"simpletable\">\n",
       "<caption>OLS Regression Results</caption>\n",
       "<tr>\n",
       "  <th>Dep. Variable:</th>          <td>price</td>      <th>  R-squared:         </th>  <td>   0.350</td>  \n",
       "</tr>\n",
       "<tr>\n",
       "  <th>Model:</th>                   <td>OLS</td>       <th>  Adj. R-squared:    </th>  <td>   0.350</td>  \n",
       "</tr>\n",
       "<tr>\n",
       "  <th>Method:</th>             <td>Least Squares</td>  <th>  F-statistic:       </th>  <td>   6336.</td>  \n",
       "</tr>\n",
       "<tr>\n",
       "  <th>Date:</th>             <td>Wed, 06 May 2020</td> <th>  Prob (F-statistic):</th>   <td>  0.00</td>   \n",
       "</tr>\n",
       "<tr>\n",
       "  <th>Time:</th>                 <td>20:17:18</td>     <th>  Log-Likelihood:    </th> <td>-4.8716e+05</td>\n",
       "</tr>\n",
       "<tr>\n",
       "  <th>No. Observations:</th>      <td>117681</td>      <th>  AIC:               </th>  <td>9.744e+05</td> \n",
       "</tr>\n",
       "<tr>\n",
       "  <th>Df Residuals:</th>          <td>117670</td>      <th>  BIC:               </th>  <td>9.745e+05</td> \n",
       "</tr>\n",
       "<tr>\n",
       "  <th>Df Model:</th>              <td>    10</td>      <th>                     </th>      <td> </td>     \n",
       "</tr>\n",
       "<tr>\n",
       "  <th>Covariance Type:</th>      <td>nonrobust</td>    <th>                     </th>      <td> </td>     \n",
       "</tr>\n",
       "</table>\n",
       "<table class=\"simpletable\">\n",
       "<tr>\n",
       "       <td></td>          <th>coef</th>     <th>std err</th>      <th>t</th>      <th>P>|t|</th>  <th>[0.025</th>    <th>0.975]</th>  \n",
       "</tr>\n",
       "<tr>\n",
       "  <th>const</th>       <td> -221.2869</td> <td>    1.141</td> <td> -193.906</td> <td> 0.000</td> <td> -223.524</td> <td> -219.050</td>\n",
       "</tr>\n",
       "<tr>\n",
       "  <th>points</th>      <td>    3.0485</td> <td>    0.015</td> <td>  209.871</td> <td> 0.000</td> <td>    3.020</td> <td>    3.077</td>\n",
       "</tr>\n",
       "<tr>\n",
       "  <th>Still_Red</th>   <td>    8.1038</td> <td>    0.100</td> <td>   81.344</td> <td> 0.000</td> <td>    7.909</td> <td>    8.299</td>\n",
       "</tr>\n",
       "<tr>\n",
       "  <th>Argentina</th>   <td>  -27.9245</td> <td>    0.228</td> <td> -122.213</td> <td> 0.000</td> <td>  -28.372</td> <td>  -27.477</td>\n",
       "</tr>\n",
       "<tr>\n",
       "  <th>Australia</th>   <td>  -24.6496</td> <td>    0.249</td> <td>  -98.839</td> <td> 0.000</td> <td>  -25.138</td> <td>  -24.161</td>\n",
       "</tr>\n",
       "<tr>\n",
       "  <th>Chile</th>       <td>  -28.6038</td> <td>    0.228</td> <td> -125.435</td> <td> 0.000</td> <td>  -29.051</td> <td>  -28.157</td>\n",
       "</tr>\n",
       "<tr>\n",
       "  <th>France</th>      <td>  -20.5781</td> <td>    0.192</td> <td> -107.151</td> <td> 0.000</td> <td>  -20.955</td> <td>  -20.202</td>\n",
       "</tr>\n",
       "<tr>\n",
       "  <th>Italy</th>       <td>  -20.5101</td> <td>    0.183</td> <td> -112.063</td> <td> 0.000</td> <td>  -20.869</td> <td>  -20.151</td>\n",
       "</tr>\n",
       "<tr>\n",
       "  <th>New Zealand</th> <td>  -24.4948</td> <td>    0.286</td> <td>  -85.784</td> <td> 0.000</td> <td>  -25.054</td> <td>  -23.935</td>\n",
       "</tr>\n",
       "<tr>\n",
       "  <th>Portugal</th>    <td>  -29.1171</td> <td>    0.280</td> <td> -104.169</td> <td> 0.000</td> <td>  -29.665</td> <td>  -28.569</td>\n",
       "</tr>\n",
       "<tr>\n",
       "  <th>Spain</th>       <td>  -25.5453</td> <td>    0.210</td> <td> -121.641</td> <td> 0.000</td> <td>  -25.957</td> <td>  -25.134</td>\n",
       "</tr>\n",
       "<tr>\n",
       "  <th>US</th>          <td>  -19.8635</td> <td>    0.154</td> <td> -128.972</td> <td> 0.000</td> <td>  -20.165</td> <td>  -19.562</td>\n",
       "</tr>\n",
       "</table>\n",
       "<table class=\"simpletable\">\n",
       "<tr>\n",
       "  <th>Omnibus:</th>       <td>25897.356</td> <th>  Durbin-Watson:     </th> <td>   1.799</td> \n",
       "</tr>\n",
       "<tr>\n",
       "  <th>Prob(Omnibus):</th>  <td> 0.000</td>   <th>  Jarque-Bera (JB):  </th> <td>56353.331</td>\n",
       "</tr>\n",
       "<tr>\n",
       "  <th>Skew:</th>           <td> 1.277</td>   <th>  Prob(JB):          </th> <td>    0.00</td> \n",
       "</tr>\n",
       "<tr>\n",
       "  <th>Kurtosis:</th>       <td> 5.230</td>   <th>  Cond. No.          </th> <td>4.68e+16</td> \n",
       "</tr>\n",
       "</table><br/><br/>Warnings:<br/>[1] Standard Errors assume that the covariance matrix of the errors is correctly specified.<br/>[2] The smallest eigenvalue is 4.14e-25. This might indicate that there are<br/>strong multicollinearity problems or that the design matrix is singular."
      ],
      "text/plain": [
       "<class 'statsmodels.iolib.summary.Summary'>\n",
       "\"\"\"\n",
       "                            OLS Regression Results                            \n",
       "==============================================================================\n",
       "Dep. Variable:                  price   R-squared:                       0.350\n",
       "Model:                            OLS   Adj. R-squared:                  0.350\n",
       "Method:                 Least Squares   F-statistic:                     6336.\n",
       "Date:                Wed, 06 May 2020   Prob (F-statistic):               0.00\n",
       "Time:                        20:17:18   Log-Likelihood:            -4.8716e+05\n",
       "No. Observations:              117681   AIC:                         9.744e+05\n",
       "Df Residuals:                  117670   BIC:                         9.745e+05\n",
       "Df Model:                          10                                         \n",
       "Covariance Type:            nonrobust                                         \n",
       "===============================================================================\n",
       "                  coef    std err          t      P>|t|      [0.025      0.975]\n",
       "-------------------------------------------------------------------------------\n",
       "const        -221.2869      1.141   -193.906      0.000    -223.524    -219.050\n",
       "points          3.0485      0.015    209.871      0.000       3.020       3.077\n",
       "Still_Red       8.1038      0.100     81.344      0.000       7.909       8.299\n",
       "Argentina     -27.9245      0.228   -122.213      0.000     -28.372     -27.477\n",
       "Australia     -24.6496      0.249    -98.839      0.000     -25.138     -24.161\n",
       "Chile         -28.6038      0.228   -125.435      0.000     -29.051     -28.157\n",
       "France        -20.5781      0.192   -107.151      0.000     -20.955     -20.202\n",
       "Italy         -20.5101      0.183   -112.063      0.000     -20.869     -20.151\n",
       "New Zealand   -24.4948      0.286    -85.784      0.000     -25.054     -23.935\n",
       "Portugal      -29.1171      0.280   -104.169      0.000     -29.665     -28.569\n",
       "Spain         -25.5453      0.210   -121.641      0.000     -25.957     -25.134\n",
       "US            -19.8635      0.154   -128.972      0.000     -20.165     -19.562\n",
       "==============================================================================\n",
       "Omnibus:                    25897.356   Durbin-Watson:                   1.799\n",
       "Prob(Omnibus):                  0.000   Jarque-Bera (JB):            56353.331\n",
       "Skew:                           1.277   Prob(JB):                         0.00\n",
       "Kurtosis:                       5.230   Cond. No.                     4.68e+16\n",
       "==============================================================================\n",
       "\n",
       "Warnings:\n",
       "[1] Standard Errors assume that the covariance matrix of the errors is correctly specified.\n",
       "[2] The smallest eigenvalue is 4.14e-25. This might indicate that there are\n",
       "strong multicollinearity problems or that the design matrix is singular.\n",
       "\"\"\""
      ]
     },
     "execution_count": 252,
     "metadata": {},
     "output_type": "execute_result"
    }
   ],
   "source": [
    "X = sm.add_constant(X) ## let's add an intercept (beta_0) to our model\n",
    "# Note the difference in argument order\n",
    "model = sm.OLS(y, X).fit() ## sm.OLS(output, input)\n",
    "predictions = model.predict(X)\n",
    "# Print out the statistics\n",
    "model.summary()"
   ]
  },
  {
   "cell_type": "code",
   "execution_count": 253,
   "metadata": {},
   "outputs": [
    {
     "data": {
      "text/plain": [
       "Text(0.5, 1.0, 'Actual vs Predicted Values - Top Ten Countries')"
      ]
     },
     "execution_count": 253,
     "metadata": {},
     "output_type": "execute_result"
    },
    {
     "data": {
      "image/png": "[encoded data removed]",
      "text/plain": [
       "<Figure size 432x288 with 1 Axes>"
      ]
     },
     "metadata": {
      "needs_background": "light"
     },
     "output_type": "display_data"
    }
   ],
   "source": [
    "#Plot predicitions vs actual to see accuracy of model\n",
    "plt.scatter(predictions, y)\n",
    "plt.title('Actual vs Predicted Values - Top Ten Countries')"
   ]
  },
  {
   "cell_type": "markdown",
   "metadata": {},
   "source": [
    "## Random Fun with Alexander (Random Forest Regressor)"
   ]
  },
  {
   "cell_type": "code",
   "execution_count": 72,
   "metadata": {},
   "outputs": [],
   "source": [
    "from sklearn.ensemble import RandomForestRegressor"
   ]
  },
  {
   "cell_type": "code",
   "execution_count": 73,
   "metadata": {},
   "outputs": [],
   "source": [
    "from sklearn.linear_model import LinearRegression"
   ]
  },
  {
   "cell_type": "code",
   "execution_count": 75,
   "metadata": {},
   "outputs": [],
   "source": [
    "# Labels are the values we want to predict\n",
    "labels = np.array(full_dummy['price'])\n",
    "# Remove the labels from the features\n",
    "# axis 1 refers to the columns\n",
    "features= full_dummy.drop('price', axis = 1)\n",
    "# Saving feature names for later use\n",
    "feature_list = list(features.columns)\n",
    "# Convert to numpy array\n",
    "features = np.array(features)"
   ]
  },
  {
   "cell_type": "code",
   "execution_count": 76,
   "metadata": {},
   "outputs": [],
   "source": [
    "# Using Skicit-learn to split data into training and testing sets\n",
    "from sklearn.model_selection import train_test_split\n",
    "# Split the data into training and testing sets - want to aim for 75% of data used to train, then test on remaining 25%\n",
    "train_features, test_features, train_labels, test_labels = train_test_split(features, labels, test_size = 0.25, random_state = 42)"
   ]
  },
  {
   "cell_type": "code",
   "execution_count": 77,
   "metadata": {},
   "outputs": [],
   "source": [
    "# Instantiate model with 100 decision trees\n",
    "rf = RandomForestRegressor(n_estimators = 100, random_state = 42)\n",
    "# Train the model on training data\n",
    "rf.fit(train_features, train_labels);"
   ]
  },
  {
   "cell_type": "code",
   "execution_count": 78,
   "metadata": {},
   "outputs": [
    {
     "data": {
      "text/plain": [
       "0.4251721003464957"
      ]
     },
     "execution_count": 78,
     "metadata": {},
     "output_type": "execute_result"
    }
   ],
   "source": [
    "#bring back correlation coefficient? or is this the r-squared? \n",
    "rf.score(test_features, test_labels)"
   ]
  },
  {
   "cell_type": "code",
   "execution_count": 79,
   "metadata": {},
   "outputs": [
    {
     "name": "stdout",
     "output_type": "stream",
     "text": [
      "Mean Absolute Error: 10.23 dollars.\n"
     ]
    }
   ],
   "source": [
    "# Use the forest's predict method on the test data\n",
    "predictions = rf.predict(test_features)\n",
    "# Calculate the absolute errors\n",
    "errors = abs(predictions - test_labels)\n",
    "# Print out the mean absolute error (mae)\n",
    "print('Mean Absolute Error:', round(np.mean(errors), 2), 'dollars.')"
   ]
  },
  {
   "cell_type": "code",
   "execution_count": 80,
   "metadata": {},
   "outputs": [
    {
     "data": {
      "text/plain": [
       "[('points', 0.7815691539888603),\n",
       " ('Still_Red', 0.09083283194588582),\n",
       " ('Argentina', 0.0028992982502699105),\n",
       " ('Australia', 0.0018356456300703046),\n",
       " ('Chile', 0.003700246158343243),\n",
       " ('France', 0.028891007387623523),\n",
       " ('Italy', 0.025044408926071786),\n",
       " ('New Zealand', 0.002078991871153202),\n",
       " ('Portugal', 0.0044411792408469136),\n",
       " ('Spain', 0.0016919607713094232),\n",
       " ('US', 0.0570152758295657)]"
      ]
     },
     "execution_count": 80,
     "metadata": {},
     "output_type": "execute_result"
    }
   ],
   "source": [
    "list(zip(feature_list, rf.feature_importances_))"
   ]
  },
  {
   "cell_type": "code",
   "execution_count": 81,
   "metadata": {},
   "outputs": [
    {
     "data": {
      "text/plain": [
       "<matplotlib.collections.PathCollection at 0x1a36e9d250>"
      ]
     },
     "execution_count": 81,
     "metadata": {},
     "output_type": "execute_result"
    },
    {
     "data": {
      "image/png": "[encoded data removed]",
      "text/plain": [
       "<Figure size 432x288 with 1 Axes>"
      ]
     },
     "metadata": {
      "needs_background": "light"
     },
     "output_type": "display_data"
    }
   ],
   "source": [
    "plt.scatter(predictions, test_labels)"
   ]
  },
  {
   "cell_type": "markdown",
   "metadata": {},
   "source": [
    "## More Fun - Simple Regression Model"
   ]
  },
  {
   "cell_type": "code",
   "execution_count": 82,
   "metadata": {},
   "outputs": [],
   "source": [
    "lm = LinearRegression()"
   ]
  },
  {
   "cell_type": "code",
   "execution_count": 83,
   "metadata": {},
   "outputs": [
    {
     "data": {
      "text/plain": [
       "LinearRegression(copy_X=True, fit_intercept=True, n_jobs=None, normalize=False)"
      ]
     },
     "execution_count": 83,
     "metadata": {},
     "output_type": "execute_result"
    }
   ],
   "source": [
    "lm.fit(train_features, train_labels)"
   ]
  },
  {
   "cell_type": "code",
   "execution_count": 84,
   "metadata": {},
   "outputs": [
    {
     "name": "stdout",
     "output_type": "stream",
     "text": [
      "Mean Absolute Error: 11.29 dollars.\n"
     ]
    }
   ],
   "source": [
    "predictions_lm = lm.predict(test_features)\n",
    "\n",
    "# Calculate the absolute errors\n",
    "errors = abs(predictions_lm - test_labels)\n",
    "# Print out the mean absolute error (mae)\n",
    "print('Mean Absolute Error:', round(np.mean(errors), 2), 'dollars.')"
   ]
  },
  {
   "cell_type": "code",
   "execution_count": 85,
   "metadata": {},
   "outputs": [
    {
     "data": {
      "text/plain": [
       "0.35103969657731804"
      ]
     },
     "execution_count": 85,
     "metadata": {},
     "output_type": "execute_result"
    }
   ],
   "source": [
    "lm.score(test_features, test_labels)"
   ]
  },
  {
   "cell_type": "code",
   "execution_count": 86,
   "metadata": {},
   "outputs": [
    {
     "data": {
      "text/plain": [
       "<matplotlib.collections.PathCollection at 0x1a36eef750>"
      ]
     },
     "execution_count": 86,
     "metadata": {},
     "output_type": "execute_result"
    },
    {
     "data": {
      "image/png": "[encoded data removed]",
      "text/plain": [
       "<Figure size 432x288 with 1 Axes>"
      ]
     },
     "metadata": {
      "needs_background": "light"
     },
     "output_type": "display_data"
    }
   ],
   "source": [
    "plt.scatter(predictions_lm, test_labels)"
   ]
  },
  {
   "cell_type": "code",
   "execution_count": 87,
   "metadata": {},
   "outputs": [
    {
     "data": {
      "text/plain": [
       "[('points', 3.0491717364489594),\n",
       " ('Still_Red', 8.143560189957988),\n",
       " ('Argentina', -19158050378167.54),\n",
       " ('Australia', -19158050378164.453),\n",
       " ('Chile', -19158050378168.32),\n",
       " ('France', -19158050378160.38),\n",
       " ('Italy', -19158050378160.03),\n",
       " ('New Zealand', -19158050378164.125),\n",
       " ('Portugal', -19158050378168.797),\n",
       " ('Spain', -19158050378165.25),\n",
       " ('US', -19158050378159.523)]"
      ]
     },
     "execution_count": 87,
     "metadata": {},
     "output_type": "execute_result"
    }
   ],
   "source": [
    "list(zip(feature_list,lm.coef_))"
   ]
  },
  {
   "cell_type": "code",
   "execution_count": 88,
   "metadata": {},
   "outputs": [
    {
     "data": {
      "text/plain": [
       "19158050377918.293"
      ]
     },
     "execution_count": 88,
     "metadata": {},
     "output_type": "execute_result"
    }
   ],
   "source": [
    "lm.intercept_"
   ]
  },
  {
   "cell_type": "code",
   "execution_count": null,
   "metadata": {},
   "outputs": [],
   "source": []
  },
  {
   "cell_type": "code",
   "execution_count": null,
   "metadata": {},
   "outputs": [],
   "source": []
  }
 ],
 "metadata": {
  "kernelspec": {
   "display_name": "Python 3",
   "language": "python",
   "name": "python3"
  },
  "language_info": {
   "codemirror_mode": {
    "name": "ipython",
    "version": 3
   },
   "file_extension": ".py",
   "mimetype": "text/x-python",
   "name": "python",
   "nbconvert_exporter": "python",
   "pygments_lexer": "ipython3",
   "version": "3.7.6"
  }
 },
 "nbformat": 4,
 "nbformat_minor": 2
}
